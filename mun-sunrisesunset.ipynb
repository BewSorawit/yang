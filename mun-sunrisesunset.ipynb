{
 "cells": [
  {
   "cell_type": "code",
   "execution_count": null,
   "metadata": {},
   "outputs": [],
   "source": [
    "import requests\n",
    "import os\n",
    "import time\n",
    "import pandas as pd\n",
    "import aiohttp\n",
    "import asyncio\n",
    "import json\n",
    "\n",
    "import nest_asyncio\n",
    "nest_asyncio.apply()"
   ]
  },
  {
   "cell_type": "code",
   "execution_count": null,
   "metadata": {},
   "outputs": [],
   "source": [
    "TARGET = './mun/completeDatav3.xlsx'\n",
    "df = pd.read_excel(TARGET)\n",
    "df"
   ]
  },
  {
   "cell_type": "code",
   "execution_count": null,
   "metadata": {},
   "outputs": [],
   "source": [
    "temp = []\n",
    "responses = []"
   ]
  },
  {
   "cell_type": "code",
   "execution_count": null,
   "metadata": {},
   "outputs": [],
   "source": [
    "for i, data in df.iterrows():\n",
    "    lat = data['latitude']\n",
    "    lon = data['longitude']\n",
    "    date = str(data['date']).replace('/', '-')\n",
    "    temp.append([lat, lon, date])"
   ]
  },
  {
   "cell_type": "code",
   "execution_count": null,
   "metadata": {},
   "outputs": [],
   "source": [
    "async def fetch_data(session, url):\n",
    "    async with session.get(url) as response:\n",
    "        return await response.json()\n",
    "\n",
    "async def main():\n",
    "    urls = [f\"https://api.sunrisesunset.io/json?lat={lat}&lng={lon}&date_start={date}&date_end={date}\" for lat, lon, date in temp]\n",
    "    global responses\n",
    "\n",
    "    async with aiohttp.ClientSession() as session:\n",
    "        tasks = [fetch_data(session, url) for url in urls]\n",
    "        responses = await asyncio.gather(*tasks)\n",
    "        "
   ]
  },
  {
   "cell_type": "code",
   "execution_count": null,
   "metadata": {},
   "outputs": [],
   "source": [
    "asyncio.run(main())\n",
    "responses = [d['results'][0] for d in responses]\n",
    "\n",
    "df_api = pd.DataFrame.from_dict(responses)\n",
    "df_api = df_api[['date', 'sunrise', 'sunset']]\n",
    "df_api['date'] = df_api['date'].replace('-', '/', regex=True)\n",
    "df_api"
   ]
  },
  {
   "cell_type": "code",
   "execution_count": null,
   "metadata": {},
   "outputs": [],
   "source": [
    "df['sunrise'] = pd.to_datetime(df_api['sunrise'])\n",
    "df['sunset'] = pd.to_datetime(df_api['sunset'])\n",
    "df['durationOfDay'] = (df['sunset'] - df['sunrise']).dt.total_seconds()/3600\n",
    "df.head()"
   ]
  },
  {
   "cell_type": "code",
   "execution_count": null,
   "metadata": {},
   "outputs": [],
   "source": [
    "df['sunrise'] = df['sunrise'].dt.time\n",
    "df['sunset'] = df['sunset'].dt.time\n",
    "df"
   ]
  },
  {
   "cell_type": "code",
   "execution_count": null,
   "metadata": {},
   "outputs": [],
   "source": [
    "df = df[['date', 'latitude', 'longitude', 'sunrise', 'sunset', 'durationOfDay']]\n",
    "df.head()"
   ]
  },
  {
   "cell_type": "code",
   "execution_count": null,
   "metadata": {},
   "outputs": [],
   "source": [
    "df.to_excel('./mun/v4-dataWithSunriseSunset.xlsx', index=False)"
   ]
  },
  {
   "cell_type": "code",
   "execution_count": null,
   "metadata": {},
   "outputs": [],
   "source": []
  }
 ],
 "metadata": {
  "kernelspec": {
   "display_name": "munbot",
   "language": "python",
   "name": "python3"
  },
  "language_info": {
   "codemirror_mode": {
    "name": "ipython",
    "version": 3
   },
   "file_extension": ".py",
   "mimetype": "text/x-python",
   "name": "python",
   "nbconvert_exporter": "python",
   "pygments_lexer": "ipython3",
   "version": "3.12.2"
  }
 },
 "nbformat": 4,
 "nbformat_minor": 2
}
