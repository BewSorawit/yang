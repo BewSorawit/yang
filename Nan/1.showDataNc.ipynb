{
 "cells": [
  {
   "cell_type": "code",
   "execution_count": 188,
   "metadata": {},
   "outputs": [],
   "source": [
    "import pandas as pd\n",
    "import numpy as np\n",
    "import cdsapi\n",
    "import utm\n",
    "import os \n",
    "import json\n",
    "import sys"
   ]
  },
  {
   "cell_type": "code",
   "execution_count": 189,
   "metadata": {},
   "outputs": [],
   "source": [
    "df = pd.read_excel(\"สำรวจโรคยางพาราน่าน 67.xlsx\")"
   ]
  },
  {
   "cell_type": "code",
   "execution_count": 190,
   "metadata": {},
   "outputs": [
    {
     "data": {
      "text/html": [
       "<div>\n",
       "<style scoped>\n",
       "    .dataframe tbody tr th:only-of-type {\n",
       "        vertical-align: middle;\n",
       "    }\n",
       "\n",
       "    .dataframe tbody tr th {\n",
       "        vertical-align: top;\n",
       "    }\n",
       "\n",
       "    .dataframe thead th {\n",
       "        text-align: right;\n",
       "    }\n",
       "</style>\n",
       "<table border=\"1\" class=\"dataframe\">\n",
       "  <thead>\n",
       "    <tr style=\"text-align: right;\">\n",
       "      <th></th>\n",
       "      <th>ลำดับ</th>\n",
       "      <th>ชื่อเกษตรกร</th>\n",
       "      <th>วันที่สำรวจ</th>\n",
       "      <th>ตำบล</th>\n",
       "      <th>อำเภอ</th>\n",
       "      <th>จังหวัด</th>\n",
       "      <th>รหัสแปลง(code)</th>\n",
       "      <th>พิกัด</th>\n",
       "      <th>Unnamed: 8</th>\n",
       "      <th>อายุต้นยาง(ปี)</th>\n",
       "      <th>พันธุ์ยางพารา</th>\n",
       "      <th>โรคที่พบ</th>\n",
       "      <th>เปอร์เซ็นต์การเกิดโรค</th>\n",
       "      <th>ระดับความรุนแรง</th>\n",
       "    </tr>\n",
       "  </thead>\n",
       "  <tbody>\n",
       "    <tr>\n",
       "      <th>0</th>\n",
       "      <td>NaN</td>\n",
       "      <td>NaN</td>\n",
       "      <td>NaT</td>\n",
       "      <td>NaN</td>\n",
       "      <td>NaN</td>\n",
       "      <td>NaN</td>\n",
       "      <td>NaN</td>\n",
       "      <td>NaN</td>\n",
       "      <td>NaN</td>\n",
       "      <td>NaN</td>\n",
       "      <td>NaN</td>\n",
       "      <td>NaN</td>\n",
       "      <td>NaN</td>\n",
       "      <td>NaN</td>\n",
       "    </tr>\n",
       "    <tr>\n",
       "      <th>1</th>\n",
       "      <td>NaN</td>\n",
       "      <td>NaN</td>\n",
       "      <td>NaT</td>\n",
       "      <td>NaN</td>\n",
       "      <td>NaN</td>\n",
       "      <td>NaN</td>\n",
       "      <td>NaN</td>\n",
       "      <td>x</td>\n",
       "      <td>y</td>\n",
       "      <td>NaN</td>\n",
       "      <td>NaN</td>\n",
       "      <td>NaN</td>\n",
       "      <td>NaN</td>\n",
       "      <td>NaN</td>\n",
       "    </tr>\n",
       "    <tr>\n",
       "      <th>2</th>\n",
       "      <td>1.0</td>\n",
       "      <td>นายสมภาค หล้ากัน</td>\n",
       "      <td>2024-03-21</td>\n",
       "      <td>ปิงหลวง</td>\n",
       "      <td>นาหมื่น</td>\n",
       "      <td>น่าน</td>\n",
       "      <td>67NAN06_1</td>\n",
       "      <td>-</td>\n",
       "      <td>-</td>\n",
       "      <td>3</td>\n",
       "      <td>RRIM600</td>\n",
       "      <td>โรคใบร่วงชนิดใหม่</td>\n",
       "      <td>0.1</td>\n",
       "      <td>1.0</td>\n",
       "    </tr>\n",
       "    <tr>\n",
       "      <th>3</th>\n",
       "      <td>2.0</td>\n",
       "      <td>นายดุสิษฐ เสนนะ</td>\n",
       "      <td>2024-03-21</td>\n",
       "      <td>ปิงหลวง</td>\n",
       "      <td>นาหมื่น</td>\n",
       "      <td>น่าน</td>\n",
       "      <td>67NAN06_2</td>\n",
       "      <td>662742</td>\n",
       "      <td>2011966</td>\n",
       "      <td>3</td>\n",
       "      <td>RRIT251</td>\n",
       "      <td>โรคใบร่วงชนิดใหม่</td>\n",
       "      <td>0.6</td>\n",
       "      <td>3.0</td>\n",
       "    </tr>\n",
       "    <tr>\n",
       "      <th>4</th>\n",
       "      <td>3.0</td>\n",
       "      <td>นางวรรณพร โพธิยะ</td>\n",
       "      <td>2024-03-21</td>\n",
       "      <td>ปิงหลวง</td>\n",
       "      <td>นาหมื่น</td>\n",
       "      <td>น่าน</td>\n",
       "      <td>67NAN06_3</td>\n",
       "      <td>662661</td>\n",
       "      <td>2011893</td>\n",
       "      <td>4</td>\n",
       "      <td>RRIT251</td>\n",
       "      <td>โรคใบร่วงชนิดใหม่</td>\n",
       "      <td>0.4</td>\n",
       "      <td>3.0</td>\n",
       "    </tr>\n",
       "  </tbody>\n",
       "</table>\n",
       "</div>"
      ],
      "text/plain": [
       "   ลำดับ       ชื่อเกษตรกร วันที่สำรวจ     ตำบล    อำเภอ จังหวัด  \\\n",
       "0    NaN               NaN         NaT      NaN      NaN     NaN   \n",
       "1    NaN               NaN         NaT      NaN      NaN     NaN   \n",
       "2    1.0  นายสมภาค หล้ากัน  2024-03-21  ปิงหลวง  นาหมื่น    น่าน   \n",
       "3    2.0   นายดุสิษฐ เสนนะ  2024-03-21  ปิงหลวง  นาหมื่น    น่าน   \n",
       "4    3.0  นางวรรณพร โพธิยะ  2024-03-21  ปิงหลวง  นาหมื่น    น่าน   \n",
       "\n",
       "  รหัสแปลง(code)   พิกัด Unnamed: 8 อายุต้นยาง(ปี) พันธุ์ยางพารา  \\\n",
       "0            NaN     NaN        NaN            NaN           NaN   \n",
       "1            NaN       x          y            NaN           NaN   \n",
       "2      67NAN06_1       -          -              3       RRIM600   \n",
       "3      67NAN06_2  662742    2011966              3       RRIT251   \n",
       "4      67NAN06_3  662661    2011893              4       RRIT251   \n",
       "\n",
       "            โรคที่พบ  เปอร์เซ็นต์การเกิดโรค  ระดับความรุนแรง  \n",
       "0                NaN                    NaN              NaN  \n",
       "1                NaN                    NaN              NaN  \n",
       "2  โรคใบร่วงชนิดใหม่                    0.1              1.0  \n",
       "3  โรคใบร่วงชนิดใหม่                    0.6              3.0  \n",
       "4  โรคใบร่วงชนิดใหม่                    0.4              3.0  "
      ]
     },
     "execution_count": 190,
     "metadata": {},
     "output_type": "execute_result"
    }
   ],
   "source": [
    "df.head()"
   ]
  },
  {
   "cell_type": "code",
   "execution_count": 191,
   "metadata": {},
   "outputs": [],
   "source": [
    "df = df.iloc[2:, [1, 2, 3, 4, 5, 7, 8]]\n",
    "df = df.rename({'วันที่สำรวจ': 'date', 'พิกัด': 'x', 'Unnamed: 8': 'y'}, axis=1)\n",
    "df = df[df['x'] != '-']\n",
    "df = df.reset_index(drop=True)\n"
   ]
  },
  {
   "cell_type": "code",
   "execution_count": 192,
   "metadata": {},
   "outputs": [],
   "source": [
    "def adjust_year_to_gregorian(date_str):\n",
    "    date_obj = pd.to_datetime(date_str, format='%d/%m/%y')\n",
    "    gregorian_year = date_obj.year\n",
    "    # Recreate the date with the adjusted year\n",
    "    return date_obj.replace(year=gregorian_year).strftime('%Y-%m-%d')\n",
    "\n",
    "df['date'] = df['date'].apply(adjust_year_to_gregorian)"
   ]
  },
  {
   "cell_type": "code",
   "execution_count": 193,
   "metadata": {},
   "outputs": [
    {
     "data": {
      "text/html": [
       "<div>\n",
       "<style scoped>\n",
       "    .dataframe tbody tr th:only-of-type {\n",
       "        vertical-align: middle;\n",
       "    }\n",
       "\n",
       "    .dataframe tbody tr th {\n",
       "        vertical-align: top;\n",
       "    }\n",
       "\n",
       "    .dataframe thead th {\n",
       "        text-align: right;\n",
       "    }\n",
       "</style>\n",
       "<table border=\"1\" class=\"dataframe\">\n",
       "  <thead>\n",
       "    <tr style=\"text-align: right;\">\n",
       "      <th></th>\n",
       "      <th>ชื่อเกษตรกร</th>\n",
       "      <th>date</th>\n",
       "      <th>ตำบล</th>\n",
       "      <th>อำเภอ</th>\n",
       "      <th>จังหวัด</th>\n",
       "      <th>x</th>\n",
       "      <th>y</th>\n",
       "    </tr>\n",
       "  </thead>\n",
       "  <tbody>\n",
       "    <tr>\n",
       "      <th>0</th>\n",
       "      <td>นายดุสิษฐ เสนนะ</td>\n",
       "      <td>2024-03-21</td>\n",
       "      <td>ปิงหลวง</td>\n",
       "      <td>นาหมื่น</td>\n",
       "      <td>น่าน</td>\n",
       "      <td>662742</td>\n",
       "      <td>2011966</td>\n",
       "    </tr>\n",
       "    <tr>\n",
       "      <th>1</th>\n",
       "      <td>นางวรรณพร โพธิยะ</td>\n",
       "      <td>2024-03-21</td>\n",
       "      <td>ปิงหลวง</td>\n",
       "      <td>นาหมื่น</td>\n",
       "      <td>น่าน</td>\n",
       "      <td>662661</td>\n",
       "      <td>2011893</td>\n",
       "    </tr>\n",
       "    <tr>\n",
       "      <th>2</th>\n",
       "      <td>นายเหรียญ สมนา</td>\n",
       "      <td>2024-03-22</td>\n",
       "      <td>ยอด</td>\n",
       "      <td>สองแคว</td>\n",
       "      <td>น่าน</td>\n",
       "      <td>669332</td>\n",
       "      <td>2148196</td>\n",
       "    </tr>\n",
       "    <tr>\n",
       "      <th>3</th>\n",
       "      <td>นายจารุกิตติ์ ไชยสลี</td>\n",
       "      <td>2024-03-22</td>\n",
       "      <td>ยอด</td>\n",
       "      <td>สองแคว</td>\n",
       "      <td>น่าน</td>\n",
       "      <td>668766</td>\n",
       "      <td>2149595</td>\n",
       "    </tr>\n",
       "    <tr>\n",
       "      <th>4</th>\n",
       "      <td>นางสาวศุภลักษณ์ สุขสาด</td>\n",
       "      <td>2024-03-22</td>\n",
       "      <td>เตาปูน</td>\n",
       "      <td>สองแคว</td>\n",
       "      <td>แพร่</td>\n",
       "      <td>669168</td>\n",
       "      <td>2147887</td>\n",
       "    </tr>\n",
       "    <tr>\n",
       "      <th>5</th>\n",
       "      <td>นางบุญธรรม ชาวริม</td>\n",
       "      <td>2024-03-22</td>\n",
       "      <td>ยอด</td>\n",
       "      <td>สองแคว</td>\n",
       "      <td>น่าน</td>\n",
       "      <td>668365</td>\n",
       "      <td>2148569</td>\n",
       "    </tr>\n",
       "    <tr>\n",
       "      <th>6</th>\n",
       "      <td>นางบัวใย ลำคำ</td>\n",
       "      <td>2024-03-22</td>\n",
       "      <td>ยอด</td>\n",
       "      <td>สองแคว</td>\n",
       "      <td>น่าน</td>\n",
       "      <td>668709</td>\n",
       "      <td>2148225</td>\n",
       "    </tr>\n",
       "  </tbody>\n",
       "</table>\n",
       "</div>"
      ],
      "text/plain": [
       "              ชื่อเกษตรกร        date     ตำบล    อำเภอ จังหวัด       x  \\\n",
       "0         นายดุสิษฐ เสนนะ  2024-03-21  ปิงหลวง  นาหมื่น    น่าน  662742   \n",
       "1        นางวรรณพร โพธิยะ  2024-03-21  ปิงหลวง  นาหมื่น    น่าน  662661   \n",
       "2          นายเหรียญ สมนา  2024-03-22      ยอด   สองแคว    น่าน  669332   \n",
       "3    นายจารุกิตติ์ ไชยสลี  2024-03-22      ยอด   สองแคว    น่าน  668766   \n",
       "4  นางสาวศุภลักษณ์ สุขสาด  2024-03-22   เตาปูน   สองแคว    แพร่  669168   \n",
       "5       นางบุญธรรม ชาวริม  2024-03-22      ยอด   สองแคว    น่าน  668365   \n",
       "6           นางบัวใย ลำคำ  2024-03-22      ยอด   สองแคว    น่าน  668709   \n",
       "\n",
       "         y  \n",
       "0  2011966  \n",
       "1  2011893  \n",
       "2  2148196  \n",
       "3  2149595  \n",
       "4  2147887  \n",
       "5  2148569  \n",
       "6  2148225  "
      ]
     },
     "execution_count": 193,
     "metadata": {},
     "output_type": "execute_result"
    }
   ],
   "source": [
    "df"
   ]
  },
  {
   "cell_type": "code",
   "execution_count": 194,
   "metadata": {},
   "outputs": [],
   "source": [
    "def utmToLatLon(x:list, y:list, zone:int = 47) -> tuple:\n",
    "    x, y = np.mean(x), np.mean(y) #find mid point\n",
    "    return utm.to_latlon(x,y, zone_number=zone, zone_letter='N') #return (lat, lon)"
   ]
  },
  {
   "cell_type": "code",
   "execution_count": 195,
   "metadata": {},
   "outputs": [
    {
     "name": "stdout",
     "output_type": "stream",
     "text": [
      "\n",
      "Downloading 2024-03-21-ปิงหลวง-นาหมื่น-น่าน (18.19069625891912, 100.53880696435687)\n"
     ]
    },
    {
     "name": "stderr",
     "output_type": "stream",
     "text": [
      "2024-08-08 15:35:09,340 INFO Welcome to the CDS.\n",
      " As per our announcements on the Forum, this instance of CDS will soon be decommissioned.\n",
      " Please update your cdsapi package to a version >=0.7.0, create an account on CDS-Beta and update your .cdsapirc file. We strongly recommend users to check our Guidelines at https://confluence.ecmwf.int/x/uINmFw\n",
      " The current legacy system will be kept for a while, but we will reduce resources gradually until full decommissioning in September 2024.\n",
      "2024-08-08 15:35:09,341 WARNING MOVE TO CDS-Beta\n",
      "2024-08-08 15:35:09,342 INFO Sending request to https://cds.climate.copernicus.eu/api/v2/resources/reanalysis-era5-single-levels\n",
      "2024-08-08 15:35:09,730 INFO Request is queued\n",
      "2024-08-08 15:35:19,116 INFO Request is running\n",
      "2024-08-08 15:39:32,346 INFO Request is completed\n",
      "2024-08-08 15:39:32,346 INFO Downloading https://download-0017.copernicus-climate.eu/cache-compute-0017/cache/data2/adaptor.mars.internal-1723106356.5055993-25802-1-6157c759-ec9c-4e00-9a07-e9efef941378.nc to ../Nan/1nc/0-2024-03-21-ปิงหลวง-นาหมื่น-น่าน.nc (10.9K)\n",
      "2024-08-08 15:39:35,151 INFO Download rate 3.9K/s\n"
     ]
    },
    {
     "name": "stdout",
     "output_type": "stream",
     "text": [
      "\n",
      "Downloading 2024-03-21-ปิงหลวง-นาหมื่น-น่าน (18.190042826268176, 100.53803548765842)\n"
     ]
    },
    {
     "name": "stderr",
     "output_type": "stream",
     "text": [
      "2024-08-08 15:39:35,776 INFO Welcome to the CDS.\n",
      " As per our announcements on the Forum, this instance of CDS will soon be decommissioned.\n",
      " Please update your cdsapi package to a version >=0.7.0, create an account on CDS-Beta and update your .cdsapirc file. We strongly recommend users to check our Guidelines at https://confluence.ecmwf.int/x/uINmFw\n",
      " The current legacy system will be kept for a while, but we will reduce resources gradually until full decommissioning in September 2024.\n",
      "2024-08-08 15:39:35,776 WARNING MOVE TO CDS-Beta\n",
      "2024-08-08 15:39:35,776 INFO Sending request to https://cds.climate.copernicus.eu/api/v2/resources/reanalysis-era5-single-levels\n",
      "2024-08-08 15:39:36,140 INFO Request is queued\n",
      "2024-08-08 15:42:30,607 INFO Request is running\n",
      "2024-08-08 15:48:01,980 INFO Request is completed\n",
      "2024-08-08 15:48:01,981 INFO Downloading https://download-0018.copernicus-climate.eu/cache-compute-0018/cache/data8/adaptor.mars.internal-1723106762.5514598-18388-9-afc4608a-39ae-4d3a-bf6a-cdb4d46beb89.nc to ../Nan/1nc/1-2024-03-21-ปิงหลวง-นาหมื่น-น่าน.nc (10.9K)\n",
      "2024-08-08 15:48:04,613 INFO Download rate 4.1K/s\n"
     ]
    },
    {
     "name": "stdout",
     "output_type": "stream",
     "text": [
      "\n",
      "Downloading 2024-03-22-ยอด-สองแคว-น่าน (19.420929336598615, 100.61278879923317)\n"
     ]
    },
    {
     "name": "stderr",
     "output_type": "stream",
     "text": [
      "2024-08-08 15:48:05,245 INFO Welcome to the CDS.\n",
      " As per our announcements on the Forum, this instance of CDS will soon be decommissioned.\n",
      " Please update your cdsapi package to a version >=0.7.0, create an account on CDS-Beta and update your .cdsapirc file. We strongly recommend users to check our Guidelines at https://confluence.ecmwf.int/x/uINmFw\n",
      " The current legacy system will be kept for a while, but we will reduce resources gradually until full decommissioning in September 2024.\n",
      "2024-08-08 15:48:05,247 WARNING MOVE TO CDS-Beta\n",
      "2024-08-08 15:48:05,249 INFO Sending request to https://cds.climate.copernicus.eu/api/v2/resources/reanalysis-era5-single-levels\n",
      "2024-08-08 15:48:05,639 INFO Request is queued\n",
      "2024-08-08 15:48:06,957 INFO Request is running\n",
      "2024-08-08 15:54:29,461 INFO Request is completed\n",
      "2024-08-08 15:54:29,462 INFO Downloading https://download-0017.copernicus-climate.eu/cache-compute-0017/cache/data9/adaptor.mars.internal-1723107146.7879066-27538-8-b343e11c-8f5e-4f9a-a15b-c7c03c8856ce.nc to ../Nan/1nc/2-2024-03-22-ยอด-สองแคว-น่าน.nc (10.9K)\n",
      "2024-08-08 15:54:31,538 INFO Download rate 5.2K/s\n"
     ]
    },
    {
     "name": "stdout",
     "output_type": "stream",
     "text": [
      "\n",
      "Downloading 2024-03-22-ยอด-สองแคว-น่าน (19.43361525696387, 100.60752390077447)\n"
     ]
    },
    {
     "name": "stderr",
     "output_type": "stream",
     "text": [
      "2024-08-08 15:54:32,019 INFO Welcome to the CDS.\n",
      " As per our announcements on the Forum, this instance of CDS will soon be decommissioned.\n",
      " Please update your cdsapi package to a version >=0.7.0, create an account on CDS-Beta and update your .cdsapirc file. We strongly recommend users to check our Guidelines at https://confluence.ecmwf.int/x/uINmFw\n",
      " The current legacy system will be kept for a while, but we will reduce resources gradually until full decommissioning in September 2024.\n",
      "2024-08-08 15:54:32,021 WARNING MOVE TO CDS-Beta\n",
      "2024-08-08 15:54:32,022 INFO Sending request to https://cds.climate.copernicus.eu/api/v2/resources/reanalysis-era5-single-levels\n",
      "2024-08-08 15:54:32,309 INFO Request is queued\n",
      "2024-08-08 15:54:37,801 INFO Request is running\n",
      "2024-08-08 16:00:55,917 INFO Request is completed\n",
      "2024-08-08 16:00:55,917 INFO Downloading https://download-0014-clone.copernicus-climate.eu/cache-compute-0014/cache/data9/adaptor.mars.internal-1723107601.9089067-11445-1-b7bdeb0d-3713-416e-8ec3-7cab1f4a85b3.nc to ../Nan/1nc/3-2024-03-22-ยอด-สองแคว-น่าน.nc (10.9K)\n",
      "2024-08-08 16:00:58,808 INFO Download rate 3.8K/s\n"
     ]
    },
    {
     "name": "stdout",
     "output_type": "stream",
     "text": [
      "\n",
      "Downloading 2024-03-22-เตาปูน-สองแคว-แพร่ (19.418151792660648, 100.61119973855139)\n"
     ]
    },
    {
     "name": "stderr",
     "output_type": "stream",
     "text": [
      "2024-08-08 16:00:59,476 INFO Welcome to the CDS.\n",
      " As per our announcements on the Forum, this instance of CDS will soon be decommissioned.\n",
      " Please update your cdsapi package to a version >=0.7.0, create an account on CDS-Beta and update your .cdsapirc file. We strongly recommend users to check our Guidelines at https://confluence.ecmwf.int/x/uINmFw\n",
      " The current legacy system will be kept for a while, but we will reduce resources gradually until full decommissioning in September 2024.\n",
      "2024-08-08 16:00:59,477 WARNING MOVE TO CDS-Beta\n",
      "2024-08-08 16:00:59,478 INFO Sending request to https://cds.climate.copernicus.eu/api/v2/resources/reanalysis-era5-single-levels\n",
      "2024-08-08 16:00:59,800 INFO Request is queued\n",
      "2024-08-08 16:02:56,472 INFO Request is running\n",
      "2024-08-08 16:07:24,453 INFO Request is completed\n",
      "2024-08-08 16:07:24,454 INFO Downloading https://download-0019.copernicus-climate.eu/cache-compute-0019/cache/data9/adaptor.mars.internal-1723107980.4668975-9829-4-f24fbf6b-6164-4ccf-a1af-515ea53ae9db.nc to ../Nan/1nc/4-2024-03-22-เตาปูน-สองแคว-แพร่.nc (10.9K)\n",
      "2024-08-08 16:07:27,404 INFO Download rate 3.7K/s\n"
     ]
    },
    {
     "name": "stdout",
     "output_type": "stream",
     "text": [
      "\n",
      "Downloading 2024-03-22-ยอด-สองแคว-น่าน (19.42438046025426, 100.60361444164907)\n"
     ]
    },
    {
     "name": "stderr",
     "output_type": "stream",
     "text": [
      "2024-08-08 16:07:27,891 INFO Welcome to the CDS.\n",
      " As per our announcements on the Forum, this instance of CDS will soon be decommissioned.\n",
      " Please update your cdsapi package to a version >=0.7.0, create an account on CDS-Beta and update your .cdsapirc file. We strongly recommend users to check our Guidelines at https://confluence.ecmwf.int/x/uINmFw\n",
      " The current legacy system will be kept for a while, but we will reduce resources gradually until full decommissioning in September 2024.\n",
      "2024-08-08 16:07:27,892 WARNING MOVE TO CDS-Beta\n",
      "2024-08-08 16:07:27,893 INFO Sending request to https://cds.climate.copernicus.eu/api/v2/resources/reanalysis-era5-single-levels\n",
      "2024-08-08 16:07:28,152 INFO Request is queued\n",
      "2024-08-08 16:07:31,142 INFO Request is running\n",
      "2024-08-08 16:13:52,244 INFO Request is completed\n",
      "2024-08-08 16:13:52,246 INFO Downloading https://download-0003-clone.copernicus-climate.eu/cache-compute-0003/cache/data1/adaptor.mars.internal-1723108366.3523102-27099-14-d1660896-36c7-414d-a6a1-f44fabc8b64f.nc to ../Nan/1nc/5-2024-03-22-ยอด-สองแคว-น่าน.nc (10.9K)\n",
      "2024-08-08 16:13:55,141 INFO Download rate 3.8K/s\n"
     ]
    },
    {
     "name": "stdout",
     "output_type": "stream",
     "text": [
      "\n",
      "Downloading 2024-03-22-ยอด-สองแคว-น่าน (19.421243906336375, 100.60685940143706)\n"
     ]
    },
    {
     "name": "stderr",
     "output_type": "stream",
     "text": [
      "2024-08-08 16:13:55,648 INFO Welcome to the CDS.\n",
      " As per our announcements on the Forum, this instance of CDS will soon be decommissioned.\n",
      " Please update your cdsapi package to a version >=0.7.0, create an account on CDS-Beta and update your .cdsapirc file. We strongly recommend users to check our Guidelines at https://confluence.ecmwf.int/x/uINmFw\n",
      " The current legacy system will be kept for a while, but we will reduce resources gradually until full decommissioning in September 2024.\n",
      "2024-08-08 16:13:55,649 WARNING MOVE TO CDS-Beta\n",
      "2024-08-08 16:13:55,649 INFO Sending request to https://cds.climate.copernicus.eu/api/v2/resources/reanalysis-era5-single-levels\n",
      "2024-08-08 16:13:55,902 INFO Request is queued\n",
      "2024-08-08 16:13:58,874 INFO Request is running\n",
      "2024-08-08 16:18:17,727 INFO Request is completed\n",
      "2024-08-08 16:18:17,729 INFO Downloading https://download-0005-clone.copernicus-climate.eu/cache-compute-0005/cache/data5/adaptor.mars.internal-1723108671.098807-16466-13-7db3bab7-09b5-4f4a-a2c3-a8f3d16baf09.nc to ../Nan/1nc/6-2024-03-22-ยอด-สองแคว-น่าน.nc (10.9K)\n",
      "2024-08-08 16:18:20,136 INFO Download rate 4.5K/s\n"
     ]
    }
   ],
   "source": [
    "DIR_OUTPUT = f'../Nan/1nc/'\n",
    "os.makedirs(DIR_OUTPUT, exist_ok=True)\n",
    "c = cdsapi.Client()\n",
    "for i , data in df.iterrows():\n",
    "    lat, lon = utmToLatLon(x=[data['x']], y=[data['y']], zone=47)\n",
    "    year = int(data['date'].split('-')[0])\n",
    "    month = int(data['date'].split('-')[1])\n",
    "    day = int(data['date'].split('-')[2])\n",
    "    print(f\"\\nDownloading {data['date']}-{data['ตำบล']}-{data['อำเภอ']}-{data['จังหวัด']} ({lat}, {lon})\")\n",
    "    c.retrieve(\n",
    "            'reanalysis-era5-single-levels',\n",
    "            {\n",
    "                'product_type': 'reanalysis',\n",
    "                'format': 'netcdf',\n",
    "                'variable': [\n",
    "                    '10m_u_component_of_wind', '10m_v_component_of_wind', '2m_dewpoint_temperature',\n",
    "                    '2m_temperature', 'downward_uv_radiation_at_the_surface', 'evaporation',\n",
    "                    'soil_temperature_level_1', 'surface_pressure', 'total_precipitation',\n",
    "                ],\n",
    "                'year': year,\n",
    "                'month': [str(i) for i in range(month-1, month+2)],\n",
    "                'day': [str(i) for i in range(1, 32)],\n",
    "                'area' : [lat, lon, lat, lon],                  \n",
    "                'time': [\n",
    "                    '00:00', '06:00', '12:00',\n",
    "                    '18:00',\n",
    "                ],\n",
    "            },\n",
    "            f\"{DIR_OUTPUT}{i}-{data['date']}-{data['ตำบล']}-{data['อำเภอ']}-{data['จังหวัด']}.nc\")"
   ]
  },
  {
   "cell_type": "code",
   "execution_count": null,
   "metadata": {},
   "outputs": [],
   "source": []
  }
 ],
 "metadata": {
  "kernelspec": {
   "display_name": "yang",
   "language": "python",
   "name": "python3"
  },
  "language_info": {
   "codemirror_mode": {
    "name": "ipython",
    "version": 3
   },
   "file_extension": ".py",
   "mimetype": "text/x-python",
   "name": "python",
   "nbconvert_exporter": "python",
   "pygments_lexer": "ipython3",
   "version": "3.12.3"
  }
 },
 "nbformat": 4,
 "nbformat_minor": 2
}
