{
 "cells": [
  {
   "cell_type": "code",
   "execution_count": 7,
   "metadata": {},
   "outputs": [],
   "source": [
    "import pandas as pd\n",
    "import numpy as np\n",
    "import cdsapi\n",
    "import utm\n",
    "import os \n",
    "import json\n",
    "import sys"
   ]
  },
  {
   "cell_type": "code",
   "execution_count": 8,
   "metadata": {},
   "outputs": [],
   "source": [
    "df = pd.read_excel('ตารางการสำสวจโรคยางพารา.xlsx',sheet_name='สตูล66')"
   ]
  },
  {
   "cell_type": "code",
   "execution_count": 9,
   "metadata": {},
   "outputs": [
    {
     "data": {
      "text/html": [
       "<div>\n",
       "<style scoped>\n",
       "    .dataframe tbody tr th:only-of-type {\n",
       "        vertical-align: middle;\n",
       "    }\n",
       "\n",
       "    .dataframe tbody tr th {\n",
       "        vertical-align: top;\n",
       "    }\n",
       "\n",
       "    .dataframe thead th {\n",
       "        text-align: right;\n",
       "    }\n",
       "</style>\n",
       "<table border=\"1\" class=\"dataframe\">\n",
       "  <thead>\n",
       "    <tr style=\"text-align: right;\">\n",
       "      <th></th>\n",
       "      <th>ลำดับ</th>\n",
       "      <th>ชื่อเกษตรกร</th>\n",
       "      <th>วันที่สำรวจ</th>\n",
       "      <th>ตำบล</th>\n",
       "      <th>อำเภอ</th>\n",
       "      <th>จังหวัด</th>\n",
       "      <th>พิกัด</th>\n",
       "      <th>Unnamed: 7</th>\n",
       "      <th>อายุต้นยาง(ปี)</th>\n",
       "      <th>ชนิดดิน</th>\n",
       "      <th>พันธุ์ยางพารา</th>\n",
       "      <th>โรคที่พบ</th>\n",
       "      <th>เปอร์เซนต์การเกิดโรค</th>\n",
       "      <th>ระดับความรุนแรง</th>\n",
       "    </tr>\n",
       "  </thead>\n",
       "  <tbody>\n",
       "    <tr>\n",
       "      <th>0</th>\n",
       "      <td>NaN</td>\n",
       "      <td>NaN</td>\n",
       "      <td>NaN</td>\n",
       "      <td>NaN</td>\n",
       "      <td>NaN</td>\n",
       "      <td>NaN</td>\n",
       "      <td>x</td>\n",
       "      <td>y</td>\n",
       "      <td>NaN</td>\n",
       "      <td>NaN</td>\n",
       "      <td>NaN</td>\n",
       "      <td>NaN</td>\n",
       "      <td>NaN</td>\n",
       "      <td>NaN</td>\n",
       "    </tr>\n",
       "    <tr>\n",
       "      <th>1</th>\n",
       "      <td>1.0</td>\n",
       "      <td>NaN</td>\n",
       "      <td>15/12/66</td>\n",
       "      <td>ห้วยน้ำดำใน</td>\n",
       "      <td>ควนกาหลง</td>\n",
       "      <td>สตูล</td>\n",
       "      <td>616259</td>\n",
       "      <td>758828</td>\n",
       "      <td>-</td>\n",
       "      <td>-</td>\n",
       "      <td>-</td>\n",
       "      <td>โรใบร่วงชนิดใหม่</td>\n",
       "      <td>51-75%</td>\n",
       "      <td>4.0</td>\n",
       "    </tr>\n",
       "    <tr>\n",
       "      <th>2</th>\n",
       "      <td>2.0</td>\n",
       "      <td>NaN</td>\n",
       "      <td>15/12/66</td>\n",
       "      <td>ห้วยน้ำดำใน</td>\n",
       "      <td>ควนกาหลง</td>\n",
       "      <td>สตูล</td>\n",
       "      <td>615268</td>\n",
       "      <td>757701</td>\n",
       "      <td>-</td>\n",
       "      <td>-</td>\n",
       "      <td>-</td>\n",
       "      <td>โรใบร่วงชนิดใหม่</td>\n",
       "      <td>51-75%</td>\n",
       "      <td>4.0</td>\n",
       "    </tr>\n",
       "    <tr>\n",
       "      <th>3</th>\n",
       "      <td>3.0</td>\n",
       "      <td>NaN</td>\n",
       "      <td>15/12/66</td>\n",
       "      <td>ห้วยน้ำดำใน</td>\n",
       "      <td>ควนกาหลง</td>\n",
       "      <td>สตูล</td>\n",
       "      <td>615218</td>\n",
       "      <td>757721</td>\n",
       "      <td>-</td>\n",
       "      <td>-</td>\n",
       "      <td>-</td>\n",
       "      <td>โรใบร่วงชนิดใหม่</td>\n",
       "      <td>25-50%</td>\n",
       "      <td>3.0</td>\n",
       "    </tr>\n",
       "    <tr>\n",
       "      <th>4</th>\n",
       "      <td>4.0</td>\n",
       "      <td>NaN</td>\n",
       "      <td>15/12/66</td>\n",
       "      <td>ห้วยน้ำดำใน</td>\n",
       "      <td>ควนกาหลง</td>\n",
       "      <td>สตูล</td>\n",
       "      <td>616289</td>\n",
       "      <td>758009</td>\n",
       "      <td>-</td>\n",
       "      <td>-</td>\n",
       "      <td>-</td>\n",
       "      <td>โรใบร่วงชนิดใหม่</td>\n",
       "      <td>51-75%</td>\n",
       "      <td>4.0</td>\n",
       "    </tr>\n",
       "  </tbody>\n",
       "</table>\n",
       "</div>"
      ],
      "text/plain": [
       "   ลำดับ  ชื่อเกษตรกร วันที่สำรวจ         ตำบล     อำเภอ จังหวัด   พิกัด  \\\n",
       "0    NaN          NaN         NaN          NaN       NaN     NaN       x   \n",
       "1    1.0          NaN    15/12/66  ห้วยน้ำดำใน  ควนกาหลง    สตูล  616259   \n",
       "2    2.0          NaN    15/12/66  ห้วยน้ำดำใน  ควนกาหลง    สตูล  615268   \n",
       "3    3.0          NaN    15/12/66  ห้วยน้ำดำใน  ควนกาหลง    สตูล  615218   \n",
       "4    4.0          NaN    15/12/66  ห้วยน้ำดำใน  ควนกาหลง    สตูล  616289   \n",
       "\n",
       "  Unnamed: 7 อายุต้นยาง(ปี) ชนิดดิน พันธุ์ยางพารา          โรคที่พบ  \\\n",
       "0          y            NaN     NaN           NaN               NaN   \n",
       "1     758828              -       -             -  โรใบร่วงชนิดใหม่   \n",
       "2     757701              -       -             -  โรใบร่วงชนิดใหม่   \n",
       "3     757721              -       -             -  โรใบร่วงชนิดใหม่   \n",
       "4     758009              -       -             -  โรใบร่วงชนิดใหม่   \n",
       "\n",
       "  เปอร์เซนต์การเกิดโรค  ระดับความรุนแรง  \n",
       "0                  NaN              NaN  \n",
       "1               51-75%              4.0  \n",
       "2               51-75%              4.0  \n",
       "3               25-50%              3.0  \n",
       "4               51-75%              4.0  "
      ]
     },
     "execution_count": 9,
     "metadata": {},
     "output_type": "execute_result"
    }
   ],
   "source": [
    "df.head()"
   ]
  },
  {
   "cell_type": "code",
   "execution_count": 10,
   "metadata": {},
   "outputs": [],
   "source": [
    "df = df.iloc[1:,[2,3,4,5,6,7]]"
   ]
  },
  {
   "cell_type": "code",
   "execution_count": 11,
   "metadata": {},
   "outputs": [
    {
     "data": {
      "text/html": [
       "<div>\n",
       "<style scoped>\n",
       "    .dataframe tbody tr th:only-of-type {\n",
       "        vertical-align: middle;\n",
       "    }\n",
       "\n",
       "    .dataframe tbody tr th {\n",
       "        vertical-align: top;\n",
       "    }\n",
       "\n",
       "    .dataframe thead th {\n",
       "        text-align: right;\n",
       "    }\n",
       "</style>\n",
       "<table border=\"1\" class=\"dataframe\">\n",
       "  <thead>\n",
       "    <tr style=\"text-align: right;\">\n",
       "      <th></th>\n",
       "      <th>วันที่สำรวจ</th>\n",
       "      <th>ตำบล</th>\n",
       "      <th>อำเภอ</th>\n",
       "      <th>จังหวัด</th>\n",
       "      <th>พิกัด</th>\n",
       "      <th>Unnamed: 7</th>\n",
       "    </tr>\n",
       "  </thead>\n",
       "  <tbody>\n",
       "    <tr>\n",
       "      <th>1</th>\n",
       "      <td>15/12/66</td>\n",
       "      <td>ห้วยน้ำดำใน</td>\n",
       "      <td>ควนกาหลง</td>\n",
       "      <td>สตูล</td>\n",
       "      <td>616259</td>\n",
       "      <td>758828</td>\n",
       "    </tr>\n",
       "    <tr>\n",
       "      <th>2</th>\n",
       "      <td>15/12/66</td>\n",
       "      <td>ห้วยน้ำดำใน</td>\n",
       "      <td>ควนกาหลง</td>\n",
       "      <td>สตูล</td>\n",
       "      <td>615268</td>\n",
       "      <td>757701</td>\n",
       "    </tr>\n",
       "    <tr>\n",
       "      <th>3</th>\n",
       "      <td>15/12/66</td>\n",
       "      <td>ห้วยน้ำดำใน</td>\n",
       "      <td>ควนกาหลง</td>\n",
       "      <td>สตูล</td>\n",
       "      <td>615218</td>\n",
       "      <td>757721</td>\n",
       "    </tr>\n",
       "    <tr>\n",
       "      <th>4</th>\n",
       "      <td>15/12/66</td>\n",
       "      <td>ห้วยน้ำดำใน</td>\n",
       "      <td>ควนกาหลง</td>\n",
       "      <td>สตูล</td>\n",
       "      <td>616289</td>\n",
       "      <td>758009</td>\n",
       "    </tr>\n",
       "    <tr>\n",
       "      <th>5</th>\n",
       "      <td>15/12/66</td>\n",
       "      <td>บ้านควน</td>\n",
       "      <td>เมือง</td>\n",
       "      <td>สตูล</td>\n",
       "      <td>615633</td>\n",
       "      <td>738138</td>\n",
       "    </tr>\n",
       "    <tr>\n",
       "      <th>6</th>\n",
       "      <td>15/12/66</td>\n",
       "      <td>บ้านควน</td>\n",
       "      <td>เมือง</td>\n",
       "      <td>สตูล</td>\n",
       "      <td>615587</td>\n",
       "      <td>738025</td>\n",
       "    </tr>\n",
       "    <tr>\n",
       "      <th>7</th>\n",
       "      <td>15/12/66</td>\n",
       "      <td>บ้านควน</td>\n",
       "      <td>เมือง</td>\n",
       "      <td>สตูล</td>\n",
       "      <td>615062</td>\n",
       "      <td>740497</td>\n",
       "    </tr>\n",
       "    <tr>\n",
       "      <th>8</th>\n",
       "      <td>15/12/66</td>\n",
       "      <td>บ้านควน</td>\n",
       "      <td>เมือง</td>\n",
       "      <td>สตูล</td>\n",
       "      <td>614930</td>\n",
       "      <td>740444</td>\n",
       "    </tr>\n",
       "  </tbody>\n",
       "</table>\n",
       "</div>"
      ],
      "text/plain": [
       "  วันที่สำรวจ         ตำบล     อำเภอ จังหวัด   พิกัด Unnamed: 7\n",
       "1    15/12/66  ห้วยน้ำดำใน  ควนกาหลง    สตูล  616259     758828\n",
       "2    15/12/66  ห้วยน้ำดำใน  ควนกาหลง    สตูล  615268     757701\n",
       "3    15/12/66  ห้วยน้ำดำใน  ควนกาหลง    สตูล  615218     757721\n",
       "4    15/12/66  ห้วยน้ำดำใน  ควนกาหลง    สตูล  616289     758009\n",
       "5    15/12/66      บ้านควน     เมือง    สตูล  615633     738138\n",
       "6    15/12/66      บ้านควน     เมือง    สตูล  615587     738025\n",
       "7    15/12/66      บ้านควน     เมือง    สตูล  615062     740497\n",
       "8    15/12/66      บ้านควน     เมือง    สตูล  614930     740444"
      ]
     },
     "execution_count": 11,
     "metadata": {},
     "output_type": "execute_result"
    }
   ],
   "source": [
    "df"
   ]
  },
  {
   "cell_type": "code",
   "execution_count": 13,
   "metadata": {},
   "outputs": [],
   "source": [
    "df = df[:].rename({'วันที่สำรวจ':'date','พิกัด':'x','Unnamed: 7':'y'},axis=1)\n",
    "def adjust_year_to_gregorian(date_str):\n",
    "    date_obj = pd.to_datetime(date_str, format='%d/%m/%y')\n",
    "    gregorian_year = date_obj.year - 43\n",
    "    # Recreate the date with the adjusted year\n",
    "    return date_obj.replace(year=gregorian_year).strftime('%Y-%m-%d')\n",
    "\n",
    "df['date'] = df['date'].apply(adjust_year_to_gregorian)\n"
   ]
  },
  {
   "cell_type": "code",
   "execution_count": 14,
   "metadata": {},
   "outputs": [
    {
     "data": {
      "text/html": [
       "<div>\n",
       "<style scoped>\n",
       "    .dataframe tbody tr th:only-of-type {\n",
       "        vertical-align: middle;\n",
       "    }\n",
       "\n",
       "    .dataframe tbody tr th {\n",
       "        vertical-align: top;\n",
       "    }\n",
       "\n",
       "    .dataframe thead th {\n",
       "        text-align: right;\n",
       "    }\n",
       "</style>\n",
       "<table border=\"1\" class=\"dataframe\">\n",
       "  <thead>\n",
       "    <tr style=\"text-align: right;\">\n",
       "      <th></th>\n",
       "      <th>date</th>\n",
       "      <th>ตำบล</th>\n",
       "      <th>อำเภอ</th>\n",
       "      <th>จังหวัด</th>\n",
       "      <th>x</th>\n",
       "      <th>y</th>\n",
       "    </tr>\n",
       "  </thead>\n",
       "  <tbody>\n",
       "    <tr>\n",
       "      <th>1</th>\n",
       "      <td>2023-12-15</td>\n",
       "      <td>ห้วยน้ำดำใน</td>\n",
       "      <td>ควนกาหลง</td>\n",
       "      <td>สตูล</td>\n",
       "      <td>616259</td>\n",
       "      <td>758828</td>\n",
       "    </tr>\n",
       "    <tr>\n",
       "      <th>2</th>\n",
       "      <td>2023-12-15</td>\n",
       "      <td>ห้วยน้ำดำใน</td>\n",
       "      <td>ควนกาหลง</td>\n",
       "      <td>สตูล</td>\n",
       "      <td>615268</td>\n",
       "      <td>757701</td>\n",
       "    </tr>\n",
       "    <tr>\n",
       "      <th>3</th>\n",
       "      <td>2023-12-15</td>\n",
       "      <td>ห้วยน้ำดำใน</td>\n",
       "      <td>ควนกาหลง</td>\n",
       "      <td>สตูล</td>\n",
       "      <td>615218</td>\n",
       "      <td>757721</td>\n",
       "    </tr>\n",
       "    <tr>\n",
       "      <th>4</th>\n",
       "      <td>2023-12-15</td>\n",
       "      <td>ห้วยน้ำดำใน</td>\n",
       "      <td>ควนกาหลง</td>\n",
       "      <td>สตูล</td>\n",
       "      <td>616289</td>\n",
       "      <td>758009</td>\n",
       "    </tr>\n",
       "    <tr>\n",
       "      <th>5</th>\n",
       "      <td>2023-12-15</td>\n",
       "      <td>บ้านควน</td>\n",
       "      <td>เมือง</td>\n",
       "      <td>สตูล</td>\n",
       "      <td>615633</td>\n",
       "      <td>738138</td>\n",
       "    </tr>\n",
       "    <tr>\n",
       "      <th>6</th>\n",
       "      <td>2023-12-15</td>\n",
       "      <td>บ้านควน</td>\n",
       "      <td>เมือง</td>\n",
       "      <td>สตูล</td>\n",
       "      <td>615587</td>\n",
       "      <td>738025</td>\n",
       "    </tr>\n",
       "    <tr>\n",
       "      <th>7</th>\n",
       "      <td>2023-12-15</td>\n",
       "      <td>บ้านควน</td>\n",
       "      <td>เมือง</td>\n",
       "      <td>สตูล</td>\n",
       "      <td>615062</td>\n",
       "      <td>740497</td>\n",
       "    </tr>\n",
       "    <tr>\n",
       "      <th>8</th>\n",
       "      <td>2023-12-15</td>\n",
       "      <td>บ้านควน</td>\n",
       "      <td>เมือง</td>\n",
       "      <td>สตูล</td>\n",
       "      <td>614930</td>\n",
       "      <td>740444</td>\n",
       "    </tr>\n",
       "  </tbody>\n",
       "</table>\n",
       "</div>"
      ],
      "text/plain": [
       "         date         ตำบล     อำเภอ จังหวัด       x       y\n",
       "1  2023-12-15  ห้วยน้ำดำใน  ควนกาหลง    สตูล  616259  758828\n",
       "2  2023-12-15  ห้วยน้ำดำใน  ควนกาหลง    สตูล  615268  757701\n",
       "3  2023-12-15  ห้วยน้ำดำใน  ควนกาหลง    สตูล  615218  757721\n",
       "4  2023-12-15  ห้วยน้ำดำใน  ควนกาหลง    สตูล  616289  758009\n",
       "5  2023-12-15      บ้านควน     เมือง    สตูล  615633  738138\n",
       "6  2023-12-15      บ้านควน     เมือง    สตูล  615587  738025\n",
       "7  2023-12-15      บ้านควน     เมือง    สตูล  615062  740497\n",
       "8  2023-12-15      บ้านควน     เมือง    สตูล  614930  740444"
      ]
     },
     "execution_count": 14,
     "metadata": {},
     "output_type": "execute_result"
    }
   ],
   "source": [
    "df"
   ]
  },
  {
   "cell_type": "code",
   "execution_count": 16,
   "metadata": {},
   "outputs": [],
   "source": [
    "def utmToLatLon(x:list, y:list, zone:int = 47) -> tuple:\n",
    "    x, y = np.mean(x), np.mean(y) #find mid point\n",
    "    return utm.to_latlon(x,y, zone_number=zone, zone_letter='N') #return (lat, lon)"
   ]
  },
  {
   "cell_type": "code",
   "execution_count": 17,
   "metadata": {},
   "outputs": [
    {
     "name": "stdout",
     "output_type": "stream",
     "text": [
      "\n",
      "Downloading 2023-12-15-ห้วยน้ำดำใน-ควนกาหลง-สตูล (6.863871788358072, 100.05222429745282)\n",
      "\n",
      "Downloading 2023-12-15-ห้วยน้ำดำใน-ควนกาหลง-สตูล (6.85369821752073, 100.043233899247)\n",
      "\n",
      "Downloading 2023-12-15-ห้วยน้ำดำใน-ควนกาหลง-สตูล (6.853880090265212, 100.04278181802479)\n",
      "\n",
      "Downloading 2023-12-15-ห้วยน้ำดำใน-ควนกาหลง-สตูล (6.856463762452008, 100.05247952289488)\n",
      "\n",
      "Downloading 2023-12-15-บ้านควน-เมือง-สตูล (6.676752801510877, 100.04615612957717)\n",
      "\n",
      "Downloading 2023-12-15-บ้านควน-เมือง-สตูล (6.6757316483515945, 100.04573783572819)\n",
      "\n",
      "Downloading 2023-12-15-บ้านควน-เมือง-สตูล (6.698099900800889, 100.04103591163138)\n",
      "\n",
      "Downloading 2023-12-15-บ้านควน-เมือง-สตูล (6.697623067119112, 100.03984074614455)\n"
     ]
    }
   ],
   "source": [
    "# for i , data in df.iterrows():\n",
    "#     lat, lon = utmToLatLon(x=[data['x']], y=[data['y']], zone=47)\n",
    "#     year = int(data['date'].split('-')[0])\n",
    "#     month = int(data['date'].split('-')[1])\n",
    "#     day = int(data['date'].split('-')[2])\n",
    "#     print(f\"\\nDownloading {data['date']}-{data['ตำบล']}-{data['อำเภอ']}-{data['จังหวัด']} ({lat}, {lon})\")\n",
    "   "
   ]
  },
  {
   "cell_type": "code",
   "execution_count": 9,
   "metadata": {},
   "outputs": [
    {
     "name": "stdout",
     "output_type": "stream",
     "text": [
      "\n",
      "Downloading 2023-12-15-ห้วยน้ำดำใน-ควนกาหลง-สตูล (6.863871788358072, 100.05222429745282)\n"
     ]
    },
    {
     "name": "stderr",
     "output_type": "stream",
     "text": [
      "2024-07-19 15:37:19,966 INFO Welcome to the CDS\n",
      "2024-07-19 15:37:19,967 INFO Sending request to https://cds.climate.copernicus.eu/api/v2/resources/reanalysis-era5-single-levels\n",
      "2024-07-19 15:37:20,302 INFO Request is queued\n",
      "2024-07-19 15:40:14,721 INFO Request is running\n",
      "2024-07-19 15:41:42,813 INFO Request is completed\n",
      "2024-07-19 15:41:42,814 INFO Downloading https://download-0001-clone.copernicus-climate.eu/cache-compute-0001/cache/data6/adaptor.mars.internal-1721378477.470082-12222-14-3f654b21-e0f7-436e-81cc-35d21b3365f9.nc to ../Satun-Phang-Nga/1nc/1-2023-12-15-ห้วยน้ำดำใน-ควนกาหลง-สตูล.nc (8.4K)\n",
      "2024-07-19 15:41:45,559 INFO Download rate 3.1K/s\n"
     ]
    },
    {
     "name": "stdout",
     "output_type": "stream",
     "text": [
      "\n",
      "Downloading 2023-12-15-ห้วยน้ำดำใน-ควนกาหลง-สตูล (6.85369821752073, 100.043233899247)\n"
     ]
    },
    {
     "name": "stderr",
     "output_type": "stream",
     "text": [
      "2024-07-19 15:41:46,029 INFO Welcome to the CDS\n",
      "2024-07-19 15:41:46,030 INFO Sending request to https://cds.climate.copernicus.eu/api/v2/resources/reanalysis-era5-single-levels\n",
      "2024-07-19 15:41:46,317 INFO Request is queued\n",
      "2024-07-19 15:42:08,542 INFO Request is running\n",
      "2024-07-19 15:44:39,954 INFO Request is completed\n",
      "2024-07-19 15:44:39,955 INFO Downloading https://download-0006-clone.copernicus-climate.eu/cache-compute-0006/cache/data1/adaptor.mars.internal-1721378644.2688804-8634-20-765c50e2-b8a2-4a16-af0d-6dec621d013a.nc to ../Satun-Phang-Nga/1nc/2-2023-12-15-ห้วยน้ำดำใน-ควนกาหลง-สตูล.nc (8.4K)\n",
      "2024-07-19 15:44:42,577 INFO Download rate 3.2K/s\n"
     ]
    },
    {
     "name": "stdout",
     "output_type": "stream",
     "text": [
      "\n",
      "Downloading 2023-12-15-ห้วยน้ำดำใน-ควนกาหลง-สตูล (6.853880090265212, 100.04278181802479)\n"
     ]
    },
    {
     "name": "stderr",
     "output_type": "stream",
     "text": [
      "2024-07-19 15:44:43,055 INFO Welcome to the CDS\n",
      "2024-07-19 15:44:43,057 INFO Sending request to https://cds.climate.copernicus.eu/api/v2/resources/reanalysis-era5-single-levels\n",
      "2024-07-19 15:44:43,312 INFO Request is queued\n",
      "2024-07-19 15:44:57,677 INFO Request is running\n",
      "2024-07-19 15:47:36,915 INFO Request is completed\n",
      "2024-07-19 15:47:36,916 INFO Downloading https://download-0009-clone.copernicus-climate.eu/cache-compute-0009/cache/data9/adaptor.mars.internal-1721378808.557851-32090-14-effb1ba0-bbba-4428-92f9-70160c23ca9b.nc to ../Satun-Phang-Nga/1nc/3-2023-12-15-ห้วยน้ำดำใน-ควนกาหลง-สตูล.nc (8.4K)\n",
      "2024-07-19 15:47:39,673 INFO Download rate 3K/s\n"
     ]
    },
    {
     "name": "stdout",
     "output_type": "stream",
     "text": [
      "\n",
      "Downloading 2023-12-15-ห้วยน้ำดำใน-ควนกาหลง-สตูล (6.856463762452008, 100.05247952289488)\n"
     ]
    },
    {
     "name": "stderr",
     "output_type": "stream",
     "text": [
      "2024-07-19 15:47:40,195 INFO Welcome to the CDS\n",
      "2024-07-19 15:47:40,197 INFO Sending request to https://cds.climate.copernicus.eu/api/v2/resources/reanalysis-era5-single-levels\n",
      "2024-07-19 15:47:40,456 INFO Request is queued\n",
      "2024-07-19 15:47:46,079 INFO Request is running\n",
      "2024-07-19 15:50:34,233 INFO Request is completed\n",
      "2024-07-19 15:50:34,235 INFO Downloading https://download-0004-clone.copernicus-climate.eu/cache-compute-0004/cache/data3/adaptor.mars.internal-1721378973.4881623-23375-7-40681a1f-2f58-4825-bbee-c4576d1281e7.nc to ../Satun-Phang-Nga/1nc/4-2023-12-15-ห้วยน้ำดำใน-ควนกาหลง-สตูล.nc (8.4K)\n",
      "2024-07-19 15:50:36,849 INFO Download rate 3.2K/s\n"
     ]
    },
    {
     "name": "stdout",
     "output_type": "stream",
     "text": [
      "\n",
      "Downloading 2023-12-15-บ้านควน-เมือง-สตูล (6.676752801510877, 100.04615612957717)\n"
     ]
    },
    {
     "name": "stderr",
     "output_type": "stream",
     "text": [
      "2024-07-19 15:50:37,334 INFO Welcome to the CDS\n",
      "2024-07-19 15:50:37,335 INFO Sending request to https://cds.climate.copernicus.eu/api/v2/resources/reanalysis-era5-single-levels\n",
      "2024-07-19 15:50:37,682 INFO Request is queued\n",
      "2024-07-19 15:51:28,860 INFO Request is running\n",
      "2024-07-19 15:54:59,317 INFO Request is completed\n",
      "2024-07-19 15:54:59,318 INFO Downloading https://download-0004-clone.copernicus-climate.eu/cache-compute-0004/cache/data3/adaptor.mars.internal-1721379198.220036-23375-10-ee874b4d-6c6d-4582-884e-0b96b89ad95a.nc to ../Satun-Phang-Nga/1nc/5-2023-12-15-บ้านควน-เมือง-สตูล.nc (8.4K)\n",
      "2024-07-19 15:55:01,000 INFO Download rate 5K/s\n"
     ]
    },
    {
     "name": "stdout",
     "output_type": "stream",
     "text": [
      "\n",
      "Downloading 2023-12-15-บ้านควน-เมือง-สตูล (6.6757316483515945, 100.04573783572819)\n"
     ]
    },
    {
     "name": "stderr",
     "output_type": "stream",
     "text": [
      "2024-07-19 15:55:01,495 INFO Welcome to the CDS\n",
      "2024-07-19 15:55:01,496 INFO Sending request to https://cds.climate.copernicus.eu/api/v2/resources/reanalysis-era5-single-levels\n",
      "2024-07-19 15:55:01,750 INFO Request is queued\n",
      "2024-07-19 15:55:04,719 INFO Request is running\n",
      "2024-07-19 15:57:55,376 INFO Request is completed\n",
      "2024-07-19 15:57:55,378 INFO Downloading https://download-0017.copernicus-climate.eu/cache-compute-0017/cache/data9/adaptor.mars.internal-1721379413.2963154-32371-9-104ff5e4-7353-40fb-b8cc-f4ef6ac69848.nc to ../Satun-Phang-Nga/1nc/6-2023-12-15-บ้านควน-เมือง-สตูล.nc (8.4K)\n",
      "2024-07-19 15:57:58,106 INFO Download rate 3.1K/s\n"
     ]
    },
    {
     "name": "stdout",
     "output_type": "stream",
     "text": [
      "\n",
      "Downloading 2023-12-15-บ้านควน-เมือง-สตูล (6.698099900800889, 100.04103591163138)\n"
     ]
    },
    {
     "name": "stderr",
     "output_type": "stream",
     "text": [
      "2024-07-19 15:57:58,579 INFO Welcome to the CDS\n",
      "2024-07-19 15:57:58,579 INFO Sending request to https://cds.climate.copernicus.eu/api/v2/resources/reanalysis-era5-single-levels\n",
      "2024-07-19 15:57:58,851 INFO Request is queued\n",
      "2024-07-19 15:58:00,082 INFO Request is running\n",
      "2024-07-19 16:00:52,461 INFO Request is completed\n",
      "2024-07-19 16:00:52,462 INFO Downloading https://download-0006-clone.copernicus-climate.eu/cache-compute-0006/cache/data8/adaptor.mars.internal-1721379590.8515186-30539-5-d89b07a0-6dff-49f1-ba05-96612617cb4a.nc to ../Satun-Phang-Nga/1nc/7-2023-12-15-บ้านควน-เมือง-สตูล.nc (8.4K)\n",
      "2024-07-19 16:00:53,944 INFO Download rate 5.7K/s\n"
     ]
    },
    {
     "name": "stdout",
     "output_type": "stream",
     "text": [
      "\n",
      "Downloading 2023-12-15-บ้านควน-เมือง-สตูล (6.697623067119112, 100.03984074614455)\n"
     ]
    },
    {
     "name": "stderr",
     "output_type": "stream",
     "text": [
      "2024-07-19 16:00:54,407 INFO Welcome to the CDS\n",
      "2024-07-19 16:00:54,409 INFO Sending request to https://cds.climate.copernicus.eu/api/v2/resources/reanalysis-era5-single-levels\n",
      "2024-07-19 16:00:54,685 INFO Request is queued\n",
      "2024-07-19 16:00:57,660 INFO Request is running\n",
      "2024-07-19 16:05:16,074 INFO Request is completed\n",
      "2024-07-19 16:05:16,074 INFO Downloading https://download-0006-clone.copernicus-climate.eu/cache-compute-0006/cache/data9/adaptor.mars.internal-1721379855.173554-30539-7-037f1efb-e61b-4317-8f68-f92280cfdb0c.nc to ../Satun-Phang-Nga/1nc/8-2023-12-15-บ้านควน-เมือง-สตูล.nc (8.4K)\n",
      "2024-07-19 16:05:17,669 INFO Download rate 5.3K/s\n"
     ]
    }
   ],
   "source": [
    "DIR_OUTPUT = f'../Satun-Phang-Nga/1nc/'\n",
    "os.makedirs(DIR_OUTPUT, exist_ok=True)\n",
    "c = cdsapi.Client()\n",
    "for i , data in df.iterrows():\n",
    "    lat, lon = utmToLatLon(x=[data['x']], y=[data['y']], zone=47)\n",
    "    year = int(data['date'].split('-')[0])\n",
    "    month = int(data['date'].split('-')[1])\n",
    "    day = int(data['date'].split('-')[2])\n",
    "    print(f\"\\nDownloading {data['date']}-{data['ตำบล']}-{data['อำเภอ']}-{data['จังหวัด']} ({lat}, {lon})\")\n",
    "    c.retrieve(\n",
    "            'reanalysis-era5-single-levels',\n",
    "            {\n",
    "                'product_type': 'reanalysis',\n",
    "                'format': 'netcdf',\n",
    "                'variable': [\n",
    "                    '10m_u_component_of_wind', '10m_v_component_of_wind', '2m_dewpoint_temperature',\n",
    "                    '2m_temperature', 'downward_uv_radiation_at_the_surface', 'evaporation',\n",
    "                    'soil_temperature_level_1', 'surface_pressure', 'total_precipitation',\n",
    "                ],\n",
    "                'year': year,\n",
    "                'month': [str(i) for i in range(month-1, month+1)],\n",
    "                'day': [str(i) for i in range(1, 32)],\n",
    "                'area' : [lat, lon, lat, lon],                  \n",
    "                'time': [\n",
    "                    '00:00', '06:00', '12:00',\n",
    "                    '18:00',\n",
    "                ],\n",
    "            },\n",
    "            f\"{DIR_OUTPUT}{i}-{data['date']}-{data['ตำบล']}-{data['อำเภอ']}-{data['จังหวัด']}.nc\")"
   ]
  }
 ],
 "metadata": {
  "kernelspec": {
   "display_name": "yang",
   "language": "python",
   "name": "python3"
  },
  "language_info": {
   "codemirror_mode": {
    "name": "ipython",
    "version": 3
   },
   "file_extension": ".py",
   "mimetype": "text/x-python",
   "name": "python",
   "nbconvert_exporter": "python",
   "pygments_lexer": "ipython3",
   "version": "3.12.3"
  }
 },
 "nbformat": 4,
 "nbformat_minor": 2
}
