{
 "cells": [
  {
   "cell_type": "code",
   "execution_count": 1,
   "metadata": {},
   "outputs": [],
   "source": [
    "import pandas as pd\n",
    "import numpy as np\n",
    "import cdsapi\n",
    "import utm\n",
    "import os \n",
    "import json\n",
    "import sys"
   ]
  },
  {
   "cell_type": "code",
   "execution_count": 2,
   "metadata": {},
   "outputs": [],
   "source": [
    "df = pd.read_excel('ตารางการสำสวจโรคยางพารา.xlsx',sheet_name='พังงา67')"
   ]
  },
  {
   "cell_type": "code",
   "execution_count": 3,
   "metadata": {},
   "outputs": [
    {
     "data": {
      "text/html": [
       "<div>\n",
       "<style scoped>\n",
       "    .dataframe tbody tr th:only-of-type {\n",
       "        vertical-align: middle;\n",
       "    }\n",
       "\n",
       "    .dataframe tbody tr th {\n",
       "        vertical-align: top;\n",
       "    }\n",
       "\n",
       "    .dataframe thead th {\n",
       "        text-align: right;\n",
       "    }\n",
       "</style>\n",
       "<table border=\"1\" class=\"dataframe\">\n",
       "  <thead>\n",
       "    <tr style=\"text-align: right;\">\n",
       "      <th></th>\n",
       "      <th>ลำดับ</th>\n",
       "      <th>ชื่อเกษตรกร</th>\n",
       "      <th>วันที่สำรวจ</th>\n",
       "      <th>ตำบล</th>\n",
       "      <th>อำเภอ</th>\n",
       "      <th>จังหวัด</th>\n",
       "      <th>รหัสแปลง(code)</th>\n",
       "      <th>พิกัด</th>\n",
       "      <th>Unnamed: 8</th>\n",
       "      <th>อายุต้นยาง(ปี)</th>\n",
       "      <th>พันธุ์ยางพารา</th>\n",
       "      <th>โรคที่พบ</th>\n",
       "      <th>เปอร์เซ็นต์การเกิดโรค</th>\n",
       "      <th>ระดับความรุนแรง</th>\n",
       "    </tr>\n",
       "  </thead>\n",
       "  <tbody>\n",
       "    <tr>\n",
       "      <th>0</th>\n",
       "      <td>NaN</td>\n",
       "      <td>NaN</td>\n",
       "      <td>NaN</td>\n",
       "      <td>NaN</td>\n",
       "      <td>NaN</td>\n",
       "      <td>NaN</td>\n",
       "      <td>NaN</td>\n",
       "      <td>x</td>\n",
       "      <td>y</td>\n",
       "      <td>NaN</td>\n",
       "      <td>NaN</td>\n",
       "      <td>NaN</td>\n",
       "      <td>NaN</td>\n",
       "      <td>NaN</td>\n",
       "    </tr>\n",
       "    <tr>\n",
       "      <th>1</th>\n",
       "      <td>29.0</td>\n",
       "      <td>นายบุญเกื้อ วัฒนุกิจ</td>\n",
       "      <td>02/02/67</td>\n",
       "      <td>นาเตย</td>\n",
       "      <td>ท้ายเหมือง</td>\n",
       "      <td>พังงา</td>\n",
       "      <td>67PNA07-1</td>\n",
       "      <td>423961</td>\n",
       "      <td>921346</td>\n",
       "      <td>10</td>\n",
       "      <td>RRIT251</td>\n",
       "      <td>โรคใบร่วงชนิดใหม่</td>\n",
       "      <td>1-10%</td>\n",
       "      <td>1</td>\n",
       "    </tr>\n",
       "    <tr>\n",
       "      <th>2</th>\n",
       "      <td>30.0</td>\n",
       "      <td>นายประจิม โสภณ</td>\n",
       "      <td>02/02/67</td>\n",
       "      <td>นาเตย</td>\n",
       "      <td>ท้ายเหมือง</td>\n",
       "      <td>พังงา</td>\n",
       "      <td>67PNA07-2</td>\n",
       "      <td>424051</td>\n",
       "      <td>921255</td>\n",
       "      <td>6</td>\n",
       "      <td>RRIM600</td>\n",
       "      <td>ไม่พบโรคใบร่วงชนิดใหม่</td>\n",
       "      <td>-</td>\n",
       "      <td>-</td>\n",
       "    </tr>\n",
       "    <tr>\n",
       "      <th>3</th>\n",
       "      <td>31.0</td>\n",
       "      <td>นายอนัน คำอ่อน</td>\n",
       "      <td>02/02/67</td>\n",
       "      <td>นาเตย</td>\n",
       "      <td>ท้ายเหมือง</td>\n",
       "      <td>พังงา</td>\n",
       "      <td>67PNA07-3</td>\n",
       "      <td>424249</td>\n",
       "      <td>921322</td>\n",
       "      <td>9</td>\n",
       "      <td>RRIM600</td>\n",
       "      <td>โรคใบร่วงชนิดใหม่</td>\n",
       "      <td>11-25%</td>\n",
       "      <td>2</td>\n",
       "    </tr>\n",
       "    <tr>\n",
       "      <th>4</th>\n",
       "      <td>32.0</td>\n",
       "      <td>นายกระบวน เสือณรงค์</td>\n",
       "      <td>02/02/67</td>\n",
       "      <td>นาเตย</td>\n",
       "      <td>ท้ายเหมือง</td>\n",
       "      <td>พังงา</td>\n",
       "      <td>67PNA07-4</td>\n",
       "      <td>424315</td>\n",
       "      <td>921264</td>\n",
       "      <td>20</td>\n",
       "      <td>RRIM600</td>\n",
       "      <td>โรคใบร่วงชนิดใหม่</td>\n",
       "      <td>25-50%</td>\n",
       "      <td>3</td>\n",
       "    </tr>\n",
       "  </tbody>\n",
       "</table>\n",
       "</div>"
      ],
      "text/plain": [
       "   ลำดับ           ชื่อเกษตรกร วันที่สำรวจ   ตำบล       อำเภอ จังหวัด  \\\n",
       "0    NaN                   NaN         NaN    NaN         NaN     NaN   \n",
       "1   29.0  นายบุญเกื้อ วัฒนุกิจ    02/02/67  นาเตย  ท้ายเหมือง   พังงา   \n",
       "2   30.0        นายประจิม โสภณ    02/02/67  นาเตย  ท้ายเหมือง   พังงา   \n",
       "3   31.0        นายอนัน คำอ่อน    02/02/67  นาเตย  ท้ายเหมือง   พังงา   \n",
       "4   32.0   นายกระบวน เสือณรงค์    02/02/67  นาเตย  ท้ายเหมือง   พังงา   \n",
       "\n",
       "  รหัสแปลง(code)   พิกัด Unnamed: 8 อายุต้นยาง(ปี) พันธุ์ยางพารา  \\\n",
       "0            NaN       x          y            NaN           NaN   \n",
       "1      67PNA07-1  423961     921346             10       RRIT251   \n",
       "2      67PNA07-2  424051     921255              6       RRIM600   \n",
       "3      67PNA07-3  424249     921322              9       RRIM600   \n",
       "4      67PNA07-4  424315     921264             20       RRIM600   \n",
       "\n",
       "                 โรคที่พบ เปอร์เซ็นต์การเกิดโรค ระดับความรุนแรง  \n",
       "0                     NaN                   NaN             NaN  \n",
       "1       โรคใบร่วงชนิดใหม่                 1-10%               1  \n",
       "2  ไม่พบโรคใบร่วงชนิดใหม่                     -               -  \n",
       "3       โรคใบร่วงชนิดใหม่                11-25%               2  \n",
       "4       โรคใบร่วงชนิดใหม่                25-50%               3  "
      ]
     },
     "execution_count": 3,
     "metadata": {},
     "output_type": "execute_result"
    }
   ],
   "source": [
    "df.head()"
   ]
  },
  {
   "cell_type": "code",
   "execution_count": 4,
   "metadata": {},
   "outputs": [],
   "source": [
    "df = df.iloc[1:,[2,3,4,5,7,8]]"
   ]
  },
  {
   "cell_type": "code",
   "execution_count": 5,
   "metadata": {},
   "outputs": [],
   "source": [
    "df = df[:].rename({'วันที่สำรวจ':'date','พิกัด':'x','Unnamed: 8':'y'},axis=1)"
   ]
  },
  {
   "cell_type": "code",
   "execution_count": 6,
   "metadata": {},
   "outputs": [
    {
     "data": {
      "text/html": [
       "<div>\n",
       "<style scoped>\n",
       "    .dataframe tbody tr th:only-of-type {\n",
       "        vertical-align: middle;\n",
       "    }\n",
       "\n",
       "    .dataframe tbody tr th {\n",
       "        vertical-align: top;\n",
       "    }\n",
       "\n",
       "    .dataframe thead th {\n",
       "        text-align: right;\n",
       "    }\n",
       "</style>\n",
       "<table border=\"1\" class=\"dataframe\">\n",
       "  <thead>\n",
       "    <tr style=\"text-align: right;\">\n",
       "      <th></th>\n",
       "      <th>date</th>\n",
       "      <th>ตำบล</th>\n",
       "      <th>อำเภอ</th>\n",
       "      <th>จังหวัด</th>\n",
       "      <th>x</th>\n",
       "      <th>y</th>\n",
       "    </tr>\n",
       "  </thead>\n",
       "  <tbody>\n",
       "    <tr>\n",
       "      <th>1</th>\n",
       "      <td>02/02/67</td>\n",
       "      <td>นาเตย</td>\n",
       "      <td>ท้ายเหมือง</td>\n",
       "      <td>พังงา</td>\n",
       "      <td>423961</td>\n",
       "      <td>921346</td>\n",
       "    </tr>\n",
       "    <tr>\n",
       "      <th>2</th>\n",
       "      <td>02/02/67</td>\n",
       "      <td>นาเตย</td>\n",
       "      <td>ท้ายเหมือง</td>\n",
       "      <td>พังงา</td>\n",
       "      <td>424051</td>\n",
       "      <td>921255</td>\n",
       "    </tr>\n",
       "    <tr>\n",
       "      <th>3</th>\n",
       "      <td>02/02/67</td>\n",
       "      <td>นาเตย</td>\n",
       "      <td>ท้ายเหมือง</td>\n",
       "      <td>พังงา</td>\n",
       "      <td>424249</td>\n",
       "      <td>921322</td>\n",
       "    </tr>\n",
       "    <tr>\n",
       "      <th>4</th>\n",
       "      <td>02/02/67</td>\n",
       "      <td>นาเตย</td>\n",
       "      <td>ท้ายเหมือง</td>\n",
       "      <td>พังงา</td>\n",
       "      <td>424315</td>\n",
       "      <td>921264</td>\n",
       "    </tr>\n",
       "    <tr>\n",
       "      <th>5</th>\n",
       "      <td>02/02/67</td>\n",
       "      <td>นาเตย</td>\n",
       "      <td>ท้ายเหมือง</td>\n",
       "      <td>พังงา</td>\n",
       "      <td>424326</td>\n",
       "      <td>921351</td>\n",
       "    </tr>\n",
       "    <tr>\n",
       "      <th>6</th>\n",
       "      <td>02/02/67</td>\n",
       "      <td>ท้ายเหมือง</td>\n",
       "      <td>ท้ายเหมือง</td>\n",
       "      <td>พังงา</td>\n",
       "      <td>419237</td>\n",
       "      <td>933195</td>\n",
       "    </tr>\n",
       "    <tr>\n",
       "      <th>7</th>\n",
       "      <td>02/02/67</td>\n",
       "      <td>ท้ายเหมือง</td>\n",
       "      <td>ท้ายเหมือง</td>\n",
       "      <td>พังงา</td>\n",
       "      <td>419193</td>\n",
       "      <td>932922</td>\n",
       "    </tr>\n",
       "    <tr>\n",
       "      <th>8</th>\n",
       "      <td>02/02/67</td>\n",
       "      <td>ท้ายเหมือง</td>\n",
       "      <td>ท้ายเหมือง</td>\n",
       "      <td>พังงา</td>\n",
       "      <td>418244</td>\n",
       "      <td>932646</td>\n",
       "    </tr>\n",
       "  </tbody>\n",
       "</table>\n",
       "</div>"
      ],
      "text/plain": [
       "       date        ตำบล       อำเภอ จังหวัด       x       y\n",
       "1  02/02/67       นาเตย  ท้ายเหมือง   พังงา  423961  921346\n",
       "2  02/02/67       นาเตย  ท้ายเหมือง   พังงา  424051  921255\n",
       "3  02/02/67       นาเตย  ท้ายเหมือง   พังงา  424249  921322\n",
       "4  02/02/67       นาเตย  ท้ายเหมือง   พังงา  424315  921264\n",
       "5  02/02/67       นาเตย  ท้ายเหมือง   พังงา  424326  921351\n",
       "6  02/02/67  ท้ายเหมือง  ท้ายเหมือง   พังงา  419237  933195\n",
       "7  02/02/67  ท้ายเหมือง  ท้ายเหมือง   พังงา  419193  932922\n",
       "8  02/02/67  ท้ายเหมือง  ท้ายเหมือง   พังงา  418244  932646"
      ]
     },
     "execution_count": 6,
     "metadata": {},
     "output_type": "execute_result"
    }
   ],
   "source": [
    "df"
   ]
  },
  {
   "cell_type": "code",
   "execution_count": 7,
   "metadata": {},
   "outputs": [],
   "source": [
    "def adjust_year_to_gregorian(date_str):\n",
    "    date_obj = pd.to_datetime(date_str, format='%d/%m/%y')\n",
    "    gregorian_year = date_obj.year - 43\n",
    "    # Recreate the date with the adjusted year\n",
    "    return date_obj.replace(year=gregorian_year).strftime('%Y-%m-%d')\n",
    "\n",
    "df['date'] = df['date'].apply(adjust_year_to_gregorian)\n"
   ]
  },
  {
   "cell_type": "code",
   "execution_count": 8,
   "metadata": {},
   "outputs": [
    {
     "data": {
      "text/html": [
       "<div>\n",
       "<style scoped>\n",
       "    .dataframe tbody tr th:only-of-type {\n",
       "        vertical-align: middle;\n",
       "    }\n",
       "\n",
       "    .dataframe tbody tr th {\n",
       "        vertical-align: top;\n",
       "    }\n",
       "\n",
       "    .dataframe thead th {\n",
       "        text-align: right;\n",
       "    }\n",
       "</style>\n",
       "<table border=\"1\" class=\"dataframe\">\n",
       "  <thead>\n",
       "    <tr style=\"text-align: right;\">\n",
       "      <th></th>\n",
       "      <th>date</th>\n",
       "      <th>ตำบล</th>\n",
       "      <th>อำเภอ</th>\n",
       "      <th>จังหวัด</th>\n",
       "      <th>x</th>\n",
       "      <th>y</th>\n",
       "    </tr>\n",
       "  </thead>\n",
       "  <tbody>\n",
       "    <tr>\n",
       "      <th>1</th>\n",
       "      <td>2024-02-02</td>\n",
       "      <td>นาเตย</td>\n",
       "      <td>ท้ายเหมือง</td>\n",
       "      <td>พังงา</td>\n",
       "      <td>423961</td>\n",
       "      <td>921346</td>\n",
       "    </tr>\n",
       "    <tr>\n",
       "      <th>2</th>\n",
       "      <td>2024-02-02</td>\n",
       "      <td>นาเตย</td>\n",
       "      <td>ท้ายเหมือง</td>\n",
       "      <td>พังงา</td>\n",
       "      <td>424051</td>\n",
       "      <td>921255</td>\n",
       "    </tr>\n",
       "    <tr>\n",
       "      <th>3</th>\n",
       "      <td>2024-02-02</td>\n",
       "      <td>นาเตย</td>\n",
       "      <td>ท้ายเหมือง</td>\n",
       "      <td>พังงา</td>\n",
       "      <td>424249</td>\n",
       "      <td>921322</td>\n",
       "    </tr>\n",
       "    <tr>\n",
       "      <th>4</th>\n",
       "      <td>2024-02-02</td>\n",
       "      <td>นาเตย</td>\n",
       "      <td>ท้ายเหมือง</td>\n",
       "      <td>พังงา</td>\n",
       "      <td>424315</td>\n",
       "      <td>921264</td>\n",
       "    </tr>\n",
       "    <tr>\n",
       "      <th>5</th>\n",
       "      <td>2024-02-02</td>\n",
       "      <td>นาเตย</td>\n",
       "      <td>ท้ายเหมือง</td>\n",
       "      <td>พังงา</td>\n",
       "      <td>424326</td>\n",
       "      <td>921351</td>\n",
       "    </tr>\n",
       "    <tr>\n",
       "      <th>6</th>\n",
       "      <td>2024-02-02</td>\n",
       "      <td>ท้ายเหมือง</td>\n",
       "      <td>ท้ายเหมือง</td>\n",
       "      <td>พังงา</td>\n",
       "      <td>419237</td>\n",
       "      <td>933195</td>\n",
       "    </tr>\n",
       "    <tr>\n",
       "      <th>7</th>\n",
       "      <td>2024-02-02</td>\n",
       "      <td>ท้ายเหมือง</td>\n",
       "      <td>ท้ายเหมือง</td>\n",
       "      <td>พังงา</td>\n",
       "      <td>419193</td>\n",
       "      <td>932922</td>\n",
       "    </tr>\n",
       "    <tr>\n",
       "      <th>8</th>\n",
       "      <td>2024-02-02</td>\n",
       "      <td>ท้ายเหมือง</td>\n",
       "      <td>ท้ายเหมือง</td>\n",
       "      <td>พังงา</td>\n",
       "      <td>418244</td>\n",
       "      <td>932646</td>\n",
       "    </tr>\n",
       "  </tbody>\n",
       "</table>\n",
       "</div>"
      ],
      "text/plain": [
       "         date        ตำบล       อำเภอ จังหวัด       x       y\n",
       "1  2024-02-02       นาเตย  ท้ายเหมือง   พังงา  423961  921346\n",
       "2  2024-02-02       นาเตย  ท้ายเหมือง   พังงา  424051  921255\n",
       "3  2024-02-02       นาเตย  ท้ายเหมือง   พังงา  424249  921322\n",
       "4  2024-02-02       นาเตย  ท้ายเหมือง   พังงา  424315  921264\n",
       "5  2024-02-02       นาเตย  ท้ายเหมือง   พังงา  424326  921351\n",
       "6  2024-02-02  ท้ายเหมือง  ท้ายเหมือง   พังงา  419237  933195\n",
       "7  2024-02-02  ท้ายเหมือง  ท้ายเหมือง   พังงา  419193  932922\n",
       "8  2024-02-02  ท้ายเหมือง  ท้ายเหมือง   พังงา  418244  932646"
      ]
     },
     "execution_count": 8,
     "metadata": {},
     "output_type": "execute_result"
    }
   ],
   "source": [
    "df"
   ]
  },
  {
   "cell_type": "code",
   "execution_count": 9,
   "metadata": {},
   "outputs": [],
   "source": [
    "def utmToLatLon(x:list, y:list, zone:int = 47) -> tuple:\n",
    "    x, y = np.mean(x), np.mean(y) #find mid point\n",
    "    return utm.to_latlon(x,y, zone_number=zone, zone_letter='N') #return (lat, lon)"
   ]
  },
  {
   "cell_type": "code",
   "execution_count": 10,
   "metadata": {},
   "outputs": [
    {
     "name": "stdout",
     "output_type": "stream",
     "text": [
      "\n",
      "Downloading 2024-02-02-นาเตย-ท้ายเหมือง-พังงา (8.334517439191076, 98.30942733499856)\n"
     ]
    },
    {
     "name": "stderr",
     "output_type": "stream",
     "text": [
      "2024-07-19 16:19:49,502 INFO Welcome to the CDS\n",
      "2024-07-19 16:19:49,503 INFO Sending request to https://cds.climate.copernicus.eu/api/v2/resources/reanalysis-era5-single-levels\n",
      "2024-07-19 16:19:49,835 INFO Request is queued\n",
      "2024-07-19 16:19:55,488 INFO Request is running\n",
      "2024-07-19 16:24:24,129 INFO Request is completed\n",
      "2024-07-19 16:24:24,129 INFO Downloading https://download-0017.copernicus-climate.eu/cache-compute-0017/cache/data3/adaptor.mars.internal-1721380946.7174954-23173-13-90017968-48a7-4aae-8e5b-4ee5146279d2.nc to ../Satun-Phang-Nga/1nc-Phang-Nga/1-2024-02-02-นาเตย-ท้ายเหมือง-พังงา.nc (8.3K)\n",
      "2024-07-19 16:24:25,848 INFO Download rate 4.8K/s\n"
     ]
    },
    {
     "name": "stdout",
     "output_type": "stream",
     "text": [
      "\n",
      "Downloading 2024-02-02-นาเตย-ท้ายเหมือง-พังงา (8.333695788753566, 98.31024610046751)\n"
     ]
    },
    {
     "name": "stderr",
     "output_type": "stream",
     "text": [
      "2024-07-19 16:24:26,441 INFO Welcome to the CDS\n",
      "2024-07-19 16:24:26,441 INFO Sending request to https://cds.climate.copernicus.eu/api/v2/resources/reanalysis-era5-single-levels\n",
      "2024-07-19 16:24:26,806 INFO Request is queued\n",
      "2024-07-19 16:24:32,450 INFO Request is running\n",
      "2024-07-19 16:28:49,252 INFO Request is completed\n",
      "2024-07-19 16:28:49,254 INFO Downloading https://download-0006-clone.copernicus-climate.eu/cache-compute-0006/cache/data9/adaptor.mars.internal-1721381246.4024537-1864-13-2a182b80-a53a-42ab-aa67-ba6e461139a4.nc to ../Satun-Phang-Nga/1nc-Phang-Nga/2-2024-02-02-นาเตย-ท้ายเหมือง-พังงา.nc (8.3K)\n",
      "2024-07-19 16:28:51,500 INFO Download rate 3.7K/s\n"
     ]
    },
    {
     "name": "stdout",
     "output_type": "stream",
     "text": [
      "\n",
      "Downloading 2024-02-02-นาเตย-ท้ายเหมือง-พังงา (8.334304907764468, 98.31204314969929)\n"
     ]
    },
    {
     "name": "stderr",
     "output_type": "stream",
     "text": [
      "2024-07-19 16:28:52,196 INFO Welcome to the CDS\n",
      "2024-07-19 16:28:52,197 INFO Sending request to https://cds.climate.copernicus.eu/api/v2/resources/reanalysis-era5-single-levels\n",
      "2024-07-19 16:28:52,531 INFO Request is queued\n",
      "2024-07-19 16:28:53,827 INFO Request is running\n",
      "2024-07-19 16:31:46,784 INFO Request is completed\n",
      "2024-07-19 16:31:46,785 INFO Downloading https://download-0008-clone.copernicus-climate.eu/cache-compute-0008/cache/data3/adaptor.mars.internal-1721381463.8817785-15995-5-7a174321-d798-4385-8218-ede7028ca4b7.nc to ../Satun-Phang-Nga/1nc-Phang-Nga/3-2024-02-02-นาเตย-ท้ายเหมือง-พังงา.nc (8.3K)\n",
      "2024-07-19 16:31:49,446 INFO Download rate 3.1K/s\n"
     ]
    },
    {
     "name": "stdout",
     "output_type": "stream",
     "text": [
      "\n",
      "Downloading 2024-02-02-นาเตย-ท้ายเหมือง-พังงา (8.333781350807548, 98.31264343610405)\n"
     ]
    },
    {
     "name": "stderr",
     "output_type": "stream",
     "text": [
      "2024-07-19 16:31:50,032 INFO Welcome to the CDS\n",
      "2024-07-19 16:31:50,033 INFO Sending request to https://cds.climate.copernicus.eu/api/v2/resources/reanalysis-era5-single-levels\n",
      "2024-07-19 16:31:50,371 INFO Request is queued\n",
      "2024-07-19 16:31:53,461 INFO Request is running\n",
      "2024-07-19 16:33:47,178 INFO Request is completed\n",
      "2024-07-19 16:33:47,179 INFO Downloading https://download-0005-clone.copernicus-climate.eu/cache-compute-0005/cache/data3/adaptor.mars.internal-1721381614.557815-23503-17-4c8fb481-509a-4919-bbeb-857cd975528c.nc to ../Satun-Phang-Nga/1nc-Phang-Nga/4-2024-02-02-นาเตย-ท้ายเหมือง-พังงา.nc (8.3K)\n",
      "2024-07-19 16:33:49,763 INFO Download rate 3.2K/s\n"
     ]
    },
    {
     "name": "stdout",
     "output_type": "stream",
     "text": [
      "\n",
      "Downloading 2024-02-02-นาเตย-ท้ายเหมือง-พังงา (8.334568417063085, 98.31274195734524)\n"
     ]
    },
    {
     "name": "stderr",
     "output_type": "stream",
     "text": [
      "2024-07-19 16:33:50,353 INFO Welcome to the CDS\n",
      "2024-07-19 16:33:50,353 INFO Sending request to https://cds.climate.copernicus.eu/api/v2/resources/reanalysis-era5-single-levels\n",
      "2024-07-19 16:33:50,698 INFO Request is queued\n",
      "2024-07-19 16:34:24,958 INFO Request is running\n",
      "2024-07-19 16:36:44,975 INFO Request is completed\n",
      "2024-07-19 16:36:44,977 INFO Downloading https://download-0001-clone.copernicus-climate.eu/cache-compute-0001/cache/data3/adaptor.mars.internal-1721381768.9217775-22565-4-0e99e808-e1ca-49bd-9094-448ed5838ba9.nc to ../Satun-Phang-Nga/1nc-Phang-Nga/5-2024-02-02-นาเตย-ท้ายเหมือง-พังงา.nc (8.3K)\n",
      "2024-07-19 16:36:47,020 INFO Download rate 4.1K/s\n"
     ]
    },
    {
     "name": "stdout",
     "output_type": "stream",
     "text": [
      "\n",
      "Downloading 2024-02-02-ท้ายเหมือง-ท้ายเหมือง-พังงา (8.441610341353641, 98.26632613510714)\n"
     ]
    },
    {
     "name": "stderr",
     "output_type": "stream",
     "text": [
      "2024-07-19 16:36:47,617 INFO Welcome to the CDS\n",
      "2024-07-19 16:36:47,619 INFO Sending request to https://cds.climate.copernicus.eu/api/v2/resources/reanalysis-era5-single-levels\n",
      "2024-07-19 16:36:47,921 INFO Request is queued\n",
      "2024-07-19 16:36:57,245 INFO Request is running\n",
      "2024-07-19 16:38:44,218 INFO Request is completed\n",
      "2024-07-19 16:38:44,219 INFO Downloading https://download-0013-clone.copernicus-climate.eu/cache-compute-0013/cache/data8/adaptor.mars.internal-1721381897.1307216-759-8-099336ce-7586-4f24-b37c-1ac636932584.nc to ../Satun-Phang-Nga/1nc-Phang-Nga/6-2024-02-02-ท้ายเหมือง-ท้ายเหมือง-พังงา.nc (8.3K)\n",
      "2024-07-19 16:38:46,689 INFO Download rate 3.4K/s\n"
     ]
    },
    {
     "name": "stdout",
     "output_type": "stream",
     "text": [
      "\n",
      "Downloading 2024-02-02-ท้ายเหมือง-ท้ายเหมือง-พังงา (8.439140414676867, 98.26593111291815)\n"
     ]
    },
    {
     "name": "stderr",
     "output_type": "stream",
     "text": [
      "2024-07-19 16:38:47,281 INFO Welcome to the CDS\n",
      "2024-07-19 16:38:47,282 INFO Sending request to https://cds.climate.copernicus.eu/api/v2/resources/reanalysis-era5-single-levels\n",
      "2024-07-19 16:38:47,633 INFO Request is queued\n",
      "2024-07-19 16:38:48,928 INFO Request is running\n",
      "2024-07-19 16:40:43,917 INFO Request is completed\n",
      "2024-07-19 16:40:43,918 INFO Downloading https://download-0014-clone.copernicus-climate.eu/cache-compute-0014/cache/data7/adaptor.mars.internal-1721382026.6460395-2966-6-96872fa0-0830-4c64-b3f2-0f22f7104d29.nc to ../Satun-Phang-Nga/1nc-Phang-Nga/7-2024-02-02-ท้ายเหมือง-ท้ายเหมือง-พังงา.nc (8.3K)\n",
      "2024-07-19 16:40:46,579 INFO Download rate 3.1K/s\n"
     ]
    },
    {
     "name": "stdout",
     "output_type": "stream",
     "text": [
      "\n",
      "Downloading 2024-02-02-ท้ายเหมือง-ท้ายเหมือง-พังงา (8.436627872495741, 98.2573154467297)\n"
     ]
    },
    {
     "name": "stderr",
     "output_type": "stream",
     "text": [
      "2024-07-19 16:40:47,177 INFO Welcome to the CDS\n",
      "2024-07-19 16:40:47,178 INFO Sending request to https://cds.climate.copernicus.eu/api/v2/resources/reanalysis-era5-single-levels\n",
      "2024-07-19 16:40:47,542 INFO Request is queued\n",
      "2024-07-19 16:40:56,848 INFO Request is running\n",
      "2024-07-19 16:43:41,790 INFO Request is completed\n",
      "2024-07-19 16:43:41,792 INFO Downloading https://download-0002-clone.copernicus-climate.eu/cache-compute-0002/cache/data4/adaptor.mars.internal-1721382181.7513072-20826-11-03cc7f1e-7f45-41d0-bf82-9a5bb3497f11.nc to ../Satun-Phang-Nga/1nc-Phang-Nga/8-2024-02-02-ท้ายเหมือง-ท้ายเหมือง-พังงา.nc (8.3K)\n",
      "2024-07-19 16:43:44,196 INFO Download rate 3.5K/s\n"
     ]
    }
   ],
   "source": [
    "DIR_OUTPUT = f'../Satun-Phang-Nga/1nc-Phang-Nga/'\n",
    "os.makedirs(DIR_OUTPUT, exist_ok=True)\n",
    "c = cdsapi.Client()\n",
    "for i , data in df.iterrows():\n",
    "    lat, lon = utmToLatLon(x=[data['x']], y=[data['y']], zone=47)\n",
    "    year = int(data['date'].split('-')[0])\n",
    "    month = int(data['date'].split('-')[1])\n",
    "    day = int(data['date'].split('-')[2])\n",
    "    print(f\"\\nDownloading {data['date']}-{data['ตำบล']}-{data['อำเภอ']}-{data['จังหวัด']} ({lat}, {lon})\")\n",
    "    c.retrieve(\n",
    "            'reanalysis-era5-single-levels',\n",
    "            {\n",
    "                'product_type': 'reanalysis',\n",
    "                'format': 'netcdf',\n",
    "                'variable': [\n",
    "                    '10m_u_component_of_wind', '10m_v_component_of_wind', '2m_dewpoint_temperature',\n",
    "                    '2m_temperature', 'downward_uv_radiation_at_the_surface', 'evaporation',\n",
    "                    'soil_temperature_level_1', 'surface_pressure', 'total_precipitation',\n",
    "                ],\n",
    "                'year': year,\n",
    "                'month': [str(i) for i in range(month-1, month+1)],\n",
    "                'day': [str(i) for i in range(1, 32)],\n",
    "                'area' : [lat, lon, lat, lon],                  \n",
    "                'time': [\n",
    "                    '00:00', '06:00', '12:00',\n",
    "                    '18:00',\n",
    "                ],\n",
    "            },\n",
    "            f\"{DIR_OUTPUT}{i}-{data['date']}-{data['ตำบล']}-{data['อำเภอ']}-{data['จังหวัด']}.nc\")"
   ]
  }
 ],
 "metadata": {
  "kernelspec": {
   "display_name": "yang",
   "language": "python",
   "name": "python3"
  },
  "language_info": {
   "codemirror_mode": {
    "name": "ipython",
    "version": 3
   },
   "file_extension": ".py",
   "mimetype": "text/x-python",
   "name": "python",
   "nbconvert_exporter": "python",
   "pygments_lexer": "ipython3",
   "version": "3.12.3"
  }
 },
 "nbformat": 4,
 "nbformat_minor": 2
}
