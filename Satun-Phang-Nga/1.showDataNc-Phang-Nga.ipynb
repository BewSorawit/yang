{
 "cells": [
  {
   "cell_type": "code",
   "execution_count": 49,
   "metadata": {},
   "outputs": [],
   "source": [
    "import pandas as pd\n",
    "import numpy as np\n",
    "import cdsapi\n",
    "import utm\n",
    "import os \n",
    "import json\n",
    "import sys"
   ]
  },
  {
   "cell_type": "code",
   "execution_count": 50,
   "metadata": {},
   "outputs": [],
   "source": [
    "df = pd.read_excel('ตารางการสำสวจโรคยางพารา.xlsx',sheet_name='พังงา67')"
   ]
  },
  {
   "cell_type": "code",
   "execution_count": 51,
   "metadata": {},
   "outputs": [],
   "source": [
    "df = df[1:6]"
   ]
  },
  {
   "cell_type": "code",
   "execution_count": 52,
   "metadata": {},
   "outputs": [
    {
     "data": {
      "text/html": [
       "<div>\n",
       "<style scoped>\n",
       "    .dataframe tbody tr th:only-of-type {\n",
       "        vertical-align: middle;\n",
       "    }\n",
       "\n",
       "    .dataframe tbody tr th {\n",
       "        vertical-align: top;\n",
       "    }\n",
       "\n",
       "    .dataframe thead th {\n",
       "        text-align: right;\n",
       "    }\n",
       "</style>\n",
       "<table border=\"1\" class=\"dataframe\">\n",
       "  <thead>\n",
       "    <tr style=\"text-align: right;\">\n",
       "      <th></th>\n",
       "      <th>ลำดับ</th>\n",
       "      <th>ชื่อเกษตรกร</th>\n",
       "      <th>วันที่สำรวจ</th>\n",
       "      <th>ตำบล</th>\n",
       "      <th>อำเภอ</th>\n",
       "      <th>จังหวัด</th>\n",
       "      <th>รหัสแปลง(code)</th>\n",
       "      <th>พิกัด</th>\n",
       "      <th>Unnamed: 8</th>\n",
       "      <th>อายุต้นยาง(ปี)</th>\n",
       "      <th>พันธุ์ยางพารา</th>\n",
       "      <th>โรคที่พบ</th>\n",
       "      <th>เปอร์เซ็นต์การเกิดโรค</th>\n",
       "      <th>ระดับความรุนแรง</th>\n",
       "    </tr>\n",
       "  </thead>\n",
       "  <tbody>\n",
       "    <tr>\n",
       "      <th>1</th>\n",
       "      <td>29.0</td>\n",
       "      <td>นายบุญเกื้อ วัฒนุกิจ</td>\n",
       "      <td>02/02/67</td>\n",
       "      <td>นาเตย</td>\n",
       "      <td>ท้ายเหมือง</td>\n",
       "      <td>พังงา</td>\n",
       "      <td>67PNA07-1</td>\n",
       "      <td>423961</td>\n",
       "      <td>921346</td>\n",
       "      <td>10</td>\n",
       "      <td>RRIT251</td>\n",
       "      <td>โรคใบร่วงชนิดใหม่</td>\n",
       "      <td>1-10%</td>\n",
       "      <td>1</td>\n",
       "    </tr>\n",
       "    <tr>\n",
       "      <th>2</th>\n",
       "      <td>30.0</td>\n",
       "      <td>นายประจิม โสภณ</td>\n",
       "      <td>02/02/67</td>\n",
       "      <td>นาเตย</td>\n",
       "      <td>ท้ายเหมือง</td>\n",
       "      <td>พังงา</td>\n",
       "      <td>67PNA07-2</td>\n",
       "      <td>424051</td>\n",
       "      <td>921255</td>\n",
       "      <td>6</td>\n",
       "      <td>RRIM600</td>\n",
       "      <td>ไม่พบโรคใบร่วงชนิดใหม่</td>\n",
       "      <td>-</td>\n",
       "      <td>-</td>\n",
       "    </tr>\n",
       "    <tr>\n",
       "      <th>3</th>\n",
       "      <td>31.0</td>\n",
       "      <td>นายอนัน คำอ่อน</td>\n",
       "      <td>02/02/67</td>\n",
       "      <td>นาเตย</td>\n",
       "      <td>ท้ายเหมือง</td>\n",
       "      <td>พังงา</td>\n",
       "      <td>67PNA07-3</td>\n",
       "      <td>424249</td>\n",
       "      <td>921322</td>\n",
       "      <td>9</td>\n",
       "      <td>RRIM600</td>\n",
       "      <td>โรคใบร่วงชนิดใหม่</td>\n",
       "      <td>11-25%</td>\n",
       "      <td>2</td>\n",
       "    </tr>\n",
       "    <tr>\n",
       "      <th>4</th>\n",
       "      <td>32.0</td>\n",
       "      <td>นายกระบวน เสือณรงค์</td>\n",
       "      <td>02/02/67</td>\n",
       "      <td>นาเตย</td>\n",
       "      <td>ท้ายเหมือง</td>\n",
       "      <td>พังงา</td>\n",
       "      <td>67PNA07-4</td>\n",
       "      <td>424315</td>\n",
       "      <td>921264</td>\n",
       "      <td>20</td>\n",
       "      <td>RRIM600</td>\n",
       "      <td>โรคใบร่วงชนิดใหม่</td>\n",
       "      <td>25-50%</td>\n",
       "      <td>3</td>\n",
       "    </tr>\n",
       "    <tr>\n",
       "      <th>5</th>\n",
       "      <td>33.0</td>\n",
       "      <td>นางขวัญจิตร หิรัญ</td>\n",
       "      <td>02/02/67</td>\n",
       "      <td>นาเตย</td>\n",
       "      <td>ท้ายเหมือง</td>\n",
       "      <td>พังงา</td>\n",
       "      <td>67PNA07-5</td>\n",
       "      <td>424326</td>\n",
       "      <td>921351</td>\n",
       "      <td>20</td>\n",
       "      <td>PB235,BPM1</td>\n",
       "      <td>โรคใบร่วงชนิดใหม่</td>\n",
       "      <td>51-75%</td>\n",
       "      <td>4</td>\n",
       "    </tr>\n",
       "  </tbody>\n",
       "</table>\n",
       "</div>"
      ],
      "text/plain": [
       "   ลำดับ           ชื่อเกษตรกร วันที่สำรวจ   ตำบล       อำเภอ จังหวัด  \\\n",
       "1   29.0  นายบุญเกื้อ วัฒนุกิจ    02/02/67  นาเตย  ท้ายเหมือง   พังงา   \n",
       "2   30.0        นายประจิม โสภณ    02/02/67  นาเตย  ท้ายเหมือง   พังงา   \n",
       "3   31.0        นายอนัน คำอ่อน    02/02/67  นาเตย  ท้ายเหมือง   พังงา   \n",
       "4   32.0   นายกระบวน เสือณรงค์    02/02/67  นาเตย  ท้ายเหมือง   พังงา   \n",
       "5   33.0     นางขวัญจิตร หิรัญ    02/02/67  นาเตย  ท้ายเหมือง   พังงา   \n",
       "\n",
       "  รหัสแปลง(code)   พิกัด Unnamed: 8 อายุต้นยาง(ปี) พันธุ์ยางพารา  \\\n",
       "1      67PNA07-1  423961     921346             10       RRIT251   \n",
       "2      67PNA07-2  424051     921255              6       RRIM600   \n",
       "3      67PNA07-3  424249     921322              9       RRIM600   \n",
       "4      67PNA07-4  424315     921264             20       RRIM600   \n",
       "5      67PNA07-5  424326     921351             20    PB235,BPM1   \n",
       "\n",
       "                 โรคที่พบ เปอร์เซ็นต์การเกิดโรค ระดับความรุนแรง  \n",
       "1       โรคใบร่วงชนิดใหม่                 1-10%               1  \n",
       "2  ไม่พบโรคใบร่วงชนิดใหม่                     -               -  \n",
       "3       โรคใบร่วงชนิดใหม่                11-25%               2  \n",
       "4       โรคใบร่วงชนิดใหม่                25-50%               3  \n",
       "5       โรคใบร่วงชนิดใหม่                51-75%               4  "
      ]
     },
     "execution_count": 52,
     "metadata": {},
     "output_type": "execute_result"
    }
   ],
   "source": [
    "df"
   ]
  },
  {
   "cell_type": "code",
   "execution_count": 53,
   "metadata": {},
   "outputs": [],
   "source": [
    "df = df.iloc[:,[2,3,4,5,7,8]]"
   ]
  },
  {
   "cell_type": "code",
   "execution_count": 54,
   "metadata": {},
   "outputs": [],
   "source": [
    "df = df[:].rename({'วันที่สำรวจ':'date','พิกัด':'x','Unnamed: 8':'y'},axis=1)"
   ]
  },
  {
   "cell_type": "code",
   "execution_count": 55,
   "metadata": {},
   "outputs": [
    {
     "data": {
      "text/html": [
       "<div>\n",
       "<style scoped>\n",
       "    .dataframe tbody tr th:only-of-type {\n",
       "        vertical-align: middle;\n",
       "    }\n",
       "\n",
       "    .dataframe tbody tr th {\n",
       "        vertical-align: top;\n",
       "    }\n",
       "\n",
       "    .dataframe thead th {\n",
       "        text-align: right;\n",
       "    }\n",
       "</style>\n",
       "<table border=\"1\" class=\"dataframe\">\n",
       "  <thead>\n",
       "    <tr style=\"text-align: right;\">\n",
       "      <th></th>\n",
       "      <th>date</th>\n",
       "      <th>ตำบล</th>\n",
       "      <th>อำเภอ</th>\n",
       "      <th>จังหวัด</th>\n",
       "      <th>x</th>\n",
       "      <th>y</th>\n",
       "    </tr>\n",
       "  </thead>\n",
       "  <tbody>\n",
       "    <tr>\n",
       "      <th>1</th>\n",
       "      <td>02/02/67</td>\n",
       "      <td>นาเตย</td>\n",
       "      <td>ท้ายเหมือง</td>\n",
       "      <td>พังงา</td>\n",
       "      <td>423961</td>\n",
       "      <td>921346</td>\n",
       "    </tr>\n",
       "    <tr>\n",
       "      <th>2</th>\n",
       "      <td>02/02/67</td>\n",
       "      <td>นาเตย</td>\n",
       "      <td>ท้ายเหมือง</td>\n",
       "      <td>พังงา</td>\n",
       "      <td>424051</td>\n",
       "      <td>921255</td>\n",
       "    </tr>\n",
       "    <tr>\n",
       "      <th>3</th>\n",
       "      <td>02/02/67</td>\n",
       "      <td>นาเตย</td>\n",
       "      <td>ท้ายเหมือง</td>\n",
       "      <td>พังงา</td>\n",
       "      <td>424249</td>\n",
       "      <td>921322</td>\n",
       "    </tr>\n",
       "    <tr>\n",
       "      <th>4</th>\n",
       "      <td>02/02/67</td>\n",
       "      <td>นาเตย</td>\n",
       "      <td>ท้ายเหมือง</td>\n",
       "      <td>พังงา</td>\n",
       "      <td>424315</td>\n",
       "      <td>921264</td>\n",
       "    </tr>\n",
       "    <tr>\n",
       "      <th>5</th>\n",
       "      <td>02/02/67</td>\n",
       "      <td>นาเตย</td>\n",
       "      <td>ท้ายเหมือง</td>\n",
       "      <td>พังงา</td>\n",
       "      <td>424326</td>\n",
       "      <td>921351</td>\n",
       "    </tr>\n",
       "  </tbody>\n",
       "</table>\n",
       "</div>"
      ],
      "text/plain": [
       "       date   ตำบล       อำเภอ จังหวัด       x       y\n",
       "1  02/02/67  นาเตย  ท้ายเหมือง   พังงา  423961  921346\n",
       "2  02/02/67  นาเตย  ท้ายเหมือง   พังงา  424051  921255\n",
       "3  02/02/67  นาเตย  ท้ายเหมือง   พังงา  424249  921322\n",
       "4  02/02/67  นาเตย  ท้ายเหมือง   พังงา  424315  921264\n",
       "5  02/02/67  นาเตย  ท้ายเหมือง   พังงา  424326  921351"
      ]
     },
     "execution_count": 55,
     "metadata": {},
     "output_type": "execute_result"
    }
   ],
   "source": [
    "df"
   ]
  },
  {
   "cell_type": "code",
   "execution_count": 56,
   "metadata": {},
   "outputs": [],
   "source": [
    "def adjust_year_to_gregorian(date_str):\n",
    "    date_obj = pd.to_datetime(date_str, format='%d/%m/%y')\n",
    "    gregorian_year = date_obj.year - 43\n",
    "    # Recreate the date with the adjusted year\n",
    "    return date_obj.replace(year=gregorian_year).strftime('%Y-%m-%d')\n",
    "\n",
    "df['date'] = df['date'].apply(adjust_year_to_gregorian)\n"
   ]
  },
  {
   "cell_type": "code",
   "execution_count": 57,
   "metadata": {},
   "outputs": [],
   "source": [
    "def utmToLatLon(x:list, y:list, zone:int = 47) -> tuple:\n",
    "    x, y = np.mean(x), np.mean(y) #find mid point\n",
    "    return utm.to_latlon(x,y, zone_number=zone, zone_letter='N') #return (lat, lon)"
   ]
  },
  {
   "cell_type": "code",
   "execution_count": 58,
   "metadata": {},
   "outputs": [
    {
     "data": {
      "text/html": [
       "<div>\n",
       "<style scoped>\n",
       "    .dataframe tbody tr th:only-of-type {\n",
       "        vertical-align: middle;\n",
       "    }\n",
       "\n",
       "    .dataframe tbody tr th {\n",
       "        vertical-align: top;\n",
       "    }\n",
       "\n",
       "    .dataframe thead th {\n",
       "        text-align: right;\n",
       "    }\n",
       "</style>\n",
       "<table border=\"1\" class=\"dataframe\">\n",
       "  <thead>\n",
       "    <tr style=\"text-align: right;\">\n",
       "      <th></th>\n",
       "      <th>date</th>\n",
       "      <th>ตำบล</th>\n",
       "      <th>อำเภอ</th>\n",
       "      <th>จังหวัด</th>\n",
       "      <th>x</th>\n",
       "      <th>y</th>\n",
       "    </tr>\n",
       "  </thead>\n",
       "  <tbody>\n",
       "    <tr>\n",
       "      <th>1</th>\n",
       "      <td>2024-02-02</td>\n",
       "      <td>นาเตย</td>\n",
       "      <td>ท้ายเหมือง</td>\n",
       "      <td>พังงา</td>\n",
       "      <td>423961</td>\n",
       "      <td>921346</td>\n",
       "    </tr>\n",
       "    <tr>\n",
       "      <th>2</th>\n",
       "      <td>2024-02-02</td>\n",
       "      <td>นาเตย</td>\n",
       "      <td>ท้ายเหมือง</td>\n",
       "      <td>พังงา</td>\n",
       "      <td>424051</td>\n",
       "      <td>921255</td>\n",
       "    </tr>\n",
       "    <tr>\n",
       "      <th>3</th>\n",
       "      <td>2024-02-02</td>\n",
       "      <td>นาเตย</td>\n",
       "      <td>ท้ายเหมือง</td>\n",
       "      <td>พังงา</td>\n",
       "      <td>424249</td>\n",
       "      <td>921322</td>\n",
       "    </tr>\n",
       "    <tr>\n",
       "      <th>4</th>\n",
       "      <td>2024-02-02</td>\n",
       "      <td>นาเตย</td>\n",
       "      <td>ท้ายเหมือง</td>\n",
       "      <td>พังงา</td>\n",
       "      <td>424315</td>\n",
       "      <td>921264</td>\n",
       "    </tr>\n",
       "    <tr>\n",
       "      <th>5</th>\n",
       "      <td>2024-02-02</td>\n",
       "      <td>นาเตย</td>\n",
       "      <td>ท้ายเหมือง</td>\n",
       "      <td>พังงา</td>\n",
       "      <td>424326</td>\n",
       "      <td>921351</td>\n",
       "    </tr>\n",
       "  </tbody>\n",
       "</table>\n",
       "</div>"
      ],
      "text/plain": [
       "         date   ตำบล       อำเภอ จังหวัด       x       y\n",
       "1  2024-02-02  นาเตย  ท้ายเหมือง   พังงา  423961  921346\n",
       "2  2024-02-02  นาเตย  ท้ายเหมือง   พังงา  424051  921255\n",
       "3  2024-02-02  นาเตย  ท้ายเหมือง   พังงา  424249  921322\n",
       "4  2024-02-02  นาเตย  ท้ายเหมือง   พังงา  424315  921264\n",
       "5  2024-02-02  นาเตย  ท้ายเหมือง   พังงา  424326  921351"
      ]
     },
     "execution_count": 58,
     "metadata": {},
     "output_type": "execute_result"
    }
   ],
   "source": [
    "df"
   ]
  },
  {
   "cell_type": "code",
   "execution_count": 59,
   "metadata": {},
   "outputs": [
    {
     "name": "stdout",
     "output_type": "stream",
     "text": [
      "\n",
      "Downloading 2024-02-02-นาเตย-ท้ายเหมือง-พังงา (8.334517439191076, 98.30942733499856)\n"
     ]
    },
    {
     "name": "stderr",
     "output_type": "stream",
     "text": [
      "2024-09-07 19:26:35,297 INFO Welcome to the CDS.\n",
      "As per our announcements on the Forum, this instance of CDS will be decommissioned on 26 September 2024 and will no longer be accessible from this date onwards.\n",
      "Please update your cdsapi package to a version >=0.7.2, create an account on CDS-Beta and update your .cdsapirc file. We strongly recommend users to check our Guidelines at https://confluence.ecmwf.int/x/uINmFw\n",
      "2024-09-07 19:26:35,297 WARNING MOVE TO CDS-Beta\n",
      "2024-09-07 19:26:35,297 INFO Sending request to https://cds.climate.copernicus.eu/api/v2/resources/reanalysis-era5-single-levels\n",
      "2024-09-07 19:26:35,737 INFO Request is completed\n",
      "2024-09-07 19:26:35,738 INFO Downloading https://download-0008-clone.copernicus-climate.eu/cache-compute-0008/cache/data5/adaptor.mars.internal-1725708163.2970693-576-7-3893e91e-b74a-44a1-be12-d43e62fb7439.nc to ../Satun-Phang-Nga/23-1nc-Phang-Nga/1-2024-02-02-นาเตย-ท้ายเหมือง-พังงา.nc (5.8K)\n",
      "2024-09-07 19:26:36,897 INFO Download rate 5K/s\n"
     ]
    },
    {
     "name": "stdout",
     "output_type": "stream",
     "text": [
      "\n",
      "Downloading 2024-02-02-นาเตย-ท้ายเหมือง-พังงา (8.333695788753566, 98.31024610046751)\n"
     ]
    },
    {
     "name": "stderr",
     "output_type": "stream",
     "text": [
      "2024-09-07 19:26:37,509 INFO Welcome to the CDS.\n",
      "As per our announcements on the Forum, this instance of CDS will be decommissioned on 26 September 2024 and will no longer be accessible from this date onwards.\n",
      "Please update your cdsapi package to a version >=0.7.2, create an account on CDS-Beta and update your .cdsapirc file. We strongly recommend users to check our Guidelines at https://confluence.ecmwf.int/x/uINmFw\n",
      "2024-09-07 19:26:37,510 WARNING MOVE TO CDS-Beta\n",
      "2024-09-07 19:26:37,510 INFO Sending request to https://cds.climate.copernicus.eu/api/v2/resources/reanalysis-era5-single-levels\n",
      "2024-09-07 19:26:37,860 INFO Request is queued\n",
      "2024-09-07 19:53:17,449 INFO Request is running\n",
      "2024-09-07 19:55:18,676 INFO Request is completed\n",
      "2024-09-07 19:55:18,677 INFO Downloading https://download-0005-clone.copernicus-climate.eu/cache-compute-0005/cache/data9/adaptor.mars.internal-1725713675.729764-12689-17-53399190-b38f-4542-9e0e-e959e0119337.nc to ../Satun-Phang-Nga/23-1nc-Phang-Nga/2-2024-02-02-นาเตย-ท้ายเหมือง-พังงา.nc (5.8K)\n",
      "2024-09-07 19:55:21,219 INFO Download rate 2.3K/s\n"
     ]
    },
    {
     "name": "stdout",
     "output_type": "stream",
     "text": [
      "\n",
      "Downloading 2024-02-02-นาเตย-ท้ายเหมือง-พังงา (8.334304907764468, 98.31204314969929)\n"
     ]
    },
    {
     "name": "stderr",
     "output_type": "stream",
     "text": [
      "2024-09-07 19:55:21,709 INFO Welcome to the CDS.\n",
      "As per our announcements on the Forum, this instance of CDS will be decommissioned on 26 September 2024 and will no longer be accessible from this date onwards.\n",
      "Please update your cdsapi package to a version >=0.7.2, create an account on CDS-Beta and update your .cdsapirc file. We strongly recommend users to check our Guidelines at https://confluence.ecmwf.int/x/uINmFw\n",
      "2024-09-07 19:55:21,710 WARNING MOVE TO CDS-Beta\n",
      "2024-09-07 19:55:21,711 INFO Sending request to https://cds.climate.copernicus.eu/api/v2/resources/reanalysis-era5-single-levels\n",
      "2024-09-07 19:55:22,010 INFO Request is queued\n",
      "2024-09-07 20:22:06,250 INFO Request is completed\n",
      "2024-09-07 20:22:06,250 INFO Downloading https://download-0013-clone.copernicus-climate.eu/cache-compute-0013/cache/data5/adaptor.mars.internal-1725715319.3953502-6297-11-68c4a5af-8a64-4d4d-b7ef-5de021a15c8f.nc to ../Satun-Phang-Nga/23-1nc-Phang-Nga/3-2024-02-02-นาเตย-ท้ายเหมือง-พังงา.nc (5.8K)\n",
      "2024-09-07 20:22:09,701 INFO Download rate 1.7K/s\n"
     ]
    },
    {
     "name": "stdout",
     "output_type": "stream",
     "text": [
      "\n",
      "Downloading 2024-02-02-นาเตย-ท้ายเหมือง-พังงา (8.333781350807548, 98.31264343610405)\n"
     ]
    },
    {
     "name": "stderr",
     "output_type": "stream",
     "text": [
      "2024-09-07 20:22:10,307 INFO Welcome to the CDS.\n",
      "As per our announcements on the Forum, this instance of CDS will be decommissioned on 26 September 2024 and will no longer be accessible from this date onwards.\n",
      "Please update your cdsapi package to a version >=0.7.2, create an account on CDS-Beta and update your .cdsapirc file. We strongly recommend users to check our Guidelines at https://confluence.ecmwf.int/x/uINmFw\n",
      "2024-09-07 20:22:10,308 WARNING MOVE TO CDS-Beta\n",
      "2024-09-07 20:22:10,308 INFO Sending request to https://cds.climate.copernicus.eu/api/v2/resources/reanalysis-era5-single-levels\n",
      "2024-09-07 20:22:10,682 INFO Request is queued\n",
      "2024-09-07 21:45:33,217 INFO Request is running\n",
      "2024-09-07 21:47:34,950 INFO Request is completed\n",
      "2024-09-07 21:47:34,951 INFO Downloading https://download-0005-clone.copernicus-climate.eu/cache-compute-0005/cache/data3/adaptor.mars.internal-1725720433.3814592-24542-6-55b1006b-28ec-4ceb-b3cb-3ac914080408.nc to ../Satun-Phang-Nga/23-1nc-Phang-Nga/4-2024-02-02-นาเตย-ท้ายเหมือง-พังงา.nc (5.8K)\n",
      "2024-09-07 21:47:37,870 INFO Download rate 2K/s\n"
     ]
    },
    {
     "name": "stdout",
     "output_type": "stream",
     "text": [
      "\n",
      "Downloading 2024-02-02-นาเตย-ท้ายเหมือง-พังงา (8.334568417063085, 98.31274195734524)\n"
     ]
    },
    {
     "name": "stderr",
     "output_type": "stream",
     "text": [
      "2024-09-07 21:47:38,536 INFO Welcome to the CDS.\n",
      "As per our announcements on the Forum, this instance of CDS will be decommissioned on 26 September 2024 and will no longer be accessible from this date onwards.\n",
      "Please update your cdsapi package to a version >=0.7.2, create an account on CDS-Beta and update your .cdsapirc file. We strongly recommend users to check our Guidelines at https://confluence.ecmwf.int/x/uINmFw\n",
      "2024-09-07 21:47:38,538 WARNING MOVE TO CDS-Beta\n",
      "2024-09-07 21:47:38,538 INFO Sending request to https://cds.climate.copernicus.eu/api/v2/resources/reanalysis-era5-single-levels\n",
      "2024-09-07 21:47:38,893 INFO Request is queued\n",
      "2024-09-07 22:08:12,380 INFO Request is completed\n",
      "2024-09-07 22:08:12,381 INFO Downloading https://download-0009-clone.copernicus-climate.eu/cache-compute-0009/cache/data2/adaptor.mars.internal-1725721677.935863-8023-2-2da03b5f-18e4-4a30-a5d3-af468ee846bb.nc to ../Satun-Phang-Nga/23-1nc-Phang-Nga/5-2024-02-02-นาเตย-ท้ายเหมือง-พังงา.nc (5.8K)\n",
      "2024-09-07 22:08:14,818 INFO Download rate 2.4K/s\n"
     ]
    }
   ],
   "source": [
    "DIR_OUTPUT = f'../Satun-Phang-Nga/23-1nc-Phang-Nga/'\n",
    "os.makedirs(DIR_OUTPUT, exist_ok=True)\n",
    "c = cdsapi.Client()\n",
    "for i , data in df.iterrows():\n",
    "    lat, lon = utmToLatLon(x=[data['x']], y=[data['y']], zone=47)\n",
    "    year = int(data['date'].split('-')[0])\n",
    "    month = int(data['date'].split('-')[1])\n",
    "    day = int(data['date'].split('-')[2])\n",
    "    print(f\"\\nDownloading {data['date']}-{data['ตำบล']}-{data['อำเภอ']}-{data['จังหวัด']} ({lat}, {lon})\")\n",
    "    c.retrieve(\n",
    "            'reanalysis-era5-single-levels',\n",
    "            {\n",
    "                'product_type': 'reanalysis',\n",
    "                'format': 'netcdf',\n",
    "                'variable': [\n",
    "                    '10m_u_component_of_wind', '10m_v_component_of_wind', '2m_dewpoint_temperature',\n",
    "                    '2m_temperature', 'downward_uv_radiation_at_the_surface', 'evaporation',\n",
    "                    'soil_temperature_level_1', 'surface_pressure', 'total_precipitation',\n",
    "                ],\n",
    "                'year': 2023,\n",
    "                'month': '12',\n",
    "                'day': [str(i) for i in range(1, 32)],\n",
    "                'area' : [lat, lon, lat, lon],                  \n",
    "                'time': [\n",
    "                    '00:00', '06:00', '12:00',\n",
    "                    '18:00',\n",
    "                ],\n",
    "            },\n",
    "            f\"{DIR_OUTPUT}{i}-{data['date']}-{data['ตำบล']}-{data['อำเภอ']}-{data['จังหวัด']}.nc\")"
   ]
  },
  {
   "cell_type": "code",
   "execution_count": null,
   "metadata": {},
   "outputs": [],
   "source": []
  }
 ],
 "metadata": {
  "kernelspec": {
   "display_name": "yang",
   "language": "python",
   "name": "python3"
  },
  "language_info": {
   "codemirror_mode": {
    "name": "ipython",
    "version": 3
   },
   "file_extension": ".py",
   "mimetype": "text/x-python",
   "name": "python",
   "nbconvert_exporter": "python",
   "pygments_lexer": "ipython3",
   "version": "3.12.3"
  }
 },
 "nbformat": 4,
 "nbformat_minor": 2
}
