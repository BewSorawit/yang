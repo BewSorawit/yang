{
 "cells": [
  {
   "cell_type": "code",
   "execution_count": 20,
   "metadata": {},
   "outputs": [],
   "source": [
    "import os\n",
    "import pandas as pd"
   ]
  },
  {
   "cell_type": "code",
   "execution_count": 21,
   "metadata": {},
   "outputs": [],
   "source": [
    "target = '../Satun-Phang-Nga/final-Satun-SunriseSunset'\n",
    "output = '../Satun-Phang-Nga/Satun-regression'\n",
    "\n",
    "if not os.path.exists(output):\n",
    "    os.makedirs(output)"
   ]
  },
  {
   "cell_type": "code",
   "execution_count": 22,
   "metadata": {},
   "outputs": [],
   "source": [
    "xxx_values = [800, 800, 600, 800, 800, 800, 600, 1000]"
   ]
  },
  {
   "cell_type": "code",
   "execution_count": 23,
   "metadata": {},
   "outputs": [],
   "source": [
    "# สร้าง DataFrame ว่างเพื่อเก็บผลลัพธ์\n",
    "combined_data = pd.DataFrame()"
   ]
  },
  {
   "cell_type": "code",
   "execution_count": 24,
   "metadata": {},
   "outputs": [],
   "source": [
    "for i, file in enumerate(os.listdir(target)):\n",
    "    df = pd.read_excel(os.path.join(target, file))\n",
    "    filtered_data = df[(df['date'] >= '2023/11/11') & (df['date'] <= '2023/12/15')].copy()\n",
    "    filtered_data.reset_index(drop=True, inplace=True)\n",
    "    \n",
    "    num_rows = len(filtered_data)\n",
    "    increment_value = xxx_values[i] / num_rows\n",
    "    filtered_data[f'disease_{i+1}'] = (filtered_data.index + 1) * increment_value\n",
    "    \n",
    "    # รวมข้อมูลลงใน combined_data\n",
    "    if combined_data.empty:\n",
    "        combined_data = filtered_data\n",
    "    else:\n",
    "        combined_data = pd.concat([combined_data, filtered_data[f'disease_{i+1}']], axis=1)\n"
   ]
  },
  {
   "cell_type": "code",
   "execution_count": 25,
   "metadata": {},
   "outputs": [],
   "source": [
    "# ลบคอลัมน์ที่มีชื่อว่า 'Unnamed' (ถ้ามี)\n",
    "combined_data = combined_data.loc[:, ~combined_data.columns.str.contains('^Unnamed')]"
   ]
  },
  {
   "cell_type": "code",
   "execution_count": 26,
   "metadata": {},
   "outputs": [
    {
     "name": "stdout",
     "output_type": "stream",
     "text": [
      "         date  latitude   longitude           uvb         e        stl1  \\\n",
      "0  2023/11/11     6.863  100.053001  57263.709719 -0.000115  300.190604   \n",
      "1  2023/11/12     6.863  100.053001  73668.831901 -0.000132  300.700432   \n",
      "2  2023/11/13     6.863  100.053001  78690.839241 -0.000161  300.452818   \n",
      "3  2023/11/14     6.863  100.053001  81066.711367 -0.000138  300.637136   \n",
      "4  2023/11/15     6.863  100.053001  91170.275541 -0.000159  300.517208   \n",
      "\n",
      "             sp        tp        d2m    minTemp  ...    sunset  durationOfDay  \\\n",
      "0  99744.609735  0.000734  24.938810  25.373219  ...  18:00:02      11.831667   \n",
      "1  99645.218498  0.000114  25.118861  25.195474  ...  18:00:01      11.826944   \n",
      "2  99657.688640  0.000467  25.287257  25.624615  ...  18:00:01      11.822500   \n",
      "3  99684.344139  0.000035  25.581264  25.482764  ...  18:00:02      11.817778   \n",
      "4  99731.939443  0.000512  25.319848  26.095898  ...  18:00:04      11.813611   \n",
      "\n",
      "    disease_1   disease_2  disease_3   disease_4   disease_5   disease_6  \\\n",
      "0   22.857143   22.857143  17.142857   22.857143   22.857143   22.857143   \n",
      "1   45.714286   45.714286  34.285714   45.714286   45.714286   45.714286   \n",
      "2   68.571429   68.571429  51.428571   68.571429   68.571429   68.571429   \n",
      "3   91.428571   91.428571  68.571429   91.428571   91.428571   91.428571   \n",
      "4  114.285714  114.285714  85.714286  114.285714  114.285714  114.285714   \n",
      "\n",
      "   disease_7   disease_8  \n",
      "0  17.142857   28.571429  \n",
      "1  34.285714   57.142857  \n",
      "2  51.428571   85.714286  \n",
      "3  68.571429  114.285714  \n",
      "4  85.714286  142.857143  \n",
      "\n",
      "[5 rows x 25 columns]\n"
     ]
    }
   ],
   "source": [
    "print(combined_data.head())"
   ]
  },
  {
   "cell_type": "code",
   "execution_count": 27,
   "metadata": {},
   "outputs": [
    {
     "name": "stdout",
     "output_type": "stream",
     "text": [
      "         date  latitude   longitude           uvb         e        stl1  \\\n",
      "0  2023/11/11     6.863  100.053001  57263.709719 -0.000115  300.190604   \n",
      "1  2023/11/12     6.863  100.053001  73668.831901 -0.000132  300.700432   \n",
      "2  2023/11/13     6.863  100.053001  78690.839241 -0.000161  300.452818   \n",
      "3  2023/11/14     6.863  100.053001  81066.711367 -0.000138  300.637136   \n",
      "4  2023/11/15     6.863  100.053001  91170.275541 -0.000159  300.517208   \n",
      "\n",
      "             sp        tp        d2m    minTemp  ...    sunset  durationOfDay  \\\n",
      "0  99744.609735  0.000734  24.938810  25.373219  ...  18:00:02      11.831667   \n",
      "1  99645.218498  0.000114  25.118861  25.195474  ...  18:00:01      11.826944   \n",
      "2  99657.688640  0.000467  25.287257  25.624615  ...  18:00:01      11.822500   \n",
      "3  99684.344139  0.000035  25.581264  25.482764  ...  18:00:02      11.817778   \n",
      "4  99731.939443  0.000512  25.319848  26.095898  ...  18:00:04      11.813611   \n",
      "\n",
      "    disease_1   disease_2  disease_3   disease_4   disease_5   disease_6  \\\n",
      "0   22.857143   22.857143  17.142857   22.857143   22.857143   22.857143   \n",
      "1   45.714286   45.714286  34.285714   45.714286   45.714286   45.714286   \n",
      "2   68.571429   68.571429  51.428571   68.571429   68.571429   68.571429   \n",
      "3   91.428571   91.428571  68.571429   91.428571   91.428571   91.428571   \n",
      "4  114.285714  114.285714  85.714286  114.285714  114.285714  114.285714   \n",
      "\n",
      "   disease_7   disease_8  \n",
      "0  17.142857   28.571429  \n",
      "1  34.285714   57.142857  \n",
      "2  51.428571   85.714286  \n",
      "3  68.571429  114.285714  \n",
      "4  85.714286  142.857143  \n",
      "\n",
      "[5 rows x 25 columns]\n"
     ]
    }
   ],
   "source": [
    "output_path = os.path.join(output, \"combined_regression.xlsx\")\n",
    "combined_data.to_excel(output_path, index=False, engine='openpyxl')\n",
    "print(combined_data.head())"
   ]
  },
  {
   "cell_type": "code",
   "execution_count": null,
   "metadata": {},
   "outputs": [],
   "source": []
  }
 ],
 "metadata": {
  "kernelspec": {
   "display_name": "yang",
   "language": "python",
   "name": "python3"
  },
  "language_info": {
   "codemirror_mode": {
    "name": "ipython",
    "version": 3
   },
   "file_extension": ".py",
   "mimetype": "text/x-python",
   "name": "python",
   "nbconvert_exporter": "python",
   "pygments_lexer": "ipython3",
   "version": "3.12.3"
  }
 },
 "nbformat": 4,
 "nbformat_minor": 2
}
