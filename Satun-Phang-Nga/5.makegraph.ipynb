{
 "cells": [
  {
   "cell_type": "code",
   "execution_count": 1,
   "metadata": {},
   "outputs": [],
   "source": [
    "import pandas as pd\n",
    "import matplotlib.pyplot as plt\n",
    "import os\n",
    "from matplotlib.ticker import FuncFormatter"
   ]
  },
  {
   "cell_type": "code",
   "execution_count": 2,
   "metadata": {},
   "outputs": [],
   "source": [
    "target = '../Satun-Phang-Nga/final-Satun-SunriseSunset'\n",
    "output_dir = '../Satun-Phang-Nga/graph-Satun'"
   ]
  },
  {
   "cell_type": "code",
   "execution_count": 3,
   "metadata": {},
   "outputs": [],
   "source": [
    "sevenfactor_dir = ['d2m','RH','temperature','rainfall','ws','uvb','durationOfDay','sevenFactor']\n",
    "for dir in sevenfactor_dir:\n",
    "    if not os.path.exists(os.path.join(output_dir,dir)):\n",
    "        os.makedirs(os.path.join(output_dir,dir))"
   ]
  },
  {
   "cell_type": "code",
   "execution_count": 6,
   "metadata": {},
   "outputs": [
    {
     "name": "stdout",
     "output_type": "stream",
     "text": [
      "2023-11-11 00:00:00\n",
      "2023-12-16 00:00:00\n"
     ]
    }
   ],
   "source": [
    "# '2024-01-01'\n",
    "start_date = '2023-11-11'\n",
    "start_date = pd.to_datetime(start_date) \n",
    "end_date = start_date + pd.Timedelta(days=35)\n",
    "print(start_date)\n",
    "print(end_date)\n"
   ]
  },
  {
   "cell_type": "markdown",
   "metadata": {},
   "source": [
    "### D2M"
   ]
  },
  {
   "cell_type": "code",
   "execution_count": 7,
   "metadata": {},
   "outputs": [
    {
     "name": "stdout",
     "output_type": "stream",
     "text": [
      "Saved graph to ../Satun-Phang-Nga/graph-Satun\\d2m\\D2m_1-2023-12-15-Thung-Nui-Khuan-Kalong-Satun-durationOfDay.png\n",
      "Saved graph to ../Satun-Phang-Nga/graph-Satun\\d2m\\D2m_2-2023-12-15-Thung-Nui-Khuan-Kalong-Satun-durationOfDay.png\n",
      "Saved graph to ../Satun-Phang-Nga/graph-Satun\\d2m\\D2m_3-2023-12-15-Thung-Nui-Khuan-Kalong-Satun-durationOfDay.png\n",
      "Saved graph to ../Satun-Phang-Nga/graph-Satun\\d2m\\D2m_4-2023-12-15-Thung-Nui-Khuan-Kalong-Satun-durationOfDay.png\n",
      "Saved graph to ../Satun-Phang-Nga/graph-Satun\\d2m\\D2m_5-2023-12-15-Ban-Khuan-Manang-Satun-durationOfDay.png\n",
      "Saved graph to ../Satun-Phang-Nga/graph-Satun\\d2m\\D2m_6-2023-12-15-Ban-Khuan-Manang-Satun-durationOfDay.png\n",
      "Saved graph to ../Satun-Phang-Nga/graph-Satun\\d2m\\D2m_7-2023-12-15-Ban-Khuan-Manang-Satun-durationOfDay.png\n",
      "Saved graph to ../Satun-Phang-Nga/graph-Satun\\d2m\\D2m_8-2023-12-15-Ban-Khuan-Manang-Satun-durationOfDay.png\n"
     ]
    }
   ],
   "source": [
    "for file in os.listdir(target):\n",
    "    df = pd.read_excel(os.path.join(target, file))\n",
    "    df['date'] = pd.to_datetime(df['date'], format='%Y/%m/%d')    \n",
    "    filtered_data = df[(df['date'] >= start_date) & (df['date'] <= end_date)]\n",
    "    \n",
    "    df = filtered_data\n",
    "\n",
    "    # print(df.head(7))    \n",
    "    # แปลงข้อมูลในคอลัมน์ 'date' เป็นชนิดข้อมูล datetime\n",
    "    df['date'] = pd.to_datetime(df['date'])\n",
    "\n",
    "    # กำหนด 'date' เป็น index\n",
    "    df.set_index('date', inplace=True)\n",
    "\n",
    "    # สร้าง DataFrame ใหม่โดยรวมข้อมูลทุก 7 วัน\n",
    "    df_resampled = df.resample('7D').agg({'d2m': 'mean'})\n",
    "\n",
    "    # เลื่อน index ไป 7 วัน\n",
    "    df_resampled.index = df_resampled.index + pd.DateOffset(days=6)\n",
    "\n",
    "    # # ตัดข้อมูลเฉพาะที่ต้องการแสดง\n",
    "    end_date = df.index[-1]  # วันที่สิ้นสุดของข้อมูล\n",
    "    df_resampled = df_resampled[df_resampled.index <= end_date]\n",
    "\n",
    "    # พล็อตกราฟ\n",
    "    plt.figure(figsize=(10, 6))\n",
    "\n",
    "    # # พล็อตกราฟจุดน้ำค้าง\n",
    "    plt.plot(df_resampled.index, df_resampled['d2m'], label='Dew Point', marker='o')\n",
    "\n",
    "    for x, y in zip(df_resampled.index, df_resampled['d2m']):\n",
    "        plt.annotate(f'{y:.2f}', xy=(x, y), xytext=(0, 5), textcoords='offset points', ha='center')\n",
    "\n",
    "    # ปรับตำแหน่ง x ของ marker ให้ตรงกับข้อมูลที่ถูกรวมรวมแล้ว\n",
    "    plt.xticks(df_resampled.index)\n",
    "\n",
    "\n",
    "    # ปรับแต่งกราฟ\n",
    "    plt.title('Dew Point Over Time (7-day Interval)')\n",
    "    plt.xlabel('Date')\n",
    "    plt.ylabel('Dew Point (°C)')\n",
    "    plt.legend()\n",
    "    plt.xticks(rotation=45)\n",
    "    plt.grid(True)\n",
    "    # บันทึกภาพเป็นไฟล์ PNG\n",
    "    output_file = os.path.join(output_dir,sevenfactor_dir[0], f'D2m_{file.split(\".\")[0]}.png')\n",
    "    plt.savefig(output_file, bbox_inches='tight')\n",
    "    plt.close()\n",
    "    \n",
    "    print(f\"Saved graph to {output_file}\")\n",
    "\n"
   ]
  },
  {
   "cell_type": "markdown",
   "metadata": {},
   "source": [
    "### RH"
   ]
  },
  {
   "cell_type": "code",
   "execution_count": 6,
   "metadata": {},
   "outputs": [
    {
     "name": "stdout",
     "output_type": "stream",
     "text": [
      "Saved graph to ../Satun-Phang-Nga/graph-Phang-Nga\\RH\\RH_1-2024-02-02-Na-Toei-Thai-Mueang-Phang-nga-durationOfDay.png\n",
      "Saved graph to ../Satun-Phang-Nga/graph-Phang-Nga\\RH\\RH_2-2024-02-02-Na-Toei-Thai-Mueang-Phang-nga-durationOfDay.png\n",
      "Saved graph to ../Satun-Phang-Nga/graph-Phang-Nga\\RH\\RH_3-2024-02-02-Na-Toei-Thai-Mueang-Phang-nga-durationOfDay.png\n",
      "Saved graph to ../Satun-Phang-Nga/graph-Phang-Nga\\RH\\RH_4-2024-02-02-Na-Toei-Thai-Mueang-Phang-nga-durationOfDay.png\n",
      "Saved graph to ../Satun-Phang-Nga/graph-Phang-Nga\\RH\\RH_5-2024-02-02-Na-Toei-Thai-Mueang-Phang-nga-durationOfDay.png\n",
      "Saved graph to ../Satun-Phang-Nga/graph-Phang-Nga\\RH\\RH_6-2024-02-02-Thai-Mueang-Thai-Mueang-Phang-nga-durationOfDay.png\n",
      "Saved graph to ../Satun-Phang-Nga/graph-Phang-Nga\\RH\\RH_7-2024-02-02-Thai-Mueang-Thai-Mueang-Phang-nga-durationOfDay.png\n",
      "Saved graph to ../Satun-Phang-Nga/graph-Phang-Nga\\RH\\RH_8-2024-02-02-Thai-Mueang-Thai-Mueang-Phang-nga-durationOfDay.png\n"
     ]
    }
   ],
   "source": [
    "for file in os.listdir(target):\n",
    "    df = pd.read_excel(os.path.join(target, file))\n",
    "    df['date'] = pd.to_datetime(df['date'], format='%Y/%m/%d')    \n",
    "    filtered_data = df[(df['date'] >= start_date) & (df['date'] <= end_date)]\n",
    "    \n",
    "    df = filtered_data\n",
    "    \n",
    "    # แปลงข้อมูลในคอลัมน์ 'date' เป็นชนิดข้อมูล datetime\n",
    "    df['date'] = pd.to_datetime(df['date'])\n",
    "\n",
    "    # กำหนด 'date' เป็น index\n",
    "    df.set_index('date', inplace=True)\n",
    "\n",
    "    # สร้าง DataFrame ใหม่โดยรวมข้อมูลทุก 7 วัน\n",
    "    df_resampled = df.resample('7D').agg({'RH': 'mean'})\n",
    "\n",
    "    # เลื่อน index ไป 7 วัน\n",
    "    df_resampled.index = df_resampled.index + pd.DateOffset(days=6)\n",
    "\n",
    "    # # ตัดข้อมูลเฉพาะที่ต้องการแสดง\n",
    "    end_date = df.index[-1]  # วันที่สิ้นสุดของข้อมูล\n",
    "    df_resampled = df_resampled[df_resampled.index <= end_date]\n",
    "\n",
    "    # พล็อตกราฟ\n",
    "    plt.figure(figsize=(10, 6))\n",
    "\n",
    "    # พล็อตกราฟความชื้น\n",
    "    plt.plot(df_resampled.index, df_resampled['RH']*100, label='RH', marker='o')\n",
    "\n",
    "    for x, y in zip(df_resampled.index, df_resampled['RH']*100):\n",
    "        plt.annotate(f'{y:.2f}', xy=(x, y), xytext=(0, 5), textcoords='offset points', ha='center')\n",
    "\n",
    "    # ปรับตำแหน่ง x ของ marker ให้ตรงกับข้อมูลที่ถูกรวมรวมแล้ว\n",
    "    plt.xticks(df_resampled.index)\n",
    "\n",
    "    # ปรับแต่งกราฟ\n",
    "    plt.title('Relative Humidity Over Time (7-day Interval)')\n",
    "    plt.xlabel('Date')\n",
    "    plt.ylabel('RH (%)')\n",
    "    plt.legend()\n",
    "    plt.xticks(rotation=45)\n",
    "    plt.grid(True)\n",
    "    # บันทึกภาพเป็นไฟล์ PNG\n",
    "    output_file = os.path.join(output_dir,sevenfactor_dir[1], f'RH_{file.split(\".\")[0]}.png')\n",
    "    plt.savefig(output_file, bbox_inches='tight')\n",
    "    plt.close()\n",
    "    \n",
    "    print(f\"Saved graph to {output_file}\")\n",
    "\n"
   ]
  },
  {
   "cell_type": "markdown",
   "metadata": {},
   "source": [
    "### temperature"
   ]
  },
  {
   "cell_type": "code",
   "execution_count": 7,
   "metadata": {},
   "outputs": [
    {
     "name": "stdout",
     "output_type": "stream",
     "text": [
      "Saved graph to ../Satun-Phang-Nga/graph-Phang-Nga\\temperature\\Temperature_1-2024-02-02-Na-Toei-Thai-Mueang-Phang-nga-durationOfDay.png\n",
      "Saved graph to ../Satun-Phang-Nga/graph-Phang-Nga\\temperature\\Temperature_2-2024-02-02-Na-Toei-Thai-Mueang-Phang-nga-durationOfDay.png\n",
      "Saved graph to ../Satun-Phang-Nga/graph-Phang-Nga\\temperature\\Temperature_3-2024-02-02-Na-Toei-Thai-Mueang-Phang-nga-durationOfDay.png\n",
      "Saved graph to ../Satun-Phang-Nga/graph-Phang-Nga\\temperature\\Temperature_4-2024-02-02-Na-Toei-Thai-Mueang-Phang-nga-durationOfDay.png\n",
      "Saved graph to ../Satun-Phang-Nga/graph-Phang-Nga\\temperature\\Temperature_5-2024-02-02-Na-Toei-Thai-Mueang-Phang-nga-durationOfDay.png\n",
      "Saved graph to ../Satun-Phang-Nga/graph-Phang-Nga\\temperature\\Temperature_6-2024-02-02-Thai-Mueang-Thai-Mueang-Phang-nga-durationOfDay.png\n",
      "Saved graph to ../Satun-Phang-Nga/graph-Phang-Nga\\temperature\\Temperature_7-2024-02-02-Thai-Mueang-Thai-Mueang-Phang-nga-durationOfDay.png\n",
      "Saved graph to ../Satun-Phang-Nga/graph-Phang-Nga\\temperature\\Temperature_8-2024-02-02-Thai-Mueang-Thai-Mueang-Phang-nga-durationOfDay.png\n"
     ]
    }
   ],
   "source": [
    "for file in os.listdir(target):\n",
    "    df = pd.read_excel(os.path.join(target, file))\n",
    "    df['date'] = pd.to_datetime(df['date'], format='%Y/%m/%d')\n",
    "    filtered_data = df[(df['date'] >= start_date) & (df['date'] <= end_date)]\n",
    "    df = filtered_data\n",
    "\n",
    "    # แปลงข้อมูลในคอลัมน์ 'date' เป็นชนิดข้อมูล datetime\n",
    "    df['date'] = pd.to_datetime(df['date'])\n",
    "\n",
    "    # กำหนด 'date' เป็น index\n",
    "    df.set_index('date', inplace=True)\n",
    "\n",
    "   # สร้าง DataFrame ใหม่โดยรวมข้อมูลทุก 7 วัน\n",
    "    df_resampled = df.resample('7D').agg({'minTemp': 'min', 'maxTemp': 'max', 'meanTemp': 'mean'})\n",
    "\n",
    "    # เลื่อน index ไป 7 วัน\n",
    "    df_resampled.index = df_resampled.index + pd.DateOffset(days=6)\n",
    "\n",
    "    # # ตัดข้อมูลเฉพาะที่ต้องการแสดง\n",
    "    end_date = df.index[-1]  # วันที่สิ้นสุดของข้อมูล\n",
    "    df_resampled = df_resampled[df_resampled.index <= end_date]\n",
    "\n",
    "    # พล็อตกราฟ\n",
    "    plt.figure(figsize=(10, 6))\n",
    "\n",
    "    # พล็อตกราฟอุณหภูมิ\n",
    "    plt.plot(df_resampled.index, df_resampled['minTemp'], label='minTemp', marker='o')\n",
    "    plt.plot(df_resampled.index, df_resampled['meanTemp'], label='meanTemp', marker='o')\n",
    "    plt.plot(df_resampled.index, df_resampled['maxTemp'], label='maxTemp', marker='o')\n",
    "\n",
    "\n",
    "    for x, y in zip(df_resampled.index, df_resampled['minTemp']):\n",
    "        plt.annotate(f'{y:.2f}', xy=(x, y), xytext=(0, 5), textcoords='offset points', ha='center')\n",
    "    for x, y in zip(df_resampled.index, df_resampled['meanTemp']):\n",
    "        plt.annotate(f'{y:.2f}', xy=(x, y), xytext=(0, 5), textcoords='offset points', ha='center')\n",
    "    for x, y in zip(df_resampled.index, df_resampled['maxTemp']):\n",
    "        plt.annotate(f'{y:.2f}', xy=(x, y), xytext=(0, 5), textcoords='offset points', ha='center')\n",
    "\n",
    "    # ปรับตำแหน่ง x ของ marker ให้ตรงกับข้อมูลที่ถูกรวมรวมแล้ว\n",
    "    plt.xticks(df_resampled.index)\n",
    "\n",
    "    \n",
    "    # ปรับแต่งกราฟ\n",
    "    plt.title('Temperature Over Time (7-day Interval)')\n",
    "    plt.xlabel('Date')\n",
    "    plt.ylabel('Temp (°C)')\n",
    "    plt.legend()\n",
    "    plt.xticks(rotation=45)\n",
    "    plt.grid(True)\n",
    "\n",
    "    # บันทึกภาพเป็นไฟล์ PNG\n",
    "    output_file = os.path.join(output_dir, sevenfactor_dir[2],f'Temperature_{file.split(\".\")[0]}.png')\n",
    "    plt.savefig(output_file, bbox_inches='tight')\n",
    "    plt.close()\n",
    "\n",
    "    print(f\"Saved graph to {output_file}\")"
   ]
  },
  {
   "cell_type": "markdown",
   "metadata": {},
   "source": [
    "### rainfall"
   ]
  },
  {
   "cell_type": "code",
   "execution_count": 8,
   "metadata": {},
   "outputs": [
    {
     "name": "stdout",
     "output_type": "stream",
     "text": [
      "Saved graph to ../Satun-Phang-Nga/graph-Phang-Nga\\rainfall\\Rainfall_1-2024-02-02-Na-Toei-Thai-Mueang-Phang-nga-durationOfDay.png\n",
      "Saved graph to ../Satun-Phang-Nga/graph-Phang-Nga\\rainfall\\Rainfall_2-2024-02-02-Na-Toei-Thai-Mueang-Phang-nga-durationOfDay.png\n",
      "Saved graph to ../Satun-Phang-Nga/graph-Phang-Nga\\rainfall\\Rainfall_3-2024-02-02-Na-Toei-Thai-Mueang-Phang-nga-durationOfDay.png\n",
      "Saved graph to ../Satun-Phang-Nga/graph-Phang-Nga\\rainfall\\Rainfall_4-2024-02-02-Na-Toei-Thai-Mueang-Phang-nga-durationOfDay.png\n",
      "Saved graph to ../Satun-Phang-Nga/graph-Phang-Nga\\rainfall\\Rainfall_5-2024-02-02-Na-Toei-Thai-Mueang-Phang-nga-durationOfDay.png\n",
      "Saved graph to ../Satun-Phang-Nga/graph-Phang-Nga\\rainfall\\Rainfall_6-2024-02-02-Thai-Mueang-Thai-Mueang-Phang-nga-durationOfDay.png\n",
      "Saved graph to ../Satun-Phang-Nga/graph-Phang-Nga\\rainfall\\Rainfall_7-2024-02-02-Thai-Mueang-Thai-Mueang-Phang-nga-durationOfDay.png\n",
      "Saved graph to ../Satun-Phang-Nga/graph-Phang-Nga\\rainfall\\Rainfall_8-2024-02-02-Thai-Mueang-Thai-Mueang-Phang-nga-durationOfDay.png\n"
     ]
    }
   ],
   "source": [
    "for file in os.listdir(target):\n",
    "    df = pd.read_excel(os.path.join(target, file))\n",
    "    df['date'] = pd.to_datetime(df['date'], format='%Y/%m/%d')    \n",
    "    filtered_data = df[(df['date'] >= start_date) & (df['date'] <= end_date)]\n",
    "    # print(filtered_data.tail())\n",
    "    df = filtered_data\n",
    "    \n",
    "    # แปลงข้อมูลในคอลัมน์ 'date' เป็นชนิดข้อมูล datetime\n",
    "    df['date'] = pd.to_datetime(df['date'])\n",
    "\n",
    "    # กำหนด 'date' เป็น index\n",
    "    df.set_index('date', inplace=True)\n",
    "\n",
    "    # สร้าง DataFrame ใหม่โดยรวมข้อมูลทุก 7 วัน\n",
    "    df_resampled = df.resample('7D').agg({'tp':'sum'}) \n",
    "\n",
    "    # เลื่อน index ไป 7 วัน\n",
    "    df_resampled.index = df_resampled.index + pd.DateOffset(days=6)\n",
    "\n",
    "    # # ตัดข้อมูลเฉพาะที่ต้องการแสดง\n",
    "    end_date = df.index[-1]  # วันที่สิ้นสุดของข้อมูล\n",
    "    df_resampled = df_resampled[df_resampled.index <= end_date]\n",
    "\n",
    "    # Plot the graph\n",
    "    plt.figure(figsize=(10, 6))\n",
    "\n",
    "    plt.plot(df_resampled.index, df_resampled['tp']*1000, label='Rainfall', marker='o')\n",
    "\n",
    "    for x, y in zip(df_resampled.index, df_resampled['tp']*1000):\n",
    "        plt.annotate(f'{y:.2f}', xy=(x, y), xytext=(0, 5), textcoords='offset points', ha='center')\n",
    "\n",
    "    # ปรับตำแหน่ง x ของ marker ให้ตรงกับข้อมูลที่ถูกรวมรวมแล้ว\n",
    "    plt.xticks(df_resampled.index)\n",
    "\n",
    "    plt.title('Rainfall Over Time (7-day Interval)')  # Corrected title\n",
    "    plt.xlabel('Date')\n",
    "    plt.ylabel('Rainfall (mm)')  # Adjusted unit to millimeters\n",
    "    plt.legend()\n",
    "    plt.xticks(rotation=45)\n",
    "    plt.grid(True)\n",
    "    # บันทึกภาพเป็นไฟล์ PNG\n",
    "    output_file = os.path.join(output_dir, sevenfactor_dir[3],f'Rainfall_{file.split(\".\")[0]}.png')\n",
    "    plt.savefig(output_file, bbox_inches='tight')\n",
    "    plt.close()\n",
    "    \n",
    "    print(f\"Saved graph to {output_file}\")"
   ]
  },
  {
   "cell_type": "markdown",
   "metadata": {},
   "source": [
    "### WS"
   ]
  },
  {
   "cell_type": "code",
   "execution_count": 9,
   "metadata": {},
   "outputs": [
    {
     "name": "stdout",
     "output_type": "stream",
     "text": [
      "Saved graph to ../Satun-Phang-Nga/graph-Phang-Nga\\ws\\Ws_1-2024-02-02-Na-Toei-Thai-Mueang-Phang-nga-durationOfDay.png\n",
      "Saved graph to ../Satun-Phang-Nga/graph-Phang-Nga\\ws\\Ws_2-2024-02-02-Na-Toei-Thai-Mueang-Phang-nga-durationOfDay.png\n",
      "Saved graph to ../Satun-Phang-Nga/graph-Phang-Nga\\ws\\Ws_3-2024-02-02-Na-Toei-Thai-Mueang-Phang-nga-durationOfDay.png\n",
      "Saved graph to ../Satun-Phang-Nga/graph-Phang-Nga\\ws\\Ws_4-2024-02-02-Na-Toei-Thai-Mueang-Phang-nga-durationOfDay.png\n",
      "Saved graph to ../Satun-Phang-Nga/graph-Phang-Nga\\ws\\Ws_5-2024-02-02-Na-Toei-Thai-Mueang-Phang-nga-durationOfDay.png\n",
      "Saved graph to ../Satun-Phang-Nga/graph-Phang-Nga\\ws\\Ws_6-2024-02-02-Thai-Mueang-Thai-Mueang-Phang-nga-durationOfDay.png\n",
      "Saved graph to ../Satun-Phang-Nga/graph-Phang-Nga\\ws\\Ws_7-2024-02-02-Thai-Mueang-Thai-Mueang-Phang-nga-durationOfDay.png\n",
      "Saved graph to ../Satun-Phang-Nga/graph-Phang-Nga\\ws\\Ws_8-2024-02-02-Thai-Mueang-Thai-Mueang-Phang-nga-durationOfDay.png\n"
     ]
    }
   ],
   "source": [
    "for file in os.listdir(target):\n",
    "    df = pd.read_excel(os.path.join(target, file))\n",
    "    df['date'] = pd.to_datetime(df['date'], format='%Y/%m/%d')    \n",
    "    filtered_data = df[(df['date'] >= start_date) & (df['date'] <= end_date)]\n",
    "    # print(filtered_data.tail())\n",
    "    df = filtered_data\n",
    "    \n",
    "    # แปลงข้อมูลในคอลัมน์ 'date' เป็นชนิดข้อมูล datetime\n",
    "    df['date'] = pd.to_datetime(df['date'])\n",
    "\n",
    "    # กำหนด 'date' เป็น index\n",
    "    df.set_index('date', inplace=True)\n",
    "\n",
    "    # สร้าง DataFrame ใหม่โดยรวมข้อมูลทุก 7 วัน\n",
    "    df_resampled = df.resample('7D').agg({'WS': 'mean'})\n",
    "\n",
    "    # เลื่อน index ไป 7 วัน\n",
    "    df_resampled.index = df_resampled.index + pd.DateOffset(days=6)\n",
    "\n",
    "    # # ตัดข้อมูลเฉพาะที่ต้องการแสดง\n",
    "    end_date = df.index[-1]  # วันที่สิ้นสุดของข้อมูล\n",
    "    df_resampled = df_resampled[df_resampled.index <= end_date]\n",
    "\n",
    "    # พล็อตกราฟ\n",
    "    plt.figure(figsize=(10, 6))\n",
    "\n",
    "    # พล็อตกราฟลม\n",
    "    plt.plot(df_resampled.index, df_resampled['WS'], label='WS', marker='o')\n",
    "\n",
    "    for x, y in zip(df_resampled.index, df_resampled['WS']):\n",
    "        plt.annotate(f'{y:.2f}', xy=(x, y), xytext=(0, 5), textcoords='offset points', ha='center')\n",
    "\n",
    "    # ปรับตำแหน่ง x ของ marker ให้ตรงกับข้อมูลที่ถูกรวมรวมแล้ว\n",
    "    plt.xticks(df_resampled.index)\n",
    "\n",
    "    # ปรับแต่งกราฟ\n",
    "    plt.title('Wind Speed Over Time (7-day Interval)')\n",
    "    plt.xlabel('Date')\n",
    "    plt.ylabel('WS (m/s)')\n",
    "    plt.legend()\n",
    "    plt.xticks(rotation=45)\n",
    "    plt.grid(True)\n",
    "    # บันทึกภาพเป็นไฟล์ PNG\n",
    "    output_file = os.path.join(output_dir,sevenfactor_dir[4], f'Ws_{file.split(\".\")[0]}.png')\n",
    "    plt.savefig(output_file, bbox_inches='tight')\n",
    "    plt.close()\n",
    "    \n",
    "    print(f\"Saved graph to {output_file}\")\n",
    "        "
   ]
  },
  {
   "cell_type": "markdown",
   "metadata": {},
   "source": [
    "### uvb"
   ]
  },
  {
   "cell_type": "code",
   "execution_count": 10,
   "metadata": {},
   "outputs": [
    {
     "name": "stdout",
     "output_type": "stream",
     "text": [
      "Saved graph to ../Satun-Phang-Nga/graph-Phang-Nga\\uvb\\Radiation_1-2024-02-02-Na-Toei-Thai-Mueang-Phang-nga-durationOfDay.png\n",
      "Saved graph to ../Satun-Phang-Nga/graph-Phang-Nga\\uvb\\Radiation_2-2024-02-02-Na-Toei-Thai-Mueang-Phang-nga-durationOfDay.png\n",
      "Saved graph to ../Satun-Phang-Nga/graph-Phang-Nga\\uvb\\Radiation_3-2024-02-02-Na-Toei-Thai-Mueang-Phang-nga-durationOfDay.png\n",
      "Saved graph to ../Satun-Phang-Nga/graph-Phang-Nga\\uvb\\Radiation_4-2024-02-02-Na-Toei-Thai-Mueang-Phang-nga-durationOfDay.png\n",
      "Saved graph to ../Satun-Phang-Nga/graph-Phang-Nga\\uvb\\Radiation_5-2024-02-02-Na-Toei-Thai-Mueang-Phang-nga-durationOfDay.png\n",
      "Saved graph to ../Satun-Phang-Nga/graph-Phang-Nga\\uvb\\Radiation_6-2024-02-02-Thai-Mueang-Thai-Mueang-Phang-nga-durationOfDay.png\n",
      "Saved graph to ../Satun-Phang-Nga/graph-Phang-Nga\\uvb\\Radiation_7-2024-02-02-Thai-Mueang-Thai-Mueang-Phang-nga-durationOfDay.png\n",
      "Saved graph to ../Satun-Phang-Nga/graph-Phang-Nga\\uvb\\Radiation_8-2024-02-02-Thai-Mueang-Thai-Mueang-Phang-nga-durationOfDay.png\n"
     ]
    }
   ],
   "source": [
    "for file in os.listdir(target):\n",
    "    df = pd.read_excel(os.path.join(target, file))\n",
    "    df['date'] = pd.to_datetime(df['date'], format='%Y/%m/%d')    \n",
    "    filtered_data = df[(df['date'] >= start_date) & (df['date'] <= end_date)]\n",
    "    # print(filtered_data.tail())\n",
    "    df = filtered_data\n",
    "    \n",
    "    # แปลงข้อมูลในคอลัมน์ 'date' เป็นชนิดข้อมูล datetime\n",
    "    df['date'] = pd.to_datetime(df['date'])\n",
    "\n",
    "    # กำหนด 'date' เป็น index\n",
    "    df.set_index('date', inplace=True)\n",
    "\n",
    "    # Convert 'uvb' column to numeric, coerce errors to NaN\n",
    "    df['uvb'] = pd.to_numeric(df['uvb'], errors='coerce')\n",
    "\n",
    "    # สร้าง DataFrame ใหม่โดยรวมข้อมูลทุก 7 วัน\n",
    "    df_resampled = df.resample('7D').agg({'uvb': 'mean'})\n",
    "\n",
    "    # เลื่อน index ไป 7 วัน\n",
    "    df_resampled.index = df_resampled.index + pd.DateOffset(days=6)\n",
    "\n",
    "    # ตัดข้อมูลเฉพาะที่ต้องการแสดง\n",
    "    end_date = df.index[-1]  # วันที่สิ้นสุดของข้อมูล\n",
    "    df_resampled = df_resampled[df_resampled.index <= end_date]\n",
    "\n",
    "    # พล็อตกราฟ\n",
    "    plt.figure(figsize=(10, 6))\n",
    "    plt.plot(df_resampled.index, df_resampled['uvb'], label='radiation', marker='o')\n",
    "    plt.xticks(df_resampled.index)\n",
    "\n",
    "    # แสดงตัวเลขบนแต่ละ marker\n",
    "    for i, value in enumerate(df_resampled['uvb']):\n",
    "        plt.text(df_resampled.index[i], value, f'{value:.2f}', ha='left', va='bottom')\n",
    "\n",
    "    # ปรับแต่งกราฟ\n",
    "    plt.title('Radiation Over Time (7-day Interval)')\n",
    "    plt.xlabel('Date')\n",
    "    plt.ylabel('Radiation (J/m^2)')\n",
    "    plt.legend()\n",
    "    plt.grid(True)\n",
    "    plt.tight_layout()\n",
    "    # บันทึกภาพเป็นไฟล์ PNG\n",
    "    output_file = os.path.join(output_dir,sevenfactor_dir[5], f'Radiation_{file.split(\".\")[0]}.png')\n",
    "    plt.savefig(output_file, bbox_inches='tight')\n",
    "    plt.close()\n",
    "    \n",
    "    print(f\"Saved graph to {output_file}\")\n",
    "        "
   ]
  },
  {
   "cell_type": "markdown",
   "metadata": {},
   "source": [
    "### durationOfDay"
   ]
  },
  {
   "cell_type": "code",
   "execution_count": 11,
   "metadata": {},
   "outputs": [],
   "source": [
    "def convert_to_time(value):\n",
    "  hours = int(value)\n",
    "  minutes = round((value - hours) * 60)\n",
    "  return f\"{hours}h{minutes}m\""
   ]
  },
  {
   "cell_type": "code",
   "execution_count": 12,
   "metadata": {},
   "outputs": [
    {
     "name": "stderr",
     "output_type": "stream",
     "text": [
      "C:\\Users\\User\\AppData\\Local\\Temp\\ipykernel_8632\\2215201659.py:15: UserWarning: Could not infer format, so each element will be parsed individually, falling back to `dateutil`. To ensure parsing is consistent and as-expected, please specify a format.\n",
      "  df['duration_of_day'] = pd.to_datetime(df['sunset']) - pd.to_datetime(df['sunrise'])\n",
      "C:\\Users\\User\\AppData\\Local\\Temp\\ipykernel_8632\\2215201659.py:15: UserWarning: Could not infer format, so each element will be parsed individually, falling back to `dateutil`. To ensure parsing is consistent and as-expected, please specify a format.\n",
      "  df['duration_of_day'] = pd.to_datetime(df['sunset']) - pd.to_datetime(df['sunrise'])\n"
     ]
    },
    {
     "name": "stdout",
     "output_type": "stream",
     "text": [
      "Saved graph to ../Satun-Phang-Nga/graph-Phang-Nga\\durationOfDay\\Duration_of_Day_1-2024-02-02-Na-Toei-Thai-Mueang-Phang-nga-durationOfDay.png\n"
     ]
    },
    {
     "name": "stderr",
     "output_type": "stream",
     "text": [
      "C:\\Users\\User\\AppData\\Local\\Temp\\ipykernel_8632\\2215201659.py:15: UserWarning: Could not infer format, so each element will be parsed individually, falling back to `dateutil`. To ensure parsing is consistent and as-expected, please specify a format.\n",
      "  df['duration_of_day'] = pd.to_datetime(df['sunset']) - pd.to_datetime(df['sunrise'])\n",
      "C:\\Users\\User\\AppData\\Local\\Temp\\ipykernel_8632\\2215201659.py:15: UserWarning: Could not infer format, so each element will be parsed individually, falling back to `dateutil`. To ensure parsing is consistent and as-expected, please specify a format.\n",
      "  df['duration_of_day'] = pd.to_datetime(df['sunset']) - pd.to_datetime(df['sunrise'])\n"
     ]
    },
    {
     "name": "stdout",
     "output_type": "stream",
     "text": [
      "Saved graph to ../Satun-Phang-Nga/graph-Phang-Nga\\durationOfDay\\Duration_of_Day_2-2024-02-02-Na-Toei-Thai-Mueang-Phang-nga-durationOfDay.png\n"
     ]
    },
    {
     "name": "stderr",
     "output_type": "stream",
     "text": [
      "C:\\Users\\User\\AppData\\Local\\Temp\\ipykernel_8632\\2215201659.py:15: UserWarning: Could not infer format, so each element will be parsed individually, falling back to `dateutil`. To ensure parsing is consistent and as-expected, please specify a format.\n",
      "  df['duration_of_day'] = pd.to_datetime(df['sunset']) - pd.to_datetime(df['sunrise'])\n",
      "C:\\Users\\User\\AppData\\Local\\Temp\\ipykernel_8632\\2215201659.py:15: UserWarning: Could not infer format, so each element will be parsed individually, falling back to `dateutil`. To ensure parsing is consistent and as-expected, please specify a format.\n",
      "  df['duration_of_day'] = pd.to_datetime(df['sunset']) - pd.to_datetime(df['sunrise'])\n"
     ]
    },
    {
     "name": "stdout",
     "output_type": "stream",
     "text": [
      "Saved graph to ../Satun-Phang-Nga/graph-Phang-Nga\\durationOfDay\\Duration_of_Day_3-2024-02-02-Na-Toei-Thai-Mueang-Phang-nga-durationOfDay.png\n"
     ]
    },
    {
     "name": "stderr",
     "output_type": "stream",
     "text": [
      "C:\\Users\\User\\AppData\\Local\\Temp\\ipykernel_8632\\2215201659.py:15: UserWarning: Could not infer format, so each element will be parsed individually, falling back to `dateutil`. To ensure parsing is consistent and as-expected, please specify a format.\n",
      "  df['duration_of_day'] = pd.to_datetime(df['sunset']) - pd.to_datetime(df['sunrise'])\n",
      "C:\\Users\\User\\AppData\\Local\\Temp\\ipykernel_8632\\2215201659.py:15: UserWarning: Could not infer format, so each element will be parsed individually, falling back to `dateutil`. To ensure parsing is consistent and as-expected, please specify a format.\n",
      "  df['duration_of_day'] = pd.to_datetime(df['sunset']) - pd.to_datetime(df['sunrise'])\n"
     ]
    },
    {
     "name": "stdout",
     "output_type": "stream",
     "text": [
      "Saved graph to ../Satun-Phang-Nga/graph-Phang-Nga\\durationOfDay\\Duration_of_Day_4-2024-02-02-Na-Toei-Thai-Mueang-Phang-nga-durationOfDay.png\n"
     ]
    },
    {
     "name": "stderr",
     "output_type": "stream",
     "text": [
      "C:\\Users\\User\\AppData\\Local\\Temp\\ipykernel_8632\\2215201659.py:15: UserWarning: Could not infer format, so each element will be parsed individually, falling back to `dateutil`. To ensure parsing is consistent and as-expected, please specify a format.\n",
      "  df['duration_of_day'] = pd.to_datetime(df['sunset']) - pd.to_datetime(df['sunrise'])\n",
      "C:\\Users\\User\\AppData\\Local\\Temp\\ipykernel_8632\\2215201659.py:15: UserWarning: Could not infer format, so each element will be parsed individually, falling back to `dateutil`. To ensure parsing is consistent and as-expected, please specify a format.\n",
      "  df['duration_of_day'] = pd.to_datetime(df['sunset']) - pd.to_datetime(df['sunrise'])\n"
     ]
    },
    {
     "name": "stdout",
     "output_type": "stream",
     "text": [
      "Saved graph to ../Satun-Phang-Nga/graph-Phang-Nga\\durationOfDay\\Duration_of_Day_5-2024-02-02-Na-Toei-Thai-Mueang-Phang-nga-durationOfDay.png\n"
     ]
    },
    {
     "name": "stderr",
     "output_type": "stream",
     "text": [
      "C:\\Users\\User\\AppData\\Local\\Temp\\ipykernel_8632\\2215201659.py:15: UserWarning: Could not infer format, so each element will be parsed individually, falling back to `dateutil`. To ensure parsing is consistent and as-expected, please specify a format.\n",
      "  df['duration_of_day'] = pd.to_datetime(df['sunset']) - pd.to_datetime(df['sunrise'])\n",
      "C:\\Users\\User\\AppData\\Local\\Temp\\ipykernel_8632\\2215201659.py:15: UserWarning: Could not infer format, so each element will be parsed individually, falling back to `dateutil`. To ensure parsing is consistent and as-expected, please specify a format.\n",
      "  df['duration_of_day'] = pd.to_datetime(df['sunset']) - pd.to_datetime(df['sunrise'])\n"
     ]
    },
    {
     "name": "stdout",
     "output_type": "stream",
     "text": [
      "Saved graph to ../Satun-Phang-Nga/graph-Phang-Nga\\durationOfDay\\Duration_of_Day_6-2024-02-02-Thai-Mueang-Thai-Mueang-Phang-nga-durationOfDay.png\n"
     ]
    },
    {
     "name": "stderr",
     "output_type": "stream",
     "text": [
      "C:\\Users\\User\\AppData\\Local\\Temp\\ipykernel_8632\\2215201659.py:15: UserWarning: Could not infer format, so each element will be parsed individually, falling back to `dateutil`. To ensure parsing is consistent and as-expected, please specify a format.\n",
      "  df['duration_of_day'] = pd.to_datetime(df['sunset']) - pd.to_datetime(df['sunrise'])\n",
      "C:\\Users\\User\\AppData\\Local\\Temp\\ipykernel_8632\\2215201659.py:15: UserWarning: Could not infer format, so each element will be parsed individually, falling back to `dateutil`. To ensure parsing is consistent and as-expected, please specify a format.\n",
      "  df['duration_of_day'] = pd.to_datetime(df['sunset']) - pd.to_datetime(df['sunrise'])\n"
     ]
    },
    {
     "name": "stdout",
     "output_type": "stream",
     "text": [
      "Saved graph to ../Satun-Phang-Nga/graph-Phang-Nga\\durationOfDay\\Duration_of_Day_7-2024-02-02-Thai-Mueang-Thai-Mueang-Phang-nga-durationOfDay.png\n"
     ]
    },
    {
     "name": "stderr",
     "output_type": "stream",
     "text": [
      "C:\\Users\\User\\AppData\\Local\\Temp\\ipykernel_8632\\2215201659.py:15: UserWarning: Could not infer format, so each element will be parsed individually, falling back to `dateutil`. To ensure parsing is consistent and as-expected, please specify a format.\n",
      "  df['duration_of_day'] = pd.to_datetime(df['sunset']) - pd.to_datetime(df['sunrise'])\n",
      "C:\\Users\\User\\AppData\\Local\\Temp\\ipykernel_8632\\2215201659.py:15: UserWarning: Could not infer format, so each element will be parsed individually, falling back to `dateutil`. To ensure parsing is consistent and as-expected, please specify a format.\n",
      "  df['duration_of_day'] = pd.to_datetime(df['sunset']) - pd.to_datetime(df['sunrise'])\n"
     ]
    },
    {
     "name": "stdout",
     "output_type": "stream",
     "text": [
      "Saved graph to ../Satun-Phang-Nga/graph-Phang-Nga\\durationOfDay\\Duration_of_Day_8-2024-02-02-Thai-Mueang-Thai-Mueang-Phang-nga-durationOfDay.png\n"
     ]
    }
   ],
   "source": [
    "for file in os.listdir(target):\n",
    "    df = pd.read_excel(os.path.join(target, file))\n",
    "    df['date'] = pd.to_datetime(df['date'], format='%Y/%m/%d')    \n",
    "    filtered_data = df[(df['date'] >= start_date) & (df['date'] <= end_date)]\n",
    "    # print(filtered_data.tail())\n",
    "    df = filtered_data\n",
    "\n",
    "    # แปลงข้อมูลในคอลัมน์ 'date' เป็นชนิดข้อมูล datetime\n",
    "    df['date'] = pd.to_datetime(df['date'])\n",
    "\n",
    "    # กำหนด 'date' เป็น index\n",
    "    df.set_index('date', inplace=True)\n",
    "\n",
    "    # คำนวณระยะเวลาของแต่ละวัน\n",
    "    df['duration_of_day'] = pd.to_datetime(df['sunset']) - pd.to_datetime(df['sunrise'])\n",
    "\n",
    "    # สร้าง DataFrame ใหม่โดยรวมข้อมูลทุก 7 วัน\n",
    "    df_resampled = df.resample('7D').agg({'duration_of_day': 'mean'})\n",
    "\n",
    "    # เลื่อน index ไป 7 วัน\n",
    "    df_resampled.index = df_resampled.index + pd.DateOffset(days=6)\n",
    "\n",
    "    # แปลงระยะเวลาจากวินาทีเป็น ชั่วโมงและนาที\n",
    "    df_resampled['duration_hours'] = df_resampled['duration_of_day'].dt.seconds // 3600\n",
    "    df_resampled['duration_minutes'] = (df_resampled['duration_of_day'].dt.seconds % 3600) // 60\n",
    "\n",
    "    # ตัดข้อมูลเฉพาะที่ต้องการแสดง\n",
    "    end_date = df.index[-1]  # วันที่สิ้นสุดของข้อมูล\n",
    "    df_resampled = df_resampled[df_resampled.index <= end_date]\n",
    "\n",
    "    # พล็อตกราฟ\n",
    "    plt.figure(figsize=(10, 6))\n",
    "    plt.plot(df_resampled.index, df_resampled['duration_hours'] + df_resampled['duration_minutes'] / 60, label='duration_of_day', marker='o')\n",
    "    plt.xticks(df_resampled.index)\n",
    "\n",
    "    # แสดงตัวเลขบนแต่ละ marker\n",
    "    for i, (hours, minutes) in enumerate(zip(df_resampled['duration_hours'], df_resampled['duration_minutes'])):\n",
    "        time_str = f'{int(hours)}h {int(minutes)}m'\n",
    "        plt.text(df_resampled.index[i], hours + minutes / 60, time_str, ha='left', va='bottom')\n",
    "\n",
    "    # ปรับแต่งกราฟ\n",
    "    plt.title('Duration of Day Over Time (7-day Interval)')\n",
    "    plt.xlabel('Date')\n",
    "    plt.ylabel('Duration of Day')\n",
    "\n",
    "    # กำหนดแกน y ให้แสดงเป็นรูปแบบ \"11h48m\"\n",
    "    plt.gca().yaxis.set_major_formatter(FuncFormatter(lambda x, _: convert_to_time(x)))\n",
    "\n",
    "    plt.legend()\n",
    "    plt.grid(True)\n",
    "    plt.tight_layout()\n",
    "    # บันทึกภาพเป็นไฟล์ PNG\n",
    "    output_file = os.path.join(output_dir,sevenfactor_dir[6], f'Duration_of_Day_{file.split(\".\")[0]}.png')\n",
    "    plt.savefig(output_file, bbox_inches='tight')\n",
    "    plt.close()\n",
    "    \n",
    "    print(f\"Saved graph to {output_file}\")"
   ]
  },
  {
   "cell_type": "markdown",
   "metadata": {},
   "source": [
    "### combination all together"
   ]
  },
  {
   "cell_type": "code",
   "execution_count": 13,
   "metadata": {},
   "outputs": [
    {
     "name": "stderr",
     "output_type": "stream",
     "text": [
      "C:\\Users\\User\\AppData\\Local\\Temp\\ipykernel_8632\\1805982130.py:30: UserWarning: Could not infer format, so each element will be parsed individually, falling back to `dateutil`. To ensure parsing is consistent and as-expected, please specify a format.\n",
      "  df['duration_of_day'] = pd.to_datetime(df['sunset']) - pd.to_datetime(df['sunrise'])\n",
      "C:\\Users\\User\\AppData\\Local\\Temp\\ipykernel_8632\\1805982130.py:30: UserWarning: Could not infer format, so each element will be parsed individually, falling back to `dateutil`. To ensure parsing is consistent and as-expected, please specify a format.\n",
      "  df['duration_of_day'] = pd.to_datetime(df['sunset']) - pd.to_datetime(df['sunrise'])\n"
     ]
    },
    {
     "name": "stdout",
     "output_type": "stream",
     "text": [
      "Saved graph to ../Satun-Phang-Nga/graph-Phang-Nga\\sevenFactor\\SevenFactor_1-2024-02-02-Na-Toei-Thai-Mueang-Phang-nga-durationOfDay.png\n"
     ]
    },
    {
     "name": "stderr",
     "output_type": "stream",
     "text": [
      "C:\\Users\\User\\AppData\\Local\\Temp\\ipykernel_8632\\1805982130.py:30: UserWarning: Could not infer format, so each element will be parsed individually, falling back to `dateutil`. To ensure parsing is consistent and as-expected, please specify a format.\n",
      "  df['duration_of_day'] = pd.to_datetime(df['sunset']) - pd.to_datetime(df['sunrise'])\n",
      "C:\\Users\\User\\AppData\\Local\\Temp\\ipykernel_8632\\1805982130.py:30: UserWarning: Could not infer format, so each element will be parsed individually, falling back to `dateutil`. To ensure parsing is consistent and as-expected, please specify a format.\n",
      "  df['duration_of_day'] = pd.to_datetime(df['sunset']) - pd.to_datetime(df['sunrise'])\n"
     ]
    },
    {
     "name": "stdout",
     "output_type": "stream",
     "text": [
      "Saved graph to ../Satun-Phang-Nga/graph-Phang-Nga\\sevenFactor\\SevenFactor_2-2024-02-02-Na-Toei-Thai-Mueang-Phang-nga-durationOfDay.png\n"
     ]
    },
    {
     "name": "stderr",
     "output_type": "stream",
     "text": [
      "C:\\Users\\User\\AppData\\Local\\Temp\\ipykernel_8632\\1805982130.py:30: UserWarning: Could not infer format, so each element will be parsed individually, falling back to `dateutil`. To ensure parsing is consistent and as-expected, please specify a format.\n",
      "  df['duration_of_day'] = pd.to_datetime(df['sunset']) - pd.to_datetime(df['sunrise'])\n",
      "C:\\Users\\User\\AppData\\Local\\Temp\\ipykernel_8632\\1805982130.py:30: UserWarning: Could not infer format, so each element will be parsed individually, falling back to `dateutil`. To ensure parsing is consistent and as-expected, please specify a format.\n",
      "  df['duration_of_day'] = pd.to_datetime(df['sunset']) - pd.to_datetime(df['sunrise'])\n"
     ]
    },
    {
     "name": "stdout",
     "output_type": "stream",
     "text": [
      "Saved graph to ../Satun-Phang-Nga/graph-Phang-Nga\\sevenFactor\\SevenFactor_3-2024-02-02-Na-Toei-Thai-Mueang-Phang-nga-durationOfDay.png\n"
     ]
    },
    {
     "name": "stderr",
     "output_type": "stream",
     "text": [
      "C:\\Users\\User\\AppData\\Local\\Temp\\ipykernel_8632\\1805982130.py:30: UserWarning: Could not infer format, so each element will be parsed individually, falling back to `dateutil`. To ensure parsing is consistent and as-expected, please specify a format.\n",
      "  df['duration_of_day'] = pd.to_datetime(df['sunset']) - pd.to_datetime(df['sunrise'])\n",
      "C:\\Users\\User\\AppData\\Local\\Temp\\ipykernel_8632\\1805982130.py:30: UserWarning: Could not infer format, so each element will be parsed individually, falling back to `dateutil`. To ensure parsing is consistent and as-expected, please specify a format.\n",
      "  df['duration_of_day'] = pd.to_datetime(df['sunset']) - pd.to_datetime(df['sunrise'])\n"
     ]
    },
    {
     "name": "stdout",
     "output_type": "stream",
     "text": [
      "Saved graph to ../Satun-Phang-Nga/graph-Phang-Nga\\sevenFactor\\SevenFactor_4-2024-02-02-Na-Toei-Thai-Mueang-Phang-nga-durationOfDay.png\n"
     ]
    },
    {
     "name": "stderr",
     "output_type": "stream",
     "text": [
      "C:\\Users\\User\\AppData\\Local\\Temp\\ipykernel_8632\\1805982130.py:30: UserWarning: Could not infer format, so each element will be parsed individually, falling back to `dateutil`. To ensure parsing is consistent and as-expected, please specify a format.\n",
      "  df['duration_of_day'] = pd.to_datetime(df['sunset']) - pd.to_datetime(df['sunrise'])\n",
      "C:\\Users\\User\\AppData\\Local\\Temp\\ipykernel_8632\\1805982130.py:30: UserWarning: Could not infer format, so each element will be parsed individually, falling back to `dateutil`. To ensure parsing is consistent and as-expected, please specify a format.\n",
      "  df['duration_of_day'] = pd.to_datetime(df['sunset']) - pd.to_datetime(df['sunrise'])\n"
     ]
    },
    {
     "name": "stdout",
     "output_type": "stream",
     "text": [
      "Saved graph to ../Satun-Phang-Nga/graph-Phang-Nga\\sevenFactor\\SevenFactor_5-2024-02-02-Na-Toei-Thai-Mueang-Phang-nga-durationOfDay.png\n"
     ]
    },
    {
     "name": "stderr",
     "output_type": "stream",
     "text": [
      "C:\\Users\\User\\AppData\\Local\\Temp\\ipykernel_8632\\1805982130.py:30: UserWarning: Could not infer format, so each element will be parsed individually, falling back to `dateutil`. To ensure parsing is consistent and as-expected, please specify a format.\n",
      "  df['duration_of_day'] = pd.to_datetime(df['sunset']) - pd.to_datetime(df['sunrise'])\n",
      "C:\\Users\\User\\AppData\\Local\\Temp\\ipykernel_8632\\1805982130.py:30: UserWarning: Could not infer format, so each element will be parsed individually, falling back to `dateutil`. To ensure parsing is consistent and as-expected, please specify a format.\n",
      "  df['duration_of_day'] = pd.to_datetime(df['sunset']) - pd.to_datetime(df['sunrise'])\n"
     ]
    },
    {
     "name": "stdout",
     "output_type": "stream",
     "text": [
      "Saved graph to ../Satun-Phang-Nga/graph-Phang-Nga\\sevenFactor\\SevenFactor_6-2024-02-02-Thai-Mueang-Thai-Mueang-Phang-nga-durationOfDay.png\n"
     ]
    },
    {
     "name": "stderr",
     "output_type": "stream",
     "text": [
      "C:\\Users\\User\\AppData\\Local\\Temp\\ipykernel_8632\\1805982130.py:30: UserWarning: Could not infer format, so each element will be parsed individually, falling back to `dateutil`. To ensure parsing is consistent and as-expected, please specify a format.\n",
      "  df['duration_of_day'] = pd.to_datetime(df['sunset']) - pd.to_datetime(df['sunrise'])\n",
      "C:\\Users\\User\\AppData\\Local\\Temp\\ipykernel_8632\\1805982130.py:30: UserWarning: Could not infer format, so each element will be parsed individually, falling back to `dateutil`. To ensure parsing is consistent and as-expected, please specify a format.\n",
      "  df['duration_of_day'] = pd.to_datetime(df['sunset']) - pd.to_datetime(df['sunrise'])\n"
     ]
    },
    {
     "name": "stdout",
     "output_type": "stream",
     "text": [
      "Saved graph to ../Satun-Phang-Nga/graph-Phang-Nga\\sevenFactor\\SevenFactor_7-2024-02-02-Thai-Mueang-Thai-Mueang-Phang-nga-durationOfDay.png\n"
     ]
    },
    {
     "name": "stderr",
     "output_type": "stream",
     "text": [
      "C:\\Users\\User\\AppData\\Local\\Temp\\ipykernel_8632\\1805982130.py:30: UserWarning: Could not infer format, so each element will be parsed individually, falling back to `dateutil`. To ensure parsing is consistent and as-expected, please specify a format.\n",
      "  df['duration_of_day'] = pd.to_datetime(df['sunset']) - pd.to_datetime(df['sunrise'])\n",
      "C:\\Users\\User\\AppData\\Local\\Temp\\ipykernel_8632\\1805982130.py:30: UserWarning: Could not infer format, so each element will be parsed individually, falling back to `dateutil`. To ensure parsing is consistent and as-expected, please specify a format.\n",
      "  df['duration_of_day'] = pd.to_datetime(df['sunset']) - pd.to_datetime(df['sunrise'])\n"
     ]
    },
    {
     "name": "stdout",
     "output_type": "stream",
     "text": [
      "Saved graph to ../Satun-Phang-Nga/graph-Phang-Nga\\sevenFactor\\SevenFactor_8-2024-02-02-Thai-Mueang-Thai-Mueang-Phang-nga-durationOfDay.png\n"
     ]
    }
   ],
   "source": [
    "from matplotlib.legend_handler import HandlerLine2D\n",
    "from matplotlib.lines import Line2D\n",
    "colors = {\n",
    "    'd2m': '#dd1c77',\n",
    "    'RH': 'green',\n",
    "    'minTemp': 'orange',\n",
    "    'meanTemp': 'orangered',\n",
    "    'maxTemp': 'darkred',\n",
    "    'tp': 'blue',\n",
    "    'WS': 'dodgerblue',\n",
    "    'uvb': 'darkviolet',\n",
    "    'duration_of_day': 'black',\n",
    "}\n",
    "\n",
    "for file in os.listdir(target):\n",
    "    df = pd.read_excel(os.path.join(target, file))\n",
    "    df['date'] = pd.to_datetime(df['date'], format='%Y/%m/%d')    \n",
    "    filtered_data = df[(df['date'] >= start_date) & (df['date'] <= end_date)]\n",
    "\n",
    "    df = filtered_data\n",
    "\n",
    "    # print(df.head(7))    \n",
    "    # แปลงข้อมูลในคอลัมน์ 'date' เป็นชนิดข้อมูล datetime\n",
    "    df['date'] = pd.to_datetime(df['date'])\n",
    "\n",
    "    # กำหนด 'date' เป็น index\n",
    "    df.set_index('date', inplace=True)\n",
    "\n",
    "    # คำนวณระยะเวลาของแต่ละวัน\n",
    "    df['duration_of_day'] = pd.to_datetime(df['sunset']) - pd.to_datetime(df['sunrise'])\n",
    "\n",
    "    # สร้าง DataFrame ใหม่โดยรวมข้อมูลทุก 7 วัน\n",
    "    df_resampled = df.resample('7D').agg({'d2m': 'mean', \n",
    "                                          'RH': 'mean', \n",
    "                                          'minTemp': 'min',\n",
    "                                          'maxTemp': 'max',\n",
    "                                          'meanTemp': 'mean',\n",
    "                                          'tp': 'sum',\n",
    "                                          'WS': 'mean',\n",
    "                                          'uvb': 'mean',\n",
    "                                          'duration_of_day': 'mean'\n",
    "                                          })\n",
    "\n",
    "    # เลื่อน index ไป 7 วัน\n",
    "    df_resampled.index = df_resampled.index + pd.DateOffset(days=6)\n",
    "\n",
    "    # # ตัดข้อมูลเฉพาะที่ต้องการแสดง\n",
    "    end_date = df.index[-1]  # วันที่สิ้นสุดของข้อมูล\n",
    "    df_resampled = df_resampled[df_resampled.index <= end_date]\n",
    "\n",
    "    # แปลงระยะเวลาจากวินาทีเป็น ชั่วโมงและนาที\n",
    "    df_resampled['duration_hours'] = df_resampled['duration_of_day'].dt.seconds // 3600\n",
    "    df_resampled['duration_minutes'] = (df_resampled['duration_of_day'].dt.seconds % 3600) // 60\n",
    "\n",
    "    # # พล็อตกราฟ\n",
    "    plt.figure(figsize=(10, 6))\n",
    "\n",
    "    # พล็อตกราฟจุดน้ำค้าง\n",
    "    plt.plot(df_resampled.index, df_resampled['d2m'],label='Dew Point (°C)', marker='s', color=colors['d2m'], ls='dashed',linewidth=2.9)\n",
    "    plt.plot(df_resampled.index, df_resampled['RH']*100, label='RH (%)', marker='o', color=colors['RH'],linewidth=2.9)\n",
    "    plt.plot(df_resampled.index, df_resampled['minTemp'], label='minTemp (°C)', marker='s', color=colors['minTemp'],linewidth=2.9)\n",
    "    plt.plot(df_resampled.index, df_resampled['meanTemp'],label='meanTemp (°C)', marker='s', color=colors['meanTemp'], ls='dashed',linewidth=2.9)\n",
    "    plt.plot(df_resampled.index, df_resampled['maxTemp'], label='maxTemp (°C)', marker='s', color=colors['maxTemp'],linewidth=2.9)\n",
    "    plt.plot(df_resampled.index, df_resampled['tp']*1000,label='Rainfall (mm)', marker='o', color=colors['tp'], ls='dashed',linewidth=2.9)\n",
    "    plt.plot(df_resampled.index, df_resampled['WS'], label='WS (m/s)', marker='o', color=colors['WS'],linewidth=2.9)\n",
    "    # 0 -> /1000\n",
    "    plt.plot(df_resampled.index, df_resampled['uvb']/1000, label='radiation (kJ/m^2) ', marker='o', color=colors['uvb'],linewidth=2.9)\n",
    "    plt.plot(df_resampled.index, df_resampled['duration_hours'] + df_resampled['duration_minutes'] / 60, label='duration_of_day (hours)', marker='o', color=colors['duration_of_day'],linewidth=2.9)\n",
    "\n",
    "    # ปรับตำแหน่ง x ของ marker ให้ตรงกับข้อมูลที่ถูกรวมรวมแล้ว\n",
    "    plt.xticks(df_resampled.index)\n",
    "\n",
    "\n",
    "    # ปรับแต่งกราฟ\n",
    "    plt.title('Seven Factor (7-day Interval)')\n",
    "    plt.xlabel('Date')\n",
    "    # ปรับตำแหน่ง label ให้ไม่บังกราฟ\n",
    "    # plt.legend()\n",
    "    # plt.legend(bbox_to_anchor=(1, 1), loc='upper left')\n",
    "    plt.legend(bbox_to_anchor=(1.02, 1), loc='upper left', fontsize='x-large',markerscale=1.5,labelspacing=1,handlelength=5.0)\n",
    "    plt.xticks(rotation=45)\n",
    "    # plt.tight_layout()\n",
    "    plt.grid(True)\n",
    "\n",
    "    # บันทึกภาพเป็นไฟล์ PNG\n",
    "    output_file = os.path.join(output_dir,sevenfactor_dir[7], f'SevenFactor_{file.split(\".\")[0]}.png')\n",
    "    plt.savefig(output_file, bbox_inches='tight')\n",
    "    plt.close()\n",
    "    \n",
    "    print(f\"Saved graph to {output_file}\")\n"
   ]
  },
  {
   "cell_type": "code",
   "execution_count": 14,
   "metadata": {},
   "outputs": [],
   "source": [
    "# from matplotlib.legend_handler import HandlerLine2D\n",
    "# from matplotlib.lines import Line2D\n",
    "# import matplotlib.pyplot as plt\n",
    "# import pandas as pd\n",
    "# import os\n",
    "\n",
    "# # Custom Handler to show both line and marker in the legend\n",
    "\n",
    "\n",
    "# class CustomHandlerLine2D(HandlerLine2D):\n",
    "#     def create_artists(self, legend, orig_handle,\n",
    "#                        xdescent, ydescent, width, height, fontsize, trans):\n",
    "#         legline = Line2D([xdescent, xdescent + width * 1.5], [0.5 * height, 0.5 * height],\n",
    "#                          linestyle=orig_handle.get_linestyle(),\n",
    "#                          color=orig_handle.get_color(),\n",
    "#                          linewidth=orig_handle.get_linewidth())\n",
    "#         legline.set_transform(trans)\n",
    "#         legmarker = Line2D([xdescent + width * 0.75], [0.5 * height],\n",
    "#                            linestyle='',\n",
    "#                            marker=orig_handle.get_marker(),\n",
    "#                            color=orig_handle.get_color(),\n",
    "#                            markerfacecolor=orig_handle.get_markerfacecolor(),\n",
    "#                            markersize=orig_handle.get_markersize()+1.5)\n",
    "#         legmarker.set_transform(trans)\n",
    "#         return [legline, legmarker]\n",
    "\n",
    "\n",
    "# # Your existing code\n",
    "# colors = {\n",
    "#     'd2m': '#dd1c77',\n",
    "#     'RH': 'green',\n",
    "#     'minTemp': 'orange',\n",
    "#     'meanTemp': 'orangered',\n",
    "#     'maxTemp': 'darkred',\n",
    "#     'tp': 'blue',\n",
    "#     'WS': 'dodgerblue',\n",
    "#     'uvb': 'darkviolet',\n",
    "#     'duration_of_day': 'black',\n",
    "# }\n",
    "\n",
    "# for file in os.listdir(target):\n",
    "#     df = pd.read_excel(os.path.join(target, file))\n",
    "#     df['date'] = pd.to_datetime(df['date'], format='%Y/%m/%d')\n",
    "#     filtered_data = df[(df['date'] >= start_date) & (df['date'] <= end_date)]\n",
    "\n",
    "#     df = filtered_data\n",
    "\n",
    "#     df['date'] = pd.to_datetime(df['date'])\n",
    "#     df.set_index('date', inplace=True)\n",
    "#     df['duration_of_day'] = pd.to_datetime(\n",
    "#         df['sunset']) - pd.to_datetime(df['sunrise'])\n",
    "\n",
    "#     df_resampled = df.resample('7D').agg({'d2m': 'mean',\n",
    "#                                           'RH': 'mean',\n",
    "#                                           'minTemp': 'min',\n",
    "#                                           'maxTemp': 'max',\n",
    "#                                           'meanTemp': 'mean',\n",
    "#                                           'tp': 'sum',\n",
    "#                                           'WS': 'mean',\n",
    "#                                           'uvb': 'mean',\n",
    "#                                           'duration_of_day': 'mean'\n",
    "#                                           })\n",
    "#     df_resampled.index = df_resampled.index + pd.DateOffset(days=6)\n",
    "#     end_date = df.index[-1]\n",
    "#     df_resampled = df_resampled[df_resampled.index <= end_date]\n",
    "\n",
    "#     df_resampled['duration_hours'] = df_resampled['duration_of_day'].dt.seconds // 3600\n",
    "#     df_resampled['duration_minutes'] = (\n",
    "#         df_resampled['duration_of_day'].dt.seconds % 3600) // 60\n",
    "\n",
    "#     plt.figure(figsize=(10, 6))\n",
    "\n",
    "#     # Create plot lines and markers\n",
    "#     lines = [\n",
    "#         plt.plot(df_resampled.index, df_resampled['d2m'], label='Dew Point (°C)',\n",
    "#                  marker='s', color=colors['d2m'], ls='dashed')[0],\n",
    "#         plt.plot(df_resampled.index, df_resampled['RH'] * 100,\n",
    "#                  label='RH (%)', marker='o', color=colors['RH'])[0],\n",
    "#         plt.plot(df_resampled.index, df_resampled['minTemp'],\n",
    "#                  label='minTemp (°C)', marker='s', color=colors['minTemp'])[0],\n",
    "#         plt.plot(df_resampled.index, df_resampled['meanTemp'], label='meanTemp (°C)',\n",
    "#                  marker='s', color=colors['meanTemp'], ls='dashed')[0],\n",
    "#         plt.plot(df_resampled.index, df_resampled['maxTemp'],\n",
    "#                  label='maxTemp (°C)', marker='s', color=colors['maxTemp'])[0],\n",
    "#         plt.plot(df_resampled.index, df_resampled['tp'] * 1000,\n",
    "#                  label='Rainfall (mm)', marker='o', color=colors['tp'], ls='dashed')[0],\n",
    "#         plt.plot(df_resampled.index,\n",
    "#                  df_resampled['WS'], label='WS (m/s)', marker='o', color=colors['WS'])[0],\n",
    "#         plt.plot(df_resampled.index, df_resampled['uvb'] / 1000,\n",
    "#                  label='radiation (kJ/m^2)', marker='o', color=colors['uvb'])[0],\n",
    "#         plt.plot(df_resampled.index, df_resampled['duration_hours'] + df_resampled['duration_minutes'] /\n",
    "#                  60, label='duration_of_day (hours)', marker='o', color=colors['duration_of_day'])[0]\n",
    "#     ]\n",
    "\n",
    "#     plt.xticks(df_resampled.index)\n",
    "#     plt.title('Seven Factor (7-day Interval)')\n",
    "#     plt.xlabel('Date')\n",
    "#     # handlelength สำหรับควาามยาวเส้น\n",
    "#     plt.legend(bbox_to_anchor=(1, 1), loc='upper left', fontsize='x-large', markerscale=1.5, labelspacing=1.2, handlelength=3.0,\n",
    "#                handler_map={Line2D: CustomHandlerLine2D()})\n",
    "#     plt.xticks(rotation=45)\n",
    "#     plt.grid(True)\n",
    "\n",
    "#     output_file = os.path.join(\n",
    "#         output_dir, sevenfactor_dir[7], f'SevenFactor_{file.split(\".\")[0]}.png')\n",
    "#     plt.savefig(output_file, bbox_inches='tight')\n",
    "#     plt.close()\n",
    "\n",
    "#     print(f\"Saved graph to {output_file}\")"
   ]
  }
 ],
 "metadata": {
  "kernelspec": {
   "display_name": "yang",
   "language": "python",
   "name": "python3"
  },
  "language_info": {
   "codemirror_mode": {
    "name": "ipython",
    "version": 3
   },
   "file_extension": ".py",
   "mimetype": "text/x-python",
   "name": "python",
   "nbconvert_exporter": "python",
   "pygments_lexer": "ipython3",
   "version": "3.12.3"
  }
 },
 "nbformat": 4,
 "nbformat_minor": 2
}
