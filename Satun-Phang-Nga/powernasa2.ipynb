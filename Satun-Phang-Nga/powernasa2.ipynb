{
 "cells": [
  {
   "cell_type": "code",
   "execution_count": 7,
   "metadata": {},
   "outputs": [],
   "source": [
    "import os\n",
    "import pandas as pd\n",
    "import numpy as np\n",
    "\n",
    "target = '../Satun-Phang-Nga/forcasting2/'\n",
    "\n",
    "# Constants\n",
    "gamma = 0.665 * 10**-3  # Psychrometric constant (kPa/°C)\n",
    "\n",
    "def calculate_delta(Tmean):\n",
    "    return (4098 * (0.6108 * np.exp((17.27 * Tmean) / (Tmean + 237.3)))) / (Tmean + 237.3)**2\n",
    "\n",
    "def calculate_saturation_vapor_pressure(Tmean):\n",
    "    return 0.6108 * np.exp((17.27 * Tmean) / (Tmean + 237.3))\n",
    "\n",
    "def calculate_actual_vapor_pressure(RH, Tmean):\n",
    "    e_s = calculate_saturation_vapor_pressure(Tmean)\n",
    "    return (RH / 100) * e_s\n",
    "\n",
    "# Process each file\n",
    "for file in os.listdir(target):\n",
    "    file_path = os.path.join(target, file)\n",
    "    df = pd.read_excel(file_path)\n",
    "\n",
    "    # Extract relevant columns\n",
    "    Tmean = df['meanTemp']\n",
    "    RH = df['RH']\n",
    "    R_s = df['ALLSKY_SFC_SW_DWN']\n",
    "    u = df['WS']\n",
    "    P = df['PS']\n",
    "\n",
    "    # Calculate Delta and e_s\n",
    "    delta = calculate_delta(Tmean)\n",
    "    e_s = calculate_saturation_vapor_pressure(Tmean)\n",
    "    e_a = calculate_actual_vapor_pressure(RH, Tmean)\n",
    "\n",
    "    # Calculate ETo\n",
    "    G = 0  # Assumed to be 0 for daily calculations\n",
    "    ETo = (0.408 * delta * (R_s - G) + gamma * (900 / (Tmean + 273)) * u * (e_s - e_a)) / (delta + gamma * (1 + 0.34 * u))\n",
    "    df['ETo'] = ETo\n",
    "\n",
    "    # Calculate WE and WD\n",
    "    df['WE'] = np.where(P > ETo, P - ETo, 0)  # Water Excess\n",
    "    df['WD'] = np.where(ETo > P, ETo - P, 0)  # Water Deficit\n",
    "\n",
    "    # Save the updated dataframe\n",
    "    output_path = os.path.join(target, file)\n",
    "    df.to_excel(output_path, index=False)\n"
   ]
  },
  {
   "cell_type": "code",
   "execution_count": null,
   "metadata": {},
   "outputs": [],
   "source": []
  }
 ],
 "metadata": {
  "kernelspec": {
   "display_name": "yang",
   "language": "python",
   "name": "python3"
  },
  "language_info": {
   "codemirror_mode": {
    "name": "ipython",
    "version": 3
   },
   "file_extension": ".py",
   "mimetype": "text/x-python",
   "name": "python",
   "nbconvert_exporter": "python",
   "pygments_lexer": "ipython3",
   "version": "3.12.3"
  }
 },
 "nbformat": 4,
 "nbformat_minor": 2
}
