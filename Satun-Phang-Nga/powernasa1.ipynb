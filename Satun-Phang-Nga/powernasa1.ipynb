{
 "cells": [
  {
   "cell_type": "markdown",
   "metadata": {},
   "source": [
    "### ถูกต้อง"
   ]
  },
  {
   "cell_type": "code",
   "execution_count": null,
   "metadata": {},
   "outputs": [],
   "source": [
    "import requests\n",
    "import os\n",
    "import json\n",
    "import pandas as pd\n",
    "\n",
    "url = \"https://power.larc.nasa.gov/api/temporal/daily/point\"\n",
    "parameters = ['GWETPROF', 'ALLSKY_SFC_SW_DWN', 'ALLSKY_SFC_LW_DWN', 'PS', 'PW', 'RH2M']\n",
    "target = '../Satun-Phang-Nga/forcasting/'\n",
    "\n",
    "# Process each file in the target directory\n",
    "for i, file in enumerate(os.listdir(target)):\n",
    "    file_path = os.path.join(target, file)\n",
    "    df = pd.read_excel(file_path)\n",
    "    \n",
    "    # Print columns to verify names\n",
    "    print(f\"Columns in file {file}: {df.columns.tolist()}\")\n",
    "    \n",
    "    # Ensure that 'date', 'latitude', and 'longitude' columns are present\n",
    "    if 'date' not in df.columns or 'latitude' not in df.columns or 'longitude' not in df.columns:\n",
    "        print(f\"Missing one of the required columns in file {file}\")\n",
    "        continue\n",
    "    \n",
    "    df['date'] = pd.to_datetime(df['date'])\n",
    "    \n",
    "    start = df['date'].min().strftime('%Y%m%d')\n",
    "    end = df['date'].max().strftime('%Y%m%d')\n",
    "    latitude = df['latitude'].iloc[0]\n",
    "    longitude = df['longitude'].iloc[0]\n",
    "    community = 'AG'\n",
    "    \n",
    "    params = {\n",
    "        \"parameters\": ','.join(parameters),\n",
    "        \"start\": start,\n",
    "        \"end\": end,\n",
    "        \"latitude\": latitude,\n",
    "        \"longitude\": longitude,\n",
    "        \"community\": community\n",
    "    }\n",
    "\n",
    "    response = requests.get(url, params=params)\n",
    "    \n",
    "    # Check if the request was successful\n",
    "    if response.status_code == 200:\n",
    "        data = response.json()\n",
    "        if 'properties' in data:\n",
    "            # Extract the parameter data\n",
    "            parameters_data = data['properties']['parameter']\n",
    "            \n",
    "            # Create an empty DataFrame to hold all parameters\n",
    "            df_weather = pd.DataFrame()\n",
    "            \n",
    "            # Iterate through each parameter and add it to the DataFrame\n",
    "            for param in parameters:\n",
    "                if param in parameters_data:\n",
    "                    param_data = parameters_data[param]\n",
    "                    df_param = pd.DataFrame(list(param_data.items()), columns=['date', param])\n",
    "                    df_param['date'] = pd.to_datetime(df_param['date'], format='%Y%m%d')\n",
    "                    \n",
    "                    # Merge with existing DataFrame\n",
    "                    if df_weather.empty:\n",
    "                        df_weather = df_param\n",
    "                    else:\n",
    "                        df_weather = pd.merge(df_weather, df_param, on='date', how='outer')\n",
    "                        \n",
    "            # Define output file path\n",
    "            output_file = os.path.join(target, f\"weather_data_{i}.xlsx\")\n",
    "            # Save DataFrame to Excel\n",
    "            df_weather.to_excel(output_file, index=False)\n",
    "            print(f\"Saved data for file {file} to {output_file}\")\n",
    "        else:\n",
    "            print(f\"No 'properties' in data for file {file}\")\n",
    "    else:\n",
    "        # Print detailed error information\n",
    "        print(f\"Error: {response.status_code} for file {file}\")\n",
    "        print(\"Response content:\", response.text)\n"
   ]
  },
  {
   "cell_type": "code",
   "execution_count": null,
   "metadata": {},
   "outputs": [],
   "source": [
    "\n"
   ]
  }
 ],
 "metadata": {
  "kernelspec": {
   "display_name": "yang",
   "language": "python",
   "name": "python3"
  },
  "language_info": {
   "codemirror_mode": {
    "name": "ipython",
    "version": 3
   },
   "file_extension": ".py",
   "mimetype": "text/x-python",
   "name": "python",
   "nbconvert_exporter": "python",
   "pygments_lexer": "ipython3",
   "version": "3.12.3"
  }
 },
 "nbformat": 4,
 "nbformat_minor": 2
}
