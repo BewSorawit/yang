{
 "cells": [
  {
   "cell_type": "code",
   "execution_count": 2,
   "metadata": {},
   "outputs": [],
   "source": [
    "import os\n",
    "import pandas as pd\n",
    "import numpy as np\n",
    "import matplotlib.pyplot as plt\n",
    "from sklearn.model_selection import train_test_split\n",
    "from sklearn.linear_model import LinearRegression\n",
    "from sklearn.metrics import mean_squared_error, r2_score"
   ]
  },
  {
   "cell_type": "code",
   "execution_count": 3,
   "metadata": {},
   "outputs": [],
   "source": [
    "target = '../Satun-Phang-Nga/Phang-Nga-regression'\n",
    "# output = '../Satun-Phang-Nga/Phang-Nga-regression'"
   ]
  },
  {
   "cell_type": "code",
   "execution_count": 4,
   "metadata": {},
   "outputs": [],
   "source": [
    "columns_to_process = ['uvb', 'd2m', 'RH', 'minTemp', 'maxTemp', 'meanTemp', 'tp', 'WS', 'durationOfDay']\n",
    "results = []"
   ]
  },
  {
   "cell_type": "code",
   "execution_count": 5,
   "metadata": {},
   "outputs": [],
   "source": [
    "for i, file in enumerate(os.listdir(target)):\n",
    "    df = pd.read_excel(os.path.join(target, file))\n",
    "    for column in columns_to_process:\n",
    "        if column in df.columns:\n",
    "            # processed_df = df[column].head(3)\n",
    "            # # Print the processed DataFrame\n",
    "            # print(f\"File: {file}, Column: {column}\")\n",
    "            # print(processed_df)\n",
    "            X = df[column].values.reshape(-1,1)\n",
    "            y = df['disease']\n",
    "\n",
    "            X_train, X_test, y_train, y_test = train_test_split(\n",
    "                X, y, test_size=0.2, random_state=42)\n",
    "\n",
    "            model = LinearRegression()\n",
    "            model.fit(X_train, y_train)\n",
    "\n",
    "            y_pred = model.predict(X_test)\n",
    "\n",
    "            mse = mean_squared_error(y_test, y_pred)\n",
    "            r2 = r2_score(y_test, y_pred)\n",
    "\n",
    "            results.append({\n",
    "                    'File': '-'.join(file.split('-')[:8]),\n",
    "                    'Column': column,\n",
    "                    'MSE': mse,\n",
    "                    'R-squared': r2\n",
    "                })\n",
    "        else:\n",
    "            print(f\"Column {column} not found in file {file}\")"
   ]
  },
  {
   "cell_type": "code",
   "execution_count": 6,
   "metadata": {},
   "outputs": [
    {
     "name": "stdout",
     "output_type": "stream",
     "text": [
      "Results exported to Phang-Nga-regression-results.xlsx\n"
     ]
    }
   ],
   "source": [
    "results_df = pd.DataFrame(results)\n",
    "\n",
    "# Export results to Excel\n",
    "output_file = \"Phang-Nga-regression-results.xlsx\"\n",
    "results_df.to_excel(output_file, index=False)\n",
    "print(f\"Results exported to {output_file}\")"
   ]
  },
  {
   "cell_type": "code",
   "execution_count": null,
   "metadata": {},
   "outputs": [],
   "source": []
  }
 ],
 "metadata": {
  "kernelspec": {
   "display_name": "yang",
   "language": "python",
   "name": "python3"
  },
  "language_info": {
   "codemirror_mode": {
    "name": "ipython",
    "version": 3
   },
   "file_extension": ".py",
   "mimetype": "text/x-python",
   "name": "python",
   "nbconvert_exporter": "python",
   "pygments_lexer": "ipython3",
   "version": "3.12.3"
  }
 },
 "nbformat": 4,
 "nbformat_minor": 2
}
