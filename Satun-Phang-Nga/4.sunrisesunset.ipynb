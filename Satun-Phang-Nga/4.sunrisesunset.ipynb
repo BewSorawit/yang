{
 "cells": [
  {
   "cell_type": "code",
   "execution_count": 24,
   "metadata": {},
   "outputs": [],
   "source": [
    "import requests\n",
    "import os\n",
    "import time\n",
    "import pandas as pd\n",
    "import aiohttp\n",
    "import asyncio\n",
    "import json\n",
    "import nest_asyncio\n",
    "nest_asyncio.apply()"
   ]
  },
  {
   "cell_type": "code",
   "execution_count": 25,
   "metadata": {},
   "outputs": [],
   "source": [
    "TARGET = '../Satun-Phang-Nga/final-Phang-Nga/'\n",
    "OUTPUT = '../Satun-Phang-Nga/final-Phang-Nga-SunriseSunset/'"
   ]
  },
  {
   "cell_type": "code",
   "execution_count": 26,
   "metadata": {},
   "outputs": [],
   "source": [
    "if not os.path.exists(OUTPUT):\n",
    "    os.makedirs(OUTPUT)"
   ]
  },
  {
   "cell_type": "code",
   "execution_count": 27,
   "metadata": {},
   "outputs": [],
   "source": [
    "excel_files = [f for f in os.listdir(TARGET) if f.endswith('.xlsx')]"
   ]
  },
  {
   "cell_type": "code",
   "execution_count": 28,
   "metadata": {},
   "outputs": [
    {
     "name": "stdout",
     "output_type": "stream",
     "text": [
      "['1-2024-02-02-Na-Toei-Thai-Mueang-Phang-nga.xlsx', '2-2024-02-02-Na-Toei-Thai-Mueang-Phang-nga.xlsx', '3-2024-02-02-Na-Toei-Thai-Mueang-Phang-nga.xlsx', '4-2024-02-02-Na-Toei-Thai-Mueang-Phang-nga.xlsx', '5-2024-02-02-Na-Toei-Thai-Mueang-Phang-nga.xlsx', '6-2024-02-02-Thai-Mueang-Thai-Mueang-Phang-nga.xlsx', '7-2024-02-02-Thai-Mueang-Thai-Mueang-Phang-nga.xlsx', '8-2024-02-02-Thai-Mueang-Thai-Mueang-Phang-nga.xlsx']\n"
     ]
    }
   ],
   "source": [
    "print(excel_files)"
   ]
  },
  {
   "cell_type": "code",
   "execution_count": 29,
   "metadata": {},
   "outputs": [
    {
     "name": "stdout",
     "output_type": "stream",
     "text": [
      "Loading 1-2024-02-02-Na-Toei-Thai-Mueang-Phang-nga.xlsx\n",
      "Loading 2-2024-02-02-Na-Toei-Thai-Mueang-Phang-nga.xlsx\n",
      "Loading 3-2024-02-02-Na-Toei-Thai-Mueang-Phang-nga.xlsx\n",
      "Loading 4-2024-02-02-Na-Toei-Thai-Mueang-Phang-nga.xlsx\n",
      "Loading 5-2024-02-02-Na-Toei-Thai-Mueang-Phang-nga.xlsx\n",
      "Loading 6-2024-02-02-Thai-Mueang-Thai-Mueang-Phang-nga.xlsx\n",
      "Loading 7-2024-02-02-Thai-Mueang-Thai-Mueang-Phang-nga.xlsx\n",
      "Loading 8-2024-02-02-Thai-Mueang-Thai-Mueang-Phang-nga.xlsx\n"
     ]
    },
    {
     "name": "stderr",
     "output_type": "stream",
     "text": [
      "C:\\Users\\User\\AppData\\Local\\Temp\\ipykernel_2728\\3367098157.py:51: UserWarning: Could not infer format, so each element will be parsed individually, falling back to `dateutil`. To ensure parsing is consistent and as-expected, please specify a format.\n",
      "  df['sunrise'] = pd.to_datetime(df_api['sunrise'])\n",
      "C:\\Users\\User\\AppData\\Local\\Temp\\ipykernel_2728\\3367098157.py:52: UserWarning: Could not infer format, so each element will be parsed individually, falling back to `dateutil`. To ensure parsing is consistent and as-expected, please specify a format.\n",
      "  df['sunset'] = pd.to_datetime(df_api['sunset'])\n",
      "C:\\Users\\User\\AppData\\Local\\Temp\\ipykernel_2728\\3367098157.py:51: UserWarning: Could not infer format, so each element will be parsed individually, falling back to `dateutil`. To ensure parsing is consistent and as-expected, please specify a format.\n",
      "  df['sunrise'] = pd.to_datetime(df_api['sunrise'])\n",
      "C:\\Users\\User\\AppData\\Local\\Temp\\ipykernel_2728\\3367098157.py:52: UserWarning: Could not infer format, so each element will be parsed individually, falling back to `dateutil`. To ensure parsing is consistent and as-expected, please specify a format.\n",
      "  df['sunset'] = pd.to_datetime(df_api['sunset'])\n",
      "C:\\Users\\User\\AppData\\Local\\Temp\\ipykernel_2728\\3367098157.py:51: UserWarning: Could not infer format, so each element will be parsed individually, falling back to `dateutil`. To ensure parsing is consistent and as-expected, please specify a format.\n",
      "  df['sunrise'] = pd.to_datetime(df_api['sunrise'])\n",
      "C:\\Users\\User\\AppData\\Local\\Temp\\ipykernel_2728\\3367098157.py:52: UserWarning: Could not infer format, so each element will be parsed individually, falling back to `dateutil`. To ensure parsing is consistent and as-expected, please specify a format.\n",
      "  df['sunset'] = pd.to_datetime(df_api['sunset'])\n"
     ]
    },
    {
     "name": "stdout",
     "output_type": "stream",
     "text": [
      "Saved updated dataframe to ../Satun-Phang-Nga/final-Phang-Nga-SunriseSunset/4-2024-02-02-Na-Toei-Thai-Mueang-Phang-nga-durationOfDay.xlsx\n",
      "Saved updated dataframe to ../Satun-Phang-Nga/final-Phang-Nga-SunriseSunset/3-2024-02-02-Na-Toei-Thai-Mueang-Phang-nga-durationOfDay.xlsx\n",
      "Saved updated dataframe to ../Satun-Phang-Nga/final-Phang-Nga-SunriseSunset/2-2024-02-02-Na-Toei-Thai-Mueang-Phang-nga-durationOfDay.xlsx\n"
     ]
    },
    {
     "name": "stderr",
     "output_type": "stream",
     "text": [
      "C:\\Users\\User\\AppData\\Local\\Temp\\ipykernel_2728\\3367098157.py:51: UserWarning: Could not infer format, so each element will be parsed individually, falling back to `dateutil`. To ensure parsing is consistent and as-expected, please specify a format.\n",
      "  df['sunrise'] = pd.to_datetime(df_api['sunrise'])\n",
      "C:\\Users\\User\\AppData\\Local\\Temp\\ipykernel_2728\\3367098157.py:52: UserWarning: Could not infer format, so each element will be parsed individually, falling back to `dateutil`. To ensure parsing is consistent and as-expected, please specify a format.\n",
      "  df['sunset'] = pd.to_datetime(df_api['sunset'])\n",
      "C:\\Users\\User\\AppData\\Local\\Temp\\ipykernel_2728\\3367098157.py:51: UserWarning: Could not infer format, so each element will be parsed individually, falling back to `dateutil`. To ensure parsing is consistent and as-expected, please specify a format.\n",
      "  df['sunrise'] = pd.to_datetime(df_api['sunrise'])\n",
      "C:\\Users\\User\\AppData\\Local\\Temp\\ipykernel_2728\\3367098157.py:52: UserWarning: Could not infer format, so each element will be parsed individually, falling back to `dateutil`. To ensure parsing is consistent and as-expected, please specify a format.\n",
      "  df['sunset'] = pd.to_datetime(df_api['sunset'])\n",
      "C:\\Users\\User\\AppData\\Local\\Temp\\ipykernel_2728\\3367098157.py:51: UserWarning: Could not infer format, so each element will be parsed individually, falling back to `dateutil`. To ensure parsing is consistent and as-expected, please specify a format.\n",
      "  df['sunrise'] = pd.to_datetime(df_api['sunrise'])\n",
      "C:\\Users\\User\\AppData\\Local\\Temp\\ipykernel_2728\\3367098157.py:52: UserWarning: Could not infer format, so each element will be parsed individually, falling back to `dateutil`. To ensure parsing is consistent and as-expected, please specify a format.\n",
      "  df['sunset'] = pd.to_datetime(df_api['sunset'])\n",
      "C:\\Users\\User\\AppData\\Local\\Temp\\ipykernel_2728\\3367098157.py:51: UserWarning: Could not infer format, so each element will be parsed individually, falling back to `dateutil`. To ensure parsing is consistent and as-expected, please specify a format.\n",
      "  df['sunrise'] = pd.to_datetime(df_api['sunrise'])\n",
      "C:\\Users\\User\\AppData\\Local\\Temp\\ipykernel_2728\\3367098157.py:52: UserWarning: Could not infer format, so each element will be parsed individually, falling back to `dateutil`. To ensure parsing is consistent and as-expected, please specify a format.\n",
      "  df['sunset'] = pd.to_datetime(df_api['sunset'])\n"
     ]
    },
    {
     "name": "stdout",
     "output_type": "stream",
     "text": [
      "Saved updated dataframe to ../Satun-Phang-Nga/final-Phang-Nga-SunriseSunset/7-2024-02-02-Thai-Mueang-Thai-Mueang-Phang-nga-durationOfDay.xlsx\n",
      "Saved updated dataframe to ../Satun-Phang-Nga/final-Phang-Nga-SunriseSunset/6-2024-02-02-Thai-Mueang-Thai-Mueang-Phang-nga-durationOfDay.xlsx\n",
      "Saved updated dataframe to ../Satun-Phang-Nga/final-Phang-Nga-SunriseSunset/5-2024-02-02-Na-Toei-Thai-Mueang-Phang-nga-durationOfDay.xlsx\n",
      "Saved updated dataframe to ../Satun-Phang-Nga/final-Phang-Nga-SunriseSunset/1-2024-02-02-Na-Toei-Thai-Mueang-Phang-nga-durationOfDay.xlsx\n",
      "Saved updated dataframe to ../Satun-Phang-Nga/final-Phang-Nga-SunriseSunset/8-2024-02-02-Thai-Mueang-Thai-Mueang-Phang-nga-durationOfDay.xlsx\n"
     ]
    },
    {
     "name": "stderr",
     "output_type": "stream",
     "text": [
      "C:\\Users\\User\\AppData\\Local\\Temp\\ipykernel_2728\\3367098157.py:51: UserWarning: Could not infer format, so each element will be parsed individually, falling back to `dateutil`. To ensure parsing is consistent and as-expected, please specify a format.\n",
      "  df['sunrise'] = pd.to_datetime(df_api['sunrise'])\n",
      "C:\\Users\\User\\AppData\\Local\\Temp\\ipykernel_2728\\3367098157.py:52: UserWarning: Could not infer format, so each element will be parsed individually, falling back to `dateutil`. To ensure parsing is consistent and as-expected, please specify a format.\n",
      "  df['sunset'] = pd.to_datetime(df_api['sunset'])\n"
     ]
    }
   ],
   "source": [
    "# Function to process each Excel file\n",
    "async def process_file(file_path, filename):\n",
    "    print(f'Loading {filename}')\n",
    "    df = pd.read_excel(file_path)\n",
    "\n",
    "    # Extract latitude, longitude, and date data for API requests\n",
    "    temp = []\n",
    "    for i, data in df.iterrows():\n",
    "        lat = data['latitude']\n",
    "        lon = data['longitude']\n",
    "        date = str(data['date']).replace('/', '-')\n",
    "        temp.append([lat, lon, date])\n",
    "\n",
    "    # Asynchronous function to fetch data from the API with retry logic\n",
    "    async def fetch_data(session, url, retries=3, backoff_factor=1.0):\n",
    "        for attempt in range(retries):\n",
    "            try:\n",
    "                async with session.get(url) as response:\n",
    "                    if response.status == 200:\n",
    "                        return await response.json()\n",
    "                    else:\n",
    "                        print(f\"Error response {response.status} for URL: {url}\")\n",
    "            except (ClientConnectorError, ClientOSError, ServerDisconnectedError) as e:\n",
    "                print(f\"Request failed: {e}. Retrying ({attempt + 1}/{retries})...\")\n",
    "                await asyncio.sleep(backoff_factor * (2 ** attempt))\n",
    "        print(f\"Failed to fetch data from {url} after {retries} retries.\")\n",
    "        return None\n",
    "\n",
    "    # Asynchronous function to manage API requests\n",
    "    async def fetch_all_data():\n",
    "        urls = [f\"https://api.sunrisesunset.io/json?lat={lat}&lng={lon}&date_start={date}&date_end={date}\" for lat, lon, date in temp]\n",
    "        responses = []\n",
    "        async with aiohttp.ClientSession() as session:\n",
    "            tasks = [fetch_data(session, url) for url in urls]\n",
    "            responses = await asyncio.gather(*tasks)\n",
    "        return [response for response in responses if response is not None]\n",
    "\n",
    "    responses = await fetch_all_data()\n",
    "\n",
    "    if not responses:\n",
    "        print(f\"No data fetched for {filename}. Skipping file.\")\n",
    "        return\n",
    "\n",
    "    # Process the API responses and convert them to a dataframe\n",
    "    responses = [d['results'][0] for d in responses]\n",
    "    df_api = pd.DataFrame.from_dict(responses)\n",
    "    df_api = df_api[['date', 'sunrise', 'sunset']]\n",
    "    df_api['date'] = df_api['date'].replace('-', '/', regex=True)\n",
    "\n",
    "    # Merge the API data with the original dataframe\n",
    "    df['sunrise'] = pd.to_datetime(df_api['sunrise'])\n",
    "    df['sunset'] = pd.to_datetime(df_api['sunset'])\n",
    "    df['durationOfDay'] = (df['sunset'] - df['sunrise']).dt.total_seconds() / 3600\n",
    "\n",
    "    # Convert sunrise and sunset columns to time format\n",
    "    df['sunrise'] = df['sunrise'].dt.time\n",
    "    df['sunset'] = df['sunset'].dt.time\n",
    "\n",
    "    # Select and reorder the relevant columns\n",
    "    df = df[['date', 'latitude', 'longitude', 'uvb', 'e', 'stl1', 'sp', 'tp', 'd2m', 'minTemp', 'meanTemp', 'maxTemp', 'RH', 'WS', 'sunrise', 'sunset', 'durationOfDay']]\n",
    "\n",
    "    # Save the updated dataframe to a new Excel file\n",
    "    output_file = os.path.join(OUTPUT, f'{filename.split(\".\")[0]}-durationOfDay.xlsx')\n",
    "    df.to_excel(output_file, index=False)\n",
    "\n",
    "    print(f'Saved updated dataframe to {output_file}')\n",
    "\n",
    "# Run the processing for each file\n",
    "async def main():\n",
    "    tasks = [process_file(os.path.join(TARGET, filename), filename) for filename in excel_files]\n",
    "    await asyncio.gather(*tasks)\n",
    "\n",
    "asyncio.run(main())"
   ]
  },
  {
   "cell_type": "code",
   "execution_count": null,
   "metadata": {},
   "outputs": [],
   "source": []
  }
 ],
 "metadata": {
  "kernelspec": {
   "display_name": "yang",
   "language": "python",
   "name": "python3"
  },
  "language_info": {
   "codemirror_mode": {
    "name": "ipython",
    "version": 3
   },
   "file_extension": ".py",
   "mimetype": "text/x-python",
   "name": "python",
   "nbconvert_exporter": "python",
   "pygments_lexer": "ipython3",
   "version": "3.12.3"
  }
 },
 "nbformat": 4,
 "nbformat_minor": 2
}
