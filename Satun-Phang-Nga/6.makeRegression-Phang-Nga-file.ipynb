{
 "cells": [
  {
   "cell_type": "code",
   "execution_count": 1,
   "metadata": {},
   "outputs": [],
   "source": [
    "import os\n",
    "import pandas as pd"
   ]
  },
  {
   "cell_type": "code",
   "execution_count": 2,
   "metadata": {},
   "outputs": [],
   "source": [
    "target = '../Satun-Phang-Nga/final-Phang-Nga-SunriseSunset'\n",
    "output = '../Satun-Phang-Nga/Phang-Nga-regression'\n",
    "\n",
    "if not os.path.exists(output):\n",
    "    os.makedirs(output)"
   ]
  },
  {
   "cell_type": "code",
   "execution_count": 3,
   "metadata": {},
   "outputs": [],
   "source": [
    "xxx_values = [200, 0, 400, 600, 800, 800, 800, 600]"
   ]
  },
  {
   "cell_type": "code",
   "execution_count": 4,
   "metadata": {},
   "outputs": [],
   "source": [
    "# สร้าง DataFrame ว่างเพื่อเก็บผลลัพธ์\n",
    "combined_data = pd.DataFrame()"
   ]
  },
  {
   "cell_type": "code",
   "execution_count": 9,
   "metadata": {},
   "outputs": [],
   "source": [
    "for i, file in enumerate(os.listdir(target)):\n",
    "    df = pd.read_excel(os.path.join(target, file))\n",
    "    filtered_data = df[(df['date'] >= '2024/01/01') & (df['date'] <= '2024/02/04')].copy()\n",
    "    filtered_data.reset_index(drop=True, inplace=True)\n",
    "    \n",
    "    num_rows = len(filtered_data)\n",
    "    increment_value = xxx_values[i] / num_rows\n",
    "    filtered_data[f'disease_{i+1}'] = (filtered_data.index + 1) * increment_value\n",
    "    \n",
    "    # รวมข้อมูลลงใน combined_data\n",
    "    if combined_data.empty:\n",
    "        combined_data = filtered_data\n",
    "    else:\n",
    "        combined_data = pd.concat([combined_data, filtered_data[f'disease_{i+1}']], axis=1)\n"
   ]
  },
  {
   "cell_type": "code",
   "execution_count": 10,
   "metadata": {},
   "outputs": [],
   "source": [
    "# ลบคอลัมน์ที่มีชื่อว่า 'Unnamed' (ถ้ามี)\n",
    "combined_data = combined_data.loc[:, ~combined_data.columns.str.contains('^Unnamed')]"
   ]
  },
  {
   "cell_type": "code",
   "execution_count": 12,
   "metadata": {},
   "outputs": [
    {
     "name": "stdout",
     "output_type": "stream",
     "text": [
      "         date  latitude  longitude           uvb         e        stl1  \\\n",
      "0  2024/01/01     8.334  98.309998  87222.173251 -0.000116  301.135325   \n",
      "1  2024/01/02     8.334  98.309998  87884.457354 -0.000117  301.438853   \n",
      "2  2024/01/03     8.334  98.309998  87964.831638 -0.000118  301.434072   \n",
      "3  2024/01/04     8.334  98.309998  88109.505349 -0.000122  301.382317   \n",
      "4  2024/01/05     8.334  98.309998  88607.825912 -0.000130  301.291940   \n",
      "\n",
      "              sp        tp        d2m    minTemp  ...    sunset  \\\n",
      "0  100636.076331  0.000050  25.056473  27.354404  ...  18:20:22   \n",
      "1  100579.827691  0.000006  24.933450  27.333658  ...  18:20:53   \n",
      "2  100575.921964  0.000064  24.896319  27.252870  ...  18:21:24   \n",
      "3  100606.920865  0.000021  25.108607  27.412471  ...  18:21:54   \n",
      "4  100640.969713  0.000135  25.097374  27.289751  ...  18:22:25   \n",
      "\n",
      "   durationOfDay  disease_1  disease_2  disease_3  disease_4   disease_5  \\\n",
      "0      11.645278   5.714286        0.0  11.428571  17.142857   22.857143   \n",
      "1      11.646944  11.428571        0.0  22.857143  34.285714   45.714286   \n",
      "2      11.648889  17.142857        0.0  34.285714  51.428571   68.571429   \n",
      "3      11.650833  22.857143        0.0  45.714286  68.571429   91.428571   \n",
      "4      11.653056  28.571429        0.0  57.142857  85.714286  114.285714   \n",
      "\n",
      "    disease_6   disease_7  disease_8  \n",
      "0   22.857143   22.857143  17.142857  \n",
      "1   45.714286   45.714286  34.285714  \n",
      "2   68.571429   68.571429  51.428571  \n",
      "3   91.428571   91.428571  68.571429  \n",
      "4  114.285714  114.285714  85.714286  \n",
      "\n",
      "[5 rows x 25 columns]\n"
     ]
    }
   ],
   "source": [
    "print(combined_data.head())"
   ]
  },
  {
   "cell_type": "code",
   "execution_count": 13,
   "metadata": {},
   "outputs": [
    {
     "name": "stdout",
     "output_type": "stream",
     "text": [
      "         date  latitude  longitude           uvb         e        stl1  \\\n",
      "0  2024/01/01     8.334  98.309998  87222.173251 -0.000116  301.135325   \n",
      "1  2024/01/02     8.334  98.309998  87884.457354 -0.000117  301.438853   \n",
      "2  2024/01/03     8.334  98.309998  87964.831638 -0.000118  301.434072   \n",
      "3  2024/01/04     8.334  98.309998  88109.505349 -0.000122  301.382317   \n",
      "4  2024/01/05     8.334  98.309998  88607.825912 -0.000130  301.291940   \n",
      "\n",
      "              sp        tp        d2m    minTemp  ...    sunset  \\\n",
      "0  100636.076331  0.000050  25.056473  27.354404  ...  18:20:22   \n",
      "1  100579.827691  0.000006  24.933450  27.333658  ...  18:20:53   \n",
      "2  100575.921964  0.000064  24.896319  27.252870  ...  18:21:24   \n",
      "3  100606.920865  0.000021  25.108607  27.412471  ...  18:21:54   \n",
      "4  100640.969713  0.000135  25.097374  27.289751  ...  18:22:25   \n",
      "\n",
      "   durationOfDay  disease_1  disease_2  disease_3  disease_4   disease_5  \\\n",
      "0      11.645278   5.714286        0.0  11.428571  17.142857   22.857143   \n",
      "1      11.646944  11.428571        0.0  22.857143  34.285714   45.714286   \n",
      "2      11.648889  17.142857        0.0  34.285714  51.428571   68.571429   \n",
      "3      11.650833  22.857143        0.0  45.714286  68.571429   91.428571   \n",
      "4      11.653056  28.571429        0.0  57.142857  85.714286  114.285714   \n",
      "\n",
      "    disease_6   disease_7  disease_8  \n",
      "0   22.857143   22.857143  17.142857  \n",
      "1   45.714286   45.714286  34.285714  \n",
      "2   68.571429   68.571429  51.428571  \n",
      "3   91.428571   91.428571  68.571429  \n",
      "4  114.285714  114.285714  85.714286  \n",
      "\n",
      "[5 rows x 25 columns]\n"
     ]
    }
   ],
   "source": [
    "output_path = os.path.join(output, \"combined_regression.xlsx\")\n",
    "combined_data.to_excel(output_path, index=False, engine='openpyxl')\n",
    "print(combined_data.head())"
   ]
  },
  {
   "cell_type": "code",
   "execution_count": null,
   "metadata": {},
   "outputs": [],
   "source": []
  }
 ],
 "metadata": {
  "kernelspec": {
   "display_name": "yang",
   "language": "python",
   "name": "python3"
  },
  "language_info": {
   "codemirror_mode": {
    "name": "ipython",
    "version": 3
   },
   "file_extension": ".py",
   "mimetype": "text/x-python",
   "name": "python",
   "nbconvert_exporter": "python",
   "pygments_lexer": "ipython3",
   "version": "3.12.3"
  }
 },
 "nbformat": 4,
 "nbformat_minor": 2
}
