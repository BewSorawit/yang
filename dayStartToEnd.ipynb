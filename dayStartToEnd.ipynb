{
 "cells": [
  {
   "cell_type": "code",
   "execution_count": 2,
   "metadata": {},
   "outputs": [],
   "source": [
    "from datetime import datetime, timedelta"
   ]
  },
  {
   "cell_type": "code",
   "execution_count": 3,
   "metadata": {},
   "outputs": [
    {
     "name": "stdout",
     "output_type": "stream",
     "text": [
      "จำนวนวันทั้งหมดระหว่างวันที่: 78 วัน\n",
      "วันที่ย้อนหลัง 15 วัน: 22/03/2564\n",
      "วันที่ตรงกลางคือ: 06/04/2564\n",
      "วันที่ไปข้างหน้า 15 วัน: 26/04/2564\n"
     ]
    }
   ],
   "source": [
    "################################################################ มีข้อผิดผลาดเดือน กุมภาพัน ผิดแค่จำนวนวันทั้งหมด วันย้อน ปจบ หน้า ถูก\n",
    "# รับ input วันเริ่มต้น\n",
    "start_date_str = input(\"กรุณาป้อนวันที่เริ่มต้น (รูปแบบ: วัน/เดือน/ปี เช่น 1/1/2564): \")\n",
    "start_date = datetime.strptime(start_date_str, \"%d/%m/%Y\")\n",
    "\n",
    "# print(\"วันที่เริ่มต้น:\", start_date.strftime(\"%d/%m/%Y\"))\n",
    "\n",
    "# รับ input วันสิ้นสุด\n",
    "end_date_str = input(\"กรุณาป้อนวันที่สิ้นสุด (รูปแบบ: วัน/เดือน/ปี เช่น 31/12/2564): \")\n",
    "end_date = datetime.strptime(end_date_str, \"%d/%m/%Y\")\n",
    "\n",
    "# คำนวณจำนวนวัน\n",
    "days_between = (end_date - start_date).days + 1\n",
    "print(\"จำนวนวันทั้งหมดระหว่างวันที่:\", days_between, \"วัน\")\n",
    "\n",
    "# คำนวณวันที่ตรงกลาง\n",
    "middle_date = start_date + timedelta(days=(days_between // 2))\n",
    "previous_date  = middle_date - timedelta(days=15)\n",
    "next_date = middle_date + timedelta(days=20)\n",
    "print(\"วันที่ย้อนหลัง 15 วัน:\", previous_date.strftime(\"%d/%m/%Y\"))\n",
    "print(\"วันที่ตรงกลางคือ:\", middle_date.strftime(\"%d/%m/%Y\"))\n",
    "print(\"วันที่ไปข้างหน้า 15 วัน:\", next_date.strftime(\"%d/%m/%Y\"))"
   ]
  },
  {
   "cell_type": "code",
   "execution_count": null,
   "metadata": {},
   "outputs": [],
   "source": []
  },
  {
   "cell_type": "code",
   "execution_count": null,
   "metadata": {},
   "outputs": [],
   "source": []
  }
 ],
 "metadata": {
  "kernelspec": {
   "display_name": "yang",
   "language": "python",
   "name": "python3"
  },
  "language_info": {
   "codemirror_mode": {
    "name": "ipython",
    "version": 3
   },
   "file_extension": ".py",
   "mimetype": "text/x-python",
   "name": "python",
   "nbconvert_exporter": "python",
   "pygments_lexer": "ipython3",
   "version": "3.12.3"
  }
 },
 "nbformat": 4,
 "nbformat_minor": 2
}
