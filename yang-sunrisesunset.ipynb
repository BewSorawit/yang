{
 "cells": [
  {
   "cell_type": "code",
   "execution_count": 1,
   "metadata": {},
   "outputs": [],
   "source": [
    "import pandas as pd\n",
    "import os\n",
    "import requests\n",
    "from datetime import datetime"
   ]
  },
  {
   "cell_type": "code",
   "execution_count": 2,
   "metadata": {},
   "outputs": [],
   "source": [
    "TARGET_PATH = r'yang_wather_v2/'"
   ]
  },
  {
   "cell_type": "code",
   "execution_count": 3,
   "metadata": {},
   "outputs": [],
   "source": [
    "data = []\n",
    "res = []"
   ]
  },
  {
   "cell_type": "code",
   "execution_count": 4,
   "metadata": {},
   "outputs": [],
   "source": [
    "def getApiSunriseAndSunset(lat, lon, dateStart, dateEnd):\n",
    "    dateStart = dateStart.replace('/', '-')\n",
    "    dateEnd = dateEnd.replace('/', '-')\n",
    "    url = f\"https://api.sunrisesunset.io/json?lat={lat}&lng={lon}&date_start={dateStart}&date_end={dateEnd}\"\n",
    "    response = requests.get(url).json()\n",
    "    return response"
   ]
  },
  {
   "cell_type": "code",
   "execution_count": 5,
   "metadata": {},
   "outputs": [
    {
     "ename": "FileNotFoundError",
     "evalue": "[WinError 3] The system cannot find the path specified: 'yang_wather_v2/'",
     "output_type": "error",
     "traceback": [
      "\u001b[1;31m---------------------------------------------------------------------------\u001b[0m",
      "\u001b[1;31mFileNotFoundError\u001b[0m                         Traceback (most recent call last)",
      "Cell \u001b[1;32mIn[5], line 1\u001b[0m\n\u001b[1;32m----> 1\u001b[0m \u001b[38;5;28;01mfor\u001b[39;00m i \u001b[38;5;129;01min\u001b[39;00m \u001b[43mos\u001b[49m\u001b[38;5;241;43m.\u001b[39;49m\u001b[43mlistdir\u001b[49m\u001b[43m(\u001b[49m\u001b[43mTARGET_PATH\u001b[49m\u001b[43m)\u001b[49m:\n\u001b[0;32m      2\u001b[0m     df \u001b[38;5;241m=\u001b[39m pd\u001b[38;5;241m.\u001b[39mread_excel(TARGET_PATH \u001b[38;5;241m+\u001b[39m i)\n\u001b[0;32m      3\u001b[0m     response \u001b[38;5;241m=\u001b[39m getApiSunriseAndSunset(df[\u001b[38;5;124m'\u001b[39m\u001b[38;5;124mlatitude\u001b[39m\u001b[38;5;124m'\u001b[39m]\u001b[38;5;241m.\u001b[39miloc[\u001b[38;5;241m0\u001b[39m], df[\u001b[38;5;124m'\u001b[39m\u001b[38;5;124mlongitude\u001b[39m\u001b[38;5;124m'\u001b[39m]\u001b[38;5;241m.\u001b[39miloc[\u001b[38;5;241m0\u001b[39m], df[\u001b[38;5;124m'\u001b[39m\u001b[38;5;124mdate\u001b[39m\u001b[38;5;124m'\u001b[39m]\u001b[38;5;241m.\u001b[39miloc[\u001b[38;5;241m0\u001b[39m], df[\u001b[38;5;124m'\u001b[39m\u001b[38;5;124mdate\u001b[39m\u001b[38;5;124m'\u001b[39m]\u001b[38;5;241m.\u001b[39miloc[\u001b[38;5;241m-\u001b[39m\u001b[38;5;241m1\u001b[39m])\n",
      "\u001b[1;31mFileNotFoundError\u001b[0m: [WinError 3] The system cannot find the path specified: 'yang_wather_v2/'"
     ]
    }
   ],
   "source": [
    "for i in os.listdir(TARGET_PATH):\n",
    "    df = pd.read_excel(TARGET_PATH + i)\n",
    "    response = getApiSunriseAndSunset(df['latitude'].iloc[0], df['longitude'].iloc[0], df['date'].iloc[0], df['date'].iloc[-1])\n",
    "\n",
    "    print(response)\n",
    "    df_api = pd.DataFrame.from_dict(response['results'])\n",
    "    df['sunrise'] = pd.to_datetime(df_api['sunrise'])\n",
    "    df['sunset'] = pd.to_datetime(df_api['sunset'])\n",
    "    df['rol'] = (df['sunset'] - df['sunrise']).dt.total_seconds()/3600\n",
    "\n",
    "    df['sunrise'] = df['sunrise'].dt.time\n",
    "    df['sunset'] = df['sunset'].dt.time\n",
    "\n",
    "    df.to_excel('./yang_wather_v3/' + i, index=False)\n",
    "\n",
    "print('success')\n"
   ]
  }
 ],
 "metadata": {
  "kernelspec": {
   "display_name": "munbot",
   "language": "python",
   "name": "python3"
  },
  "language_info": {
   "codemirror_mode": {
    "name": "ipython",
    "version": 3
   },
   "file_extension": ".py",
   "mimetype": "text/x-python",
   "name": "python",
   "nbconvert_exporter": "python",
   "pygments_lexer": "ipython3",
   "version": "3.12.2"
  }
 },
 "nbformat": 4,
 "nbformat_minor": 2
}
