{
 "cells": [
  {
   "cell_type": "code",
   "execution_count": 55,
   "metadata": {},
   "outputs": [],
   "source": [
    "import os\n",
    "import numpy as np\n",
    "import pandas as pd\n",
    "import matplotlib.pyplot as plt\n",
    "from matplotlib.ticker import FuncFormatter\n",
    "from sklearn.linear_model import LinearRegression"
   ]
  },
  {
   "cell_type": "code",
   "execution_count": 56,
   "metadata": {},
   "outputs": [],
   "source": [
    "start_date = '2023-12-18'\n",
    "start_date = pd.to_datetime(start_date) \n",
    "end_date = start_date + pd.Timedelta(days=35)\n"
   ]
  },
  {
   "cell_type": "code",
   "execution_count": 57,
   "metadata": {},
   "outputs": [],
   "source": [
    "target = '../Chanae-combined_files'\n",
    "# sunny rainy winter\n",
    "output_dir = '../Chanae-Graph/2023/winter'"
   ]
  },
  {
   "cell_type": "code",
   "execution_count": 58,
   "metadata": {},
   "outputs": [],
   "source": [
    "sixfactor_dir = ['d2m','RH','temperature','rainfall','ws','uvb','durationOfDay','sevenFactor']\n",
    "for dir in sixfactor_dir:\n",
    "    if not os.path.exists(os.path.join(output_dir,dir)):\n",
    "        os.makedirs(os.path.join(output_dir,dir))"
   ]
  },
  {
   "cell_type": "code",
   "execution_count": 61,
   "metadata": {},
   "outputs": [],
   "source": [
    "for file in os.listdir(target):\n",
    "    df = pd.read_excel(os.path.join(target, file))\n",
    "    df['date'] = pd.to_datetime(df['date'], format='%Y/%m/%d')    \n",
    "    filtered_data = df[(df['date'] >= start_date) & (df['date'] <= end_date)].copy()  # Create a copy to avoid SettingWithCopyWarning\n",
    "    filtered_data.loc[:, 'disease'] = 112005  # Use .loc to explicitly modify the original DataFrame\n",
    "    df = filtered_data[['date', 'd2m', 'disease']]  # Assign back to df with desired columns\n",
    "    # print(df.head(3))\n"
   ]
  },
  {
   "cell_type": "code",
   "execution_count": 63,
   "metadata": {},
   "outputs": [
    {
     "name": "stdout",
     "output_type": "stream",
     "text": [
      "                            OLS Regression Results                            \n",
      "==============================================================================\n",
      "Dep. Variable:                disease   R-squared:                        -inf\n",
      "Model:                            OLS   Adj. R-squared:                   -inf\n",
      "Method:                 Least Squares   F-statistic:                    -142.0\n",
      "Date:                Mon, 17 Jun 2024   Prob (F-statistic):               1.00\n",
      "Time:                        01:56:28   Log-Likelihood:                 3059.2\n",
      "No. Observations:                 144   AIC:                            -6114.\n",
      "Df Residuals:                     142   BIC:                            -6109.\n",
      "Df Model:                           1                                         \n",
      "Covariance Type:            nonrobust                                         \n",
      "==============================================================================\n",
      "                 coef    std err          t      P>|t|      [0.025      0.975]\n",
      "------------------------------------------------------------------------------\n",
      "const        1.12e+05   4.06e-10   2.76e+14      0.000    1.12e+05    1.12e+05\n",
      "d2m        -1.637e-11    1.7e-11     -0.961      0.338      -5e-11    1.73e-11\n",
      "==============================================================================\n",
      "Omnibus:                       15.255   Durbin-Watson:                   0.005\n",
      "Prob(Omnibus):                  0.000   Jarque-Bera (JB):               16.760\n",
      "Skew:                          -0.763   Prob(JB):                     0.000229\n",
      "Kurtosis:                       3.683   Cond. No.                         805.\n",
      "==============================================================================\n",
      "\n",
      "Notes:\n",
      "[1] Standard Errors assume that the covariance matrix of the errors is correctly specified.\n"
     ]
    },
    {
     "name": "stderr",
     "output_type": "stream",
     "text": [
      "c:\\Users\\User\\anaconda3\\envs\\yang\\Lib\\site-packages\\statsmodels\\regression\\linear_model.py:1783: RuntimeWarning: divide by zero encountered in scalar divide\n",
      "  return 1 - self.ssr/self.centered_tss\n"
     ]
    }
   ],
   "source": [
    "combined_data = []\n",
    "for file in os.listdir(target):\n",
    "    if file.endswith('.xlsx') or file.endswith('.xls'):  # Ensure we're only reading Excel files\n",
    "        df = pd.read_excel(os.path.join(target, file))\n",
    "        df['date'] = pd.to_datetime(df['date'], format='%Y/%m/%d')    \n",
    "        filtered_data = df[(df['date'] >= start_date) & (df['date'] <= end_date)].copy()\n",
    "        filtered_data['disease'] = 112005  # Modify 'disease' column\n",
    "        filtered_data = filtered_data[['date', 'd2m', 'disease']]  # Select desired columns\n",
    "        combined_data.append(filtered_data)  # Append filtered DataFrame to the list\n",
    "\n",
    "# Concatenate all filtered DataFrames into a single DataFrame\n",
    "combined_df = pd.concat(combined_data, ignore_index=True)\n",
    "\n",
    "# Now you can perform regression analysis on combined_df\n",
    "# Example using statsmodels OLS (Ordinary Least Squares) for demonstration:\n",
    "import statsmodels.api as sm\n",
    "\n",
    "X = combined_df[['d2m']]  # Predictor variable(s)\n",
    "X = sm.add_constant(X)  # Add intercept term\n",
    "y = combined_df['disease']  # Response variable\n",
    "\n",
    "model = sm.OLS(y, X).fit()  # Fit OLS model\n",
    "print(model.summary())  # Print regression results"
   ]
  },
  {
   "cell_type": "code",
   "execution_count": null,
   "metadata": {},
   "outputs": [],
   "source": []
  }
 ],
 "metadata": {
  "kernelspec": {
   "display_name": "yang",
   "language": "python",
   "name": "python3"
  },
  "language_info": {
   "codemirror_mode": {
    "name": "ipython",
    "version": 3
   },
   "file_extension": ".py",
   "mimetype": "text/x-python",
   "name": "python",
   "nbconvert_exporter": "python",
   "pygments_lexer": "ipython3",
   "version": "3.12.3"
  }
 },
 "nbformat": 4,
 "nbformat_minor": 2
}
