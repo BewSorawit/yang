{
 "cells": [
  {
   "cell_type": "code",
   "execution_count": null,
   "metadata": {},
   "outputs": [],
   "source": [
    "import os\n",
    "import pandas as pd\n",
    "from sklearn.linear_model import LinearRegression\n",
    "from sklearn.metrics import mean_squared_error, r2_score\n",
    "from sklearn.model_selection import train_test_split"
   ]
  },
  {
   "cell_type": "code",
   "execution_count": null,
   "metadata": {},
   "outputs": [],
   "source": [
    "target = '../Chanae-regression/season'\n",
    "output_dir = '../Chanae-regression'"
   ]
  },
  {
   "cell_type": "code",
   "execution_count": null,
   "metadata": {},
   "outputs": [],
   "source": [
    "os.makedirs(output_dir, exist_ok=True)"
   ]
  },
  {
   "cell_type": "code",
   "execution_count": null,
   "metadata": {},
   "outputs": [],
   "source": [
    "start_date = '2021-03-22'\n",
    "start_date = pd.to_datetime(start_date)\n",
    "end_date = start_date + pd.Timedelta(days=35)"
   ]
  },
  {
   "cell_type": "code",
   "execution_count": null,
   "metadata": {},
   "outputs": [],
   "source": [
    "evaluation_results = []\n",
    "\n",
    "for file in os.listdir(target):\n",
    "    df = pd.read_excel(os.path.join(target, file))\n",
    "    df['date'] = pd.to_datetime(df['date'], format='%Y/%m/%d')\n",
    "    \n",
    "    # Filter data within the specified date range\n",
    "    filtered_data = df[(df['date'] >= start_date) & (df['date'] <= end_date)].copy()\n",
    "\n",
    "    # Prepare data for regression\n",
    "    # 'uvb','d2m','RH','minTemp','maxTemp','meanTemp','tp','WS'\n",
    "    X = filtered_data[['uvb']]\n",
    "    y = filtered_data['disease']\n",
    "\n",
    "    # Split data into training and testing se,'ts\n",
    "    X_train, X_test, y_train, y_test = train_test_split(X, y, test_size=0.2, random_state=42)\n",
    "\n",
    "    # Perform linear regression on the training data\n",
    "    model = LinearRegression()\n",
    "    model.fit(X_train, y_train)\n",
    "\n",
    "    # Make predictions on the test data\n",
    "    y_pred = model.predict(X_test)\n",
    "\n",
    "    # Calculate performance metrics on the test set\n",
    "    mse = mean_squared_error(y_test, y_pred)\n",
    "    r2 = r2_score(y_test, y_pred)\n",
    "\n",
    "    # Store the evaluation results\n",
    "    evaluation_results.append({\n",
    "        'File': file,\n",
    "        'Mean Squared Error': mse,\n",
    "        'R^2 Score': r2,\n",
    "    })\n",
    "    \n",
    "    print(f\"File: {file}\")\n",
    "    print(f\"Mean Squared Error: {mse}\")\n",
    "    print(f\"R^2 Score: {r2}\")\n",
    "\n",
    "# Save the evaluation results to an Excel file\n",
    "evaluation_df = pd.DataFrame(evaluation_results)\n",
    "evaluation_df_path = os.path.join(output_dir, 'evaluation-results.xlsx')\n",
    "evaluation_df.to_excel(evaluation_df_path, index=False, engine='openpyxl')\n"
   ]
  }
 ],
 "metadata": {
  "kernelspec": {
   "display_name": "yang",
   "language": "python",
   "name": "python3"
  },
  "language_info": {
   "codemirror_mode": {
    "name": "ipython",
    "version": 3
   },
   "file_extension": ".py",
   "mimetype": "text/x-python",
   "name": "python",
   "nbconvert_exporter": "python",
   "pygments_lexer": "ipython3",
   "version": "3.12.3"
  }
 },
 "nbformat": 4,
 "nbformat_minor": 2
}
