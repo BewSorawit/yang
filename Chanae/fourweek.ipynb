{
 "cells": [
  {
   "cell_type": "code",
   "execution_count": 8,
   "metadata": {},
   "outputs": [],
   "source": [
    "import pandas as pd\n",
    "import matplotlib.pyplot as plt\n",
    "import os"
   ]
  },
  {
   "cell_type": "code",
   "execution_count": 9,
   "metadata": {},
   "outputs": [],
   "source": [
    "start_date ='2021-03-22'\n",
    "end_date ='2021-04-26'\n",
    "\n",
    "start_date = pd.to_datetime(start_date)\n",
    "end_date = pd.to_datetime(end_date)"
   ]
  },
  {
   "cell_type": "markdown",
   "metadata": {},
   "source": [
    "### d2m"
   ]
  },
  {
   "cell_type": "code",
   "execution_count": 10,
   "metadata": {},
   "outputs": [],
   "source": [
    "target = '../Thung-Song-final/1final'\n",
    "output_dir = '../Thung-Song-Graph/2021/summer/d2m'"
   ]
  },
  {
   "cell_type": "code",
   "execution_count": 11,
   "metadata": {},
   "outputs": [],
   "source": [
    "if not os.path.exists(output_dir):\n",
    "    os.makedirs(output_dir)"
   ]
  },
  {
   "cell_type": "code",
   "execution_count": 12,
   "metadata": {},
   "outputs": [
    {
     "name": "stdout",
     "output_type": "stream",
     "text": [
      "Saved graph to ../Thung-Song-Graph/2021/summer/d2m\\D2m_2500-Pak Phraek.png\n",
      "Saved graph to ../Thung-Song-Graph/2021/summer/d2m\\D2m_2501-Chamai.png\n",
      "Saved graph to ../Thung-Song-Graph/2021/summer/d2m\\D2m_2502-Nong Hong.png\n",
      "Saved graph to ../Thung-Song-Graph/2021/summer/d2m\\D2m_2503-Na Pho.png\n",
      "Saved graph to ../Thung-Song-Graph/2021/summer/d2m\\D2m_2504-Khuan Krot.png\n",
      "Saved graph to ../Thung-Song-Graph/2021/summer/d2m\\D2m_2505-Na Mai Phai.png\n",
      "Saved graph to ../Thung-Song-Graph/2021/summer/d2m\\D2m_2506-Thi Wang.png\n",
      "Saved graph to ../Thung-Song-Graph/2021/summer/d2m\\D2m_2507-Kapang.png\n",
      "Saved graph to ../Thung-Song-Graph/2021/summer/d2m\\D2m_2508-Khao Ro.png\n",
      "Saved graph to ../Thung-Song-Graph/2021/summer/d2m\\D2m_2509-Na Luang Sen.png\n",
      "Saved graph to ../Thung-Song-Graph/2021/summer/d2m\\D2m_2510-Namtok.png\n",
      "Saved graph to ../Thung-Song-Graph/2021/summer/d2m\\D2m_2511-Khao Khao.png\n",
      "Saved graph to ../Thung-Song-Graph/2021/summer/d2m\\D2m_2512-Tham Yai.png\n"
     ]
    }
   ],
   "source": [
    "for file in os.listdir(target):\n",
    "    df = pd.read_excel(os.path.join(target, file))\n",
    "    df['date'] = pd.to_datetime(df['date'], format='%Y/%m/%d')    \n",
    "    filtered_data = df[(df['date'] >= start_date) & (df['date'] <= end_date)]\n",
    "    # print(filtered_data.tail())\n",
    "    df = filtered_data\n",
    "\n",
    "    # print(df.head())    \n",
    "    # แปลงข้อมูลในคอลัมน์ 'date' เป็นชนิดข้อมูล datetime\n",
    "    df['date'] = pd.to_datetime(df['date'])\n",
    "\n",
    "    # กำหนด 'date' เป็น index\n",
    "    df.set_index('date', inplace=True)\n",
    "\n",
    "    # สร้าง DataFrame ใหม่โดยรวมข้อมูลทุก 7 วัน\n",
    "    df_resampled = df.resample('7D').mean() \n",
    "\n",
    "    # เลื่อน index ไป 7 วัน\n",
    "    df_resampled.index = df_resampled.index + pd.DateOffset(days=6)\n",
    "\n",
    "    # # ตัดข้อมูลเฉพาะที่ต้องการแสดง\n",
    "    end_date = df.index[-1]  # วันที่สิ้นสุดของข้อมูล\n",
    "    df_resampled = df_resampled[df_resampled.index <= end_date]\n",
    "\n",
    "    # พล็อตกราฟ\n",
    "    plt.figure(figsize=(10, 6))\n",
    "\n",
    "    # # พล็อตกราฟจุดน้ำค้าง\n",
    "    plt.plot(df_resampled.index, df_resampled['d2m'], label='Dew Point', marker='o')\n",
    "\n",
    "    # ปรับตำแหน่ง x ของ marker ให้ตรงกับข้อมูลที่ถูกรวมรวมแล้ว\n",
    "    plt.xticks(df_resampled.index)\n",
    "\n",
    "\n",
    "    # ปรับแต่งกราฟ\n",
    "    plt.title('Dew Point Over Time (7-day Interval)')\n",
    "    plt.xlabel('Date')\n",
    "    plt.ylabel('Dew Point (°C)')\n",
    "    plt.legend()\n",
    "    plt.xticks(rotation=45)\n",
    "    plt.grid(True)\n",
    "    # บันทึกภาพเป็นไฟล์ PNG\n",
    "    output_file = os.path.join(output_dir, f'D2m_{file.split(\".\")[0]}.png')\n",
    "    plt.savefig(output_file, bbox_inches='tight')\n",
    "    plt.close()\n",
    "    \n",
    "    print(f\"Saved graph to {output_file}\")\n",
    "\n"
   ]
  },
  {
   "cell_type": "markdown",
   "metadata": {},
   "source": [
    "### RH"
   ]
  },
  {
   "cell_type": "code",
   "execution_count": 13,
   "metadata": {},
   "outputs": [],
   "source": [
    "target = '../Thung-Song-final/1final'\n",
    "output_dir = '../Thung-Song-Graph/2021/summer/RH'"
   ]
  },
  {
   "cell_type": "code",
   "execution_count": 14,
   "metadata": {},
   "outputs": [],
   "source": [
    "if not os.path.exists(output_dir):\n",
    "    os.makedirs(output_dir)"
   ]
  },
  {
   "cell_type": "code",
   "execution_count": 15,
   "metadata": {},
   "outputs": [
    {
     "name": "stdout",
     "output_type": "stream",
     "text": [
      "Saved graph to ../Thung-Song-Graph/2021/summer/RH\\RH_2500-Pak Phraek.png\n",
      "Saved graph to ../Thung-Song-Graph/2021/summer/RH\\RH_2501-Chamai.png\n",
      "Saved graph to ../Thung-Song-Graph/2021/summer/RH\\RH_2502-Nong Hong.png\n",
      "Saved graph to ../Thung-Song-Graph/2021/summer/RH\\RH_2503-Na Pho.png\n",
      "Saved graph to ../Thung-Song-Graph/2021/summer/RH\\RH_2504-Khuan Krot.png\n",
      "Saved graph to ../Thung-Song-Graph/2021/summer/RH\\RH_2505-Na Mai Phai.png\n",
      "Saved graph to ../Thung-Song-Graph/2021/summer/RH\\RH_2506-Thi Wang.png\n",
      "Saved graph to ../Thung-Song-Graph/2021/summer/RH\\RH_2507-Kapang.png\n",
      "Saved graph to ../Thung-Song-Graph/2021/summer/RH\\RH_2508-Khao Ro.png\n",
      "Saved graph to ../Thung-Song-Graph/2021/summer/RH\\RH_2509-Na Luang Sen.png\n",
      "Saved graph to ../Thung-Song-Graph/2021/summer/RH\\RH_2510-Namtok.png\n",
      "Saved graph to ../Thung-Song-Graph/2021/summer/RH\\RH_2511-Khao Khao.png\n",
      "Saved graph to ../Thung-Song-Graph/2021/summer/RH\\RH_2512-Tham Yai.png\n"
     ]
    }
   ],
   "source": [
    "\n",
    "for file in os.listdir(target):\n",
    "    df = pd.read_excel(os.path.join(target, file))\n",
    "    df['date'] = pd.to_datetime(df['date'], format='%Y/%m/%d')    \n",
    "    filtered_data = df[(df['date'] >= start_date) & (df['date'] <= end_date)]\n",
    "    # print(filtered_data.tail())\n",
    "    df = filtered_data\n",
    "    \n",
    "    # แปลงข้อมูลในคอลัมน์ 'date' เป็นชนิดข้อมูล datetime\n",
    "    df['date'] = pd.to_datetime(df['date'])\n",
    "\n",
    "    # กำหนด 'date' เป็น index\n",
    "    df.set_index('date', inplace=True)\n",
    "\n",
    "    # สร้าง DataFrame ใหม่โดยรวมข้อมูลทุก 7 วัน\n",
    "    df_resampled = df.resample('7D').mean()\n",
    "\n",
    "    # เลื่อน index ไป 7 วัน\n",
    "    df_resampled.index = df_resampled.index + pd.DateOffset(days=6)\n",
    "\n",
    "    # # ตัดข้อมูลเฉพาะที่ต้องการแสดง\n",
    "    end_date = df.index[-1]  # วันที่สิ้นสุดของข้อมูล\n",
    "    df_resampled = df_resampled[df_resampled.index <= end_date]\n",
    "\n",
    "    # พล็อตกราฟ\n",
    "    plt.figure(figsize=(10, 6))\n",
    "\n",
    "    # พล็อตกราฟความชื้น\n",
    "    plt.plot(df_resampled.index, df_resampled['RH']*100, label='RH', marker='o')\n",
    "\n",
    "    # ปรับตำแหน่ง x ของ marker ให้ตรงกับข้อมูลที่ถูกรวมรวมแล้ว\n",
    "    plt.xticks(df_resampled.index)\n",
    "\n",
    "    # ปรับแต่งกราฟ\n",
    "    plt.title('Relative Humidity Over Time (7-day Interval)')\n",
    "    plt.xlabel('Date')\n",
    "    plt.ylabel('RH (%)')\n",
    "    plt.legend()\n",
    "    plt.xticks(rotation=45)\n",
    "    plt.grid(True)\n",
    "    # บันทึกภาพเป็นไฟล์ PNG\n",
    "    output_file = os.path.join(output_dir, f'RH_{file.split(\".\")[0]}.png')\n",
    "    plt.savefig(output_file, bbox_inches='tight')\n",
    "    plt.close()\n",
    "    \n",
    "    print(f\"Saved graph to {output_file}\")\n",
    "\n"
   ]
  },
  {
   "cell_type": "markdown",
   "metadata": {},
   "source": [
    "### temperature"
   ]
  },
  {
   "cell_type": "code",
   "execution_count": 16,
   "metadata": {},
   "outputs": [],
   "source": [
    "target = '../Thung-Song-final/1final'\n",
    "output_dir = '../Thung-Song-Graph/2021/test/temperature'"
   ]
  },
  {
   "cell_type": "code",
   "execution_count": 17,
   "metadata": {},
   "outputs": [],
   "source": [
    "if not os.path.exists(output_dir):\n",
    "    os.makedirs(output_dir)"
   ]
  },
  {
   "cell_type": "code",
   "execution_count": 18,
   "metadata": {},
   "outputs": [
    {
     "name": "stdout",
     "output_type": "stream",
     "text": [
      "Saved graph to ../Thung-Song-Graph/2021/test/temperature\\Temperature_2500-Pak Phraek.png\n",
      "Saved graph to ../Thung-Song-Graph/2021/test/temperature\\Temperature_2501-Chamai.png\n",
      "Saved graph to ../Thung-Song-Graph/2021/test/temperature\\Temperature_2502-Nong Hong.png\n",
      "Saved graph to ../Thung-Song-Graph/2021/test/temperature\\Temperature_2503-Na Pho.png\n",
      "Saved graph to ../Thung-Song-Graph/2021/test/temperature\\Temperature_2504-Khuan Krot.png\n",
      "Saved graph to ../Thung-Song-Graph/2021/test/temperature\\Temperature_2505-Na Mai Phai.png\n",
      "Saved graph to ../Thung-Song-Graph/2021/test/temperature\\Temperature_2506-Thi Wang.png\n",
      "Saved graph to ../Thung-Song-Graph/2021/test/temperature\\Temperature_2507-Kapang.png\n",
      "Saved graph to ../Thung-Song-Graph/2021/test/temperature\\Temperature_2508-Khao Ro.png\n",
      "Saved graph to ../Thung-Song-Graph/2021/test/temperature\\Temperature_2509-Na Luang Sen.png\n",
      "Saved graph to ../Thung-Song-Graph/2021/test/temperature\\Temperature_2510-Namtok.png\n",
      "Saved graph to ../Thung-Song-Graph/2021/test/temperature\\Temperature_2511-Khao Khao.png\n",
      "Saved graph to ../Thung-Song-Graph/2021/test/temperature\\Temperature_2512-Tham Yai.png\n"
     ]
    }
   ],
   "source": [
    "for file in os.listdir(target):\n",
    "    df = pd.read_excel(os.path.join(target, file))\n",
    "    df['date'] = pd.to_datetime(df['date'], format='%Y/%m/%d')\n",
    "    filtered_data = df[(df['date'] >= start_date) & (df['date'] <= end_date)]\n",
    "    df = filtered_data\n",
    "\n",
    "    # แปลงข้อมูลในคอลัมน์ 'date' เป็นชนิดข้อมูล datetime\n",
    "    df['date'] = pd.to_datetime(df['date'])\n",
    "\n",
    "    # กำหนด 'date' เป็น index\n",
    "    df.set_index('date', inplace=True)\n",
    "\n",
    "    # สร้าง DataFrame ใหม่โดยรวมข้อมูลทุก 7 วัน\n",
    "    df_resampled = df.resample('7D').agg({'minTemp': 'min', 'maxTemp': 'max', 'meanTemp': 'mean'})\n",
    "\n",
    "    # เลื่อน index ไป 7 วัน\n",
    "    df_resampled.index = df_resampled.index + pd.DateOffset(days=6)\n",
    "\n",
    "    # ตัดข้อมูลเฉพาะที่ต้องการแสดง\n",
    "    end_date = df.index[-1]  # วันที่สิ้นสุดของข้อมูล\n",
    "    df_resampled = df_resampled[df_resampled.index <= end_date]\n",
    "\n",
    "    # พล็อตกราฟ\n",
    "    plt.figure(figsize=(10, 6))\n",
    "\n",
    "    # พล็อตกราฟอุณหภูมิ\n",
    "    plt.plot(df_resampled.index, df_resampled['minTemp'], label='minTemp', marker='o')\n",
    "    plt.plot(df_resampled.index, df_resampled['meanTemp'], label='meanTemp', marker='o')\n",
    "    plt.plot(df_resampled.index, df_resampled['maxTemp'], label='maxTemp', marker='o')\n",
    "\n",
    "    # เพิ่มตัวเลขที่จุด marker\n",
    "    for i, row in df_resampled.iterrows():\n",
    "        plt.text(i, row['minTemp'], f\"{row['minTemp']:.1f}\", ha='center', va='bottom', fontsize=9, color='blue')\n",
    "        plt.text(i, row['meanTemp'], f\"{row['meanTemp']:.1f}\", ha='center', va='bottom', fontsize=9, color='green')\n",
    "        plt.text(i, row['maxTemp'], f\"{row['maxTemp']:.1f}\", ha='center', va='bottom', fontsize=9, color='red')\n",
    "\n",
    "    # ปรับแต่งกราฟ\n",
    "    plt.title('Temperature Over Time (7-day Interval)')\n",
    "    plt.xlabel('Date')\n",
    "    plt.ylabel('Temp (°C)')\n",
    "    plt.legend()\n",
    "    plt.xticks(rotation=45)\n",
    "    plt.grid(True)\n",
    "\n",
    "    # บันทึกภาพเป็นไฟล์ PNG\n",
    "    output_file = os.path.join(output_dir, f'Temperature_{file.split(\".\")[0]}.png')\n",
    "    plt.savefig(output_file, bbox_inches='tight')\n",
    "    plt.close()\n",
    "\n",
    "    print(f\"Saved graph to {output_file}\")"
   ]
  },
  {
   "cell_type": "markdown",
   "metadata": {},
   "source": [
    "### RainFall"
   ]
  },
  {
   "cell_type": "code",
   "execution_count": 19,
   "metadata": {},
   "outputs": [],
   "source": [
    "target = '../Thung-Song-final/1final'\n",
    "output_dir = '../Thung-Song-Graph/2021/summer/rainfall'"
   ]
  },
  {
   "cell_type": "code",
   "execution_count": 20,
   "metadata": {},
   "outputs": [],
   "source": [
    "if not os.path.exists(output_dir):\n",
    "    os.makedirs(output_dir)"
   ]
  },
  {
   "cell_type": "code",
   "execution_count": 21,
   "metadata": {},
   "outputs": [
    {
     "name": "stdout",
     "output_type": "stream",
     "text": [
      "Saved graph to ../Thung-Song-Graph/2021/summer/rainfall\\Rainfall_2500-Pak Phraek.png\n",
      "Saved graph to ../Thung-Song-Graph/2021/summer/rainfall\\Rainfall_2501-Chamai.png\n",
      "Saved graph to ../Thung-Song-Graph/2021/summer/rainfall\\Rainfall_2502-Nong Hong.png\n",
      "Saved graph to ../Thung-Song-Graph/2021/summer/rainfall\\Rainfall_2503-Na Pho.png\n",
      "Saved graph to ../Thung-Song-Graph/2021/summer/rainfall\\Rainfall_2504-Khuan Krot.png\n",
      "Saved graph to ../Thung-Song-Graph/2021/summer/rainfall\\Rainfall_2505-Na Mai Phai.png\n",
      "Saved graph to ../Thung-Song-Graph/2021/summer/rainfall\\Rainfall_2506-Thi Wang.png\n",
      "Saved graph to ../Thung-Song-Graph/2021/summer/rainfall\\Rainfall_2507-Kapang.png\n",
      "Saved graph to ../Thung-Song-Graph/2021/summer/rainfall\\Rainfall_2508-Khao Ro.png\n",
      "Saved graph to ../Thung-Song-Graph/2021/summer/rainfall\\Rainfall_2509-Na Luang Sen.png\n",
      "Saved graph to ../Thung-Song-Graph/2021/summer/rainfall\\Rainfall_2510-Namtok.png\n",
      "Saved graph to ../Thung-Song-Graph/2021/summer/rainfall\\Rainfall_2511-Khao Khao.png\n",
      "Saved graph to ../Thung-Song-Graph/2021/summer/rainfall\\Rainfall_2512-Tham Yai.png\n"
     ]
    }
   ],
   "source": [
    "for file in os.listdir(target):\n",
    "    df = pd.read_excel(os.path.join(target, file))\n",
    "    df['date'] = pd.to_datetime(df['date'], format='%Y/%m/%d')    \n",
    "    filtered_data = df[(df['date'] >= start_date) & (df['date'] <= end_date)]\n",
    "    # print(filtered_data.tail())\n",
    "    df = filtered_data\n",
    "    \n",
    "    # แปลงข้อมูลในคอลัมน์ 'date' เป็นชนิดข้อมูล datetime\n",
    "    df['date'] = pd.to_datetime(df['date'])\n",
    "\n",
    "    # กำหนด 'date' เป็น index\n",
    "    df.set_index('date', inplace=True)\n",
    "\n",
    "    # สร้าง DataFrame ใหม่โดยรวมข้อมูลทุก 7 วัน\n",
    "    df_resampled = df.resample('7D').sum() \n",
    "\n",
    "    # เลื่อน index ไป 7 วัน\n",
    "    df_resampled.index = df_resampled.index + pd.DateOffset(days=6)\n",
    "\n",
    "    # # ตัดข้อมูลเฉพาะที่ต้องการแสดง\n",
    "    end_date = df.index[-1]  # วันที่สิ้นสุดของข้อมูล\n",
    "    df_resampled = df_resampled[df_resampled.index <= end_date]\n",
    "\n",
    "    # Plot the graph\n",
    "    plt.figure(figsize=(10, 6))\n",
    "\n",
    "    plt.plot(df_resampled.index, df_resampled['tp']*1000, label='Rainfall', marker='o')\n",
    "\n",
    "    # ปรับตำแหน่ง x ของ marker ให้ตรงกับข้อมูลที่ถูกรวมรวมแล้ว\n",
    "    plt.xticks(df_resampled.index)\n",
    "\n",
    "    plt.title('Rainfall Over Time (7-day Interval)')  # Corrected title\n",
    "    plt.xlabel('Date')\n",
    "    plt.ylabel('Rainfall (mm)')  # Adjusted unit to millimeters\n",
    "    plt.legend()\n",
    "    plt.xticks(rotation=45)\n",
    "    plt.grid(True)\n",
    "    # บันทึกภาพเป็นไฟล์ PNG\n",
    "    output_file = os.path.join(output_dir, f'Rainfall_{file.split(\".\")[0]}.png')\n",
    "    plt.savefig(output_file, bbox_inches='tight')\n",
    "    plt.close()\n",
    "    \n",
    "    print(f\"Saved graph to {output_file}\")"
   ]
  },
  {
   "cell_type": "markdown",
   "metadata": {},
   "source": [
    "### WS"
   ]
  },
  {
   "cell_type": "code",
   "execution_count": 22,
   "metadata": {},
   "outputs": [],
   "source": [
    "target = '../Thung-Song-final/1final'\n",
    "output_dir = '../Thung-Song-Graph/2021/summer/ws'"
   ]
  },
  {
   "cell_type": "code",
   "execution_count": 23,
   "metadata": {},
   "outputs": [],
   "source": [
    "if not os.path.exists(output_dir):\n",
    "    os.makedirs(output_dir)"
   ]
  },
  {
   "cell_type": "code",
   "execution_count": 24,
   "metadata": {},
   "outputs": [
    {
     "name": "stdout",
     "output_type": "stream",
     "text": [
      "Saved graph to ../Thung-Song-Graph/2021/summer/ws\\Ws_2500-Pak Phraek.png\n",
      "Saved graph to ../Thung-Song-Graph/2021/summer/ws\\Ws_2501-Chamai.png\n",
      "Saved graph to ../Thung-Song-Graph/2021/summer/ws\\Ws_2502-Nong Hong.png\n",
      "Saved graph to ../Thung-Song-Graph/2021/summer/ws\\Ws_2503-Na Pho.png\n",
      "Saved graph to ../Thung-Song-Graph/2021/summer/ws\\Ws_2504-Khuan Krot.png\n",
      "Saved graph to ../Thung-Song-Graph/2021/summer/ws\\Ws_2505-Na Mai Phai.png\n",
      "Saved graph to ../Thung-Song-Graph/2021/summer/ws\\Ws_2506-Thi Wang.png\n",
      "Saved graph to ../Thung-Song-Graph/2021/summer/ws\\Ws_2507-Kapang.png\n",
      "Saved graph to ../Thung-Song-Graph/2021/summer/ws\\Ws_2508-Khao Ro.png\n",
      "Saved graph to ../Thung-Song-Graph/2021/summer/ws\\Ws_2509-Na Luang Sen.png\n",
      "Saved graph to ../Thung-Song-Graph/2021/summer/ws\\Ws_2510-Namtok.png\n",
      "Saved graph to ../Thung-Song-Graph/2021/summer/ws\\Ws_2511-Khao Khao.png\n",
      "Saved graph to ../Thung-Song-Graph/2021/summer/ws\\Ws_2512-Tham Yai.png\n"
     ]
    }
   ],
   "source": [
    "for file in os.listdir(target):\n",
    "    df = pd.read_excel(os.path.join(target, file))\n",
    "    df['date'] = pd.to_datetime(df['date'], format='%Y/%m/%d')    \n",
    "    filtered_data = df[(df['date'] >= start_date) & (df['date'] <= end_date)]\n",
    "    # print(filtered_data.tail())\n",
    "    df = filtered_data\n",
    "    \n",
    "    # แปลงข้อมูลในคอลัมน์ 'date' เป็นชนิดข้อมูล datetime\n",
    "    df['date'] = pd.to_datetime(df['date'])\n",
    "\n",
    "    # กำหนด 'date' เป็น index\n",
    "    df.set_index('date', inplace=True)\n",
    "\n",
    "    # สร้าง DataFrame ใหม่โดยรวมข้อมูลทุก 7 วัน\n",
    "    df_resampled = df.resample('7D').mean() \n",
    "\n",
    "    # เลื่อน index ไป 7 วัน\n",
    "    df_resampled.index = df_resampled.index + pd.DateOffset(days=6)\n",
    "\n",
    "    # # ตัดข้อมูลเฉพาะที่ต้องการแสดง\n",
    "    end_date = df.index[-1]  # วันที่สิ้นสุดของข้อมูล\n",
    "    df_resampled = df_resampled[df_resampled.index <= end_date]\n",
    "\n",
    "    # พล็อตกราฟ\n",
    "    plt.figure(figsize=(10, 6))\n",
    "\n",
    "    # พล็อตกราฟลม\n",
    "    plt.plot(df_resampled.index, df_resampled['WS'], label='WS', marker='o')\n",
    "\n",
    "    # ปรับตำแหน่ง x ของ marker ให้ตรงกับข้อมูลที่ถูกรวมรวมแล้ว\n",
    "    plt.xticks(df_resampled.index)\n",
    "\n",
    "    # ปรับแต่งกราฟ\n",
    "    plt.title('Wind Speed Over Time (7-day Interval)')\n",
    "    plt.xlabel('Date')\n",
    "    plt.ylabel('WS (m/s)')\n",
    "    plt.legend()\n",
    "    plt.xticks(rotation=45)\n",
    "    plt.grid(True)\n",
    "    # บันทึกภาพเป็นไฟล์ PNG\n",
    "    output_file = os.path.join(output_dir, f'Ws_{file.split(\".\")[0]}.png')\n",
    "    plt.savefig(output_file, bbox_inches='tight')\n",
    "    plt.close()\n",
    "    \n",
    "    print(f\"Saved graph to {output_file}\")\n",
    "        "
   ]
  },
  {
   "cell_type": "markdown",
   "metadata": {},
   "source": [
    "### uvb"
   ]
  },
  {
   "cell_type": "code",
   "execution_count": 25,
   "metadata": {},
   "outputs": [],
   "source": [
    "target = '../Thung-Song-final/1final'\n",
    "output_dir = '../Thung-Song-Graph/2021/summer/uvb'"
   ]
  },
  {
   "cell_type": "code",
   "execution_count": 26,
   "metadata": {},
   "outputs": [],
   "source": [
    "if not os.path.exists(output_dir):\n",
    "    os.makedirs(output_dir)"
   ]
  },
  {
   "cell_type": "code",
   "execution_count": 27,
   "metadata": {},
   "outputs": [
    {
     "name": "stdout",
     "output_type": "stream",
     "text": [
      "Saved graph to ../Thung-Song-Graph/2021/summer/uvb\\Radiation_2500-Pak Phraek.png\n",
      "Saved graph to ../Thung-Song-Graph/2021/summer/uvb\\Radiation_2501-Chamai.png\n",
      "Saved graph to ../Thung-Song-Graph/2021/summer/uvb\\Radiation_2502-Nong Hong.png\n",
      "Saved graph to ../Thung-Song-Graph/2021/summer/uvb\\Radiation_2503-Na Pho.png\n",
      "Saved graph to ../Thung-Song-Graph/2021/summer/uvb\\Radiation_2504-Khuan Krot.png\n",
      "Saved graph to ../Thung-Song-Graph/2021/summer/uvb\\Radiation_2505-Na Mai Phai.png\n",
      "Saved graph to ../Thung-Song-Graph/2021/summer/uvb\\Radiation_2506-Thi Wang.png\n",
      "Saved graph to ../Thung-Song-Graph/2021/summer/uvb\\Radiation_2507-Kapang.png\n",
      "Saved graph to ../Thung-Song-Graph/2021/summer/uvb\\Radiation_2508-Khao Ro.png\n",
      "Saved graph to ../Thung-Song-Graph/2021/summer/uvb\\Radiation_2509-Na Luang Sen.png\n",
      "Saved graph to ../Thung-Song-Graph/2021/summer/uvb\\Radiation_2510-Namtok.png\n",
      "Saved graph to ../Thung-Song-Graph/2021/summer/uvb\\Radiation_2511-Khao Khao.png\n",
      "Saved graph to ../Thung-Song-Graph/2021/summer/uvb\\Radiation_2512-Tham Yai.png\n"
     ]
    }
   ],
   "source": [
    "for file in os.listdir(target):\n",
    "    df = pd.read_excel(os.path.join(target, file))\n",
    "    df['date'] = pd.to_datetime(df['date'], format='%Y/%m/%d')    \n",
    "    filtered_data = df[(df['date'] >= start_date) & (df['date'] <= end_date)]\n",
    "    # print(filtered_data.tail())\n",
    "    df = filtered_data\n",
    "    \n",
    "    # แปลงข้อมูลในคอลัมน์ 'date' เป็นชนิดข้อมูล datetime\n",
    "    df['date'] = pd.to_datetime(df['date'])\n",
    "\n",
    "    # กำหนด 'date' เป็น index\n",
    "    df.set_index('date', inplace=True)\n",
    "\n",
    "    # Convert 'uvb' column to numeric, coerce errors to NaN\n",
    "    df['uvb'] = pd.to_numeric(df['uvb'], errors='coerce')\n",
    "\n",
    "    # สร้าง DataFrame ใหม่โดยรวมข้อมูลทุก 7 วัน\n",
    "    df_resampled = df.resample('7D').agg({'uvb': 'mean'})\n",
    "\n",
    "    # เลื่อน index ไป 7 วัน\n",
    "    df_resampled.index = df_resampled.index + pd.DateOffset(days=6)\n",
    "\n",
    "    # ตัดข้อมูลเฉพาะที่ต้องการแสดง\n",
    "    end_date = df.index[-1]  # วันที่สิ้นสุดของข้อมูล\n",
    "    df_resampled = df_resampled[df_resampled.index <= end_date]\n",
    "\n",
    "    # พล็อตกราฟ\n",
    "    plt.figure(figsize=(10, 6))\n",
    "    plt.plot(df_resampled.index, df_resampled['uvb'], label='radiation', marker='o')\n",
    "    plt.xticks(df_resampled.index)\n",
    "\n",
    "    # แสดงตัวเลขบนแต่ละ marker\n",
    "    for i, value in enumerate(df_resampled['uvb']):\n",
    "        plt.text(df_resampled.index[i], value, f'{value:.2f}', ha='left', va='bottom')\n",
    "\n",
    "    # ปรับแต่งกราฟ\n",
    "    plt.title('Radiation Over Time (7-day Interval)')\n",
    "    plt.xlabel('Date')\n",
    "    plt.ylabel('Radiation (J/m^2)')\n",
    "    plt.legend()\n",
    "    plt.grid(True)\n",
    "    plt.tight_layout()\n",
    "    # บันทึกภาพเป็นไฟล์ PNG\n",
    "    output_file = os.path.join(output_dir, f'Radiation_{file.split(\".\")[0]}.png')\n",
    "    plt.savefig(output_file, bbox_inches='tight')\n",
    "    plt.close()\n",
    "    \n",
    "    print(f\"Saved graph to {output_file}\")\n",
    "        "
   ]
  },
  {
   "cell_type": "markdown",
   "metadata": {},
   "source": [
    "### Duration_of_Day"
   ]
  },
  {
   "cell_type": "code",
   "execution_count": 28,
   "metadata": {},
   "outputs": [],
   "source": [
    "target = '../Thung-Song-final-SunriseSunset/1duration'\n",
    "output_dir = '../Thung-Song-Graph/2021/summer/durationOfDay'"
   ]
  },
  {
   "cell_type": "code",
   "execution_count": 29,
   "metadata": {},
   "outputs": [],
   "source": [
    "if not os.path.exists(output_dir):\n",
    "    os.makedirs(output_dir)"
   ]
  },
  {
   "cell_type": "code",
   "execution_count": 30,
   "metadata": {},
   "outputs": [],
   "source": [
    "from matplotlib.ticker import FuncFormatter\n",
    "def convert_to_time(value):\n",
    "  hours = int(value)\n",
    "  minutes = round((value - hours) * 60)\n",
    "  return f\"{hours}h{minutes}m\""
   ]
  },
  {
   "cell_type": "code",
   "execution_count": 31,
   "metadata": {},
   "outputs": [
    {
     "name": "stderr",
     "output_type": "stream",
     "text": [
      "C:\\Users\\User\\AppData\\Local\\Temp\\ipykernel_27548\\746551566.py:15: UserWarning: Could not infer format, so each element will be parsed individually, falling back to `dateutil`. To ensure parsing is consistent and as-expected, please specify a format.\n",
      "  df['duration_of_day'] = pd.to_datetime(df['sunset']) - pd.to_datetime(df['sunrise'])\n",
      "C:\\Users\\User\\AppData\\Local\\Temp\\ipykernel_27548\\746551566.py:15: UserWarning: Could not infer format, so each element will be parsed individually, falling back to `dateutil`. To ensure parsing is consistent and as-expected, please specify a format.\n",
      "  df['duration_of_day'] = pd.to_datetime(df['sunset']) - pd.to_datetime(df['sunrise'])\n",
      "C:\\Users\\User\\AppData\\Local\\Temp\\ipykernel_27548\\746551566.py:15: UserWarning: Could not infer format, so each element will be parsed individually, falling back to `dateutil`. To ensure parsing is consistent and as-expected, please specify a format.\n",
      "  df['duration_of_day'] = pd.to_datetime(df['sunset']) - pd.to_datetime(df['sunrise'])\n",
      "C:\\Users\\User\\AppData\\Local\\Temp\\ipykernel_27548\\746551566.py:15: UserWarning: Could not infer format, so each element will be parsed individually, falling back to `dateutil`. To ensure parsing is consistent and as-expected, please specify a format.\n",
      "  df['duration_of_day'] = pd.to_datetime(df['sunset']) - pd.to_datetime(df['sunrise'])\n"
     ]
    },
    {
     "name": "stdout",
     "output_type": "stream",
     "text": [
      "Saved graph to ../Thung-Song-Graph/2021/summer/durationOfDay\\Duration_of_Day_2500-Pak Phraek-durationOfDay.png\n",
      "Saved graph to ../Thung-Song-Graph/2021/summer/durationOfDay\\Duration_of_Day_2501-Chamai-durationOfDay.png\n"
     ]
    },
    {
     "name": "stderr",
     "output_type": "stream",
     "text": [
      "C:\\Users\\User\\AppData\\Local\\Temp\\ipykernel_27548\\746551566.py:15: UserWarning: Could not infer format, so each element will be parsed individually, falling back to `dateutil`. To ensure parsing is consistent and as-expected, please specify a format.\n",
      "  df['duration_of_day'] = pd.to_datetime(df['sunset']) - pd.to_datetime(df['sunrise'])\n",
      "C:\\Users\\User\\AppData\\Local\\Temp\\ipykernel_27548\\746551566.py:15: UserWarning: Could not infer format, so each element will be parsed individually, falling back to `dateutil`. To ensure parsing is consistent and as-expected, please specify a format.\n",
      "  df['duration_of_day'] = pd.to_datetime(df['sunset']) - pd.to_datetime(df['sunrise'])\n",
      "C:\\Users\\User\\AppData\\Local\\Temp\\ipykernel_27548\\746551566.py:15: UserWarning: Could not infer format, so each element will be parsed individually, falling back to `dateutil`. To ensure parsing is consistent and as-expected, please specify a format.\n",
      "  df['duration_of_day'] = pd.to_datetime(df['sunset']) - pd.to_datetime(df['sunrise'])\n",
      "C:\\Users\\User\\AppData\\Local\\Temp\\ipykernel_27548\\746551566.py:15: UserWarning: Could not infer format, so each element will be parsed individually, falling back to `dateutil`. To ensure parsing is consistent and as-expected, please specify a format.\n",
      "  df['duration_of_day'] = pd.to_datetime(df['sunset']) - pd.to_datetime(df['sunrise'])\n"
     ]
    },
    {
     "name": "stdout",
     "output_type": "stream",
     "text": [
      "Saved graph to ../Thung-Song-Graph/2021/summer/durationOfDay\\Duration_of_Day_2502-Nong Hong-durationOfDay.png\n",
      "Saved graph to ../Thung-Song-Graph/2021/summer/durationOfDay\\Duration_of_Day_2503-Na Pho-durationOfDay.png\n"
     ]
    },
    {
     "name": "stderr",
     "output_type": "stream",
     "text": [
      "C:\\Users\\User\\AppData\\Local\\Temp\\ipykernel_27548\\746551566.py:15: UserWarning: Could not infer format, so each element will be parsed individually, falling back to `dateutil`. To ensure parsing is consistent and as-expected, please specify a format.\n",
      "  df['duration_of_day'] = pd.to_datetime(df['sunset']) - pd.to_datetime(df['sunrise'])\n",
      "C:\\Users\\User\\AppData\\Local\\Temp\\ipykernel_27548\\746551566.py:15: UserWarning: Could not infer format, so each element will be parsed individually, falling back to `dateutil`. To ensure parsing is consistent and as-expected, please specify a format.\n",
      "  df['duration_of_day'] = pd.to_datetime(df['sunset']) - pd.to_datetime(df['sunrise'])\n",
      "C:\\Users\\User\\AppData\\Local\\Temp\\ipykernel_27548\\746551566.py:15: UserWarning: Could not infer format, so each element will be parsed individually, falling back to `dateutil`. To ensure parsing is consistent and as-expected, please specify a format.\n",
      "  df['duration_of_day'] = pd.to_datetime(df['sunset']) - pd.to_datetime(df['sunrise'])\n",
      "C:\\Users\\User\\AppData\\Local\\Temp\\ipykernel_27548\\746551566.py:15: UserWarning: Could not infer format, so each element will be parsed individually, falling back to `dateutil`. To ensure parsing is consistent and as-expected, please specify a format.\n",
      "  df['duration_of_day'] = pd.to_datetime(df['sunset']) - pd.to_datetime(df['sunrise'])\n"
     ]
    },
    {
     "name": "stdout",
     "output_type": "stream",
     "text": [
      "Saved graph to ../Thung-Song-Graph/2021/summer/durationOfDay\\Duration_of_Day_2504-Khuan Krot-durationOfDay.png\n",
      "Saved graph to ../Thung-Song-Graph/2021/summer/durationOfDay\\Duration_of_Day_2505-Na Mai Phai-durationOfDay.png\n"
     ]
    },
    {
     "name": "stderr",
     "output_type": "stream",
     "text": [
      "C:\\Users\\User\\AppData\\Local\\Temp\\ipykernel_27548\\746551566.py:15: UserWarning: Could not infer format, so each element will be parsed individually, falling back to `dateutil`. To ensure parsing is consistent and as-expected, please specify a format.\n",
      "  df['duration_of_day'] = pd.to_datetime(df['sunset']) - pd.to_datetime(df['sunrise'])\n",
      "C:\\Users\\User\\AppData\\Local\\Temp\\ipykernel_27548\\746551566.py:15: UserWarning: Could not infer format, so each element will be parsed individually, falling back to `dateutil`. To ensure parsing is consistent and as-expected, please specify a format.\n",
      "  df['duration_of_day'] = pd.to_datetime(df['sunset']) - pd.to_datetime(df['sunrise'])\n"
     ]
    },
    {
     "name": "stdout",
     "output_type": "stream",
     "text": [
      "Saved graph to ../Thung-Song-Graph/2021/summer/durationOfDay\\Duration_of_Day_2506-Thi Wang-durationOfDay.png\n"
     ]
    },
    {
     "name": "stderr",
     "output_type": "stream",
     "text": [
      "C:\\Users\\User\\AppData\\Local\\Temp\\ipykernel_27548\\746551566.py:15: UserWarning: Could not infer format, so each element will be parsed individually, falling back to `dateutil`. To ensure parsing is consistent and as-expected, please specify a format.\n",
      "  df['duration_of_day'] = pd.to_datetime(df['sunset']) - pd.to_datetime(df['sunrise'])\n",
      "C:\\Users\\User\\AppData\\Local\\Temp\\ipykernel_27548\\746551566.py:15: UserWarning: Could not infer format, so each element will be parsed individually, falling back to `dateutil`. To ensure parsing is consistent and as-expected, please specify a format.\n",
      "  df['duration_of_day'] = pd.to_datetime(df['sunset']) - pd.to_datetime(df['sunrise'])\n",
      "C:\\Users\\User\\AppData\\Local\\Temp\\ipykernel_27548\\746551566.py:15: UserWarning: Could not infer format, so each element will be parsed individually, falling back to `dateutil`. To ensure parsing is consistent and as-expected, please specify a format.\n",
      "  df['duration_of_day'] = pd.to_datetime(df['sunset']) - pd.to_datetime(df['sunrise'])\n",
      "C:\\Users\\User\\AppData\\Local\\Temp\\ipykernel_27548\\746551566.py:15: UserWarning: Could not infer format, so each element will be parsed individually, falling back to `dateutil`. To ensure parsing is consistent and as-expected, please specify a format.\n",
      "  df['duration_of_day'] = pd.to_datetime(df['sunset']) - pd.to_datetime(df['sunrise'])\n"
     ]
    },
    {
     "name": "stdout",
     "output_type": "stream",
     "text": [
      "Saved graph to ../Thung-Song-Graph/2021/summer/durationOfDay\\Duration_of_Day_2507-Kapang-durationOfDay.png\n",
      "Saved graph to ../Thung-Song-Graph/2021/summer/durationOfDay\\Duration_of_Day_2508-Khao Ro-durationOfDay.png\n",
      "Saved graph to ../Thung-Song-Graph/2021/summer/durationOfDay\\Duration_of_Day_2509-Na Luang Sen-durationOfDay.png\n"
     ]
    },
    {
     "name": "stderr",
     "output_type": "stream",
     "text": [
      "C:\\Users\\User\\AppData\\Local\\Temp\\ipykernel_27548\\746551566.py:15: UserWarning: Could not infer format, so each element will be parsed individually, falling back to `dateutil`. To ensure parsing is consistent and as-expected, please specify a format.\n",
      "  df['duration_of_day'] = pd.to_datetime(df['sunset']) - pd.to_datetime(df['sunrise'])\n",
      "C:\\Users\\User\\AppData\\Local\\Temp\\ipykernel_27548\\746551566.py:15: UserWarning: Could not infer format, so each element will be parsed individually, falling back to `dateutil`. To ensure parsing is consistent and as-expected, please specify a format.\n",
      "  df['duration_of_day'] = pd.to_datetime(df['sunset']) - pd.to_datetime(df['sunrise'])\n",
      "C:\\Users\\User\\AppData\\Local\\Temp\\ipykernel_27548\\746551566.py:15: UserWarning: Could not infer format, so each element will be parsed individually, falling back to `dateutil`. To ensure parsing is consistent and as-expected, please specify a format.\n",
      "  df['duration_of_day'] = pd.to_datetime(df['sunset']) - pd.to_datetime(df['sunrise'])\n",
      "C:\\Users\\User\\AppData\\Local\\Temp\\ipykernel_27548\\746551566.py:15: UserWarning: Could not infer format, so each element will be parsed individually, falling back to `dateutil`. To ensure parsing is consistent and as-expected, please specify a format.\n",
      "  df['duration_of_day'] = pd.to_datetime(df['sunset']) - pd.to_datetime(df['sunrise'])\n"
     ]
    },
    {
     "name": "stdout",
     "output_type": "stream",
     "text": [
      "Saved graph to ../Thung-Song-Graph/2021/summer/durationOfDay\\Duration_of_Day_2510-Namtok-durationOfDay.png\n",
      "Saved graph to ../Thung-Song-Graph/2021/summer/durationOfDay\\Duration_of_Day_2511-Khao Khao-durationOfDay.png\n"
     ]
    },
    {
     "name": "stderr",
     "output_type": "stream",
     "text": [
      "C:\\Users\\User\\AppData\\Local\\Temp\\ipykernel_27548\\746551566.py:15: UserWarning: Could not infer format, so each element will be parsed individually, falling back to `dateutil`. To ensure parsing is consistent and as-expected, please specify a format.\n",
      "  df['duration_of_day'] = pd.to_datetime(df['sunset']) - pd.to_datetime(df['sunrise'])\n",
      "C:\\Users\\User\\AppData\\Local\\Temp\\ipykernel_27548\\746551566.py:15: UserWarning: Could not infer format, so each element will be parsed individually, falling back to `dateutil`. To ensure parsing is consistent and as-expected, please specify a format.\n",
      "  df['duration_of_day'] = pd.to_datetime(df['sunset']) - pd.to_datetime(df['sunrise'])\n",
      "C:\\Users\\User\\AppData\\Local\\Temp\\ipykernel_27548\\746551566.py:15: UserWarning: Could not infer format, so each element will be parsed individually, falling back to `dateutil`. To ensure parsing is consistent and as-expected, please specify a format.\n",
      "  df['duration_of_day'] = pd.to_datetime(df['sunset']) - pd.to_datetime(df['sunrise'])\n",
      "C:\\Users\\User\\AppData\\Local\\Temp\\ipykernel_27548\\746551566.py:15: UserWarning: Could not infer format, so each element will be parsed individually, falling back to `dateutil`. To ensure parsing is consistent and as-expected, please specify a format.\n",
      "  df['duration_of_day'] = pd.to_datetime(df['sunset']) - pd.to_datetime(df['sunrise'])\n"
     ]
    },
    {
     "name": "stdout",
     "output_type": "stream",
     "text": [
      "Saved graph to ../Thung-Song-Graph/2021/summer/durationOfDay\\Duration_of_Day_2512-Tham Yai-durationOfDay.png\n",
      "Saved graph to ../Thung-Song-Graph/2021/summer/durationOfDay\\Duration_of_Day_combined_sunrise_sunset_duration.png\n"
     ]
    },
    {
     "name": "stderr",
     "output_type": "stream",
     "text": [
      "C:\\Users\\User\\AppData\\Local\\Temp\\ipykernel_27548\\746551566.py:15: UserWarning: Could not infer format, so each element will be parsed individually, falling back to `dateutil`. To ensure parsing is consistent and as-expected, please specify a format.\n",
      "  df['duration_of_day'] = pd.to_datetime(df['sunset']) - pd.to_datetime(df['sunrise'])\n",
      "C:\\Users\\User\\AppData\\Local\\Temp\\ipykernel_27548\\746551566.py:15: UserWarning: Could not infer format, so each element will be parsed individually, falling back to `dateutil`. To ensure parsing is consistent and as-expected, please specify a format.\n",
      "  df['duration_of_day'] = pd.to_datetime(df['sunset']) - pd.to_datetime(df['sunrise'])\n"
     ]
    }
   ],
   "source": [
    "for file in os.listdir(target):\n",
    "    df = pd.read_excel(os.path.join(target, file))\n",
    "    df['date'] = pd.to_datetime(df['date'], format='%Y/%m/%d')    \n",
    "    filtered_data = df[(df['date'] >= start_date) & (df['date'] <= end_date)]\n",
    "    # print(filtered_data.tail())\n",
    "    df = filtered_data\n",
    "    \n",
    "    # แปลงข้อมูลในคอลัมน์ 'date' เป็นชนิดข้อมูล datetime\n",
    "    df['date'] = pd.to_datetime(df['date'])\n",
    "\n",
    "    # กำหนด 'date' เป็น index\n",
    "    df.set_index('date', inplace=True)\n",
    "\n",
    "    # คำนวณระยะเวลาของแต่ละวัน\n",
    "    df['duration_of_day'] = pd.to_datetime(df['sunset']) - pd.to_datetime(df['sunrise'])\n",
    "\n",
    "    # สร้าง DataFrame ใหม่โดยรวมข้อมูลทุก 7 วัน\n",
    "    df_resampled = df.resample('7D').agg({'duration_of_day': 'mean'})\n",
    "\n",
    "    # เลื่อน index ไป 7 วัน\n",
    "    df_resampled.index = df_resampled.index + pd.DateOffset(days=6)\n",
    "\n",
    "    # แปลงระยะเวลาจากวินาทีเป็น ชั่วโมงและนาที\n",
    "    df_resampled['duration_hours'] = df_resampled['duration_of_day'].dt.seconds // 3600\n",
    "    df_resampled['duration_minutes'] = (df_resampled['duration_of_day'].dt.seconds % 3600) // 60\n",
    "\n",
    "    # ตัดข้อมูลเฉพาะที่ต้องการแสดง\n",
    "    end_date = df.index[-1]  # วันที่สิ้นสุดของข้อมูล\n",
    "    df_resampled = df_resampled[df_resampled.index <= end_date]\n",
    "\n",
    "    # พล็อตกราฟ\n",
    "    plt.figure(figsize=(10, 6))\n",
    "    plt.plot(df_resampled.index, df_resampled['duration_hours'] + df_resampled['duration_minutes'] / 60, label='duration_of_day', marker='o')\n",
    "    plt.xticks(df_resampled.index)\n",
    "\n",
    "    # แสดงตัวเลขบนแต่ละ marker\n",
    "    for i, (hours, minutes) in enumerate(zip(df_resampled['duration_hours'], df_resampled['duration_minutes'])):\n",
    "        time_str = f'{int(hours)}h {int(minutes)}m'\n",
    "        plt.text(df_resampled.index[i], hours + minutes / 60, time_str, ha='left', va='bottom')\n",
    "\n",
    "    # ปรับแต่งกราฟ\n",
    "    plt.title('Duration of Day Over Time (7-day Interval)')\n",
    "    plt.xlabel('Date')\n",
    "    plt.ylabel('Duration of Day')\n",
    "\n",
    "    # กำหนดแกน y ให้แสดงเป็นรูปแบบ \"11h48m\"\n",
    "    plt.gca().yaxis.set_major_formatter(FuncFormatter(lambda x, _: convert_to_time(x)))\n",
    "\n",
    "    plt.legend()\n",
    "    plt.grid(True)\n",
    "    plt.tight_layout()\n",
    "    # บันทึกภาพเป็นไฟล์ PNG\n",
    "    output_file = os.path.join(output_dir, f'Duration_of_Day_{file.split(\".\")[0]}.png')\n",
    "    plt.savefig(output_file, bbox_inches='tight')\n",
    "    plt.close()\n",
    "    \n",
    "    print(f\"Saved graph to {output_file}\")"
   ]
  },
  {
   "cell_type": "code",
   "execution_count": null,
   "metadata": {},
   "outputs": [],
   "source": []
  }
 ],
 "metadata": {
  "kernelspec": {
   "display_name": "yang",
   "language": "python",
   "name": "python3"
  },
  "language_info": {
   "codemirror_mode": {
    "name": "ipython",
    "version": 3
   },
   "file_extension": ".py",
   "mimetype": "text/x-python",
   "name": "python",
   "nbconvert_exporter": "python",
   "pygments_lexer": "ipython3",
   "version": "3.12.3"
  }
 },
 "nbformat": 4,
 "nbformat_minor": 2
}
