{
 "cells": [
  {
   "cell_type": "code",
   "execution_count": 61,
   "metadata": {},
   "outputs": [],
   "source": [
    "import pandas as pd\n",
    "import matplotlib.pyplot as plt\n",
    "import os\n",
    "from matplotlib.ticker import FuncFormatter"
   ]
  },
  {
   "cell_type": "code",
   "execution_count": 62,
   "metadata": {},
   "outputs": [],
   "source": [
    "start_date = '2023-11-27'\n",
    "# end_date ='2021-08-28'\n",
    "\n",
    "start_date = pd.to_datetime(start_date) \n",
    "# end_date = pd.to_datetime(end_date)\n",
    "end_date = start_date + pd.Timedelta(days=35)\n"
   ]
  },
  {
   "cell_type": "code",
   "execution_count": 63,
   "metadata": {},
   "outputs": [],
   "source": [
    "target = '../Chanae-combined_files'\n",
    "# sunny rainy winter\n",
    "output_dir = '../Chanae-Graph/2023/winter'"
   ]
  },
  {
   "cell_type": "code",
   "execution_count": 64,
   "metadata": {},
   "outputs": [],
   "source": [
    "sixfactor_dir = ['d2m','RH','temperature','rainfall','ws','uvb','durationOfDay']\n",
    "for dir in sixfactor_dir:\n",
    "    if not os.path.exists(os.path.join(output_dir,dir)):\n",
    "        os.makedirs(os.path.join(output_dir,dir))"
   ]
  },
  {
   "cell_type": "code",
   "execution_count": 65,
   "metadata": {},
   "outputs": [
    {
     "name": "stdout",
     "output_type": "stream",
     "text": [
      "Saved graph to ../Chanae-Graph/2023/winter\\d2m\\D2m_Chanae.png\n",
      "Saved graph to ../Chanae-Graph/2023/winter\\d2m\\D2m_Chang-Phueak.png\n",
      "Saved graph to ../Chanae-Graph/2023/winter\\d2m\\D2m_Du-Song-Yo.png\n",
      "Saved graph to ../Chanae-Graph/2023/winter\\d2m\\D2m_Phadung-Mat.png\n"
     ]
    }
   ],
   "source": [
    "for file in os.listdir(target):\n",
    "    df = pd.read_excel(os.path.join(target, file))\n",
    "    df['date'] = pd.to_datetime(df['date'], format='%Y/%m/%d')    \n",
    "    filtered_data = df[(df['date'] >= start_date) & (df['date'] <= end_date)]\n",
    "    \n",
    "    df = filtered_data\n",
    "\n",
    "    # print(df.head(7))    \n",
    "    # แปลงข้อมูลในคอลัมน์ 'date' เป็นชนิดข้อมูล datetime\n",
    "    df['date'] = pd.to_datetime(df['date'])\n",
    "\n",
    "    # กำหนด 'date' เป็น index\n",
    "    df.set_index('date', inplace=True)\n",
    "\n",
    "    # สร้าง DataFrame ใหม่โดยรวมข้อมูลทุก 7 วัน\n",
    "    df_resampled = df.resample('7D').agg({'d2m': 'mean'})\n",
    "\n",
    "    # เลื่อน index ไป 7 วัน\n",
    "    df_resampled.index = df_resampled.index + pd.DateOffset(days=6)\n",
    "\n",
    "    # # ตัดข้อมูลเฉพาะที่ต้องการแสดง\n",
    "    end_date = df.index[-1]  # วันที่สิ้นสุดของข้อมูล\n",
    "    df_resampled = df_resampled[df_resampled.index <= end_date]\n",
    "\n",
    "    # พล็อตกราฟ\n",
    "    plt.figure(figsize=(10, 6))\n",
    "\n",
    "    # # พล็อตกราฟจุดน้ำค้าง\n",
    "    plt.plot(df_resampled.index, df_resampled['d2m'], label='Dew Point', marker='o')\n",
    "\n",
    "    # ปรับตำแหน่ง x ของ marker ให้ตรงกับข้อมูลที่ถูกรวมรวมแล้ว\n",
    "    plt.xticks(df_resampled.index)\n",
    "\n",
    "\n",
    "    # ปรับแต่งกราฟ\n",
    "    plt.title('Dew Point Over Time (7-day Interval)')\n",
    "    plt.xlabel('Date')\n",
    "    plt.ylabel('Dew Point (°C)')\n",
    "    plt.legend()\n",
    "    plt.xticks(rotation=45)\n",
    "    plt.grid(True)\n",
    "    # บันทึกภาพเป็นไฟล์ PNG\n",
    "    output_file = os.path.join(output_dir,sixfactor_dir[0], f'D2m_{file.split(\".\")[0]}.png')\n",
    "    plt.savefig(output_file, bbox_inches='tight')\n",
    "    plt.close()\n",
    "    \n",
    "    print(f\"Saved graph to {output_file}\")\n",
    "\n"
   ]
  },
  {
   "cell_type": "code",
   "execution_count": 66,
   "metadata": {},
   "outputs": [
    {
     "name": "stdout",
     "output_type": "stream",
     "text": [
      "Saved graph to ../Chanae-Graph/2023/winter\\RH\\RH_Chanae.png\n",
      "Saved graph to ../Chanae-Graph/2023/winter\\RH\\RH_Chang-Phueak.png\n",
      "Saved graph to ../Chanae-Graph/2023/winter\\RH\\RH_Du-Song-Yo.png\n",
      "Saved graph to ../Chanae-Graph/2023/winter\\RH\\RH_Phadung-Mat.png\n"
     ]
    }
   ],
   "source": [
    "\n",
    "for file in os.listdir(target):\n",
    "    df = pd.read_excel(os.path.join(target, file))\n",
    "    df['date'] = pd.to_datetime(df['date'], format='%Y/%m/%d')    \n",
    "    filtered_data = df[(df['date'] >= start_date) & (df['date'] <= end_date)]\n",
    "    \n",
    "    df = filtered_data\n",
    "    \n",
    "    # แปลงข้อมูลในคอลัมน์ 'date' เป็นชนิดข้อมูล datetime\n",
    "    df['date'] = pd.to_datetime(df['date'])\n",
    "\n",
    "    # กำหนด 'date' เป็น index\n",
    "    df.set_index('date', inplace=True)\n",
    "\n",
    "    # สร้าง DataFrame ใหม่โดยรวมข้อมูลทุก 7 วัน\n",
    "    df_resampled = df.resample('7D').agg({'RH': 'mean'})\n",
    "\n",
    "    # เลื่อน index ไป 7 วัน\n",
    "    df_resampled.index = df_resampled.index + pd.DateOffset(days=6)\n",
    "\n",
    "    # # ตัดข้อมูลเฉพาะที่ต้องการแสดง\n",
    "    end_date = df.index[-1]  # วันที่สิ้นสุดของข้อมูล\n",
    "    df_resampled = df_resampled[df_resampled.index <= end_date]\n",
    "\n",
    "    # พล็อตกราฟ\n",
    "    plt.figure(figsize=(10, 6))\n",
    "\n",
    "    # พล็อตกราฟความชื้น\n",
    "    plt.plot(df_resampled.index, df_resampled['RH']*100, label='RH', marker='o')\n",
    "\n",
    "    # ปรับตำแหน่ง x ของ marker ให้ตรงกับข้อมูลที่ถูกรวมรวมแล้ว\n",
    "    plt.xticks(df_resampled.index)\n",
    "\n",
    "    # ปรับแต่งกราฟ\n",
    "    plt.title('Relative Humidity Over Time (7-day Interval)')\n",
    "    plt.xlabel('Date')\n",
    "    plt.ylabel('RH (%)')\n",
    "    plt.legend()\n",
    "    plt.xticks(rotation=45)\n",
    "    plt.grid(True)\n",
    "    # บันทึกภาพเป็นไฟล์ PNG\n",
    "    output_file = os.path.join(output_dir,sixfactor_dir[1], f'RH_{file.split(\".\")[0]}.png')\n",
    "    plt.savefig(output_file, bbox_inches='tight')\n",
    "    plt.close()\n",
    "    \n",
    "    print(f\"Saved graph to {output_file}\")\n",
    "\n"
   ]
  },
  {
   "cell_type": "code",
   "execution_count": 67,
   "metadata": {},
   "outputs": [
    {
     "name": "stdout",
     "output_type": "stream",
     "text": [
      "Saved graph to ../Chanae-Graph/2023/winter\\temperature\\Temperature_Chanae.png\n",
      "Saved graph to ../Chanae-Graph/2023/winter\\temperature\\Temperature_Chang-Phueak.png\n",
      "Saved graph to ../Chanae-Graph/2023/winter\\temperature\\Temperature_Du-Song-Yo.png\n",
      "Saved graph to ../Chanae-Graph/2023/winter\\temperature\\Temperature_Phadung-Mat.png\n"
     ]
    }
   ],
   "source": [
    "for file in os.listdir(target):\n",
    "    df = pd.read_excel(os.path.join(target, file))\n",
    "    df['date'] = pd.to_datetime(df['date'], format='%Y/%m/%d')\n",
    "    filtered_data = df[(df['date'] >= start_date) & (df['date'] <= end_date)]\n",
    "    df = filtered_data\n",
    "\n",
    "    # แปลงข้อมูลในคอลัมน์ 'date' เป็นชนิดข้อมูล datetime\n",
    "    df['date'] = pd.to_datetime(df['date'])\n",
    "\n",
    "    # กำหนด 'date' เป็น index\n",
    "    df.set_index('date', inplace=True)\n",
    "\n",
    "   # สร้าง DataFrame ใหม่โดยรวมข้อมูลทุก 7 วัน\n",
    "    df_resampled = df.resample('7D').agg({'minTemp': 'min', 'maxTemp': 'max', 'meanTemp': 'mean'})\n",
    "\n",
    "    # เลื่อน index ไป 7 วัน\n",
    "    df_resampled.index = df_resampled.index + pd.DateOffset(days=6)\n",
    "\n",
    "    # # ตัดข้อมูลเฉพาะที่ต้องการแสดง\n",
    "    end_date = df.index[-1]  # วันที่สิ้นสุดของข้อมูล\n",
    "    df_resampled = df_resampled[df_resampled.index <= end_date]\n",
    "\n",
    "    # พล็อตกราฟ\n",
    "    plt.figure(figsize=(10, 6))\n",
    "\n",
    "    # พล็อตกราฟอุณหภูมิ\n",
    "    plt.plot(df_resampled.index, df_resampled['minTemp'], label='minTemp', marker='o')\n",
    "    plt.plot(df_resampled.index, df_resampled['meanTemp'], label='meanTemp', marker='o')\n",
    "    plt.plot(df_resampled.index, df_resampled['maxTemp'], label='maxTemp', marker='o')\n",
    "\n",
    "    # ปรับตำแหน่ง x ของ marker ให้ตรงกับข้อมูลที่ถูกรวมรวมแล้ว\n",
    "    plt.xticks(df_resampled.index)\n",
    "\n",
    "    # ปรับแต่งกราฟ\n",
    "    plt.title('Temperature Over Time (7-day Interval)')\n",
    "    plt.xlabel('Date')\n",
    "    plt.ylabel('Temp (°C)')\n",
    "    plt.legend()\n",
    "    plt.xticks(rotation=45)\n",
    "    plt.grid(True)\n",
    "\n",
    "    # บันทึกภาพเป็นไฟล์ PNG\n",
    "    output_file = os.path.join(output_dir, sixfactor_dir[2],f'Temperature_{file.split(\".\")[0]}.png')\n",
    "    plt.savefig(output_file, bbox_inches='tight')\n",
    "    plt.close()\n",
    "\n",
    "    print(f\"Saved graph to {output_file}\")"
   ]
  },
  {
   "cell_type": "code",
   "execution_count": 68,
   "metadata": {},
   "outputs": [
    {
     "name": "stdout",
     "output_type": "stream",
     "text": [
      "Saved graph to ../Chanae-Graph/2023/winter\\rainfall\\Rainfall_Chanae.png\n",
      "Saved graph to ../Chanae-Graph/2023/winter\\rainfall\\Rainfall_Chang-Phueak.png\n",
      "Saved graph to ../Chanae-Graph/2023/winter\\rainfall\\Rainfall_Du-Song-Yo.png\n",
      "Saved graph to ../Chanae-Graph/2023/winter\\rainfall\\Rainfall_Phadung-Mat.png\n"
     ]
    }
   ],
   "source": [
    "for file in os.listdir(target):\n",
    "    df = pd.read_excel(os.path.join(target, file))\n",
    "    df['date'] = pd.to_datetime(df['date'], format='%Y/%m/%d')    \n",
    "    filtered_data = df[(df['date'] >= start_date) & (df['date'] <= end_date)]\n",
    "    # print(filtered_data.tail())\n",
    "    df = filtered_data\n",
    "    \n",
    "    # แปลงข้อมูลในคอลัมน์ 'date' เป็นชนิดข้อมูล datetime\n",
    "    df['date'] = pd.to_datetime(df['date'])\n",
    "\n",
    "    # กำหนด 'date' เป็น index\n",
    "    df.set_index('date', inplace=True)\n",
    "\n",
    "    # สร้าง DataFrame ใหม่โดยรวมข้อมูลทุก 7 วัน\n",
    "    df_resampled = df.resample('7D').sum() \n",
    "\n",
    "    # เลื่อน index ไป 7 วัน\n",
    "    df_resampled.index = df_resampled.index + pd.DateOffset(days=6)\n",
    "\n",
    "    # # ตัดข้อมูลเฉพาะที่ต้องการแสดง\n",
    "    end_date = df.index[-1]  # วันที่สิ้นสุดของข้อมูล\n",
    "    df_resampled = df_resampled[df_resampled.index <= end_date]\n",
    "\n",
    "    # Plot the graph\n",
    "    plt.figure(figsize=(10, 6))\n",
    "\n",
    "    plt.plot(df_resampled.index, df_resampled['tp']*1000, label='Rainfall', marker='o')\n",
    "\n",
    "    # ปรับตำแหน่ง x ของ marker ให้ตรงกับข้อมูลที่ถูกรวมรวมแล้ว\n",
    "    plt.xticks(df_resampled.index)\n",
    "\n",
    "    plt.title('Rainfall Over Time (7-day Interval)')  # Corrected title\n",
    "    plt.xlabel('Date')\n",
    "    plt.ylabel('Rainfall (mm)')  # Adjusted unit to millimeters\n",
    "    plt.legend()\n",
    "    plt.xticks(rotation=45)\n",
    "    plt.grid(True)\n",
    "    # บันทึกภาพเป็นไฟล์ PNG\n",
    "    output_file = os.path.join(output_dir, sixfactor_dir[3],f'Rainfall_{file.split(\".\")[0]}.png')\n",
    "    plt.savefig(output_file, bbox_inches='tight')\n",
    "    plt.close()\n",
    "    \n",
    "    print(f\"Saved graph to {output_file}\")"
   ]
  },
  {
   "cell_type": "code",
   "execution_count": 69,
   "metadata": {},
   "outputs": [
    {
     "name": "stdout",
     "output_type": "stream",
     "text": [
      "Saved graph to ../Chanae-Graph/2023/winter\\ws\\Ws_Chanae.png\n",
      "Saved graph to ../Chanae-Graph/2023/winter\\ws\\Ws_Chang-Phueak.png\n",
      "Saved graph to ../Chanae-Graph/2023/winter\\ws\\Ws_Du-Song-Yo.png\n",
      "Saved graph to ../Chanae-Graph/2023/winter\\ws\\Ws_Phadung-Mat.png\n"
     ]
    }
   ],
   "source": [
    "for file in os.listdir(target):\n",
    "    df = pd.read_excel(os.path.join(target, file))\n",
    "    df['date'] = pd.to_datetime(df['date'], format='%Y/%m/%d')    \n",
    "    filtered_data = df[(df['date'] >= start_date) & (df['date'] <= end_date)]\n",
    "    # print(filtered_data.tail())\n",
    "    df = filtered_data\n",
    "    \n",
    "    # แปลงข้อมูลในคอลัมน์ 'date' เป็นชนิดข้อมูล datetime\n",
    "    df['date'] = pd.to_datetime(df['date'])\n",
    "\n",
    "    # กำหนด 'date' เป็น index\n",
    "    df.set_index('date', inplace=True)\n",
    "\n",
    "    # สร้าง DataFrame ใหม่โดยรวมข้อมูลทุก 7 วัน\n",
    "    df_resampled = df.resample('7D').agg({'WS': 'mean'})\n",
    "\n",
    "    # เลื่อน index ไป 7 วัน\n",
    "    df_resampled.index = df_resampled.index + pd.DateOffset(days=6)\n",
    "\n",
    "    # # ตัดข้อมูลเฉพาะที่ต้องการแสดง\n",
    "    end_date = df.index[-1]  # วันที่สิ้นสุดของข้อมูล\n",
    "    df_resampled = df_resampled[df_resampled.index <= end_date]\n",
    "\n",
    "    # พล็อตกราฟ\n",
    "    plt.figure(figsize=(10, 6))\n",
    "\n",
    "    # พล็อตกราฟลม\n",
    "    plt.plot(df_resampled.index, df_resampled['WS'], label='WS', marker='o')\n",
    "\n",
    "    # ปรับตำแหน่ง x ของ marker ให้ตรงกับข้อมูลที่ถูกรวมรวมแล้ว\n",
    "    plt.xticks(df_resampled.index)\n",
    "\n",
    "    # ปรับแต่งกราฟ\n",
    "    plt.title('Wind Speed Over Time (7-day Interval)')\n",
    "    plt.xlabel('Date')\n",
    "    plt.ylabel('WS (m/s)')\n",
    "    plt.legend()\n",
    "    plt.xticks(rotation=45)\n",
    "    plt.grid(True)\n",
    "    # บันทึกภาพเป็นไฟล์ PNG\n",
    "    output_file = os.path.join(output_dir,sixfactor_dir[4], f'Ws_{file.split(\".\")[0]}.png')\n",
    "    plt.savefig(output_file, bbox_inches='tight')\n",
    "    plt.close()\n",
    "    \n",
    "    print(f\"Saved graph to {output_file}\")\n",
    "        "
   ]
  },
  {
   "cell_type": "code",
   "execution_count": 70,
   "metadata": {},
   "outputs": [
    {
     "name": "stdout",
     "output_type": "stream",
     "text": [
      "Saved graph to ../Chanae-Graph/2023/winter\\uvb\\Radiation_Chanae.png\n",
      "Saved graph to ../Chanae-Graph/2023/winter\\uvb\\Radiation_Chang-Phueak.png\n",
      "Saved graph to ../Chanae-Graph/2023/winter\\uvb\\Radiation_Du-Song-Yo.png\n",
      "Saved graph to ../Chanae-Graph/2023/winter\\uvb\\Radiation_Phadung-Mat.png\n"
     ]
    }
   ],
   "source": [
    "for file in os.listdir(target):\n",
    "    df = pd.read_excel(os.path.join(target, file))\n",
    "    df['date'] = pd.to_datetime(df['date'], format='%Y/%m/%d')    \n",
    "    filtered_data = df[(df['date'] >= start_date) & (df['date'] <= end_date)]\n",
    "    # print(filtered_data.tail())\n",
    "    df = filtered_data\n",
    "    \n",
    "    # แปลงข้อมูลในคอลัมน์ 'date' เป็นชนิดข้อมูล datetime\n",
    "    df['date'] = pd.to_datetime(df['date'])\n",
    "\n",
    "    # กำหนด 'date' เป็น index\n",
    "    df.set_index('date', inplace=True)\n",
    "\n",
    "    # Convert 'uvb' column to numeric, coerce errors to NaN\n",
    "    df['uvb'] = pd.to_numeric(df['uvb'], errors='coerce')\n",
    "\n",
    "    # สร้าง DataFrame ใหม่โดยรวมข้อมูลทุก 7 วัน\n",
    "    df_resampled = df.resample('7D').agg({'uvb': 'mean'})\n",
    "\n",
    "    # เลื่อน index ไป 7 วัน\n",
    "    df_resampled.index = df_resampled.index + pd.DateOffset(days=6)\n",
    "\n",
    "    # ตัดข้อมูลเฉพาะที่ต้องการแสดง\n",
    "    end_date = df.index[-1]  # วันที่สิ้นสุดของข้อมูล\n",
    "    df_resampled = df_resampled[df_resampled.index <= end_date]\n",
    "\n",
    "    # พล็อตกราฟ\n",
    "    plt.figure(figsize=(10, 6))\n",
    "    plt.plot(df_resampled.index, df_resampled['uvb'], label='radiation', marker='o')\n",
    "    plt.xticks(df_resampled.index)\n",
    "\n",
    "    # แสดงตัวเลขบนแต่ละ marker\n",
    "    for i, value in enumerate(df_resampled['uvb']):\n",
    "        plt.text(df_resampled.index[i], value, f'{value:.2f}', ha='left', va='bottom')\n",
    "\n",
    "    # ปรับแต่งกราฟ\n",
    "    plt.title('Radiation Over Time (7-day Interval)')\n",
    "    plt.xlabel('Date')\n",
    "    plt.ylabel('Radiation (J/m^2)')\n",
    "    plt.legend()\n",
    "    plt.grid(True)\n",
    "    plt.tight_layout()\n",
    "    # บันทึกภาพเป็นไฟล์ PNG\n",
    "    output_file = os.path.join(output_dir,sixfactor_dir[5], f'Radiation_{file.split(\".\")[0]}.png')\n",
    "    plt.savefig(output_file, bbox_inches='tight')\n",
    "    plt.close()\n",
    "    \n",
    "    print(f\"Saved graph to {output_file}\")\n",
    "        "
   ]
  },
  {
   "cell_type": "code",
   "execution_count": 71,
   "metadata": {},
   "outputs": [],
   "source": [
    "def convert_to_time(value):\n",
    "  hours = int(value)\n",
    "  minutes = round((value - hours) * 60)\n",
    "  return f\"{hours}h{minutes}m\""
   ]
  },
  {
   "cell_type": "code",
   "execution_count": 72,
   "metadata": {},
   "outputs": [
    {
     "name": "stderr",
     "output_type": "stream",
     "text": [
      "C:\\Users\\User\\AppData\\Local\\Temp\\ipykernel_11100\\2200666518.py:15: UserWarning: Could not infer format, so each element will be parsed individually, falling back to `dateutil`. To ensure parsing is consistent and as-expected, please specify a format.\n",
      "  df['duration_of_day'] = pd.to_datetime(df['sunset']) - pd.to_datetime(df['sunrise'])\n",
      "C:\\Users\\User\\AppData\\Local\\Temp\\ipykernel_11100\\2200666518.py:15: UserWarning: Could not infer format, so each element will be parsed individually, falling back to `dateutil`. To ensure parsing is consistent and as-expected, please specify a format.\n",
      "  df['duration_of_day'] = pd.to_datetime(df['sunset']) - pd.to_datetime(df['sunrise'])\n"
     ]
    },
    {
     "name": "stdout",
     "output_type": "stream",
     "text": [
      "Saved graph to ../Chanae-Graph/2023/winter\\durationOfDay\\Duration_of_Day_Chanae.png\n"
     ]
    },
    {
     "name": "stderr",
     "output_type": "stream",
     "text": [
      "C:\\Users\\User\\AppData\\Local\\Temp\\ipykernel_11100\\2200666518.py:15: UserWarning: Could not infer format, so each element will be parsed individually, falling back to `dateutil`. To ensure parsing is consistent and as-expected, please specify a format.\n",
      "  df['duration_of_day'] = pd.to_datetime(df['sunset']) - pd.to_datetime(df['sunrise'])\n",
      "C:\\Users\\User\\AppData\\Local\\Temp\\ipykernel_11100\\2200666518.py:15: UserWarning: Could not infer format, so each element will be parsed individually, falling back to `dateutil`. To ensure parsing is consistent and as-expected, please specify a format.\n",
      "  df['duration_of_day'] = pd.to_datetime(df['sunset']) - pd.to_datetime(df['sunrise'])\n"
     ]
    },
    {
     "name": "stdout",
     "output_type": "stream",
     "text": [
      "Saved graph to ../Chanae-Graph/2023/winter\\durationOfDay\\Duration_of_Day_Chang-Phueak.png\n"
     ]
    },
    {
     "name": "stderr",
     "output_type": "stream",
     "text": [
      "C:\\Users\\User\\AppData\\Local\\Temp\\ipykernel_11100\\2200666518.py:15: UserWarning: Could not infer format, so each element will be parsed individually, falling back to `dateutil`. To ensure parsing is consistent and as-expected, please specify a format.\n",
      "  df['duration_of_day'] = pd.to_datetime(df['sunset']) - pd.to_datetime(df['sunrise'])\n",
      "C:\\Users\\User\\AppData\\Local\\Temp\\ipykernel_11100\\2200666518.py:15: UserWarning: Could not infer format, so each element will be parsed individually, falling back to `dateutil`. To ensure parsing is consistent and as-expected, please specify a format.\n",
      "  df['duration_of_day'] = pd.to_datetime(df['sunset']) - pd.to_datetime(df['sunrise'])\n"
     ]
    },
    {
     "name": "stdout",
     "output_type": "stream",
     "text": [
      "Saved graph to ../Chanae-Graph/2023/winter\\durationOfDay\\Duration_of_Day_Du-Song-Yo.png\n",
      "Saved graph to ../Chanae-Graph/2023/winter\\durationOfDay\\Duration_of_Day_Phadung-Mat.png\n"
     ]
    },
    {
     "name": "stderr",
     "output_type": "stream",
     "text": [
      "C:\\Users\\User\\AppData\\Local\\Temp\\ipykernel_11100\\2200666518.py:15: UserWarning: Could not infer format, so each element will be parsed individually, falling back to `dateutil`. To ensure parsing is consistent and as-expected, please specify a format.\n",
      "  df['duration_of_day'] = pd.to_datetime(df['sunset']) - pd.to_datetime(df['sunrise'])\n",
      "C:\\Users\\User\\AppData\\Local\\Temp\\ipykernel_11100\\2200666518.py:15: UserWarning: Could not infer format, so each element will be parsed individually, falling back to `dateutil`. To ensure parsing is consistent and as-expected, please specify a format.\n",
      "  df['duration_of_day'] = pd.to_datetime(df['sunset']) - pd.to_datetime(df['sunrise'])\n"
     ]
    }
   ],
   "source": [
    "for file in os.listdir(target):\n",
    "    df = pd.read_excel(os.path.join(target, file))\n",
    "    df['date'] = pd.to_datetime(df['date'], format='%Y/%m/%d')    \n",
    "    filtered_data = df[(df['date'] >= start_date) & (df['date'] <= end_date)]\n",
    "    # print(filtered_data.tail())\n",
    "    df = filtered_data\n",
    "\n",
    "    # แปลงข้อมูลในคอลัมน์ 'date' เป็นชนิดข้อมูล datetime\n",
    "    df['date'] = pd.to_datetime(df['date'])\n",
    "\n",
    "    # กำหนด 'date' เป็น index\n",
    "    df.set_index('date', inplace=True)\n",
    "\n",
    "    # คำนวณระยะเวลาของแต่ละวัน\n",
    "    df['duration_of_day'] = pd.to_datetime(df['sunset']) - pd.to_datetime(df['sunrise'])\n",
    "\n",
    "    # สร้าง DataFrame ใหม่โดยรวมข้อมูลทุก 7 วัน\n",
    "    df_resampled = df.resample('7D').agg({'duration_of_day': 'mean'})\n",
    "\n",
    "    # เลื่อน index ไป 7 วัน\n",
    "    df_resampled.index = df_resampled.index + pd.DateOffset(days=6)\n",
    "\n",
    "    # แปลงระยะเวลาจากวินาทีเป็น ชั่วโมงและนาที\n",
    "    df_resampled['duration_hours'] = df_resampled['duration_of_day'].dt.seconds // 3600\n",
    "    df_resampled['duration_minutes'] = (df_resampled['duration_of_day'].dt.seconds % 3600) // 60\n",
    "\n",
    "    # ตัดข้อมูลเฉพาะที่ต้องการแสดง\n",
    "    end_date = df.index[-1]  # วันที่สิ้นสุดของข้อมูล\n",
    "    df_resampled = df_resampled[df_resampled.index <= end_date]\n",
    "\n",
    "    # พล็อตกราฟ\n",
    "    plt.figure(figsize=(10, 6))\n",
    "    plt.plot(df_resampled.index, df_resampled['duration_hours'] + df_resampled['duration_minutes'] / 60, label='duration_of_day', marker='o')\n",
    "    plt.xticks(df_resampled.index)\n",
    "\n",
    "    # แสดงตัวเลขบนแต่ละ marker\n",
    "    for i, (hours, minutes) in enumerate(zip(df_resampled['duration_hours'], df_resampled['duration_minutes'])):\n",
    "        time_str = f'{int(hours)}h {int(minutes)}m'\n",
    "        plt.text(df_resampled.index[i], hours + minutes / 60, time_str, ha='left', va='bottom')\n",
    "\n",
    "    # ปรับแต่งกราฟ\n",
    "    plt.title('Duration of Day Over Time (7-day Interval)')\n",
    "    plt.xlabel('Date')\n",
    "    plt.ylabel('Duration of Day')\n",
    "\n",
    "    # กำหนดแกน y ให้แสดงเป็นรูปแบบ \"11h48m\"\n",
    "    plt.gca().yaxis.set_major_formatter(FuncFormatter(lambda x, _: convert_to_time(x)))\n",
    "\n",
    "    plt.legend()\n",
    "    plt.grid(True)\n",
    "    plt.tight_layout()\n",
    "    # บันทึกภาพเป็นไฟล์ PNG\n",
    "    output_file = os.path.join(output_dir,sixfactor_dir[6], f'Duration_of_Day_{file.split(\".\")[0]}.png')\n",
    "    plt.savefig(output_file, bbox_inches='tight')\n",
    "    plt.close()\n",
    "    \n",
    "    print(f\"Saved graph to {output_file}\")"
   ]
  },
  {
   "cell_type": "code",
   "execution_count": null,
   "metadata": {},
   "outputs": [],
   "source": []
  }
 ],
 "metadata": {
  "kernelspec": {
   "display_name": "yang",
   "language": "python",
   "name": "python3"
  },
  "language_info": {
   "codemirror_mode": {
    "name": "ipython",
    "version": 3
   },
   "file_extension": ".py",
   "mimetype": "text/x-python",
   "name": "python",
   "nbconvert_exporter": "python",
   "pygments_lexer": "ipython3",
   "version": "3.12.3"
  }
 },
 "nbformat": 4,
 "nbformat_minor": 2
}
