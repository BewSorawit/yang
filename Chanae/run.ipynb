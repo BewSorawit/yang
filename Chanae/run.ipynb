{
 "cells": [
  {
   "cell_type": "code",
   "execution_count": 1,
   "metadata": {},
   "outputs": [],
   "source": [
    "import pandas as pd\n",
    "import matplotlib.pyplot as plt\n",
    "import os\n",
    "from matplotlib.ticker import FuncFormatter"
   ]
  },
  {
   "cell_type": "code",
   "execution_count": 49,
   "metadata": {},
   "outputs": [],
   "source": [
    "start_date = '2023-12-18'\n",
    "# end_date ='2021-08-28'\n",
    "\n",
    "start_date = pd.to_datetime(start_date) \n",
    "# end_date = pd.to_datetime(end_date)\n",
    "end_date = start_date + pd.Timedelta(days=35)\n"
   ]
  },
  {
   "cell_type": "code",
   "execution_count": 50,
   "metadata": {},
   "outputs": [],
   "source": [
    "target = '../Chanae-combined_files'\n",
    "# sunny rainy winter\n",
    "output_dir = '../Chanae-Graph/2023/winter'"
   ]
  },
  {
   "cell_type": "code",
   "execution_count": 51,
   "metadata": {},
   "outputs": [],
   "source": [
    "# sixfactor_dir = ['d2m','RH','temperature','rainfall','ws','uvb','durationOfDay','sevenFactor']\n",
    "sixfactor_dir = ['sevenFactor']\n",
    "for dir in sixfactor_dir:\n",
    "    if not os.path.exists(os.path.join(output_dir,dir)):\n",
    "        os.makedirs(os.path.join(output_dir,dir))"
   ]
  },
  {
   "cell_type": "code",
   "execution_count": 52,
   "metadata": {},
   "outputs": [
    {
     "name": "stderr",
     "output_type": "stream",
     "text": [
      "C:\\Users\\User\\AppData\\Local\\Temp\\ipykernel_21572\\1248333778.py:28: UserWarning: Could not infer format, so each element will be parsed individually, falling back to `dateutil`. To ensure parsing is consistent and as-expected, please specify a format.\n",
      "  df['duration_of_day'] = pd.to_datetime(df['sunset']) - pd.to_datetime(df['sunrise'])\n",
      "C:\\Users\\User\\AppData\\Local\\Temp\\ipykernel_21572\\1248333778.py:28: UserWarning: Could not infer format, so each element will be parsed individually, falling back to `dateutil`. To ensure parsing is consistent and as-expected, please specify a format.\n",
      "  df['duration_of_day'] = pd.to_datetime(df['sunset']) - pd.to_datetime(df['sunrise'])\n"
     ]
    },
    {
     "name": "stdout",
     "output_type": "stream",
     "text": [
      "Saved graph to ../Chanae-Graph/2023/winter\\sevenFactor\\SevenFactor_Chanae.png\n"
     ]
    },
    {
     "name": "stderr",
     "output_type": "stream",
     "text": [
      "C:\\Users\\User\\AppData\\Local\\Temp\\ipykernel_21572\\1248333778.py:28: UserWarning: Could not infer format, so each element will be parsed individually, falling back to `dateutil`. To ensure parsing is consistent and as-expected, please specify a format.\n",
      "  df['duration_of_day'] = pd.to_datetime(df['sunset']) - pd.to_datetime(df['sunrise'])\n",
      "C:\\Users\\User\\AppData\\Local\\Temp\\ipykernel_21572\\1248333778.py:28: UserWarning: Could not infer format, so each element will be parsed individually, falling back to `dateutil`. To ensure parsing is consistent and as-expected, please specify a format.\n",
      "  df['duration_of_day'] = pd.to_datetime(df['sunset']) - pd.to_datetime(df['sunrise'])\n"
     ]
    },
    {
     "name": "stdout",
     "output_type": "stream",
     "text": [
      "Saved graph to ../Chanae-Graph/2023/winter\\sevenFactor\\SevenFactor_Chang-Phueak.png\n"
     ]
    },
    {
     "name": "stderr",
     "output_type": "stream",
     "text": [
      "C:\\Users\\User\\AppData\\Local\\Temp\\ipykernel_21572\\1248333778.py:28: UserWarning: Could not infer format, so each element will be parsed individually, falling back to `dateutil`. To ensure parsing is consistent and as-expected, please specify a format.\n",
      "  df['duration_of_day'] = pd.to_datetime(df['sunset']) - pd.to_datetime(df['sunrise'])\n",
      "C:\\Users\\User\\AppData\\Local\\Temp\\ipykernel_21572\\1248333778.py:28: UserWarning: Could not infer format, so each element will be parsed individually, falling back to `dateutil`. To ensure parsing is consistent and as-expected, please specify a format.\n",
      "  df['duration_of_day'] = pd.to_datetime(df['sunset']) - pd.to_datetime(df['sunrise'])\n"
     ]
    },
    {
     "name": "stdout",
     "output_type": "stream",
     "text": [
      "Saved graph to ../Chanae-Graph/2023/winter\\sevenFactor\\SevenFactor_Du-Song-Yo.png\n"
     ]
    },
    {
     "name": "stderr",
     "output_type": "stream",
     "text": [
      "C:\\Users\\User\\AppData\\Local\\Temp\\ipykernel_21572\\1248333778.py:28: UserWarning: Could not infer format, so each element will be parsed individually, falling back to `dateutil`. To ensure parsing is consistent and as-expected, please specify a format.\n",
      "  df['duration_of_day'] = pd.to_datetime(df['sunset']) - pd.to_datetime(df['sunrise'])\n",
      "C:\\Users\\User\\AppData\\Local\\Temp\\ipykernel_21572\\1248333778.py:28: UserWarning: Could not infer format, so each element will be parsed individually, falling back to `dateutil`. To ensure parsing is consistent and as-expected, please specify a format.\n",
      "  df['duration_of_day'] = pd.to_datetime(df['sunset']) - pd.to_datetime(df['sunrise'])\n"
     ]
    },
    {
     "name": "stdout",
     "output_type": "stream",
     "text": [
      "Saved graph to ../Chanae-Graph/2023/winter\\sevenFactor\\SevenFactor_Phadung-Mat.png\n"
     ]
    }
   ],
   "source": [
    "colors = {\n",
    "    'd2m': 'deeppink',\n",
    "    'RH': 'green',\n",
    "    'minTemp': 'orange',\n",
    "    'meanTemp': 'orangered',\n",
    "    'maxTemp': 'darkred',\n",
    "    'tp': 'blue',\n",
    "    'WS': 'dodgerblue',\n",
    "    'uvb': 'darkviolet',\n",
    "    'duration_of_day': 'black',\n",
    "}\n",
    "\n",
    "for file in os.listdir(target):\n",
    "    df = pd.read_excel(os.path.join(target, file))\n",
    "    df['date'] = pd.to_datetime(df['date'], format='%Y/%m/%d')    \n",
    "    filtered_data = df[(df['date'] >= start_date) & (df['date'] <= end_date)]\n",
    "\n",
    "    df = filtered_data\n",
    "\n",
    "    # print(df.head(7))    \n",
    "    # แปลงข้อมูลในคอลัมน์ 'date' เป็นชนิดข้อมูล datetime\n",
    "    df['date'] = pd.to_datetime(df['date'])\n",
    "\n",
    "    # กำหนด 'date' เป็น index\n",
    "    df.set_index('date', inplace=True)\n",
    "\n",
    "    # คำนวณระยะเวลาของแต่ละวัน\n",
    "    df['duration_of_day'] = pd.to_datetime(df['sunset']) - pd.to_datetime(df['sunrise'])\n",
    "\n",
    "    # สร้าง DataFrame ใหม่โดยรวมข้อมูลทุก 7 วัน\n",
    "    df_resampled = df.resample('7D').agg({'d2m': 'mean', \n",
    "                                          'RH': 'mean', \n",
    "                                          'minTemp': 'min',\n",
    "                                          'maxTemp': 'max',\n",
    "                                          'meanTemp': 'mean',\n",
    "                                          'tp': 'sum',\n",
    "                                          'WS': 'mean',\n",
    "                                          'uvb': 'mean',\n",
    "                                          'duration_of_day': 'mean'\n",
    "                                          })\n",
    "\n",
    "    # เลื่อน index ไป 7 วัน\n",
    "    df_resampled.index = df_resampled.index + pd.DateOffset(days=6)\n",
    "\n",
    "    # # ตัดข้อมูลเฉพาะที่ต้องการแสดง\n",
    "    end_date = df.index[-1]  # วันที่สิ้นสุดของข้อมูล\n",
    "    df_resampled = df_resampled[df_resampled.index <= end_date]\n",
    "\n",
    "    # แปลงระยะเวลาจากวินาทีเป็น ชั่วโมงและนาที\n",
    "    df_resampled['duration_hours'] = df_resampled['duration_of_day'].dt.seconds // 3600\n",
    "    df_resampled['duration_minutes'] = (df_resampled['duration_of_day'].dt.seconds % 3600) // 60\n",
    "\n",
    "    # # พล็อตกราฟ\n",
    "    plt.figure(figsize=(10, 6))\n",
    "\n",
    "    # พล็อตกราฟจุดน้ำค้าง\n",
    "    plt.plot(df_resampled.index, df_resampled['d2m'], label='Dew Point (°C)', marker='s', color=colors['d2m'])\n",
    "    plt.plot(df_resampled.index, df_resampled['RH']*100, label='RH (%)', marker='o', color=colors['RH'])\n",
    "    plt.plot(df_resampled.index, df_resampled['minTemp'], label='minTemp (°C)', marker='s', color=colors['minTemp'])\n",
    "    plt.plot(df_resampled.index, df_resampled['meanTemp'], label='meanTemp (°C)', marker='s', color=colors['meanTemp'])\n",
    "    plt.plot(df_resampled.index, df_resampled['maxTemp'], label='maxTemp (°C)', marker='s', color=colors['maxTemp'])\n",
    "    plt.plot(df_resampled.index, df_resampled['tp']*1000, label='Rainfall (mm)', marker='o', color=colors['tp'])\n",
    "    plt.plot(df_resampled.index, df_resampled['WS'], label='WS (m/s)', marker='o', color=colors['WS'])\n",
    "    # 0 -> /1000\n",
    "    plt.plot(df_resampled.index, df_resampled['uvb']/1000, label='radiation (kJ/m^2) ', marker='o', color=colors['uvb'])\n",
    "    plt.plot(df_resampled.index, df_resampled['duration_hours'] + df_resampled['duration_minutes'] / 60, label='duration_of_day (hours)', marker='o', color=colors['duration_of_day'])\n",
    "\n",
    "    # ปรับตำแหน่ง x ของ marker ให้ตรงกับข้อมูลที่ถูกรวมรวมแล้ว\n",
    "    plt.xticks(df_resampled.index)\n",
    "\n",
    "\n",
    "    # ปรับแต่งกราฟ\n",
    "    plt.title('Seven Factor (7-day Interval)')\n",
    "    plt.xlabel('Date')\n",
    "    # ปรับตำแหน่ง label ให้ไม่บังกราฟ\n",
    "    # plt.legend()\n",
    "    plt.legend(bbox_to_anchor=(1, 1), loc='upper left')\n",
    "    plt.xticks(rotation=45)\n",
    "    # plt.tight_layout()\n",
    "    plt.grid(True)\n",
    "\n",
    "    # บันทึกภาพเป็นไฟล์ PNG\n",
    "    output_file = os.path.join(output_dir,sixfactor_dir[0], f'SevenFactor_{file.split(\".\")[0]}.png')\n",
    "    plt.savefig(output_file, bbox_inches='tight')\n",
    "    plt.close()\n",
    "    \n",
    "    print(f\"Saved graph to {output_file}\")\n"
   ]
  }
 ],
 "metadata": {
  "kernelspec": {
   "display_name": "yang",
   "language": "python",
   "name": "python3"
  },
  "language_info": {
   "codemirror_mode": {
    "name": "ipython",
    "version": 3
   },
   "file_extension": ".py",
   "mimetype": "text/x-python",
   "name": "python",
   "nbconvert_exporter": "python",
   "pygments_lexer": "ipython3",
   "version": "3.12.3"
  }
 },
 "nbformat": 4,
 "nbformat_minor": 2
}
