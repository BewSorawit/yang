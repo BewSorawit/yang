{
 "cells": [
  {
   "cell_type": "code",
   "execution_count": 1,
   "metadata": {},
   "outputs": [],
   "source": [
    "import os\n",
    "import pandas as pd"
   ]
  },
  {
   "cell_type": "code",
   "execution_count": 2,
   "metadata": {},
   "outputs": [],
   "source": [
    "root = os.path.join('../Chanae-final-SunriseSunset')"
   ]
  },
  {
   "cell_type": "code",
   "execution_count": 3,
   "metadata": {},
   "outputs": [],
   "source": [
    "dataframes = {}"
   ]
  },
  {
   "cell_type": "code",
   "execution_count": 4,
   "metadata": {},
   "outputs": [],
   "source": [
    "for root_dir in os.listdir(root):\n",
    "    subdir_path = os.path.join(root, root_dir)\n",
    "    if os.path.isdir(subdir_path):\n",
    "        for file in os.listdir(subdir_path):\n",
    "            if file.endswith('.xlsx'):\n",
    "                file_path = os.path.join(subdir_path, file)\n",
    "\n",
    "                df = pd.read_excel(file_path)\n",
    "                if file in dataframes:\n",
    "\n",
    "                    dataframes[file] = pd.concat([dataframes[file], df])\n",
    "                else:\n",
    "                    dataframes[file] = df"
   ]
  },
  {
   "cell_type": "code",
   "execution_count": 5,
   "metadata": {},
   "outputs": [
    {
     "name": "stdout",
     "output_type": "stream",
     "text": [
      "Files have been combined and saved.\n"
     ]
    }
   ],
   "source": [
    "output_dir = '../Chanae-combined_files'\n",
    "os.makedirs(output_dir, exist_ok=True)\n",
    "\n",
    "for file_name, df in dataframes.items():\n",
    "    output_path = os.path.join(output_dir, file_name)\n",
    "    df.to_excel(output_path, index=False)\n",
    "    print(output_path)\n",
    "print(\"Files have been combined and saved.\")"
   ]
  },
  {
   "cell_type": "code",
   "execution_count": null,
   "metadata": {},
   "outputs": [],
   "source": []
  }
 ],
 "metadata": {
  "kernelspec": {
   "display_name": "yang",
   "language": "python",
   "name": "python3"
  },
  "language_info": {
   "codemirror_mode": {
    "name": "ipython",
    "version": 3
   },
   "file_extension": ".py",
   "mimetype": "text/x-python",
   "name": "python",
   "nbconvert_exporter": "python",
   "pygments_lexer": "ipython3",
   "version": "3.12.3"
  }
 },
 "nbformat": 4,
 "nbformat_minor": 2
}
