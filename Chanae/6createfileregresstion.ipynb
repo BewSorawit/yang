{
 "cells": [
  {
   "cell_type": "markdown",
   "metadata": {},
   "source": [
    "### 2021/01/01 - 2023/02/13"
   ]
  },
  {
   "cell_type": "code",
   "execution_count": 1,
   "metadata": {},
   "outputs": [],
   "source": [
    "import os\n",
    "import pandas as pd\n",
    "from sklearn.model_selection import train_test_split\n",
    "from sklearn.linear_model import LinearRegression\n",
    "from sklearn.metrics import mean_squared_error, r2_score"
   ]
  },
  {
   "cell_type": "code",
   "execution_count": 2,
   "metadata": {},
   "outputs": [],
   "source": [
    "target = '../Chanae-combined_files'\n",
    "output = '../Chanae-regression'\n",
    "\n",
    "if not os.path.exists(output):\n",
    "    os.makedirs(output)"
   ]
  },
  {
   "cell_type": "code",
   "execution_count": 76,
   "metadata": {},
   "outputs": [],
   "source": [
    "evaluation_results = []\n",
    "for file in os.listdir(target):\n",
    "    df = pd.read_excel(os.path.join(target, file))\n",
    "    filtered_data = df[(df['date'] >= df['date'].iloc[0]) & (df['date'] <= '2023/02/13')].copy()\n",
    "\n",
    "    num_rows = len(filtered_data)\n",
    "    \n",
    "    # Calculate the increment value to ensure the last value is 112005\n",
    "    increment_value = 112005 / num_rows\n",
    "\n",
    "    # Create the 'disease' column with values incrementing and ending at 112005\n",
    "    filtered_data['disease'] = (filtered_data.index + 1) * increment_value\n",
    "\n",
    "    output_path = os.path.join(output, f\"{os.path.splitext(file)[0]}-regression.xlsx\")\n",
    "    filtered_data.to_excel(output_path, index=False, engine='openpyxl')"
   ]
  },
  {
   "cell_type": "code",
   "execution_count": 77,
   "metadata": {},
   "outputs": [
    {
     "name": "stdout",
     "output_type": "stream",
     "text": [
      "         date  latitude   longitude           uvb         e        stl1  \\\n",
      "0  2021/01/01     6.132  101.727997  46078.721099 -0.000096  298.049707   \n",
      "\n",
      "             sp        tp       d2m    minTemp   meanTemp    maxTemp  \\\n",
      "0  99059.281276  0.000455  23.80631  23.772347  25.234502  26.864652   \n",
      "\n",
      "         RH       WS   sunrise    sunset  durationOfDay     disease  \n",
      "0  0.918135  1.29924  06:24:31  18:10:52        11.7725  144.709302  \n",
      "           date  latitude   longitude           uvb         e        stl1  \\\n",
      "773  2023/02/13     6.132  101.727997  94001.933344 -0.000166  298.915486   \n",
      "\n",
      "               sp        tp        d2m    minTemp   meanTemp    maxTemp  \\\n",
      "773  99021.641699  0.000024  23.276866  23.354907  26.394641  31.307523   \n",
      "\n",
      "           RH        WS   sunrise    sunset  durationOfDay   disease  \n",
      "773  0.830257  0.594864  06:31:13  18:26:13      11.916667  112005.0  \n"
     ]
    }
   ],
   "source": [
    "print(filtered_data.head(1))\n",
    "print(filtered_data.tail(1))"
   ]
  },
  {
   "cell_type": "markdown",
   "metadata": {},
   "source": [
    "### Season"
   ]
  },
  {
   "cell_type": "code",
   "execution_count": 8,
   "metadata": {},
   "outputs": [],
   "source": [
    "output = '../Chanae-regression/season'\n",
    "if not os.path.exists(output):\n",
    "    os.makedirs(output)"
   ]
  },
  {
   "cell_type": "code",
   "execution_count": 21,
   "metadata": {},
   "outputs": [
    {
     "name": "stdout",
     "output_type": "stream",
     "text": [
      "         date  latitude   longitude            uvb         e        stl1  \\\n",
      "0  2021/03/22     6.077  101.693001  105518.320462 -0.000084  300.782707   \n",
      "\n",
      "             sp        tp        d2m    minTemp   meanTemp    maxTemp  \\\n",
      "0  98540.997395  0.000051  23.140055  24.475508  27.833828  33.010939   \n",
      "\n",
      "         RH        WS   sunrise    sunset  durationOfDay     disease  \n",
      "0  0.756762  1.709455  06:17:51  18:25:02      12.119722  345.694444  \n",
      "           date  latitude   longitude           uvb       e        stl1  \\\n",
      "323  2024/01/22     6.077  101.693001  43540.046785 -0.0001  297.632005   \n",
      "\n",
      "               sp        tp        d2m    minTemp   meanTemp    maxTemp  \\\n",
      "323  98798.030993  0.001637  24.000549  23.895339  25.094617  27.179219   \n",
      "\n",
      "           RH        WS   sunrise    sunset  durationOfDay   disease  \n",
      "323  0.936678  0.333402  06:30:55  18:20:24      11.824722  112005.0  \n",
      "         date  latitude   longitude            uvb         e       stl1  \\\n",
      "0  2021/03/22     5.997  101.572998  107712.631922 -0.000077  299.92208   \n",
      "\n",
      "             sp        tp        d2m    minTemp   meanTemp    maxTemp  \\\n",
      "0  96793.922914  0.000036  22.229452  23.507468  27.180459  32.640969   \n",
      "\n",
      "         RH        WS   sunrise    sunset  durationOfDay     disease  \n",
      "0  0.744009  1.900194  06:18:20  18:25:31      12.119722  345.694444  \n",
      "           date  latitude   longitude           uvb         e        stl1  \\\n",
      "323  2024/01/22     5.997  101.572998  45008.827862 -0.000094  296.829269   \n",
      "\n",
      "               sp        tp        d2m    minTemp   meanTemp   maxTemp  \\\n",
      "323  97045.693008  0.001539  23.373522  23.064038  24.380974  26.57548   \n",
      "\n",
      "           RH        WS   sunrise    sunset  durationOfDay   disease  \n",
      "323  0.941257  0.647701  06:31:17  18:20:59      11.828333  112005.0  \n",
      "         date  latitude   longitude            uvb         e        stl1  \\\n",
      "0  2021/03/22     6.123  101.642998  107055.462801 -0.000083  300.752319   \n",
      "\n",
      "             sp       tp        d2m    minTemp   meanTemp    maxTemp  \\\n",
      "0  98546.375232  0.00004  23.148161  24.419889  27.845942  33.116783   \n",
      "\n",
      "         RH        WS   sunrise    sunset  durationOfDay     disease  \n",
      "0  0.756598  1.811029  06:18:02  18:25:14          12.12  345.694444  \n",
      "           date  latitude   longitude         uvb         e        stl1  \\\n",
      "323  2024/01/22     6.123  101.642998  43143.7274 -0.000094  297.663828   \n",
      "\n",
      "               sp        tp        d2m   minTemp   meanTemp    maxTemp  \\\n",
      "323  98804.656321  0.001473  24.027288  23.90458  25.129916  27.221832   \n",
      "\n",
      "           RH        WS   sunrise    sunset  durationOfDay   disease  \n",
      "323  0.936213  0.467255  06:31:11  18:20:32        11.8225  112005.0  \n",
      "         date  latitude   longitude            uvb         e        stl1  \\\n",
      "0  2021/03/22     6.132  101.727997  105769.895813 -0.000096  301.452516   \n",
      "\n",
      "             sp        tp        d2m    minTemp   meanTemp    maxTemp  \\\n",
      "0  98956.376663  0.000048  23.542322  24.913447  28.012055  32.657611   \n",
      "\n",
      "         RH        WS   sunrise    sunset  durationOfDay     disease  \n",
      "0  0.767337  2.028257  06:17:42  18:24:54          12.12  345.694444  \n",
      "           date  latitude   longitude           uvb         e        stl1  \\\n",
      "323  2024/01/22     6.132  101.727997  44842.808996 -0.000102  298.108956   \n",
      "\n",
      "               sp       tp        d2m    minTemp   meanTemp    maxTemp  \\\n",
      "323  99213.473018  0.00149  24.177547  24.188693  25.406099  27.316122   \n",
      "\n",
      "           RH        WS   sunrise    sunset  durationOfDay   disease  \n",
      "323  0.929301  0.514691  06:30:51  18:20:10      11.821944  112005.0  \n"
     ]
    }
   ],
   "source": [
    "for file in os.listdir(target):\n",
    "    df = pd.read_excel(os.path.join(target, file))\n",
    "    filtered_data = df[((df['date'] >= '2021/03/22') & (df['date'] <= '2021/04/26')) |\n",
    "                       ((df['date'] >= '2021/07/24') & (df['date'] <= '2021/08/28')) |\n",
    "                       ((df['date'] >= '2021/12/17') & (df['date'] <= '2022/01/21')) |\n",
    "\n",
    "                       ((df['date'] >= '2022/03/23') & (df['date'] <= '2022/04/27')) |\n",
    "                       ((df['date'] >= '2022/07/21') & (df['date'] <= '2022/08/25')) |\n",
    "                       ((df['date'] >= '2022/12/16') & (df['date'] <= '2023/01/20')) |\n",
    "\n",
    "                       ((df['date'] >= '2023/03/29') & (df['date'] <= '2023/05/03')) |\n",
    "                       ((df['date'] >= '2023/08/03') & (df['date'] <= '2023/09/07')) |\n",
    "                       ((df['date'] >= '2023/12/18') & (df['date'] <= '2024/01/22'))].copy()  # Filter by date range\n",
    "    \n",
    "    filtered_data.reset_index(drop=True, inplace=True)\n",
    "    num_rows = len(filtered_data)\n",
    "    increment_value = 112005 / num_rows\n",
    "    filtered_data['disease'] = (filtered_data.index + 1) * increment_value\n",
    "\n",
    "    output_path = os.path.join(output, f\"{os.path.splitext(file)[0]}-regression.xlsx\")\n",
    "    filtered_data.to_excel(output_path, index=False, engine='openpyxl')\n",
    "    print(filtered_data.head(1))\n",
    "    print(filtered_data.tail(1))"
   ]
  },
  {
   "cell_type": "code",
   "execution_count": null,
   "metadata": {},
   "outputs": [],
   "source": [
    "\n"
   ]
  }
 ],
 "metadata": {
  "kernelspec": {
   "display_name": "yang",
   "language": "python",
   "name": "python3"
  },
  "language_info": {
   "codemirror_mode": {
    "name": "ipython",
    "version": 3
   },
   "file_extension": ".py",
   "mimetype": "text/x-python",
   "name": "python",
   "nbconvert_exporter": "python",
   "pygments_lexer": "ipython3",
   "version": "3.12.3"
  }
 },
 "nbformat": 4,
 "nbformat_minor": 2
}
