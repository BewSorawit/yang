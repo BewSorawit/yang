{
 "cells": [
  {
   "cell_type": "code",
   "execution_count": 1,
   "metadata": {},
   "outputs": [],
   "source": [
    "import requests\n",
    "import os\n",
    "import time\n",
    "import pandas as pd\n",
    "import aiohttp\n",
    "import asyncio\n",
    "import json\n",
    "import nest_asyncio\n",
    "nest_asyncio.apply()"
   ]
  },
  {
   "cell_type": "code",
   "execution_count": 2,
   "metadata": {},
   "outputs": [],
   "source": [
    "TARGET = '../Thung-Song-final/1final/'\n",
    "OUTPUT = '../Thung-Song-final-SunriseSunset/1duration'"
   ]
  },
  {
   "cell_type": "code",
   "execution_count": 3,
   "metadata": {},
   "outputs": [],
   "source": [
    "if not os.path.exists(OUTPUT):\n",
    "    os.makedirs(OUTPUT)"
   ]
  },
  {
   "cell_type": "code",
   "execution_count": 4,
   "metadata": {},
   "outputs": [],
   "source": [
    "# Collect all Excel files in the target directory\n",
    "excel_files = [f for f in os.listdir(TARGET) if f.endswith('.xlsx')]"
   ]
  },
  {
   "cell_type": "code",
   "execution_count": 5,
   "metadata": {},
   "outputs": [],
   "source": [
    "# Initialize an empty list to store dataframes\n",
    "dataframes = []"
   ]
  },
  {
   "cell_type": "code",
   "execution_count": 6,
   "metadata": {},
   "outputs": [
    {
     "name": "stdout",
     "output_type": "stream",
     "text": [
      "2500-Pak Phraek.xlsx\n",
      "2501-Chamai.xlsx\n",
      "2502-Nong Hong.xlsx\n",
      "2503-Na Pho.xlsx\n",
      "2504-Khuan Krot.xlsx\n",
      "2505-Na Mai Phai.xlsx\n",
      "2506-Thi Wang.xlsx\n",
      "2507-Kapang.xlsx\n",
      "2508-Khao Ro.xlsx\n",
      "2509-Na Luang Sen.xlsx\n",
      "2510-Namtok.xlsx\n",
      "2511-Khao Khao.xlsx\n",
      "2512-Tham Yai.xlsx\n"
     ]
    }
   ],
   "source": [
    "if os.path.isdir(TARGET):\n",
    "    for filename in os.listdir(TARGET):\n",
    "        file_path = os.path.join(TARGET, filename)\n",
    "        if filename.endswith('.xlsx'):\n",
    "            print(filename)\n",
    "            df = pd.read_excel(file_path)\n",
    "            # print(df.head())\n",
    "            dataframes.append(df)\n",
    "else:\n",
    "    print(f'{TARGET} is not a directory.')"
   ]
  },
  {
   "cell_type": "code",
   "execution_count": 7,
   "metadata": {},
   "outputs": [],
   "source": [
    "# Combine all dataframes into one\n",
    "df = pd.concat(dataframes, ignore_index=True)"
   ]
  },
  {
   "cell_type": "code",
   "execution_count": 8,
   "metadata": {},
   "outputs": [],
   "source": [
    "temp = []\n",
    "responses = []"
   ]
  },
  {
   "cell_type": "code",
   "execution_count": 9,
   "metadata": {},
   "outputs": [],
   "source": [
    "for i, data in df.iterrows():\n",
    "    lat = data['latitude']\n",
    "    lon = data['longitude']\n",
    "    date = str(data['date']).replace('/', '-')\n",
    "    temp.append([lat, lon, date])"
   ]
  },
  {
   "cell_type": "code",
   "execution_count": 10,
   "metadata": {},
   "outputs": [],
   "source": [
    "async def fetch_data(session, url):\n",
    "    async with session.get(url) as response:\n",
    "        return await response.json()\n",
    "\n",
    "async def main():\n",
    "    urls = [f\"https://api.sunrisesunset.io/json?lat={lat}&lng={lon}&date_start={date}&date_end={date}\" for lat, lon, date in temp]\n",
    "    global responses\n",
    "\n",
    "    async with aiohttp.ClientSession() as session:\n",
    "        tasks = [fetch_data(session, url) for url in urls]\n",
    "        responses = await asyncio.gather(*tasks)\n",
    "        "
   ]
  },
  {
   "cell_type": "code",
   "execution_count": 11,
   "metadata": {},
   "outputs": [
    {
     "ename": "KeyboardInterrupt",
     "evalue": "",
     "output_type": "error",
     "traceback": [
      "\u001b[1;31m---------------------------------------------------------------------------\u001b[0m",
      "\u001b[1;31mKeyboardInterrupt\u001b[0m                         Traceback (most recent call last)",
      "Cell \u001b[1;32mIn[11], line 1\u001b[0m\n\u001b[1;32m----> 1\u001b[0m \u001b[43masyncio\u001b[49m\u001b[38;5;241;43m.\u001b[39;49m\u001b[43mrun\u001b[49m\u001b[43m(\u001b[49m\u001b[43mmain\u001b[49m\u001b[43m(\u001b[49m\u001b[43m)\u001b[49m\u001b[43m)\u001b[49m\n",
      "File \u001b[1;32mc:\\Users\\User\\anaconda3\\envs\\yang\\Lib\\site-packages\\nest_asyncio.py:35\u001b[0m, in \u001b[0;36m_patch_asyncio.<locals>.run\u001b[1;34m(main, debug)\u001b[0m\n\u001b[0;32m     33\u001b[0m task\u001b[38;5;241m.\u001b[39mcancel()\n\u001b[0;32m     34\u001b[0m \u001b[38;5;28;01mwith\u001b[39;00m suppress(asyncio\u001b[38;5;241m.\u001b[39mCancelledError):\n\u001b[1;32m---> 35\u001b[0m     \u001b[43mloop\u001b[49m\u001b[38;5;241;43m.\u001b[39;49m\u001b[43mrun_until_complete\u001b[49m\u001b[43m(\u001b[49m\u001b[43mtask\u001b[49m\u001b[43m)\u001b[49m\n",
      "File \u001b[1;32mc:\\Users\\User\\anaconda3\\envs\\yang\\Lib\\site-packages\\nest_asyncio.py:92\u001b[0m, in \u001b[0;36m_patch_loop.<locals>.run_until_complete\u001b[1;34m(self, future)\u001b[0m\n\u001b[0;32m     90\u001b[0m     f\u001b[38;5;241m.\u001b[39m_log_destroy_pending \u001b[38;5;241m=\u001b[39m \u001b[38;5;28;01mFalse\u001b[39;00m\n\u001b[0;32m     91\u001b[0m \u001b[38;5;28;01mwhile\u001b[39;00m \u001b[38;5;129;01mnot\u001b[39;00m f\u001b[38;5;241m.\u001b[39mdone():\n\u001b[1;32m---> 92\u001b[0m     \u001b[38;5;28;43mself\u001b[39;49m\u001b[38;5;241;43m.\u001b[39;49m\u001b[43m_run_once\u001b[49m\u001b[43m(\u001b[49m\u001b[43m)\u001b[49m\n\u001b[0;32m     93\u001b[0m     \u001b[38;5;28;01mif\u001b[39;00m \u001b[38;5;28mself\u001b[39m\u001b[38;5;241m.\u001b[39m_stopping:\n\u001b[0;32m     94\u001b[0m         \u001b[38;5;28;01mbreak\u001b[39;00m\n",
      "File \u001b[1;32mc:\\Users\\User\\anaconda3\\envs\\yang\\Lib\\site-packages\\nest_asyncio.py:133\u001b[0m, in \u001b[0;36m_patch_loop.<locals>._run_once\u001b[1;34m(self)\u001b[0m\n\u001b[0;32m    130\u001b[0m curr_task \u001b[38;5;241m=\u001b[39m curr_tasks\u001b[38;5;241m.\u001b[39mpop(\u001b[38;5;28mself\u001b[39m, \u001b[38;5;28;01mNone\u001b[39;00m)\n\u001b[0;32m    132\u001b[0m \u001b[38;5;28;01mtry\u001b[39;00m:\n\u001b[1;32m--> 133\u001b[0m     \u001b[43mhandle\u001b[49m\u001b[38;5;241;43m.\u001b[39;49m\u001b[43m_run\u001b[49m\u001b[43m(\u001b[49m\u001b[43m)\u001b[49m\n\u001b[0;32m    134\u001b[0m \u001b[38;5;28;01mfinally\u001b[39;00m:\n\u001b[0;32m    135\u001b[0m     \u001b[38;5;66;03m# restore the current task\u001b[39;00m\n\u001b[0;32m    136\u001b[0m     \u001b[38;5;28;01mif\u001b[39;00m curr_task \u001b[38;5;129;01mis\u001b[39;00m \u001b[38;5;129;01mnot\u001b[39;00m \u001b[38;5;28;01mNone\u001b[39;00m:\n",
      "File \u001b[1;32mc:\\Users\\User\\anaconda3\\envs\\yang\\Lib\\asyncio\\events.py:88\u001b[0m, in \u001b[0;36mHandle._run\u001b[1;34m(self)\u001b[0m\n\u001b[0;32m     86\u001b[0m \u001b[38;5;28;01mdef\u001b[39;00m \u001b[38;5;21m_run\u001b[39m(\u001b[38;5;28mself\u001b[39m):\n\u001b[0;32m     87\u001b[0m     \u001b[38;5;28;01mtry\u001b[39;00m:\n\u001b[1;32m---> 88\u001b[0m         \u001b[38;5;28;43mself\u001b[39;49m\u001b[38;5;241;43m.\u001b[39;49m\u001b[43m_context\u001b[49m\u001b[38;5;241;43m.\u001b[39;49m\u001b[43mrun\u001b[49m\u001b[43m(\u001b[49m\u001b[38;5;28;43mself\u001b[39;49m\u001b[38;5;241;43m.\u001b[39;49m\u001b[43m_callback\u001b[49m\u001b[43m,\u001b[49m\u001b[43m \u001b[49m\u001b[38;5;241;43m*\u001b[39;49m\u001b[38;5;28;43mself\u001b[39;49m\u001b[38;5;241;43m.\u001b[39;49m\u001b[43m_args\u001b[49m\u001b[43m)\u001b[49m\n\u001b[0;32m     89\u001b[0m     \u001b[38;5;28;01mexcept\u001b[39;00m (\u001b[38;5;167;01mSystemExit\u001b[39;00m, \u001b[38;5;167;01mKeyboardInterrupt\u001b[39;00m):\n\u001b[0;32m     90\u001b[0m         \u001b[38;5;28;01mraise\u001b[39;00m\n",
      "File \u001b[1;32mc:\\Users\\User\\anaconda3\\envs\\yang\\Lib\\asyncio\\tasks.py:303\u001b[0m, in \u001b[0;36mTask.__step\u001b[1;34m(self, exc)\u001b[0m\n\u001b[0;32m    301\u001b[0m _enter_task(\u001b[38;5;28mself\u001b[39m\u001b[38;5;241m.\u001b[39m_loop, \u001b[38;5;28mself\u001b[39m)\n\u001b[0;32m    302\u001b[0m \u001b[38;5;28;01mtry\u001b[39;00m:\n\u001b[1;32m--> 303\u001b[0m     \u001b[38;5;28;43mself\u001b[39;49m\u001b[38;5;241;43m.\u001b[39;49m\u001b[43m__step_run_and_handle_result\u001b[49m\u001b[43m(\u001b[49m\u001b[43mexc\u001b[49m\u001b[43m)\u001b[49m\n\u001b[0;32m    304\u001b[0m \u001b[38;5;28;01mfinally\u001b[39;00m:\n\u001b[0;32m    305\u001b[0m     _leave_task(\u001b[38;5;28mself\u001b[39m\u001b[38;5;241m.\u001b[39m_loop, \u001b[38;5;28mself\u001b[39m)\n",
      "File \u001b[1;32mc:\\Users\\User\\anaconda3\\envs\\yang\\Lib\\asyncio\\tasks.py:314\u001b[0m, in \u001b[0;36mTask.__step_run_and_handle_result\u001b[1;34m(***failed resolving arguments***)\u001b[0m\n\u001b[0;32m    310\u001b[0m \u001b[38;5;28;01mtry\u001b[39;00m:\n\u001b[0;32m    311\u001b[0m     \u001b[38;5;28;01mif\u001b[39;00m exc \u001b[38;5;129;01mis\u001b[39;00m \u001b[38;5;28;01mNone\u001b[39;00m:\n\u001b[0;32m    312\u001b[0m         \u001b[38;5;66;03m# We use the `send` method directly, because coroutines\u001b[39;00m\n\u001b[0;32m    313\u001b[0m         \u001b[38;5;66;03m# don't have `__iter__` and `__next__` methods.\u001b[39;00m\n\u001b[1;32m--> 314\u001b[0m         result \u001b[38;5;241m=\u001b[39m \u001b[43mcoro\u001b[49m\u001b[38;5;241;43m.\u001b[39;49m\u001b[43msend\u001b[49m\u001b[43m(\u001b[49m\u001b[38;5;28;43;01mNone\u001b[39;49;00m\u001b[43m)\u001b[49m\n\u001b[0;32m    315\u001b[0m     \u001b[38;5;28;01melse\u001b[39;00m:\n\u001b[0;32m    316\u001b[0m         result \u001b[38;5;241m=\u001b[39m coro\u001b[38;5;241m.\u001b[39mthrow(exc)\n",
      "Cell \u001b[1;32mIn[10], line 11\u001b[0m, in \u001b[0;36mmain\u001b[1;34m()\u001b[0m\n\u001b[0;32m      9\u001b[0m \u001b[38;5;28;01masync\u001b[39;00m \u001b[38;5;28;01mwith\u001b[39;00m aiohttp\u001b[38;5;241m.\u001b[39mClientSession() \u001b[38;5;28;01mas\u001b[39;00m session:\n\u001b[0;32m     10\u001b[0m     tasks \u001b[38;5;241m=\u001b[39m [fetch_data(session, url) \u001b[38;5;28;01mfor\u001b[39;00m url \u001b[38;5;129;01min\u001b[39;00m urls]\n\u001b[1;32m---> 11\u001b[0m     responses \u001b[38;5;241m=\u001b[39m \u001b[38;5;28;01mawait\u001b[39;00m asyncio\u001b[38;5;241m.\u001b[39mgather(\u001b[38;5;241m*\u001b[39mtasks)\n",
      "File \u001b[1;32mc:\\Users\\User\\anaconda3\\envs\\yang\\Lib\\asyncio\\tasks.py:385\u001b[0m, in \u001b[0;36mTask.__wakeup\u001b[1;34m(self, future)\u001b[0m\n\u001b[0;32m    383\u001b[0m \u001b[38;5;28;01mdef\u001b[39;00m \u001b[38;5;21m__wakeup\u001b[39m(\u001b[38;5;28mself\u001b[39m, future):\n\u001b[0;32m    384\u001b[0m     \u001b[38;5;28;01mtry\u001b[39;00m:\n\u001b[1;32m--> 385\u001b[0m         \u001b[43mfuture\u001b[49m\u001b[38;5;241;43m.\u001b[39;49m\u001b[43mresult\u001b[49m\u001b[43m(\u001b[49m\u001b[43m)\u001b[49m\n\u001b[0;32m    386\u001b[0m     \u001b[38;5;28;01mexcept\u001b[39;00m \u001b[38;5;167;01mBaseException\u001b[39;00m \u001b[38;5;28;01mas\u001b[39;00m exc:\n\u001b[0;32m    387\u001b[0m         \u001b[38;5;66;03m# This may also be a cancellation.\u001b[39;00m\n\u001b[0;32m    388\u001b[0m         \u001b[38;5;28mself\u001b[39m\u001b[38;5;241m.\u001b[39m__step(exc)\n",
      "File \u001b[1;32mc:\\Users\\User\\anaconda3\\envs\\yang\\Lib\\site-packages\\nest_asyncio.py:30\u001b[0m, in \u001b[0;36m_patch_asyncio.<locals>.run\u001b[1;34m(main, debug)\u001b[0m\n\u001b[0;32m     28\u001b[0m task \u001b[38;5;241m=\u001b[39m asyncio\u001b[38;5;241m.\u001b[39mensure_future(main)\n\u001b[0;32m     29\u001b[0m \u001b[38;5;28;01mtry\u001b[39;00m:\n\u001b[1;32m---> 30\u001b[0m     \u001b[38;5;28;01mreturn\u001b[39;00m \u001b[43mloop\u001b[49m\u001b[38;5;241;43m.\u001b[39;49m\u001b[43mrun_until_complete\u001b[49m\u001b[43m(\u001b[49m\u001b[43mtask\u001b[49m\u001b[43m)\u001b[49m\n\u001b[0;32m     31\u001b[0m \u001b[38;5;28;01mfinally\u001b[39;00m:\n\u001b[0;32m     32\u001b[0m     \u001b[38;5;28;01mif\u001b[39;00m \u001b[38;5;129;01mnot\u001b[39;00m task\u001b[38;5;241m.\u001b[39mdone():\n",
      "File \u001b[1;32mc:\\Users\\User\\anaconda3\\envs\\yang\\Lib\\site-packages\\nest_asyncio.py:92\u001b[0m, in \u001b[0;36m_patch_loop.<locals>.run_until_complete\u001b[1;34m(self, future)\u001b[0m\n\u001b[0;32m     90\u001b[0m     f\u001b[38;5;241m.\u001b[39m_log_destroy_pending \u001b[38;5;241m=\u001b[39m \u001b[38;5;28;01mFalse\u001b[39;00m\n\u001b[0;32m     91\u001b[0m \u001b[38;5;28;01mwhile\u001b[39;00m \u001b[38;5;129;01mnot\u001b[39;00m f\u001b[38;5;241m.\u001b[39mdone():\n\u001b[1;32m---> 92\u001b[0m     \u001b[38;5;28;43mself\u001b[39;49m\u001b[38;5;241;43m.\u001b[39;49m\u001b[43m_run_once\u001b[49m\u001b[43m(\u001b[49m\u001b[43m)\u001b[49m\n\u001b[0;32m     93\u001b[0m     \u001b[38;5;28;01mif\u001b[39;00m \u001b[38;5;28mself\u001b[39m\u001b[38;5;241m.\u001b[39m_stopping:\n\u001b[0;32m     94\u001b[0m         \u001b[38;5;28;01mbreak\u001b[39;00m\n",
      "File \u001b[1;32mc:\\Users\\User\\anaconda3\\envs\\yang\\Lib\\site-packages\\nest_asyncio.py:133\u001b[0m, in \u001b[0;36m_patch_loop.<locals>._run_once\u001b[1;34m(self)\u001b[0m\n\u001b[0;32m    130\u001b[0m curr_task \u001b[38;5;241m=\u001b[39m curr_tasks\u001b[38;5;241m.\u001b[39mpop(\u001b[38;5;28mself\u001b[39m, \u001b[38;5;28;01mNone\u001b[39;00m)\n\u001b[0;32m    132\u001b[0m \u001b[38;5;28;01mtry\u001b[39;00m:\n\u001b[1;32m--> 133\u001b[0m     \u001b[43mhandle\u001b[49m\u001b[38;5;241;43m.\u001b[39;49m\u001b[43m_run\u001b[49m\u001b[43m(\u001b[49m\u001b[43m)\u001b[49m\n\u001b[0;32m    134\u001b[0m \u001b[38;5;28;01mfinally\u001b[39;00m:\n\u001b[0;32m    135\u001b[0m     \u001b[38;5;66;03m# restore the current task\u001b[39;00m\n\u001b[0;32m    136\u001b[0m     \u001b[38;5;28;01mif\u001b[39;00m curr_task \u001b[38;5;129;01mis\u001b[39;00m \u001b[38;5;129;01mnot\u001b[39;00m \u001b[38;5;28;01mNone\u001b[39;00m:\n",
      "File \u001b[1;32mc:\\Users\\User\\anaconda3\\envs\\yang\\Lib\\asyncio\\events.py:88\u001b[0m, in \u001b[0;36mHandle._run\u001b[1;34m(self)\u001b[0m\n\u001b[0;32m     86\u001b[0m \u001b[38;5;28;01mdef\u001b[39;00m \u001b[38;5;21m_run\u001b[39m(\u001b[38;5;28mself\u001b[39m):\n\u001b[0;32m     87\u001b[0m     \u001b[38;5;28;01mtry\u001b[39;00m:\n\u001b[1;32m---> 88\u001b[0m         \u001b[38;5;28;43mself\u001b[39;49m\u001b[38;5;241;43m.\u001b[39;49m\u001b[43m_context\u001b[49m\u001b[38;5;241;43m.\u001b[39;49m\u001b[43mrun\u001b[49m\u001b[43m(\u001b[49m\u001b[38;5;28;43mself\u001b[39;49m\u001b[38;5;241;43m.\u001b[39;49m\u001b[43m_callback\u001b[49m\u001b[43m,\u001b[49m\u001b[43m \u001b[49m\u001b[38;5;241;43m*\u001b[39;49m\u001b[38;5;28;43mself\u001b[39;49m\u001b[38;5;241;43m.\u001b[39;49m\u001b[43m_args\u001b[49m\u001b[43m)\u001b[49m\n\u001b[0;32m     89\u001b[0m     \u001b[38;5;28;01mexcept\u001b[39;00m (\u001b[38;5;167;01mSystemExit\u001b[39;00m, \u001b[38;5;167;01mKeyboardInterrupt\u001b[39;00m):\n\u001b[0;32m     90\u001b[0m         \u001b[38;5;28;01mraise\u001b[39;00m\n",
      "File \u001b[1;32mc:\\Users\\User\\anaconda3\\envs\\yang\\Lib\\asyncio\\tasks.py:396\u001b[0m, in \u001b[0;36mTask.__wakeup\u001b[1;34m(self, future)\u001b[0m\n\u001b[0;32m    388\u001b[0m     \u001b[38;5;28mself\u001b[39m\u001b[38;5;241m.\u001b[39m__step(exc)\n\u001b[0;32m    389\u001b[0m \u001b[38;5;28;01melse\u001b[39;00m:\n\u001b[0;32m    390\u001b[0m     \u001b[38;5;66;03m# Don't pass the value of `future.result()` explicitly,\u001b[39;00m\n\u001b[0;32m    391\u001b[0m     \u001b[38;5;66;03m# as `Future.__iter__` and `Future.__await__` don't need it.\u001b[39;00m\n\u001b[1;32m   (...)\u001b[0m\n\u001b[0;32m    394\u001b[0m     \u001b[38;5;66;03m# instead of `__next__()`, which is slower for futures\u001b[39;00m\n\u001b[0;32m    395\u001b[0m     \u001b[38;5;66;03m# that return non-generator iterators from their `__iter__`.\u001b[39;00m\n\u001b[1;32m--> 396\u001b[0m     \u001b[38;5;28;43mself\u001b[39;49m\u001b[38;5;241;43m.\u001b[39;49m\u001b[43m__step\u001b[49m\u001b[43m(\u001b[49m\u001b[43m)\u001b[49m\n\u001b[0;32m    397\u001b[0m \u001b[38;5;28mself\u001b[39m \u001b[38;5;241m=\u001b[39m \u001b[38;5;28;01mNone\u001b[39;00m\n",
      "File \u001b[1;32mc:\\Users\\User\\anaconda3\\envs\\yang\\Lib\\asyncio\\tasks.py:303\u001b[0m, in \u001b[0;36mTask.__step\u001b[1;34m(self, exc)\u001b[0m\n\u001b[0;32m    301\u001b[0m _enter_task(\u001b[38;5;28mself\u001b[39m\u001b[38;5;241m.\u001b[39m_loop, \u001b[38;5;28mself\u001b[39m)\n\u001b[0;32m    302\u001b[0m \u001b[38;5;28;01mtry\u001b[39;00m:\n\u001b[1;32m--> 303\u001b[0m     \u001b[38;5;28;43mself\u001b[39;49m\u001b[38;5;241;43m.\u001b[39;49m\u001b[43m__step_run_and_handle_result\u001b[49m\u001b[43m(\u001b[49m\u001b[43mexc\u001b[49m\u001b[43m)\u001b[49m\n\u001b[0;32m    304\u001b[0m \u001b[38;5;28;01mfinally\u001b[39;00m:\n\u001b[0;32m    305\u001b[0m     _leave_task(\u001b[38;5;28mself\u001b[39m\u001b[38;5;241m.\u001b[39m_loop, \u001b[38;5;28mself\u001b[39m)\n",
      "File \u001b[1;32mc:\\Users\\User\\anaconda3\\envs\\yang\\Lib\\asyncio\\tasks.py:314\u001b[0m, in \u001b[0;36mTask.__step_run_and_handle_result\u001b[1;34m(***failed resolving arguments***)\u001b[0m\n\u001b[0;32m    310\u001b[0m \u001b[38;5;28;01mtry\u001b[39;00m:\n\u001b[0;32m    311\u001b[0m     \u001b[38;5;28;01mif\u001b[39;00m exc \u001b[38;5;129;01mis\u001b[39;00m \u001b[38;5;28;01mNone\u001b[39;00m:\n\u001b[0;32m    312\u001b[0m         \u001b[38;5;66;03m# We use the `send` method directly, because coroutines\u001b[39;00m\n\u001b[0;32m    313\u001b[0m         \u001b[38;5;66;03m# don't have `__iter__` and `__next__` methods.\u001b[39;00m\n\u001b[1;32m--> 314\u001b[0m         result \u001b[38;5;241m=\u001b[39m \u001b[43mcoro\u001b[49m\u001b[38;5;241;43m.\u001b[39;49m\u001b[43msend\u001b[49m\u001b[43m(\u001b[49m\u001b[38;5;28;43;01mNone\u001b[39;49;00m\u001b[43m)\u001b[49m\n\u001b[0;32m    315\u001b[0m     \u001b[38;5;28;01melse\u001b[39;00m:\n\u001b[0;32m    316\u001b[0m         result \u001b[38;5;241m=\u001b[39m coro\u001b[38;5;241m.\u001b[39mthrow(exc)\n",
      "Cell \u001b[1;32mIn[10], line 2\u001b[0m, in \u001b[0;36mfetch_data\u001b[1;34m(session, url)\u001b[0m\n\u001b[0;32m      1\u001b[0m \u001b[38;5;28;01masync\u001b[39;00m \u001b[38;5;28;01mdef\u001b[39;00m \u001b[38;5;21mfetch_data\u001b[39m(session, url):\n\u001b[1;32m----> 2\u001b[0m     \u001b[38;5;28;01masync\u001b[39;00m \u001b[38;5;28;01mwith\u001b[39;00m session\u001b[38;5;241m.\u001b[39mget(url) \u001b[38;5;28;01mas\u001b[39;00m response:\n\u001b[0;32m      3\u001b[0m         \u001b[38;5;28;01mreturn\u001b[39;00m \u001b[38;5;28;01mawait\u001b[39;00m response\u001b[38;5;241m.\u001b[39mjson()\n",
      "File \u001b[1;32mc:\\Users\\User\\anaconda3\\envs\\yang\\Lib\\site-packages\\aiohttp\\client.py:1197\u001b[0m, in \u001b[0;36m_BaseRequestContextManager.__aenter__\u001b[1;34m(self)\u001b[0m\n\u001b[0;32m   1196\u001b[0m \u001b[38;5;28;01masync\u001b[39;00m \u001b[38;5;28;01mdef\u001b[39;00m \u001b[38;5;21m__aenter__\u001b[39m(\u001b[38;5;28mself\u001b[39m) \u001b[38;5;241m-\u001b[39m\u001b[38;5;241m>\u001b[39m _RetType:\n\u001b[1;32m-> 1197\u001b[0m     \u001b[38;5;28mself\u001b[39m\u001b[38;5;241m.\u001b[39m_resp \u001b[38;5;241m=\u001b[39m \u001b[38;5;28;01mawait\u001b[39;00m \u001b[38;5;28mself\u001b[39m\u001b[38;5;241m.\u001b[39m_coro\n\u001b[0;32m   1198\u001b[0m     \u001b[38;5;28;01mreturn\u001b[39;00m \u001b[38;5;28mself\u001b[39m\u001b[38;5;241m.\u001b[39m_resp\n",
      "File \u001b[1;32mc:\\Users\\User\\anaconda3\\envs\\yang\\Lib\\site-packages\\aiohttp\\client.py:606\u001b[0m, in \u001b[0;36mClientSession._request\u001b[1;34m(self, method, str_or_url, params, data, json, cookies, headers, skip_auto_headers, auth, allow_redirects, max_redirects, compress, chunked, expect100, raise_for_status, read_until_eof, proxy, proxy_auth, timeout, verify_ssl, fingerprint, ssl_context, ssl, server_hostname, proxy_headers, trace_request_ctx, read_bufsize, auto_decompress, max_line_size, max_field_size)\u001b[0m\n\u001b[0;32m    604\u001b[0m \u001b[38;5;28;01mtry\u001b[39;00m:\n\u001b[0;32m    605\u001b[0m     \u001b[38;5;28;01mtry\u001b[39;00m:\n\u001b[1;32m--> 606\u001b[0m         resp \u001b[38;5;241m=\u001b[39m \u001b[38;5;28;01mawait\u001b[39;00m req\u001b[38;5;241m.\u001b[39msend(conn)\n\u001b[0;32m    607\u001b[0m         \u001b[38;5;28;01mtry\u001b[39;00m:\n\u001b[0;32m    608\u001b[0m             \u001b[38;5;28;01mawait\u001b[39;00m resp\u001b[38;5;241m.\u001b[39mstart(conn)\n",
      "File \u001b[1;32mc:\\Users\\User\\anaconda3\\envs\\yang\\Lib\\site-packages\\aiohttp\\client_reqrep.py:723\u001b[0m, in \u001b[0;36mClientRequest.send\u001b[1;34m(self, conn)\u001b[0m\n\u001b[0;32m    719\u001b[0m \u001b[38;5;66;03m# status + headers\u001b[39;00m\n\u001b[0;32m    720\u001b[0m status_line \u001b[38;5;241m=\u001b[39m \u001b[38;5;124m\"\u001b[39m\u001b[38;5;132;01m{0}\u001b[39;00m\u001b[38;5;124m \u001b[39m\u001b[38;5;132;01m{1}\u001b[39;00m\u001b[38;5;124m HTTP/\u001b[39m\u001b[38;5;132;01m{v.major}\u001b[39;00m\u001b[38;5;124m.\u001b[39m\u001b[38;5;132;01m{v.minor}\u001b[39;00m\u001b[38;5;124m\"\u001b[39m\u001b[38;5;241m.\u001b[39mformat(\n\u001b[0;32m    721\u001b[0m     \u001b[38;5;28mself\u001b[39m\u001b[38;5;241m.\u001b[39mmethod, path, v\u001b[38;5;241m=\u001b[39m\u001b[38;5;28mself\u001b[39m\u001b[38;5;241m.\u001b[39mversion\n\u001b[0;32m    722\u001b[0m )\n\u001b[1;32m--> 723\u001b[0m \u001b[38;5;28;01mawait\u001b[39;00m writer\u001b[38;5;241m.\u001b[39mwrite_headers(status_line, \u001b[38;5;28mself\u001b[39m\u001b[38;5;241m.\u001b[39mheaders)\n\u001b[0;32m    725\u001b[0m \u001b[38;5;28mself\u001b[39m\u001b[38;5;241m.\u001b[39m_writer \u001b[38;5;241m=\u001b[39m \u001b[38;5;28mself\u001b[39m\u001b[38;5;241m.\u001b[39mloop\u001b[38;5;241m.\u001b[39mcreate_task(\u001b[38;5;28mself\u001b[39m\u001b[38;5;241m.\u001b[39mwrite_bytes(writer, conn))\n\u001b[0;32m    727\u001b[0m response_class \u001b[38;5;241m=\u001b[39m \u001b[38;5;28mself\u001b[39m\u001b[38;5;241m.\u001b[39mresponse_class\n",
      "File \u001b[1;32mc:\\Users\\User\\anaconda3\\envs\\yang\\Lib\\site-packages\\aiohttp\\http_writer.py:130\u001b[0m, in \u001b[0;36mStreamWriter.write_headers\u001b[1;34m(self, status_line, headers)\u001b[0m\n\u001b[0;32m    128\u001b[0m \u001b[38;5;66;03m# status + headers\u001b[39;00m\n\u001b[0;32m    129\u001b[0m buf \u001b[38;5;241m=\u001b[39m _serialize_headers(status_line, headers)\n\u001b[1;32m--> 130\u001b[0m \u001b[38;5;28;43mself\u001b[39;49m\u001b[38;5;241;43m.\u001b[39;49m\u001b[43m_write\u001b[49m\u001b[43m(\u001b[49m\u001b[43mbuf\u001b[49m\u001b[43m)\u001b[49m\n",
      "File \u001b[1;32mc:\\Users\\User\\anaconda3\\envs\\yang\\Lib\\site-packages\\aiohttp\\http_writer.py:76\u001b[0m, in \u001b[0;36mStreamWriter._write\u001b[1;34m(self, chunk)\u001b[0m\n\u001b[0;32m     74\u001b[0m \u001b[38;5;28;01mif\u001b[39;00m \u001b[38;5;129;01mnot\u001b[39;00m \u001b[38;5;28mself\u001b[39m\u001b[38;5;241m.\u001b[39m_protocol\u001b[38;5;241m.\u001b[39mconnected \u001b[38;5;129;01mor\u001b[39;00m transport \u001b[38;5;129;01mis\u001b[39;00m \u001b[38;5;28;01mNone\u001b[39;00m \u001b[38;5;129;01mor\u001b[39;00m transport\u001b[38;5;241m.\u001b[39mis_closing():\n\u001b[0;32m     75\u001b[0m     \u001b[38;5;28;01mraise\u001b[39;00m \u001b[38;5;167;01mConnectionResetError\u001b[39;00m(\u001b[38;5;124m\"\u001b[39m\u001b[38;5;124mCannot write to closing transport\u001b[39m\u001b[38;5;124m\"\u001b[39m)\n\u001b[1;32m---> 76\u001b[0m \u001b[43mtransport\u001b[49m\u001b[38;5;241;43m.\u001b[39;49m\u001b[43mwrite\u001b[49m\u001b[43m(\u001b[49m\u001b[43mchunk\u001b[49m\u001b[43m)\u001b[49m\n",
      "File \u001b[1;32mc:\\Users\\User\\anaconda3\\envs\\yang\\Lib\\asyncio\\sslproto.py:222\u001b[0m, in \u001b[0;36m_SSLProtocolTransport.write\u001b[1;34m(self, data)\u001b[0m\n\u001b[0;32m    220\u001b[0m \u001b[38;5;28;01mif\u001b[39;00m \u001b[38;5;129;01mnot\u001b[39;00m data:\n\u001b[0;32m    221\u001b[0m     \u001b[38;5;28;01mreturn\u001b[39;00m\n\u001b[1;32m--> 222\u001b[0m \u001b[38;5;28;43mself\u001b[39;49m\u001b[38;5;241;43m.\u001b[39;49m\u001b[43m_ssl_protocol\u001b[49m\u001b[38;5;241;43m.\u001b[39;49m\u001b[43m_write_appdata\u001b[49m\u001b[43m(\u001b[49m\u001b[43m(\u001b[49m\u001b[43mdata\u001b[49m\u001b[43m,\u001b[49m\u001b[43m)\u001b[49m\u001b[43m)\u001b[49m\n",
      "File \u001b[1;32mc:\\Users\\User\\anaconda3\\envs\\yang\\Lib\\asyncio\\sslproto.py:694\u001b[0m, in \u001b[0;36mSSLProtocol._write_appdata\u001b[1;34m(self, list_of_data)\u001b[0m\n\u001b[0;32m    692\u001b[0m \u001b[38;5;28;01mtry\u001b[39;00m:\n\u001b[0;32m    693\u001b[0m     \u001b[38;5;28;01mif\u001b[39;00m \u001b[38;5;28mself\u001b[39m\u001b[38;5;241m.\u001b[39m_state \u001b[38;5;241m==\u001b[39m SSLProtocolState\u001b[38;5;241m.\u001b[39mWRAPPED:\n\u001b[1;32m--> 694\u001b[0m         \u001b[38;5;28;43mself\u001b[39;49m\u001b[38;5;241;43m.\u001b[39;49m\u001b[43m_do_write\u001b[49m\u001b[43m(\u001b[49m\u001b[43m)\u001b[49m\n\u001b[0;32m    696\u001b[0m \u001b[38;5;28;01mexcept\u001b[39;00m \u001b[38;5;167;01mException\u001b[39;00m \u001b[38;5;28;01mas\u001b[39;00m ex:\n\u001b[0;32m    697\u001b[0m     \u001b[38;5;28mself\u001b[39m\u001b[38;5;241m.\u001b[39m_fatal_error(ex, \u001b[38;5;124m'\u001b[39m\u001b[38;5;124mFatal error on SSL protocol\u001b[39m\u001b[38;5;124m'\u001b[39m)\n",
      "File \u001b[1;32mc:\\Users\\User\\anaconda3\\envs\\yang\\Lib\\asyncio\\sslproto.py:703\u001b[0m, in \u001b[0;36mSSLProtocol._do_write\u001b[1;34m(self)\u001b[0m\n\u001b[0;32m    701\u001b[0m \u001b[38;5;28;01mwhile\u001b[39;00m \u001b[38;5;28mself\u001b[39m\u001b[38;5;241m.\u001b[39m_write_backlog:\n\u001b[0;32m    702\u001b[0m     data \u001b[38;5;241m=\u001b[39m \u001b[38;5;28mself\u001b[39m\u001b[38;5;241m.\u001b[39m_write_backlog[\u001b[38;5;241m0\u001b[39m]\n\u001b[1;32m--> 703\u001b[0m     count \u001b[38;5;241m=\u001b[39m \u001b[38;5;28;43mself\u001b[39;49m\u001b[38;5;241;43m.\u001b[39;49m\u001b[43m_sslobj\u001b[49m\u001b[38;5;241;43m.\u001b[39;49m\u001b[43mwrite\u001b[49m\u001b[43m(\u001b[49m\u001b[43mdata\u001b[49m\u001b[43m)\u001b[49m\n\u001b[0;32m    704\u001b[0m     data_len \u001b[38;5;241m=\u001b[39m \u001b[38;5;28mlen\u001b[39m(data)\n\u001b[0;32m    705\u001b[0m     \u001b[38;5;28;01mif\u001b[39;00m count \u001b[38;5;241m<\u001b[39m data_len:\n",
      "File \u001b[1;32mc:\\Users\\User\\anaconda3\\envs\\yang\\Lib\\ssl.py:868\u001b[0m, in \u001b[0;36mSSLObject.write\u001b[1;34m(self, data)\u001b[0m\n\u001b[0;32m    862\u001b[0m \u001b[38;5;28;01mdef\u001b[39;00m \u001b[38;5;21mwrite\u001b[39m(\u001b[38;5;28mself\u001b[39m, data):\n\u001b[0;32m    863\u001b[0m \u001b[38;5;250m    \u001b[39m\u001b[38;5;124;03m\"\"\"Write 'data' to the SSL object and return the number of bytes\u001b[39;00m\n\u001b[0;32m    864\u001b[0m \u001b[38;5;124;03m    written.\u001b[39;00m\n\u001b[0;32m    865\u001b[0m \n\u001b[0;32m    866\u001b[0m \u001b[38;5;124;03m    The 'data' argument must support the buffer interface.\u001b[39;00m\n\u001b[0;32m    867\u001b[0m \u001b[38;5;124;03m    \"\"\"\u001b[39;00m\n\u001b[1;32m--> 868\u001b[0m     \u001b[38;5;28;01mreturn\u001b[39;00m \u001b[38;5;28;43mself\u001b[39;49m\u001b[38;5;241;43m.\u001b[39;49m\u001b[43m_sslobj\u001b[49m\u001b[38;5;241;43m.\u001b[39;49m\u001b[43mwrite\u001b[49m\u001b[43m(\u001b[49m\u001b[43mdata\u001b[49m\u001b[43m)\u001b[49m\n",
      "\u001b[1;31mKeyboardInterrupt\u001b[0m: "
     ]
    }
   ],
   "source": [
    "asyncio.run(main())"
   ]
  },
  {
   "cell_type": "code",
   "execution_count": null,
   "metadata": {},
   "outputs": [],
   "source": [
    "responses = [d['results'][0] for d in responses]\n",
    "df_api = pd.DataFrame.from_dict(responses)\n",
    "df_api = df_api[['date', 'sunrise', 'sunset']]\n",
    "df_api['date'] = df_api['date'].replace('-', '/', regex=True)\n",
    "df_api"
   ]
  },
  {
   "cell_type": "code",
   "execution_count": null,
   "metadata": {},
   "outputs": [],
   "source": [
    "df['sunrise'] = pd.to_datetime(df_api['sunrise'])\n",
    "df['sunset'] = pd.to_datetime(df_api['sunset'])\n",
    "df['durationOfDay'] = (df['sunset'] - df['sunrise']).dt.total_seconds()/3600\n",
    "df.head()"
   ]
  },
  {
   "cell_type": "code",
   "execution_count": null,
   "metadata": {},
   "outputs": [],
   "source": [
    "df['sunrise'] = df['sunrise'].dt.time\n",
    "df['sunset'] = df['sunset'].dt.time\n",
    "df"
   ]
  },
  {
   "cell_type": "code",
   "execution_count": null,
   "metadata": {},
   "outputs": [],
   "source": [
    "df = df[['date', 'latitude', 'longitude', 'uvb', 'e', 'stl1', 'sp', 'tp', 'd2m', 'minTemp', 'meanTemp', 'maxTemp', 'RH', 'WS', 'sunrise', 'sunset', 'durationOfDay']]\n",
    "df.head()"
   ]
  },
  {
   "cell_type": "code",
   "execution_count": null,
   "metadata": {},
   "outputs": [],
   "source": [
    "output_file = os.path.join(OUTPUT, 'combined_sunrise_sunset_duration.xlsx')\n",
    "df.to_excel(output_file, index=False)"
   ]
  },
  {
   "cell_type": "markdown",
   "metadata": {},
   "source": [
    "### for loop"
   ]
  },
  {
   "cell_type": "code",
   "execution_count": null,
   "metadata": {},
   "outputs": [],
   "source": [
    "import os\n",
    "import pandas as pd\n",
    "import aiohttp\n",
    "import asyncio\n",
    "import nest_asyncio\n",
    "\n",
    "nest_asyncio.apply()\n",
    "\n",
    "TARGET = '../Thung-Song-final/1final/'\n",
    "OUTPUT = '../Thung-Song-final-SunriseSunset/1duration'\n",
    "\n",
    "# Ensure the output directory exists\n",
    "if not os.path.exists(OUTPUT):\n",
    "    os.makedirs(OUTPUT)\n",
    "\n",
    "# Collect all Excel files in the target directory\n",
    "excel_files = [f for f in os.listdir(TARGET) if f.endswith('.xlsx')]\n",
    "\n",
    "# Initialize an empty list to store dataframes\n",
    "dataframes = []\n",
    "\n",
    "# Load and print each Excel file, appending it to the dataframes list\n",
    "if os.path.isdir(TARGET):\n",
    "    for filename in excel_files:\n",
    "        file_path = os.path.join(TARGET, filename)\n",
    "        print(f'Loading {filename}')\n",
    "        df = pd.read_excel(file_path)\n",
    "        dataframes.append(df)\n",
    "else:\n",
    "    print(f'{TARGET} is not a directory.')\n",
    "\n",
    "# Combine all dataframes into one\n",
    "df = pd.concat(dataframes, ignore_index=True)\n",
    "\n",
    "# Display the combined dataframe\n",
    "print(df.head())\n",
    "\n",
    "# Extract latitude, longitude, and date data for API requests\n",
    "temp = []\n",
    "responses = []\n",
    "\n",
    "for i, data in df.iterrows():\n",
    "    lat = data['latitude']\n",
    "    lon = data['longitude']\n",
    "    date = str(data['date']).replace('/', '-')\n",
    "    temp.append([lat, lon, date])\n",
    "\n",
    "# Asynchronous function to fetch data from the API\n",
    "async def fetch_data(session, url):\n",
    "    async with session.get(url) as response:\n",
    "        return await response.json()\n",
    "\n",
    "# Asynchronous function to manage API requests\n",
    "async def main():\n",
    "    urls = [f\"https://api.sunrisesunset.io/json?lat={lat}&lng={lon}&date_start={date}&date_end={date}\" for lat, lon, date in temp]\n",
    "    global responses\n",
    "\n",
    "    async with aiohttp.ClientSession() as session:\n",
    "        tasks = [fetch_data(session, url) for url in urls]\n",
    "        responses = await asyncio.gather(*tasks)\n",
    "\n",
    "# Run the asynchronous function\n",
    "asyncio.run(main())\n",
    "\n",
    "# Process the API responses and convert them to a dataframe\n",
    "responses = [d['results'][0] for d in responses]\n",
    "df_api = pd.DataFrame.from_dict(responses)\n",
    "df_api = df_api[['date', 'sunrise', 'sunset']]\n",
    "df_api['date'] = df_api['date'].replace('-', '/', regex=True)\n",
    "\n",
    "# Merge the API data with the original dataframe\n",
    "df['sunrise'] = pd.to_datetime(df_api['sunrise'])\n",
    "df['sunset'] = pd.to_datetime(df_api['sunset'])\n",
    "df['durationOfDay'] = (df['sunset'] - df['sunrise']).dt.total_seconds() / 3600\n",
    "\n",
    "# Convert sunrise and sunset columns to time format\n",
    "df['sunrise'] = df['sunrise'].dt.time\n",
    "df['sunset'] = df['sunset'].dt.time\n",
    "\n",
    "# Select and reorder the relevant columns\n",
    "df = df[['date', 'latitude', 'longitude', 'uvb', 'e', 'stl1', 'sp', 'tp', 'd2m', 'minTemp', 'meanTemp', 'maxTemp', 'RH', 'WS', 'sunrise', 'sunset', 'durationOfDay']]\n",
    "\n",
    "# Save the updated dataframe to a new Excel file\n",
    "output_file = os.path.join(OUTPUT, 'combined_sunrise_sunset_duration.xlsx')\n",
    "df.to_excel(output_file, index=False)\n",
    "\n",
    "print(f'Saved updated dataframe to {output_file}')\n"
   ]
  },
  {
   "cell_type": "code",
   "execution_count": null,
   "metadata": {},
   "outputs": [],
   "source": [
    "import os\n",
    "import pandas as pd\n",
    "import aiohttp\n",
    "import asyncio\n",
    "import nest_asyncio\n",
    "from aiohttp import ClientSession\n",
    "from aiohttp.client_exceptions import ClientConnectorError, ClientOSError, ServerDisconnectedError\n",
    "import time\n",
    "\n",
    "nest_asyncio.apply()\n",
    "\n",
    "TARGET = '../Thung-Song-final/3final/'\n",
    "OUTPUT = '../Thung-Song-final-SunriseSunset/3duration'\n",
    "\n",
    "# Ensure the output directory exists\n",
    "if not os.path.exists(OUTPUT):\n",
    "    os.makedirs(OUTPUT)\n",
    "\n",
    "# Collect all Excel files in the target directory\n",
    "excel_files = [f for f in os.listdir(TARGET) if f.endswith('.xlsx')]\n",
    "\n",
    "# Function to process each Excel file\n",
    "async def process_file(file_path, filename):\n",
    "    print(f'Loading {filename}')\n",
    "    df = pd.read_excel(file_path)\n",
    "\n",
    "    # Extract latitude, longitude, and date data for API requests\n",
    "    temp = []\n",
    "    for i, data in df.iterrows():\n",
    "        lat = data['latitude']\n",
    "        lon = data['longitude']\n",
    "        date = str(data['date']).replace('/', '-')\n",
    "        temp.append([lat, lon, date])\n",
    "\n",
    "    # Asynchronous function to fetch data from the API with retry logic\n",
    "    async def fetch_data(session, url, retries=3, backoff_factor=1.0):\n",
    "        for attempt in range(retries):\n",
    "            try:\n",
    "                async with session.get(url) as response:\n",
    "                    if response.status == 200:\n",
    "                        return await response.json()\n",
    "                    else:\n",
    "                        print(f\"Error response {response.status} for URL: {url}\")\n",
    "            except (ClientConnectorError, ClientOSError, ServerDisconnectedError) as e:\n",
    "                print(f\"Request failed: {e}. Retrying ({attempt + 1}/{retries})...\")\n",
    "                await asyncio.sleep(backoff_factor * (2 ** attempt))\n",
    "        print(f\"Failed to fetch data from {url} after {retries} retries.\")\n",
    "        return None\n",
    "\n",
    "    # Asynchronous function to manage API requests\n",
    "    async def fetch_all_data():\n",
    "        urls = [f\"https://api.sunrisesunset.io/json?lat={lat}&lng={lon}&date_start={date}&date_end={date}\" for lat, lon, date in temp]\n",
    "        responses = []\n",
    "        async with aiohttp.ClientSession() as session:\n",
    "            tasks = [fetch_data(session, url) for url in urls]\n",
    "            responses = await asyncio.gather(*tasks)\n",
    "        return [response for response in responses if response is not None]\n",
    "\n",
    "    responses = await fetch_all_data()\n",
    "\n",
    "    if not responses:\n",
    "        print(f\"No data fetched for {filename}. Skipping file.\")\n",
    "        return\n",
    "\n",
    "    # Process the API responses and convert them to a dataframe\n",
    "    responses = [d['results'][0] for d in responses]\n",
    "    df_api = pd.DataFrame.from_dict(responses)\n",
    "    df_api = df_api[['date', 'sunrise', 'sunset']]\n",
    "    df_api['date'] = df_api['date'].replace('-', '/', regex=True)\n",
    "\n",
    "    # Merge the API data with the original dataframe\n",
    "    df['sunrise'] = pd.to_datetime(df_api['sunrise'])\n",
    "    df['sunset'] = pd.to_datetime(df_api['sunset'])\n",
    "    df['durationOfDay'] = (df['sunset'] - df['sunrise']).dt.total_seconds() / 3600\n",
    "\n",
    "    # Convert sunrise and sunset columns to time format\n",
    "    df['sunrise'] = df['sunrise'].dt.time\n",
    "    df['sunset'] = df['sunset'].dt.time\n",
    "\n",
    "    # Select and reorder the relevant columns\n",
    "    df = df[['date', 'latitude', 'longitude', 'uvb', 'e', 'stl1', 'sp', 'tp', 'd2m', 'minTemp', 'meanTemp', 'maxTemp', 'RH', 'WS', 'sunrise', 'sunset', 'durationOfDay']]\n",
    "\n",
    "    # Save the updated dataframe to a new Excel file\n",
    "    output_file = os.path.join(OUTPUT, f'{filename.split(\".\")[0]}-durationOfDay.xlsx')\n",
    "    df.to_excel(output_file, index=False)\n",
    "\n",
    "    print(f'Saved updated dataframe to {output_file}')\n",
    "\n",
    "# Run the processing for each file\n",
    "async def main():\n",
    "    tasks = [process_file(os.path.join(TARGET, filename), filename) for filename in excel_files]\n",
    "    await asyncio.gather(*tasks)\n",
    "\n",
    "asyncio.run(main())\n"
   ]
  },
  {
   "cell_type": "code",
   "execution_count": null,
   "metadata": {},
   "outputs": [],
   "source": [
    "import os\n",
    "import pandas as pd\n",
    "import aiohttp\n",
    "import asyncio\n",
    "import nest_asyncio\n",
    "from aiohttp import ClientSession\n",
    "from aiohttp.client_exceptions import ClientConnectorError, ClientOSError, ServerDisconnectedError\n",
    "import time\n",
    "nest_asyncio.apply()"
   ]
  },
  {
   "cell_type": "code",
   "execution_count": 2,
   "metadata": {},
   "outputs": [
    {
     "name": "stdout",
     "output_type": "stream",
     "text": [
      "Loading Chanae.xlsx\n",
      "Loading Chang-Phueak.xlsx\n",
      "Loading Du-Song-Yo.xlsx\n",
      "Loading Phadung-Mat.xlsx\n"
     ]
    },
    {
     "name": "stderr",
     "output_type": "stream",
     "text": [
      "C:\\Users\\User\\AppData\\Local\\Temp\\ipykernel_12096\\195814389.py:62: UserWarning: Could not infer format, so each element will be parsed individually, falling back to `dateutil`. To ensure parsing is consistent and as-expected, please specify a format.\n",
      "  df['sunrise'] = pd.to_datetime(df_api['sunrise'])\n",
      "C:\\Users\\User\\AppData\\Local\\Temp\\ipykernel_12096\\195814389.py:63: UserWarning: Could not infer format, so each element will be parsed individually, falling back to `dateutil`. To ensure parsing is consistent and as-expected, please specify a format.\n",
      "  df['sunset'] = pd.to_datetime(df_api['sunset'])\n"
     ]
    },
    {
     "name": "stdout",
     "output_type": "stream",
     "text": [
      "Saved updated dataframe to ../Chanae-final-SunriseSunset/1duration\\Chang-Phueak-durationOfDay.xlsx\n"
     ]
    },
    {
     "name": "stderr",
     "output_type": "stream",
     "text": [
      "C:\\Users\\User\\AppData\\Local\\Temp\\ipykernel_12096\\195814389.py:62: UserWarning: Could not infer format, so each element will be parsed individually, falling back to `dateutil`. To ensure parsing is consistent and as-expected, please specify a format.\n",
      "  df['sunrise'] = pd.to_datetime(df_api['sunrise'])\n",
      "C:\\Users\\User\\AppData\\Local\\Temp\\ipykernel_12096\\195814389.py:63: UserWarning: Could not infer format, so each element will be parsed individually, falling back to `dateutil`. To ensure parsing is consistent and as-expected, please specify a format.\n",
      "  df['sunset'] = pd.to_datetime(df_api['sunset'])\n"
     ]
    },
    {
     "name": "stdout",
     "output_type": "stream",
     "text": [
      "Saved updated dataframe to ../Chanae-final-SunriseSunset/1duration\\Du-Song-Yo-durationOfDay.xlsx\n",
      "Saved updated dataframe to ../Chanae-final-SunriseSunset/1duration\\Chanae-durationOfDay.xlsx\n"
     ]
    },
    {
     "name": "stderr",
     "output_type": "stream",
     "text": [
      "C:\\Users\\User\\AppData\\Local\\Temp\\ipykernel_12096\\195814389.py:62: UserWarning: Could not infer format, so each element will be parsed individually, falling back to `dateutil`. To ensure parsing is consistent and as-expected, please specify a format.\n",
      "  df['sunrise'] = pd.to_datetime(df_api['sunrise'])\n",
      "C:\\Users\\User\\AppData\\Local\\Temp\\ipykernel_12096\\195814389.py:63: UserWarning: Could not infer format, so each element will be parsed individually, falling back to `dateutil`. To ensure parsing is consistent and as-expected, please specify a format.\n",
      "  df['sunset'] = pd.to_datetime(df_api['sunset'])\n",
      "C:\\Users\\User\\AppData\\Local\\Temp\\ipykernel_12096\\195814389.py:62: UserWarning: Could not infer format, so each element will be parsed individually, falling back to `dateutil`. To ensure parsing is consistent and as-expected, please specify a format.\n",
      "  df['sunrise'] = pd.to_datetime(df_api['sunrise'])\n",
      "C:\\Users\\User\\AppData\\Local\\Temp\\ipykernel_12096\\195814389.py:63: UserWarning: Could not infer format, so each element will be parsed individually, falling back to `dateutil`. To ensure parsing is consistent and as-expected, please specify a format.\n",
      "  df['sunset'] = pd.to_datetime(df_api['sunset'])\n"
     ]
    },
    {
     "name": "stdout",
     "output_type": "stream",
     "text": [
      "Saved updated dataframe to ../Chanae-final-SunriseSunset/1duration\\Phadung-Mat-durationOfDay.xlsx\n",
      "Loading Chanae.xlsx\n",
      "Loading Chang-Phueak.xlsx\n",
      "Loading Du-Song-Yo.xlsx\n",
      "Loading Phadung-Mat.xlsx\n"
     ]
    },
    {
     "name": "stderr",
     "output_type": "stream",
     "text": [
      "C:\\Users\\User\\AppData\\Local\\Temp\\ipykernel_12096\\195814389.py:62: UserWarning: Could not infer format, so each element will be parsed individually, falling back to `dateutil`. To ensure parsing is consistent and as-expected, please specify a format.\n",
      "  df['sunrise'] = pd.to_datetime(df_api['sunrise'])\n",
      "C:\\Users\\User\\AppData\\Local\\Temp\\ipykernel_12096\\195814389.py:63: UserWarning: Could not infer format, so each element will be parsed individually, falling back to `dateutil`. To ensure parsing is consistent and as-expected, please specify a format.\n",
      "  df['sunset'] = pd.to_datetime(df_api['sunset'])\n",
      "C:\\Users\\User\\AppData\\Local\\Temp\\ipykernel_12096\\195814389.py:62: UserWarning: Could not infer format, so each element will be parsed individually, falling back to `dateutil`. To ensure parsing is consistent and as-expected, please specify a format.\n",
      "  df['sunrise'] = pd.to_datetime(df_api['sunrise'])\n",
      "C:\\Users\\User\\AppData\\Local\\Temp\\ipykernel_12096\\195814389.py:63: UserWarning: Could not infer format, so each element will be parsed individually, falling back to `dateutil`. To ensure parsing is consistent and as-expected, please specify a format.\n",
      "  df['sunset'] = pd.to_datetime(df_api['sunset'])\n"
     ]
    },
    {
     "name": "stdout",
     "output_type": "stream",
     "text": [
      "Saved updated dataframe to ../Chanae-final-SunriseSunset/2duration\\Chang-Phueak-durationOfDay.xlsx\n",
      "Saved updated dataframe to ../Chanae-final-SunriseSunset/2duration\\Du-Song-Yo-durationOfDay.xlsx\n"
     ]
    },
    {
     "name": "stderr",
     "output_type": "stream",
     "text": [
      "C:\\Users\\User\\AppData\\Local\\Temp\\ipykernel_12096\\195814389.py:62: UserWarning: Could not infer format, so each element will be parsed individually, falling back to `dateutil`. To ensure parsing is consistent and as-expected, please specify a format.\n",
      "  df['sunrise'] = pd.to_datetime(df_api['sunrise'])\n",
      "C:\\Users\\User\\AppData\\Local\\Temp\\ipykernel_12096\\195814389.py:63: UserWarning: Could not infer format, so each element will be parsed individually, falling back to `dateutil`. To ensure parsing is consistent and as-expected, please specify a format.\n",
      "  df['sunset'] = pd.to_datetime(df_api['sunset'])\n"
     ]
    },
    {
     "name": "stdout",
     "output_type": "stream",
     "text": [
      "Saved updated dataframe to ../Chanae-final-SunriseSunset/2duration\\Phadung-Mat-durationOfDay.xlsx\n"
     ]
    },
    {
     "name": "stderr",
     "output_type": "stream",
     "text": [
      "C:\\Users\\User\\AppData\\Local\\Temp\\ipykernel_12096\\195814389.py:62: UserWarning: Could not infer format, so each element will be parsed individually, falling back to `dateutil`. To ensure parsing is consistent and as-expected, please specify a format.\n",
      "  df['sunrise'] = pd.to_datetime(df_api['sunrise'])\n",
      "C:\\Users\\User\\AppData\\Local\\Temp\\ipykernel_12096\\195814389.py:63: UserWarning: Could not infer format, so each element will be parsed individually, falling back to `dateutil`. To ensure parsing is consistent and as-expected, please specify a format.\n",
      "  df['sunset'] = pd.to_datetime(df_api['sunset'])\n"
     ]
    },
    {
     "name": "stdout",
     "output_type": "stream",
     "text": [
      "Saved updated dataframe to ../Chanae-final-SunriseSunset/2duration\\Chanae-durationOfDay.xlsx\n",
      "Loading Chanae.xlsx\n",
      "Loading Chang-Phueak.xlsx\n",
      "Loading Du-Song-Yo.xlsx\n",
      "Loading Phadung-Mat.xlsx\n"
     ]
    },
    {
     "name": "stderr",
     "output_type": "stream",
     "text": [
      "C:\\Users\\User\\AppData\\Local\\Temp\\ipykernel_12096\\195814389.py:62: UserWarning: Could not infer format, so each element will be parsed individually, falling back to `dateutil`. To ensure parsing is consistent and as-expected, please specify a format.\n",
      "  df['sunrise'] = pd.to_datetime(df_api['sunrise'])\n",
      "C:\\Users\\User\\AppData\\Local\\Temp\\ipykernel_12096\\195814389.py:63: UserWarning: Could not infer format, so each element will be parsed individually, falling back to `dateutil`. To ensure parsing is consistent and as-expected, please specify a format.\n",
      "  df['sunset'] = pd.to_datetime(df_api['sunset'])\n",
      "C:\\Users\\User\\AppData\\Local\\Temp\\ipykernel_12096\\195814389.py:62: UserWarning: Could not infer format, so each element will be parsed individually, falling back to `dateutil`. To ensure parsing is consistent and as-expected, please specify a format.\n",
      "  df['sunrise'] = pd.to_datetime(df_api['sunrise'])\n",
      "C:\\Users\\User\\AppData\\Local\\Temp\\ipykernel_12096\\195814389.py:63: UserWarning: Could not infer format, so each element will be parsed individually, falling back to `dateutil`. To ensure parsing is consistent and as-expected, please specify a format.\n",
      "  df['sunset'] = pd.to_datetime(df_api['sunset'])\n"
     ]
    },
    {
     "name": "stdout",
     "output_type": "stream",
     "text": [
      "Saved updated dataframe to ../Chanae-final-SunriseSunset/3duration\\Chanae-durationOfDay.xlsx\n",
      "Saved updated dataframe to ../Chanae-final-SunriseSunset/3duration\\Phadung-Mat-durationOfDay.xlsx\n"
     ]
    },
    {
     "name": "stderr",
     "output_type": "stream",
     "text": [
      "C:\\Users\\User\\AppData\\Local\\Temp\\ipykernel_12096\\195814389.py:62: UserWarning: Could not infer format, so each element will be parsed individually, falling back to `dateutil`. To ensure parsing is consistent and as-expected, please specify a format.\n",
      "  df['sunrise'] = pd.to_datetime(df_api['sunrise'])\n",
      "C:\\Users\\User\\AppData\\Local\\Temp\\ipykernel_12096\\195814389.py:63: UserWarning: Could not infer format, so each element will be parsed individually, falling back to `dateutil`. To ensure parsing is consistent and as-expected, please specify a format.\n",
      "  df['sunset'] = pd.to_datetime(df_api['sunset'])\n",
      "C:\\Users\\User\\AppData\\Local\\Temp\\ipykernel_12096\\195814389.py:62: UserWarning: Could not infer format, so each element will be parsed individually, falling back to `dateutil`. To ensure parsing is consistent and as-expected, please specify a format.\n",
      "  df['sunrise'] = pd.to_datetime(df_api['sunrise'])\n",
      "C:\\Users\\User\\AppData\\Local\\Temp\\ipykernel_12096\\195814389.py:63: UserWarning: Could not infer format, so each element will be parsed individually, falling back to `dateutil`. To ensure parsing is consistent and as-expected, please specify a format.\n",
      "  df['sunset'] = pd.to_datetime(df_api['sunset'])\n"
     ]
    },
    {
     "name": "stdout",
     "output_type": "stream",
     "text": [
      "Saved updated dataframe to ../Chanae-final-SunriseSunset/3duration\\Du-Song-Yo-durationOfDay.xlsx\n",
      "Saved updated dataframe to ../Chanae-final-SunriseSunset/3duration\\Chang-Phueak-durationOfDay.xlsx\n"
     ]
    }
   ],
   "source": [
    "for j in range(1,4):\n",
    "    TARGET = f'../Chanae-final/{j}final/'\n",
    "    OUTPUT = f'../Chanae-final-SunriseSunset/{j}duration'\n",
    "\n",
    "    # Ensure the output directory exists\n",
    "    if not os.path.exists(OUTPUT):\n",
    "        os.makedirs(OUTPUT)\n",
    "\n",
    "    # Collect all Excel files in the target directory\n",
    "    excel_files = [f for f in os.listdir(TARGET) if f.endswith('.xlsx')]\n",
    "\n",
    "    # Function to process each Excel file\n",
    "    async def process_file(file_path, filename):\n",
    "        print(f'Loading {filename}')\n",
    "        df = pd.read_excel(file_path)\n",
    "\n",
    "        # Extract latitude, longitude, and date data for API requests\n",
    "        temp = []\n",
    "        for i, data in df.iterrows():\n",
    "            lat = data['latitude']\n",
    "            lon = data['longitude']\n",
    "            date = str(data['date']).replace('/', '-')\n",
    "            temp.append([lat, lon, date])\n",
    "\n",
    "        # Asynchronous function to fetch data from the API with retry logic\n",
    "        async def fetch_data(session, url, retries=3, backoff_factor=1.0):\n",
    "            for attempt in range(retries):\n",
    "                try:\n",
    "                    async with session.get(url) as response:\n",
    "                        if response.status == 200:\n",
    "                            return await response.json()\n",
    "                        else:\n",
    "                            print(f\"Error response {response.status} for URL: {url}\")\n",
    "                except (ClientConnectorError, ClientOSError, ServerDisconnectedError) as e:\n",
    "                    print(f\"Request failed: {e}. Retrying ({attempt + 1}/{retries})...\")\n",
    "                    await asyncio.sleep(backoff_factor * (2 ** attempt))\n",
    "            print(f\"Failed to fetch data from {url} after {retries} retries.\")\n",
    "            return None\n",
    "\n",
    "        # Asynchronous function to manage API requests\n",
    "        async def fetch_all_data():\n",
    "            urls = [f\"https://api.sunrisesunset.io/json?lat={lat}&lng={lon}&date_start={date}&date_end={date}\" for lat, lon, date in temp]\n",
    "            responses = []\n",
    "            async with aiohttp.ClientSession() as session:\n",
    "                tasks = [fetch_data(session, url) for url in urls]\n",
    "                responses = await asyncio.gather(*tasks)\n",
    "            return [response for response in responses if response is not None]\n",
    "\n",
    "        responses = await fetch_all_data()\n",
    "\n",
    "        if not responses:\n",
    "            print(f\"No data fetched for {filename}. Skipping file.\")\n",
    "            return\n",
    "\n",
    "        # Process the API responses and convert them to a dataframe\n",
    "        responses = [d['results'][0] for d in responses]\n",
    "        df_api = pd.DataFrame.from_dict(responses)\n",
    "        df_api = df_api[['date', 'sunrise', 'sunset']]\n",
    "        df_api['date'] = df_api['date'].replace('-', '/', regex=True)\n",
    "\n",
    "        # Merge the API data with the original dataframe\n",
    "        df['sunrise'] = pd.to_datetime(df_api['sunrise'])\n",
    "        df['sunset'] = pd.to_datetime(df_api['sunset'])\n",
    "        df['durationOfDay'] = (df['sunset'] - df['sunrise']).dt.total_seconds() / 3600\n",
    "\n",
    "        # Convert sunrise and sunset columns to time format\n",
    "        df['sunrise'] = df['sunrise'].dt.time\n",
    "        df['sunset'] = df['sunset'].dt.time\n",
    "\n",
    "        # Select and reorder the relevant columns\n",
    "        df = df[['date', 'latitude', 'longitude', 'uvb', 'e', 'stl1', 'sp', 'tp', 'd2m', 'minTemp', 'meanTemp', 'maxTemp', 'RH', 'WS', 'sunrise', 'sunset', 'durationOfDay']]\n",
    "\n",
    "        # Save the updated dataframe to a new Excel file\n",
    "        output_file = os.path.join(OUTPUT, f'{filename.split(\".\")[0]}-durationOfDay.xlsx')\n",
    "        df.to_excel(output_file, index=False)\n",
    "\n",
    "        print(f'Saved updated dataframe to {output_file}')\n",
    "\n",
    "    # Run the processing for each file\n",
    "    async def main():\n",
    "        tasks = [process_file(os.path.join(TARGET, filename), filename) for filename in excel_files]\n",
    "        await asyncio.gather(*tasks)\n",
    "\n",
    "    asyncio.run(main())"
   ]
  },
  {
   "cell_type": "code",
   "execution_count": null,
   "metadata": {},
   "outputs": [],
   "source": []
  }
 ],
 "metadata": {
  "kernelspec": {
   "display_name": "yang",
   "language": "python",
   "name": "python3"
  },
  "language_info": {
   "codemirror_mode": {
    "name": "ipython",
    "version": 3
   },
   "file_extension": ".py",
   "mimetype": "text/x-python",
   "name": "python",
   "nbconvert_exporter": "python",
   "pygments_lexer": "ipython3",
   "version": "3.12.3"
  }
 },
 "nbformat": 4,
 "nbformat_minor": 2
}
