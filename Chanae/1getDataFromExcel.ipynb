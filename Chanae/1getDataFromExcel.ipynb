{
 "cells": [
  {
   "cell_type": "code",
   "execution_count": 1,
   "metadata": {},
   "outputs": [],
   "source": [
    "import cdsapi\n",
    "import pandas as pd\n",
    "import os \n",
    "import json"
   ]
  },
  {
   "cell_type": "code",
   "execution_count": 2,
   "metadata": {},
   "outputs": [
    {
     "data": {
      "text/html": [
       "<div>\n",
       "<style scoped>\n",
       "    .dataframe tbody tr th:only-of-type {\n",
       "        vertical-align: middle;\n",
       "    }\n",
       "\n",
       "    .dataframe tbody tr th {\n",
       "        vertical-align: top;\n",
       "    }\n",
       "\n",
       "    .dataframe thead th {\n",
       "        text-align: right;\n",
       "    }\n",
       "</style>\n",
       "<table border=\"1\" class=\"dataframe\">\n",
       "  <thead>\n",
       "    <tr style=\"text-align: right;\">\n",
       "      <th></th>\n",
       "      <th>AD_LEVEL</th>\n",
       "      <th>TA_ID</th>\n",
       "      <th>TAMBON_T</th>\n",
       "      <th>TAMBON_E</th>\n",
       "      <th>AM_ID</th>\n",
       "      <th>AMPHOE_T</th>\n",
       "      <th>AMPHOE_E</th>\n",
       "      <th>CH_ID</th>\n",
       "      <th>CHANGWAT_T</th>\n",
       "      <th>CHANGWAT_E</th>\n",
       "      <th>LAT</th>\n",
       "      <th>LONG</th>\n",
       "    </tr>\n",
       "  </thead>\n",
       "  <tbody>\n",
       "    <tr>\n",
       "      <th>2794</th>\n",
       "      <td>4</td>\n",
       "      <td>961204</td>\n",
       "      <td>ต. ช้างเผือก</td>\n",
       "      <td>Chang Phueak</td>\n",
       "      <td>9612</td>\n",
       "      <td>อ. จะแนะ</td>\n",
       "      <td>Chanae</td>\n",
       "      <td>96</td>\n",
       "      <td>จ. นราธิวาส</td>\n",
       "      <td>Narathiwat</td>\n",
       "      <td>5.997</td>\n",
       "      <td>101.573</td>\n",
       "    </tr>\n",
       "  </tbody>\n",
       "</table>\n",
       "</div>"
      ],
      "text/plain": [
       "      AD_LEVEL   TA_ID      TAMBON_T      TAMBON_E  AM_ID  AMPHOE_T AMPHOE_E  \\\n",
       "2794         4  961204  ต. ช้างเผือก  Chang Phueak   9612  อ. จะแนะ   Chanae   \n",
       "\n",
       "      CH_ID   CHANGWAT_T  CHANGWAT_E    LAT     LONG  \n",
       "2794     96  จ. นราธิวาส  Narathiwat  5.997  101.573  "
      ]
     },
     "execution_count": 2,
     "metadata": {},
     "output_type": "execute_result"
    }
   ],
   "source": [
    "df = pd.read_excel('../tambon.xlsx')\n",
    "filtered_df = df[df['AMPHOE_T'].str.contains('อ. จะแนะ', na=False)]\n",
    "row_fltered_df = filtered_df.shape[0]\n",
    "filtered_df = filtered_df.tail(1)\n",
    "filtered_df"
   ]
  },
  {
   "cell_type": "code",
   "execution_count": 3,
   "metadata": {},
   "outputs": [
    {
     "name": "stdout",
     "output_type": "stream",
     "text": [
      "\n",
      "Downloading Chang-Phueak-Narathiwat (5.997, 101.573)\n"
     ]
    },
    {
     "name": "stderr",
     "output_type": "stream",
     "text": [
      "2024-06-03 19:32:02,236 INFO Welcome to the CDS\n",
      "2024-06-03 19:32:02,236 INFO Sending request to https://cds.climate.copernicus.eu/api/v2/resources/reanalysis-era5-single-levels\n",
      "2024-06-03 19:32:02,716 INFO Request is queued\n"
     ]
    }
   ],
   "source": [
    "for j in range(4,5):\n",
    "    DIR_OUTPUT = f'../Chanae-Data/{j}nc/'\n",
    "    os.makedirs(DIR_OUTPUT, exist_ok=True)\n",
    "    if j == 1:\n",
    "        year = '2021'\n",
    "    elif j == 2:\n",
    "        year = '2022'\n",
    "    elif j == 3:\n",
    "        year = '2023'\n",
    "    elif j == 4:\n",
    "        year = '2024'\n",
    "    # year = str(2020+j)\n",
    "    c = cdsapi.Client()\n",
    "    for i, data in filtered_df.iterrows():\n",
    "        data['TAMBON_E'] = data['TAMBON_E'].replace(' ','-')\n",
    "        print(f\"\\nDownloading {data['TAMBON_E']}-{data['CHANGWAT_E']} ({data['LAT']}, {data['LONG']})\")\n",
    "        c.retrieve(\n",
    "            'reanalysis-era5-single-levels',\n",
    "            {\n",
    "                'product_type': 'reanalysis',\n",
    "                'format': 'netcdf',\n",
    "                'variable': [\n",
    "                    '10m_u_component_of_wind', '10m_v_component_of_wind', '2m_dewpoint_temperature',\n",
    "                    '2m_temperature', 'downward_uv_radiation_at_the_surface', 'evaporation',\n",
    "                    'soil_temperature_level_1', 'surface_pressure', 'total_precipitation',\n",
    "                ],\n",
    "                'year': year,\n",
    "                'month': [str(i) for i in range(1, 13)],\n",
    "                'day': [str(i) for i in range(1, 32)],\n",
    "                'area': [\n",
    "                    data['LAT'], data['LONG'], data['LAT'],data['LONG'],\n",
    "                ],                      \n",
    "                'time': [\n",
    "                    '00:00', '06:00', '12:00',\n",
    "                    '18:00',\n",
    "                ],\n",
    "            },\n",
    "            f'{DIR_OUTPUT}{data['TAMBON_E']}.nc')"
   ]
  },
  {
   "cell_type": "code",
   "execution_count": null,
   "metadata": {},
   "outputs": [],
   "source": []
  }
 ],
 "metadata": {
  "kernelspec": {
   "display_name": "yang",
   "language": "python",
   "name": "python3"
  },
  "language_info": {
   "codemirror_mode": {
    "name": "ipython",
    "version": 3
   },
   "file_extension": ".py",
   "mimetype": "text/x-python",
   "name": "python",
   "nbconvert_exporter": "python",
   "pygments_lexer": "ipython3",
   "version": "3.12.3"
  }
 },
 "nbformat": 4,
 "nbformat_minor": 2
}
