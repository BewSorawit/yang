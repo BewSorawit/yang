{
 "cells": [
  {
   "cell_type": "code",
   "execution_count": 1,
   "metadata": {},
   "outputs": [],
   "source": [
    "import pandas as pd\n",
    "\n",
    "# สร้าง DataFrame ตัวอย่าง\n",
    "df1 = pd.DataFrame({'A': [1, 2], 'B': [3, 4]})\n",
    "df2 = pd.DataFrame({'A': [5, 6], 'B': [7, 8]})\n",
    "df3 = pd.DataFrame({'A': [9, 10], 'B': [11, 12]})\n",
    "\n",
    "# สร้างดิกชันนารีที่เก็บ DataFrame\n",
    "dataframes = {\n",
    "    'file1.xlsx': df1,\n",
    "    'file2.xlsx': df2,\n",
    "    'file3.xlsx': df3\n",
    "}\n"
   ]
  },
  {
   "cell_type": "code",
   "execution_count": 2,
   "metadata": {},
   "outputs": [
    {
     "name": "stdout",
     "output_type": "stream",
     "text": [
      "File name: file1.xlsx\n",
      "DataFrame content:\n",
      "   A  B\n",
      "0  1  3\n",
      "1  2  4\n",
      "\n",
      "File name: file2.xlsx\n",
      "DataFrame content:\n",
      "   A  B\n",
      "0  5  7\n",
      "1  6  8\n",
      "\n",
      "File name: file3.xlsx\n",
      "DataFrame content:\n",
      "    A   B\n",
      "0   9  11\n",
      "1  10  12\n",
      "\n"
     ]
    }
   ],
   "source": [
    "# วนลูปผ่านดิกชันนารีและพิมพ์ชื่อไฟล์พร้อมกับ DataFrame\n",
    "for file_name, df in dataframes.items():\n",
    "    print(f\"File name: {file_name}\")\n",
    "    print(\"DataFrame content:\")\n",
    "    print(df)\n",
    "    print()\n"
   ]
  },
  {
   "cell_type": "code",
   "execution_count": 2,
   "metadata": {},
   "outputs": [
    {
     "name": "stdout",
     "output_type": "stream",
     "text": [
      "3\n"
     ]
    }
   ],
   "source": [
    "for i in range (3,4):\n",
    "    print(i)"
   ]
  },
  {
   "cell_type": "code",
   "execution_count": null,
   "metadata": {},
   "outputs": [],
   "source": []
  }
 ],
 "metadata": {
  "kernelspec": {
   "display_name": "brown",
   "language": "python",
   "name": "python3"
  },
  "language_info": {
   "codemirror_mode": {
    "name": "ipython",
    "version": 3
   },
   "file_extension": ".py",
   "mimetype": "text/x-python",
   "name": "python",
   "nbconvert_exporter": "python",
   "pygments_lexer": "ipython3",
   "version": "3.12.3"
  }
 },
 "nbformat": 4,
 "nbformat_minor": 2
}
